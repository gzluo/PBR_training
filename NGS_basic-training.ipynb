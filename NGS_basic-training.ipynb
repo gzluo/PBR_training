{
 "metadata": {
  "name": "",
  "signature": "sha256:9d8944e5bcd0c04d4843412c9c817b4b926fd86161e0f62bd64d39618cdf69ce"
 },
 "nbformat": 3,
 "nbformat_minor": 0,
 "worksheets": [
  {
   "cells": [
    {
     "cell_type": "heading",
     "level": 1,
     "metadata": {},
     "source": [
      "\u6a21\u62df\u6587\u4ef6"
     ]
    },
    {
     "cell_type": "heading",
     "level": 2,
     "metadata": {},
     "source": [
      "SAM\u6587\u4ef6\u683c\u5f0f"
     ]
    },
    {
     "cell_type": "markdown",
     "metadata": {},
     "source": [
      "1. Bit 0x4 in `FLAG` column is the only reliable place to tell whether the segment is unmapped. \n",
      "2. A utility for explaining SAM flags: http://picard.sourceforge.net/explain-flags.html.\n"
     ]
    },
    {
     "cell_type": "code",
     "collapsed": false,
     "input": [
      "1 = 00000001 -> paired end reads\n",
      "2 = 00000010 -> mpped as proper pair\n",
      "4 = 00000100 -> unmapped reads\n",
      "8 = 00001000 -> read mate unmapped\n",
      "16 = 00010000 -> read mapped on reverse strand"
     ],
     "language": "python",
     "metadata": {},
     "outputs": []
    },
    {
     "cell_type": "heading",
     "level": 1,
     "metadata": {},
     "source": [
      "Software installation"
     ]
    },
    {
     "cell_type": "heading",
     "level": 2,
     "metadata": {},
     "source": [
      "Mapping tools"
     ]
    },
    {
     "cell_type": "heading",
     "level": 3,
     "metadata": {},
     "source": [
      "BWA"
     ]
    },
    {
     "cell_type": "markdown",
     "metadata": {},
     "source": [
      "BWA is developed by Heng Li and hosted at http://bio-bwa.sourceforge.net. BWA gives the most accurate results with a velocity tradeoff. Mapping using BWA needs three steps, a genome index should be first built. Then align reads to reference genome and output SAM format results. **Please read manual page in http://bio-bwa.sourceforge.net fully first**."
     ]
    },
    {
     "cell_type": "code",
     "collapsed": false,
     "input": [
      "%%bash\n",
      "#BWA \u4e0b\u8f7d\u3001\u5b89\u88c5\n",
      "#Go to http://sourceforge.net/projects/bio-bwa/files/ and get the latest version of BWA\n",
      "wget http://downloads.sourceforge.net/project/bio-bwa/bwa-0.7.10.tar.bz2\n",
      "tar jxvf bwa-0.7.10.tar.bz2\n",
      "cd bwa-0.7.10\n",
      "make #\u7f16\u8bd1\u7a0b\u5e8f\uff0c\u5b8c\u6210\u540e\u53ef\u6267\u884c\u7a0b\u5e8f\u4f1a\u51fa\u73b0\u5728\u5f53\u524d\u76ee\u5f55\n",
      "ln -s `pwd`/bwa ~/bin/  #\u94fe\u63a5\u53ef\u6267\u884c\u7a0b\u5e8f\u5230\u5df2\u5199\u5165\u73af\u5883\u53d8\u91cf\u7684\u76ee\u5f55"
     ],
     "language": "python",
     "metadata": {},
     "outputs": []
    },
    {
     "cell_type": "code",
     "collapsed": false,
     "input": [
      "%%bash\n",
      "#\u5229\u7528BWA\u6784\u5efa\u57fa\u56e0\u7ec4\u7d22\u5f15\n",
      "#\u83b7\u53d6\u4eba\u7684\u57fa\u56e0\u7ec4\u7ec4\u88c5hg19 (\u6587\u4ef6\u5927\uff081G\u5de6\u53f3\uff09\uff0c\u4e0b\u8f7d\u4f1a\u6bd4\u8f83\u6162)\n",
      "wget http://hgdownload.cse.ucsc.edu/goldenPath/hg19/bigZips/chromFa.tar.gz\n",
      "#\u89e3\u538b\n",
      "tar xvzf chromFa.tat.gz\n",
      "#\u5408\u5e76\u4e3a\u4e00\u4e2a\u6587\u4ef6\n",
      "cat *.fa >hg19.fa\n",
      "#\u6784\u5efa\u7d22\u5f15\n",
      "#For genome size larger than 2G, -a bwtsw should be given\n",
      "bwa index -a bwtsw hg19.fa -p hg19.fa"
     ],
     "language": "python",
     "metadata": {},
     "outputs": []
    },
    {
     "cell_type": "code",
     "collapsed": false,
     "input": [
      "%%bash\n",
      "#\u6a21\u62df\u6bd4\u5bf9---\u5355\u7aef\n",
      "#-t 10: using 10 threads (\u591a\u7ebf\u7a0b\u5e76\u884c\u52a0\u901f)\n",
      "#.sai\u5305\u542b\u6bcf\u4e2areads\u6bd4\u5bf9\u4fe1\u606f\u7684\u4e8c\u8fdb\u5236\u6587\u4ef6\n",
      "bwa aln -t 10 hg19.fa NA19129.fq.gz >NA19129.sai 2>>NA19129.log\n",
      "#\u8f6c\u6362\u6bd4\u5bf9\u7ed3\u679c\u4e3aSAM\u6587\u4ef6\uff0c\u5339\u914d\u5230\u591a\u4e2a\u4f4d\u70b9\u7684reads\u968f\u673a\u9009\u53d6\u4e00\u4e2a\n",
      "bwa samse hg19.fa NA19129.sai NA19129.fq.gz | gzip > NA19129/NA19129.sam.gz 2>>NA19129.log\n",
      "/bin/rm -f NA19129.sai"
     ],
     "language": "python",
     "metadata": {},
     "outputs": []
    },
    {
     "cell_type": "code",
     "collapsed": false,
     "input": [
      "%%bash\n",
      "#\u6a21\u62df\u6bd4\u5bf9---\u53cc\u7aef\n",
      "bwa aln -t 10 hg19.fa NA19129_1.fq.gz >NA19129_1.sai 2>>NA19129.log\n",
      "bwa aln -t 10 hg19.fa NA19129_2.fq.gz >NA19129_2.sai 2>>NA19129.log\n",
      "bwa sampe hg19.fa NA19129_1.sai NA19129_2.sai NA19129_1.fq.gz NA19129_2.fq.gz \\\n",
      "    | gzip > NA19129/NA19129.sam.gz 2>>NA19129.log\n",
      "/bin/rm -f NA19129_1.sai NA19129_2.sai &"
     ],
     "language": "python",
     "metadata": {},
     "outputs": []
    },
    {
     "cell_type": "heading",
     "level": 3,
     "metadata": {},
     "source": [
      "Bowtie"
     ]
    },
    {
     "cell_type": "code",
     "collapsed": false,
     "input": [
      "%%bash\n",
      "#For genome size larger than 2G, -a bwtsw should be given\n",
      "bowtie-build hg19.fa hg19.fa"
     ],
     "language": "python",
     "metadata": {},
     "outputs": []
    },
    {
     "cell_type": "markdown",
     "metadata": {},
     "source": [
      "1. How%many%reads%are%in%the%data?%\n",
      "%\n",
      "2. How%many%reads%are%unmapped?%\n",
      "%\n",
      "3. How%may%different%types%of%quality%scores%can%you%observe?%(hint:%cut,%sort,%\n",
      "uniq)?%%\n",
      "%\n",
      "4. How%many%different%CIGAR%string%do%you%see?%What%are%the%5%most%common%%\n",
      "CIGAR%strings?%\n",
      "5. How%many%reads%align%to%the%reverse%strand?%\n",
      "%\n",
      "6. How%many%reads%have%a%MAPQ%(mapping%quality)%of%0%and%what%does%that%value%\n",
      "mean%in%a%SAM%file%from%BWA?%"
     ]
    },
    {
     "cell_type": "heading",
     "level": 3,
     "metadata": {},
     "source": [
      "Samtools"
     ]
    },
    {
     "cell_type": "code",
     "collapsed": false,
     "input": [
      "%%bash\n",
      "#-S: tells samtools use SAM format file as input\n",
      "#-b: output context in BAM format\n",
      "samtools view -Sb input.sam >output.bam\n",
      "#-c: count reads in BAM file\n",
      "samtools view -c output.bam\n",
      "#count the number of mapped reads\n",
      "#-F: filtering flag (remove if matches)\n",
      "#-f: reuqired flag (keep if matches)\n",
      "samtools view -F4 -c output.bam\n",
      "#sort BAM file, and save sorted context in output.sorted.bam\n",
      "samtools sort output.bam output.sorted\n",
      "#index bam file for quickly search, will generate output.sorted.bam.bai\n",
      "samtools index output.sorted.bam"
     ],
     "language": "python",
     "metadata": {},
     "outputs": []
    },
    {
     "cell_type": "code",
     "collapsed": false,
     "input": [
      "%%bash\n",
      "#Flag statustucs\n",
      "samtools flagstat output.bam\n",
      "#Index stats\n",
      "samtools idxstats output.bam\n",
      "#Depth of coverage\n",
      "samtools depth output.bam \n",
      "#query by given region\n",
      "samtools view output.bam chr1:1-1000"
     ],
     "language": "python",
     "metadata": {},
     "outputs": []
    },
    {
     "cell_type": "heading",
     "level": 3,
     "metadata": {},
     "source": [
      "Sequencing Coverage (Depth)"
     ]
    },
    {
     "cell_type": "markdown",
     "metadata": {},
     "source": [
      "Lander/Waterman model (random reads from random genome)\n",
      "```\n",
      "Coverage C = N * L / G\n",
      "```\n",
      "N = number of reads, L = length of reads, G = size of genome"
     ]
    },
    {
     "cell_type": "markdown",
     "metadata": {},
     "source": [
      "Probability of a base not being sequenced\n",
      "```\n",
      "P = exp(-C)\n",
      "```"
     ]
    },
    {
     "cell_type": "heading",
     "level": 3,
     "metadata": {},
     "source": [
      "Sequencing reads simulators"
     ]
    },
    {
     "cell_type": "markdown",
     "metadata": {},
     "source": [
      "* wgsim (whole genome simulator) by Heng Li\n",
      "* dwgsim (an expanded version of wgsim) by Niels Homer\n",
      "* simNGS from EBI incorporates statistical models to generate errors\n",
      "* ART: a next-generation sequencing reads simulator"
     ]
    },
    {
     "cell_type": "heading",
     "level": 3,
     "metadata": {},
     "source": [
      "Genome browsers"
     ]
    },
    {
     "cell_type": "markdown",
     "metadata": {},
     "source": [
      "* Genome variation -> IGV, IGB, Tablet\n",
      "* ChipSeq -> MochiView\n",
      "* DNA Methylation -> ChipMonk and SeqMonk\n",
      "* https://www.biostars.org/p/363/"
     ]
    },
    {
     "cell_type": "code",
     "collapsed": false,
     "input": [],
     "language": "python",
     "metadata": {},
     "outputs": []
    },
    {
     "cell_type": "code",
     "collapsed": false,
     "input": [],
     "language": "python",
     "metadata": {},
     "outputs": []
    },
    {
     "cell_type": "code",
     "collapsed": false,
     "input": [],
     "language": "python",
     "metadata": {},
     "outputs": []
    },
    {
     "cell_type": "code",
     "collapsed": false,
     "input": [],
     "language": "python",
     "metadata": {},
     "outputs": []
    },
    {
     "cell_type": "code",
     "collapsed": false,
     "input": [],
     "language": "python",
     "metadata": {},
     "outputs": []
    },
    {
     "cell_type": "code",
     "collapsed": false,
     "input": [],
     "language": "python",
     "metadata": {},
     "outputs": []
    },
    {
     "cell_type": "code",
     "collapsed": false,
     "input": [
      "\u6570\u5b66\u624b\u518c\n",
      "\u9a6c\u6c0f\u8ddd\u79bb\uff1a\u534f\u65b9\u5dee\u8ddd\u79bb\uff0c\u4f1a\u8003\u8651\u5404\u79cd\u7279\u5f81\u7684\u8054\u7cfb\uff0c\u5e76\u72ec\u7acb\u4e8e\u6d4b\u91cf\u5c3a\u5ea6\n",
      "\u8ddd\u79bb\u5b9a\u4e49\u4e0d\u540c\uff0c\u7ed3\u679c\u53ef\u80fd\u4e0d\u540c\u3002\uff08\u662f\u770b\u8d8b\u52bf\uff0c\u8fd8\u662f\u7edd\u5bf9\u503c\uff09\n",
      "\n",
      "\u79bb\u5dee\u5e73\u65b9\u548c\u7cfb\u7edf\u805a\u7c7b\u6cd5\u7684\u5e94\u7528\u6700\u591a\n",
      "\n",
      "\u8ddd\u79bb\u7b97\u6cd5\u7f3a\u4e4f\u540e\u9a8c\u6a21\u578b--- \u5411\u91cf\u91cd\u65b0\u5b9a\u4e49 x-> x'\n",
      "\n",
      "\u805a\u7c7b\u641c\u7d22\u65b9\u6cd5\u7684\u524d\u6b65\u4f9d\u5b58\u5ea6\u9ad8\uff0c\u5bf9\u76ee\u6807\u51fd\u6570\u4e9a\u7a33\u6001\u5904\u7406\u4e0d\u4f73\n",
      "\n",
      "\u6452\u5f03\u8ddd\u79bb\u5b9a\u4e49\uff0c\u89e3\u653e\u76ee\u6807\u51fd\u6570\u7684\u5b9a\u4e49\u624b\u6bb5\n",
      "   \u5b9e\u4f8b\u4e00\uff0cGibbs\u91c7\u6837\uff0c\u5bf9\u8ddd\u79bb\u7b97\u6cd5\u5f15\u5165\u540e\u9a8c\u6a21\u578b \u3010\u597d\u3011\n",
      "    \n",
      "    \n",
      "Gibbs\u7edf\u8ba1\u80cc\u666f\n",
      "  \u5b9e\u9645\u7684\u76ee\u6807\u51fd\u6570\u662f\u5bf9\u6574\u4e2a\u6a21\u4f53\u96c6\uff0c\u5e73\u5747\u5bf9\u6570\u4f3c\u7136\u6bd4\u6700\u5927\u3002\n",
      "    \u6c42\u5bfc\u81f4\u4e0e\u672c\u5730\u5dee\u5f02\u6700\u5927\u7684\u6c28\u57fa\u9178\u5206\u7ec4\u65b9\u6cd5\n",
      "    \n",
      "\u8499\u7279\u5361\u6d1b\u91c7\u6837\uff0c\u63d0\u9ad8\u524d\u6b65\u4f9d\u8d56\u7684\u5f39\u6027\uff0c\u5c3d\u529b\u8fbe\u5230\u76ee\u6807\u51fd\u6570\u503c \u3010\u3011\n",
      "* \u4f7f\u7528\u968f\u673a\u6570\u751f\u6210\u5668\u4ea7\u751f\u4e00\u4e2a\u968f\u673a\u7684\u805a\u7c7b\uff0c\n",
      "* \u5bf9\u6b64\u805a\u7c7b\u7684\u67d0\u4e9b\u6837\u672c\u7c7b\u522b\u505a\u65e0\u89c4\u5219\u7684\u6539\u53d8\uff0c\u4ea7\u751f\u4e00\u4e2a\u65b0\u7684\u805a\u7c7b\n",
      "* \u8ba1\u7b97\u65b0\u805a\u7c7b\u7684\u80fd\u91cf\uff08\u76ee\u6807\u51fd\u6570\uff09\n",
      "* \u6bd4\u8f83\u65b0\u805a\u7c7b\u4e0e\u6539\u53d8\u524d\u7684\u805a\u7c7b\u7684\u80fd\u91cf\u7684\u53d8\u5316\uff0c\u5224\u65ad\u662f\u5426\u63a5\u53d7\u8be5\u805a\u7c7b\n",
      "   * \u82e5\u65b0\u805a\u7c7b\u7684\u80fd\u91cf\n",
      "\n",
      "    david shawn science 2012"
     ],
     "language": "python",
     "metadata": {},
     "outputs": []
    }
   ],
   "metadata": {}
  }
 ]
}