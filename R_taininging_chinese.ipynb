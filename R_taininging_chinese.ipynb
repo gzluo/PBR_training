{
 "metadata": {
  "name": "",
  "signature": "sha256:20293e41ee820dd963bd860c9586a689c887c6dc77c8d8e1840821d2f41a6c66"
 },
 "nbformat": 3,
 "nbformat_minor": 0,
 "worksheets": [
  {
   "cells": [
    {
     "cell_type": "markdown",
     "metadata": {},
     "source": [
      "R training tutorial\n",
      "===\n",
      "Chen Tong\n",
      "===\n",
      "\n",
      "Welcome to my tutorial, enjoy it. \n",
      "\n",
      "This work is licensed under a <a rel=\"license\" href=\"http://creativecommons.org/licenses/by-nc-sa/2.0/\">Creative Commons Attribution-NonCommercial-ShareAlike 2.0 Generic License</a>.\n"
     ]
    },
    {
     "cell_type": "heading",
     "level": 1,
     "metadata": {},
     "source": [
      "R\u7684\u5b89\u88c5\u548c\u542f\u52a8"
     ]
    },
    {
     "cell_type": "code",
     "collapsed": false,
     "input": [
      "./configure --prefix=/home/me/R --enable-R-shlib\n",
      "make \n",
      "make install\n",
      "ln -s /home/me/R/bin/* ~/bin\n",
      "\n",
      "Rscript \n",
      "source('run.r')"
     ],
     "language": "python",
     "metadata": {},
     "outputs": []
    },
    {
     "cell_type": "code",
     "collapsed": false,
     "input": [
      "name\n",
      "head\n",
      "table\n",
      "summary"
     ],
     "language": "python",
     "metadata": {},
     "outputs": []
    },
    {
     "cell_type": "code",
     "collapsed": false,
     "input": [
      "remove.packages() #\u79fb\u9664\u7279\u5b9a\u5305\n",
      "libPaths() #\u67e5\u770b\u9ed8\u8ba4\u5b89\u88c5\u5305\u7684\u4f4d\u7f6e\n",
      "?command #\u67e5\u770b\u547d\u4ee4command\u7684\u529f\u80fd\u63cf\u8ff0\u548c\u4f7f\u7528\u5e2e\u52a9\n",
      "??command #\u67e5\u770b\u5305\u542bcommand\u7684\u6240\u6709\u547d\u4ee4\uff0c\u901a\u5e38\u5728\u8bb0\u4e0d\u6e05\u540d\u5b57\u7684\u65f6\u5019\u4f7f\u7528\n",
      "example(command) #\u5f97\u5230\u67d0\u4e2a\u547d\u4ee4\u7684\u4f8b\u5b50\n",
      "installed.packages()[,c(\"Package\",\"Version\")] #\u67e5\u770b\u5b89\u88c5\u5305\u7684\u540d\u5b57\u548c\u7248\u672c"
     ],
     "language": "python",
     "metadata": {},
     "outputs": []
    },
    {
     "cell_type": "code",
     "collapsed": false,
     "input": [
      "c()\n",
      "seq()\n",
      "rep(x, times=n,each=m)\n",
      "1:10\n",
      "paste(...,sep=, collapse=)"
     ],
     "language": "python",
     "metadata": {},
     "outputs": []
    },
    {
     "cell_type": "code",
     "collapsed": false,
     "input": [
      "identical() #\u6765\u68c0\u6d4b\u6570\u636e\u8f6c\u6362\u540e\u662f\u5426\u4e00\u81f4"
     ],
     "language": "python",
     "metadata": {},
     "outputs": []
    },
    {
     "cell_type": "code",
     "collapsed": false,
     "input": [
      "rank()\n",
      "order()\n",
      "short()"
     ],
     "language": "python",
     "metadata": {},
     "outputs": []
    },
    {
     "cell_type": "code",
     "collapsed": false,
     "input": [
      "ls() #\u663e\u793a\u5f53\u524d\u4fdd\u5b58\u5728R\u73af\u5883\u7684\u5bf9\u8c61\u7684\u540d\u5b57\n",
      "rm() #\u5220\u9664\u6307\u5b9a\u5bf9\u8c61\n"
     ],
     "language": "python",
     "metadata": {},
     "outputs": []
    },
    {
     "cell_type": "code",
     "collapsed": false,
     "input": [
      "%%r\n",
      "a <- c(1,2,3,4,5,NA)\n",
      "a[is.na(a)]\n",
      "a[1:2]\n",
      "a[-1:5]"
     ],
     "language": "python",
     "metadata": {},
     "outputs": [
      {
       "output_type": "stream",
       "stream": "stderr",
       "text": [
        "ERROR: Cell magic `%%r` not found.\n"
       ]
      }
     ],
     "prompt_number": 2
    },
    {
     "cell_type": "code",
     "collapsed": false,
     "input": [
      "is.matrix()\n",
      "as.matrix()\n",
      "dim()\n",
      "nrow()\n",
      "ncol()\n",
      "rownames()\n",
      "colnames()\n",
      "t()\n",
      "a <- matrix(1:20,nrow=4)\n",
      "a[1,1]\n",
      "a[1,]\n",
      "a[1:3,]\n",
      "a[order(a[,1]),]"
     ],
     "language": "python",
     "metadata": {},
     "outputs": []
    },
    {
     "cell_type": "code",
     "collapsed": false,
     "input": [
      "check.rows()\n",
      "check.names()\n",
      "stringsAsFactors()\n"
     ],
     "language": "python",
     "metadata": {},
     "outputs": []
    },
    {
     "cell_type": "code",
     "collapsed": false,
     "input": [
      "attach() #\u5c06\u6570\u636e\u6846\u7684\u6bcf\u4e2a\u5206\u91cf\u76f4\u63a5\u91ca\u653e\u81f3\u5f53\u524d\u73af\u5883\n",
      "detach()"
     ],
     "language": "python",
     "metadata": {},
     "outputs": []
    },
    {
     "cell_type": "code",
     "collapsed": false,
     "input": [
      "factor(x, levels, ordered)\n",
      "table()"
     ],
     "language": "python",
     "metadata": {},
     "outputs": []
    },
    {
     "cell_type": "code",
     "collapsed": false,
     "input": [
      "summary()\n",
      "fivenum()\n",
      "str()\n",
      "ls.str()\n",
      "args(function) #\u67e5\u770b\u51fd\u6570\u7684\u9ed8\u8ba4\u53c2\u6570\u503c"
     ],
     "language": "python",
     "metadata": {},
     "outputs": []
    },
    {
     "cell_type": "code",
     "collapsed": false,
     "input": [
      "read.table()\n",
      "#colClasses \u8bbe\u7f6e\u6bcf\u5217\u7684\u7c7b\u578b\n"
     ],
     "language": "python",
     "metadata": {},
     "outputs": []
    },
    {
     "cell_type": "code",
     "collapsed": false,
     "input": [
      "data() #\u8c03\u7528\u5185\u90e8\u6570\u636e\u96c6\n",
      "data(package=\"mcars\") #\u67e5\u770bmcars\u91cc\u9762\u7684\u6570\u636e\u96c6"
     ],
     "language": "python",
     "metadata": {},
     "outputs": []
    },
    {
     "cell_type": "code",
     "collapsed": false,
     "input": [
      "edit(x)\n",
      "fix(x)"
     ],
     "language": "python",
     "metadata": {},
     "outputs": []
    },
    {
     "cell_type": "code",
     "collapsed": false,
     "input": [
      "is.nan()\n",
      "is.na()"
     ],
     "language": "python",
     "metadata": {},
     "outputs": []
    },
    {
     "cell_type": "code",
     "collapsed": false,
     "input": [
      "locator(n)\n",
      "identify(x,y,labels)"
     ],
     "language": "python",
     "metadata": {},
     "outputs": []
    },
    {
     "cell_type": "heading",
     "level": 1,
     "metadata": {},
     "source": [
      "k-means\u8d8b\u52bf\u805a\u7c7b"
     ]
    },
    {
     "cell_type": "markdown",
     "metadata": {},
     "source": [
      "Take your original expression matrix [genes x conditions] and unitise the vectors, that is make the matrix magnitude invariant. The way to do this is to normalise the rows by the length of their vectors\n",
      "```R\n",
      "#for an expression matrix sim_class, get the sqrt(sum of squares) for each row\n",
      "norm_factors <- sqrt(apply(sim_class^2,1,sum));\n",
      "\n",
      "#divide the rows by the norm factor\n",
      "normalised_sim_class <- sim_class/norm_factors;\n",
      "```\n",
      "\n",
      "```R\n",
      "m2_scale <- t(apply(m2,1,scale))\n",
      "```\n",
      "Now clustering this expression matrix pulls out genes that have the same shape irrespective of magnitude. Biologically this means you are pulling together genes that might be direct targets of a particular set of transcription factors, with identical profiles but simply a different response scale. This is what you often find in reality, it is more often the case that co-regulated genes are responding in different scales, but in our experience with similar expression profile shapes. I hope that's of some use, even if only to run alongside your current analyses to see the differences this approach produces."
     ]
    },
    {
     "cell_type": "markdown",
     "metadata": {},
     "source": [
      "http://www.r-statistics.com/2013/08/k-means-clustering-from-r-in-action/"
     ]
    },
    {
     "cell_type": "heading",
     "level": 1,
     "metadata": {},
     "source": [
      "Co-expression netwrok"
     ]
    },
    {
     "cell_type": "markdown",
     "metadata": {},
     "source": [
      "http://mpba.fbk.eu/en/home\n",
      "https://renette.fbk.eu/about/\n",
      "http://bioinformatics.lu/CoExpress/\n",
      "http://www.nature.com/ni/journal/v15/n2/box/ni.2787_BX2.html"
     ]
    },
    {
     "cell_type": "markdown",
     "metadata": {},
     "source": [
      "Two of the easiest and most commonly used similarity measures for gene expression data are Euclidean distance and Pearson correlation coefficient. Note that `Euclidean distance is sensitive to scaling and differences in average expression level`, whereas correlation is not.\n",
      "\n",
      "In hierarchical clustering, each cluster is subdivided into smaller clusters, forming a tree-shaped data structure or dendrogram. Agglomerative hierarchical clustering (also used in phylogenetics) starts with the single-gene clusters and successively joins the closest clusters until all genes have been joined into the supercluster. In fact, there is a whole family of clustering methods, differing only in the way intercluster distance is defined (the 'linkage function'). Some of the more common ones are single linkage (the distance between clusters is the shortest distance between any two members of the cluster), complete linkage (largest distance between any two members), average linkage/UPGMA (unweighted pair-group method using arithmetic averages; average distance between any two members) and centroid linkage/UPGMC (unweighted pair-group method using centroids; distance between the cluster centroids).\n",
      "\n",
      "Euclidean distance may be more appropriate for log ratio data, whereas Pearson correlation seems to work better for absolute-valued (e.g., Affymetrix) data."
     ]
    },
    {
     "cell_type": "heading",
     "level": 1,
     "metadata": {},
     "source": [
      "Spearman and pearson correlation"
     ]
    },
    {
     "cell_type": "markdown",
     "metadata": {},
     "source": [
      "Pearson's correlation is a measure of the linear relationship between two continuous random variables. It does not assume normality although it does assume finite variances and finite covariance. When the variables are bivariate normal, Pearson's correlation provides a complete description of the association.\n",
      "\n",
      "Spearman's correlation applies to ranks and so provides a measure of a monotonic relationship between two continuous random variables. It is also useful with ordinal data and is robust to outliers (unlike Pearson's correlation).\n",
      "\n",
      "If you want to explore your data it is best to compute both, since the relation between the Spearman (S) and Pearson (P) correlations will give some information. Briefly, `S` is computed on `ranks` and so depicts `monotonic` relationships while `P` is on `true values` and depicts `linear relationships`.\n",
      "\n",
      "As an example, if you set:\n",
      "```\n",
      "> x <- 1:100\n",
      "> y <- exp(x)\n",
      "> cor.test(x, y, method='pearson')  # coorelation 0.25\n",
      "\n",
      "\tPearson's product-moment correlation\n",
      "\n",
      "data:  x and y\n",
      "t = 2.5782, df = 98, p-value = 0.01142\n",
      "alternative hypothesis: true correlation is not equal to 0\n",
      "95 percent confidence interval:\n",
      " 0.05851039 0.42729737\n",
      "sample estimates:\n",
      "     cor \n",
      "0.252032 \n",
      "\n",
      "> ?cor.test\n",
      "> cor.test(x, y, method=\"spearman\")  # coorelation 1\n",
      "\n",
      "\tSpearman's rank correlation rho\n",
      "\n",
      "data:  x and y\n",
      "S = 0, p-value < 2.2e-16\n",
      "alternative hypothesis: true rho is not equal to 0\n",
      "sample estimates:\n",
      "rho \n",
      "  1 \n",
      "> cor.test(x,log(y), method='pearson')\n",
      "\n",
      "\tPearson's product-moment correlation\n",
      "\n",
      "data:  x and log(y)\n",
      "t = Inf, df = 98, p-value < 2.2e-16\n",
      "alternative hypothesis: true correlation is not equal to 0\n",
      "95 percent confidence interval:\n",
      " 1 1\n",
      "sample estimates:\n",
      "cor \n",
      "  1 \n",
      "```\n",
      "\n",
      "This is because y increases monotonically with x so the Spearman correlation is perfect, but not linearly, so the Pearson correlation is imperfect.\n",
      "\n",
      "Doing both is interesting because if you have `S > P`, that means that you have a correlation that is `monotonic` but not `linear`. Since it is good to have linearity in statistics (it is easier) you can try to apply a `transformation on y` (such a log). If you have `S < P`, this may indicate extreme outliers are affecting the correlation computation.\n",
      "\n",
      "The Spearman correlation is just the Pearson correlation using the ranks (order statistics) instead of the actual numeric values. The answer to your question is that they're not measuring the same thing. Pearson: linear trend, Spearman: monotonic trend. That the Pearson correlation is higher just means the linear correlation is larger than the rank correlation. This is probably due to `influential observations in the tails of the distribution that have large influence relative to their ranked values`. Tests of association using the Pearson correlation are of higher power when the linearity holds in the data."
     ]
    },
    {
     "cell_type": "heading",
     "level": 3,
     "metadata": {},
     "source": [
      "Gibbs clustering"
     ]
    },
    {
     "cell_type": "markdown",
     "metadata": {},
     "source": [
      "http://bioinformatics.psb.ugent.be/software/details/GaneSh"
     ]
    },
    {
     "cell_type": "heading",
     "level": 1,
     "metadata": {},
     "source": [
      "\u8ffd\u8e2aPUBMED\u7ed3\u679c"
     ]
    },
    {
     "cell_type": "markdown",
     "metadata": {},
     "source": [
      "https://github.com/GuangchuangYu/yplots/blob/master/R/pubmap.R"
     ]
    },
    {
     "cell_type": "code",
     "collapsed": false,
     "input": [],
     "language": "python",
     "metadata": {},
     "outputs": []
    }
   ],
   "metadata": {}
  }
 ]
}