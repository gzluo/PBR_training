{
 "metadata": {
  "name": "",
  "signature": "sha256:a4bb869c7cd3d9db21438827fe79ad052ca2a7b1a7138fc548696412703be57d"
 },
 "nbformat": 3,
 "nbformat_minor": 0,
 "worksheets": [
  {
   "cells": [
    {
     "cell_type": "markdown",
     "metadata": {},
     "source": [
      "Cooper, H., & Patall, E. A. (2009). The relative benefits of meta-analysis conducted with individual participant data versus aggregated data. Psychological methods, 14(2), 165\u2013176. doi:10.1037/a0015565\n",
      "\n",
      "Curran, P. J., & Hussong, A. M. (2009). Integrative data analysis: the simultaneous analysis of multiple data sets. Psychological methods, 14(2), 81\u2013100. doi:10.1037/a0015914\n",
      "\n",
      "Lyman, G. H., & Kuderer, N. M. (2005). The strengths and limitations of meta-analyses based on aggregate data. BMC Medical Research Methodology, 5(1), 14.\n",
      "\n",
      "(already mentioned) Riley, R. D., Lambert, P. C., & Abo-Zaid, G. (2010). Meta-analysis of individual participant data: rationale, conduct, and reporting. BMJ, 340(feb05 1), c221-c221. doi:10.1136/bmj.c221\n",
      "\n",
      "Riley, R. D., Lambert, P. C., Staessen, J. A., Wang, J., Gueyffier, F., Thijs, L., & Boutitie, F. (2007). Meta-analysis of continuous outcomes combining individual patient data and aggregate data. Statistics in Medicine. doi:10.1002/sim.3165\n",
      "\n",
      "Simmonds, M. C., Higgins, J. P., Stewart, L. A., Tierney, J. F., Clarke, M. J., & Thompson, S. G. (2005). Meta-analysis of individual patient data from randomized trials: a review of methods used in practice. Clinical Trials, 2(3), 209\u2013217.\n",
      "\n",
      "Stewart, L. A., & Tierney, J. F. (2002). To IPD or not to IPD? Advantages and disadvantages of systematic reviews using individual patient data. Evaluation and The Health Professions, 25(1), 76-97.\n",
      "http://www.bmj.com/content/340/bmj.c221.short\n",
      "http://stats.stackexchange.com/questions/30294/why-not-perform-meta-analysis-on-partially-simulated-data?lq=1"
     ]
    }
   ],
   "metadata": {}
  }
 ]
}