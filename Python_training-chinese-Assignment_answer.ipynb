{
 "metadata": {
  "name": "",
  "signature": "sha256:b406e56fc5e371525af54cb409b29b59e376604972e92e7d3e3e87785ee43fc3"
 },
 "nbformat": 3,
 "nbformat_minor": 0,
 "worksheets": [
  {
   "cells": [
    {
     "cell_type": "markdown",
     "metadata": {},
     "source": [
      "Python \u6559\u7a0b\n",
      "===\n",
      "\u9648\u540c (chentong_biology@163.com)\n",
      "=============\n",
      "\n",
      "\n",
      "\u6b22\u8fce\u6765\u5230Python\u7684\u4e16\u754c\uff0c\u672c\u6559\u7a0b\u5c06\u5e26\u4f60\u9068\u6e38`Python`\uff0c\u9886\u609f`Python`\u7684\u9b45\u529b\u3002\u672c\u6559\u7a0b\u4e13\u6ce8\u4e8e\u5e2e\u52a9\u521d\u5b66\u8005\uff0c\u5c24\u5176\u662f\u751f\u7269\u4fe1\u606f\u5206\u6790\u4eba\u5458\u5feb\u901f\u5b66\u4f1a`Python`\u7684\u5e38\u7528\u529f\u80fd\u548c\u4f7f\u7528\u65b9\u5f0f\uff0c\u56e0\u6b64\u53ea\u7cbe\u9009\u4e86\u90e8\u5206`Python`\u7684\u529f\u80fd\uff0c\u8bf7\u989d\u5916\u53c2\u8003Python\u7ecf\u5178\u6559\u7a0b[A byte of python](http://www.byteofpython.info/)\u548c\u5b83\u7684[\u4e2d\u6587\u7248](http://woodpecker.org.cn/abyteofpython_cn/chinese/index.html) \u6765\u66f4\u597d\u7684\u7406\u89e3*Python*. \u672c\u6587\u6863\u7684\u6982\u5ff5\u548c\u6587\u5b57\u63cf\u8ff0\u53c2\u8003\u4e86A byte of python(\u4e2d\u6587\u7248)\uff0c\u7279\u6b64\u611f\u8c22\u3002\n",
      "\n",
      "This work is licensed under a <a rel=\"license\" href=\"http://creativecommons.org/licenses/by-nc-sa/2.0/\">Creative Commons Attribution-NonCommercial-ShareAlike 2.0 Generic License</a>.\n"
     ]
    },
    {
     "cell_type": "heading",
     "level": 1,
     "metadata": {},
     "source": [
      "\u5b9e\u6218\u7ec3\u4e60\uff08\u4e00\uff09"
     ]
    },
    {
     "cell_type": "heading",
     "level": 2,
     "metadata": {},
     "source": [
      "\u80cc\u666f\u77e5\u8bc6"
     ]
    },
    {
     "cell_type": "markdown",
     "metadata": {},
     "source": [
      "**1. FASTA\u6587\u4ef6\u683c\u5f0f**\n",
      "\n",
      "> \\>seq_name_1\n",
      "\n",
      "> sequence1\n",
      "\n",
      "> \\>seq_name_2\n",
      "\n",
      ">sequence2\n",
      "\n",
      "**2. FASTQ\u6587\u4ef6\u683c\u5f0f**\n",
      "\n",
      "> @HWI-ST1223:80:D1FMTACXX:2:1101:1243:2213 1:N:0:AGTCAA\n",
      "\n",
      "> TCTGTGTAGCCNTGGCTGTCCTGGAACTCACTTTGTAGACCAGGCTGGCATGCA\n",
      "\n",
      "> +\n",
      "\n",
      "> BCCFFFFFFHH#4AFHIJJJJJJJJJJJJJJJJJIJIJJJJJGHIJJJJJJJJJ\n",
      "\n",
      "<img src=\"Image/fastq_format.png\">"
     ]
    },
    {
     "cell_type": "heading",
     "level": 2,
     "metadata": {},
     "source": [
      "\u4f5c\u4e1a (\u4e00)"
     ]
    },
    {
     "cell_type": "markdown",
     "metadata": {},
     "source": [
      "1. \u7ed9\u5b9aFASTA\u683c\u5f0f\u7684\u6587\u4ef6(test1.fa \u548c test2.fa)\uff0c\u5199\u4e00\u4e2a\u7a0b\u5e8f `cat.py` \u8bfb\u5165\u6587\u4ef6\uff0c\u5e76\u8f93\u51fa\u5230\u5c4f\u5e55\n",
      "    * \u7528\u5230\u7684\u77e5\u8bc6\u70b9\n",
      "        * open(file)\n",
      "        * for .. in loop\n",
      "        * print\n",
      "        * the amazng , or strip() function\n",
      "2. \u7ed9\u5b9aFASTQ\u683c\u5f0f\u7684\u6587\u4ef6(test1.fq), \u5199\u4e00\u4e2a\u7a0b\u5e8f `cat.py` \u8bfb\u5165\u6587\u4ef6\uff0c\u5e76\u8f93\u51fa\u5230\u5c4f\u5e55\n",
      "    * \u7528\u5230\u7684\u77e5\u8bc6\u70b9\n",
      "        * \u540c\u4e0a\n",
      "3. \u5199\u7a0b\u5e8f `splitName.py`, \u8bfb\u5165test2.fa, \u5e76\u53d6\u539f\u59cb\u5e8f\u5217\u540d\u5b57\u7b2c\u4e00\u4e2a\u7a7a\u683c\u524d\u7684\u540d\u5b57\u4e3a\u5904\u7406\u540e\u7684\u5e8f\u5217\u540d\u5b57\uff0c\u8f93\u51fa\u5230\u5c4f\u5e55\n",
      "    * \u7528\u5230\u7684\u77e5\u8bc6\u70b9\n",
      "        * split\n",
      "        * \u5b57\u7b26\u4e32\u7684\u7d22\u5f15\n",
      "    * \u8f93\u51fa\u683c\u5f0f\u4e3a\uff1a\n",
      "```\n",
      ">NM_001011874\n",
      "gcggcggcgggcgagcgggcgctggagtaggagctg.......\n",
      "```\n",
      "\n",
      "4. \u5199\u7a0b\u5e8f `formatFasta.py`, \u8bfb\u5165test2.fa\uff0c\u628a\u6bcf\u6761FASTA\u5e8f\u5217\u8fde\u6210\u4e00\u884c\u7136\u540e\u8f93\u51fa\n",
      "    * \u7528\u5230\u7684\u77e5\u8bc6\u70b9\n",
      "        * join\n",
      "        * strip    \n",
      "    * \u8f93\u51fa\u683c\u5f0f\u4e3a:\n",
      "```\n",
      "    >NM_001011874\n",
      "    gcggcggcgggc......TCCGCTG......GCGTTCACC......CGGGGTCCGGAG\n",
      "```\n",
      "4. \u5199\u7a0b\u5e8f `formatFasta-2.py`, \u8bfb\u5165test2.fa\uff0c\u628a\u6bcf\u6761FASTA\u5e8f\u5217\u5206\u5272\u621080\u4e2a\u5b57\u6bcd\u4e00\u884c\u7684\u5e8f\u5217\n",
      "    * \u7528\u5230\u7684\u77e5\u8bc6\u70b9\n",
      "        * \u5b57\u7b26\u4e32\u5207\u7247\u64cd\u4f5c\n",
      "        * range\n",
      "    * \u8f93\u51fa\u683c\u5f0f\u4e3a\n",
      "```    \n",
      "    >NM_001011874\n",
      "    gcggcggcgc.(60\u4e2a\u5b57\u6bcd).TCCGCTGACG #(\u6bcf\u884c80\u4e2a\u5b57\u6bcd)\n",
      "    acgtgctacg.(60\u4e2a\u5b57\u6bcd).GCGTTCACCC\n",
      "    ACGTACGATG(\u6700\u540e\u4e00\u884c\u53ef\u4e0d\u8db380\u4e2a\u5b57\u6bcd)\n",
      "```     \n",
      "4. \u5199\u7a0b\u5e8f `sortFasta.py`, \u8bfb\u5165test2.fa, \u5e76\u53d6\u539f\u59cb\u5e8f\u5217\u540d\u5b57\u7b2c\u4e00\u4e2a\u7a7a\u683c\u524d\u7684\u540d\u5b57\u4e3a\u5904\u7406\u540e\u7684\u5e8f\u5217\u540d\u5b57\uff0c\u6392\u5e8f\u540e\u8f93\u51fa\n",
      "    * \u7528\u5230\u7684\u77e5\u8bc6\u70b9\n",
      "        * sort\n",
      "        * dict\n",
      "        * aDict[key] = []\n",
      "        * aDict[key].append(value)\n",
      "        \n",
      "5. \u63d0\u53d6\u7ed9\u5b9a\u540d\u5b57\u7684\u5e8f\u5217\n",
      "    * \u5199\u7a0b\u5e8f `grepFasta.py`, \u63d0\u53d6fasta.name\u4e2d\u540d\u5b57\u5bf9\u5e94\u7684test2.fa\u7684\u5e8f\u5217\uff0c\u5e76\u8f93\u51fa\u5230\u5c4f\u5e55\u3002\n",
      "    * \u5199\u7a0b\u5e8f `grepFastq.py`, \u63d0\u53d6fastq.name\u4e2d\u540d\u5b57\u5bf9\u5e94\u7684test1.fq\u7684\u5e8f\u5217\uff0c\u5e76\u8f93\u51fa\u5230\u6587\u4ef6\u3002\n",
      "        * \u7528\u5230\u7684\u77e5\u8bc6\u70b9\n",
      "            * print >>fh, or fh.write()\n",
      "            * \u53d6\u6a21\u8fd0\u7b97\uff0c4 % 2 == 0\n",
      "    \n",
      "6. \u5199\u7a0b\u5e8f `screenResult.py`, \u7b5b\u9009test.expr\u4e2dfoldChange\u5927\u4e8e2\u7684\u57fa\u56e0\u5e76\u4e14padj\u5c0f\u4e8e0.05\u7684\u57fa\u56e0\n",
      "    * \u7528\u5230\u7684\u77e5\u8bc6\u70b9\n",
      "        * \u903b\u8f91\u4e0e\u64cd\u4f5c\u7b26 and \n",
      "        * \u6587\u4ef6\u4e2d\u8bfb\u53d6\u7684\u5185\u5bb9\u90fd\u4e3a\u5b57\u7b26\u4e32\uff0c\u9700\u8981\u7528int\u8f6c\u6362\u4e3a\u6574\u6570\uff0cfloat\u8f6c\u6362\u4e3a\u6d6e\u70b9\u6570\n",
      "\n",
      "6. \u5199\u7a0b\u5e8f `transferMultipleColumToMatrix.py` \u5c06\u6587\u4ef6(multipleColExpr.txt)\u4e2d\u57fa\u56e0\u5728\u591a\u4e2a\u7ec4\u7ec7\u4e2d\u7684\u8868\u8fbe\u6570\u636e\u8f6c\u6362\u4e3a\u77e9\u9635\u5f62\u5f0f\n",
      "    * \u7528\u5230\u7684\u77e5\u8bc6\u70b9\n",
      "        * aDict['key'] = {}\n",
      "        * aDict['key']['key2'] = value\n",
      "        * if key not in aDict\n",
      "        * aDict = {'ENSG00000000003': {\"A-431\": 21.3, \"A-549\", 32.5,...},\"ENSG00000000003\":{},}\n",
      "    * \u8f93\u5165\u683c\u5f0f(\u53ea\u9700\u8981\u524d3\u5217\u5c31\u53ef\u4ee5)\n",
      "```\n",
      "Gene    Sample  Value   Unit    Abundance\n",
      "ENSG00000000003 A-431   21.3    FPKM    Medium\n",
      "ENSG00000000003 A-549   32.5    FPKM    Medium\n",
      "ENSG00000000003 AN3-CA  38.2    FPKM    Medium\n",
      "ENSG00000000003 BEWO    31.4    FPKM    Medium\n",
      "ENSG00000000003 CACO-2  63.9    FPKM    High\n",
      "ENSG00000000005 A-431   0.0     FPKM    Not detected\n",
      "ENSG00000000005 A-549   0.0     FPKM    Not detected\n",
      "ENSG00000000005 AN3-CA  0.0     FPKM    Not detected\n",
      "ENSG00000000005 BEWO    0.0     FPKM    Not detected\n",
      "ENSG00000000005 CACO-2  0.0     FPKM    Not detected\n",
      "```\n",
      "    * \u8f93\u51fa\u683c\u5f0f\n",
      "```\n",
      "Name\tA-431\tA-549\tAN3-CA\tBEWO\tCACO-2\n",
      "ENSG00000000460\t25.2\t14.2\t10.6\t24.4\t14.2\n",
      "ENSG00000000938\t0.0\t0.0\t0.0\t0.0\t0.0\n",
      "ENSG00000001084\t19.1\t155.1\t24.4\t12.6\t23.5\n",
      "ENSG00000000457\t2.8\t3.4\t3.8\t5.8\t2.9\n",
      "```\n",
      "\n",
      "6. \u5199\u7a0b\u5e8f `reverseComplementary.py`\u8ba1\u7b97\u5e8f\u5217 `ACGTACGTACGTCACGTCAGCTAGAC`\u7684\u53cd\u5411\u4e92\u8865\u5e8f\u5217\n",
      "    * \u7528\u5230\u7684\u77e5\u8bc6\u70b9\n",
      "        * reverse\n",
      "        * list(seq)\n",
      "7. \u5199\u7a0b\u5e8f `collapsemiRNAreads.py`\u8f6c\u6362smRNA-Seq\u7684\u6d4b\u5e8f\u6570\u636e\n",
      "    * \u8f93\u5165\u6587\u4ef6\u683c\u5f0f(mir.collapse, tab-\u5206\u5272\u7684\u4e24\u5217\u6587\u4ef6\uff0c\u7b2c\u4e00\u5217\u4e3a\u5e8f\u5217\uff0c\u7b2c\u4e8c\u5217\u4e3a\u5e8f\u5217\u88ab\u6d4b\u5230\u7684\u6b21\u6570)\n",
      "```\n",
      "        ID_REF        VALUE\n",
      "        ACTGCCCTAAGTGCTCCTTCTGGC        2\n",
      "        ATAAGGTGCATCTAGTGCAGATA        25\n",
      "        TGAGGTAGTAGTTTGTGCTGTTT        100\n",
      "        TCCTACGAGTTGCATGGATTC        4\n",
      "```\n",
      "    * \u8f93\u51fa\u6587\u4ef6\u683c\u5f0f (mir.collapse.fa, \u540d\u5b57\u7684\u524d3\u4e2a\u5b57\u6bcd\u4e3a\u6837\u54c1\u7684\u7279\u5f02\u6807\u793a\uff0c\u4e2d\u95f4\u7684\u6570\u5b57\u8868\u793a\u7b2c\u51e0\u6761\u5e8f\u5217\uff0c\u662f\u5e8f\u5217\u540d\u5b57\u7684\u552f\u4e00\u6807\u793a\uff0c\u7b2c\u4e09\u90e8\u5206\u662fx\u52a0\u6bcf\u4e2areads\u88ab\u6d4b\u5230\u7684\u6b21\u6570\u3002\u4e09\u90e8\u5206\u7528\u4e0b\u5212\u7ebf\u8fde\u8d77\u6765\u4f5c\u4e3afasta\u5e8f\u5217\u7684\u540d\u5b57\u3002)\n",
      "```        \n",
      "        >ESB_1_x2\n",
      "        ACTGCCCTAAGTGCTCCTTCTGGC\n",
      "        >ESB_2_x25\n",
      "        ATAAGGTGCATCTAGTGCAGATA\n",
      "        >ESB_3_x100\n",
      "        TGAGGTAGTAGTTTGTGCTGTTT\n",
      "        >ESB_4_x4\n",
      "        TCCTACGAGTTGCATGGATTC\n",
      "```\n",
      "8. \u7b80\u5316\u7684\u77ed\u5e8f\u5217\u5339\u914d\u7a0b\u5e8f (map.py) \u628ashort.fa\u4e2d\u7684\u5e8f\u5217\u6bd4\u5bf9\u5230ref.fa, \u8f93\u51fa\u77ed\u5e8f\u5217\u5339\u914d\u5230ref.fa\u6587\u4ef6\u4e2d\u54ea\u4e9b\u5e8f\u5217\u7684\u54ea\u4e9b\u4f4d\u7f6e\n",
      "    * \u7528\u5230\u7684\u77e5\u8bc6\u70b9\n",
      "        * find\n",
      "    * \u8f93\u51fa\u683c\u5f0f (\u8f93\u51fa\u683c\u5f0f\u4e3abed\u683c\u5f0f\uff0c\u7b2c\u4e00\u5217\u4e3a\u5339\u914d\u5230\u7684\u67d3\u8272\u4f53\uff0c\u7b2c\u4e8c\u5217\u548c\u7b2c\u4e09\u5217\u4e3a\u5339\u914d\u5230\u67d3\u8272\u4f53\u5e8f\u5217\u7684\u8d77\u59cb\u7ec8\u6b62\u4f4d\u7f6e\uff08\u4f4d\u7f6e\u6807\u8bb0\u4ee50\u4e3a\u8d77\u59cb\uff0c\u4ee3\u8868\u7b2c\u4e00\u4e2a\u4f4d\u7f6e\uff1b\u7ec8\u6b62\u4f4d\u7f6e\u4e0d\u5305\u542b\u5728\u5185\uff0c\u7b2c\u4e00\u4e2a\u4f8b\u5b50\u4e2d\u6240\u793a\u5e8f\u5217\u7684\u4f4d\u7f6e\u662f(199,208](\u524d\u95ed\u540e\u5f00\uff0c\u5b9e\u9645\u662fchr1\u67d3\u8272\u4f53\u7b2c199-206\u7684\u5e8f\u5217\uff0c0\u8d77\u59cb). \u7b2c4\u5217\u4e3a\u77ed\u5e8f\u5217\u81ea\u8eab\u7684\u5e8f\u5217.)\u3002\n",
      "    * \u9644\u52a0\u8981\u6c42\uff1a\u53ef\u4ee5\u53ea\u5339\u914d\u5230\u7ed9\u5b9a\u7684\u6a21\u677f\u94fe\uff0c\u4e5f\u53ef\u4ee5\u8003\u8651\u5339\u914d\u5230\u6a21\u677f\u94fe\u7684\u4e92\u8865\u94fe\u3002\u8fd9\u65f6\u7b2c5\u5217\u53ef\u4ee5\u4e3a\u77ed\u5e8f\u5217\u7684\u540d\u5b57\uff0c\u7b2c\u516d\u5217\u4e3a\u94fe\u7684\u4fe1\u606f\uff0c\u5339\u914d\u5230\u6a21\u677f\u94fe\u4e3a'+'\uff0c\u5339\u914d\u5230\u4e92\u8865\u94fe\u4e3a'-'\u3002\u6ce8\u610f\u5339\u914d\u5230\u4e92\u8865\u94fe\u65f6\u8d77\u59cb\u4f4d\u7f6e\u4e5f\u662f\u4ece\u6a21\u677f\u94fe\u76845'\u7aef\u7b97\u8d77\u7684\u3002\n",
      "``` \n",
      "    chr1\t199\t208\tTGGCGTTCA\n",
      "    chr1\t207\t216\tACCCCGCTG\n",
      "    chr2\t63\t70\tAAATTGC\n",
      "    chr3\t0\t7\tAATAAAT\n",
      "```\n",
      "\n",
      "10. \u5907\u6ce8\uff1a\n",
      "    * \u6bcf\u4e2a\u63d0\u5230\u63d0\u5230\u7684\u201c\u7528\u5230\u7684\u77e5\u8bc6\u70b9\u201d\u4e3a\u76f8\u5bf9\u4e8e\u524d\u9762\u7684\u9898\u76ee\u65b0\u589e\u7684\u77e5\u8bc6\u70b9\uff0c\u8bf7\u7efc\u5408\u8003\u8651\u3002\u6b64\u5916\uff0c\u5bf9\u4e8e\u4e0d\u540c\u7684\u601d\u8def\u5e76\u4e0d\u662f\u6240\u6709\u63d0\u5230\u7684\u77e5\u8bc6\u70b9\u90fd\u4f1a\u7528\u7740\uff0c\u800c\u4e14\u4e5f\u53ef\u80fd\u4f1a\u7528\u5230\u672a\u63d0\u5230\u7684\u77e5\u8bc6\u70b9\u3002\u4f46\u662f\u6240\u6709\u77e5\u8bc6\u70b9\u90fd\u5728\u524d\u9762\u7684\u8bb2\u4e49\u90e8\u5206\u6709\u4ecb\u7ecd\u3002\n",
      "    * \u6bcf\u4e2a\u7a0b\u5e8f\u5bf9\u4e8e\u4f60\u8eab\u8fb9\u4f1a\u5199\u7684\u4eba\u6765\u8bf4\u90fd\u5f88\u7b80\u5355\uff0c\u56e0\u6b64\u4f60\u4e00\u5b9a\u8981\u514b\u5236\u4f4f\uff0c\u72ec\u7acb\u53bb\u628a\u7b54\u6848\u505a\u51fa\uff0c\u591a\u770b\u9519\u8bef\u63d0\u793a\uff0c\u591a\u6bd4\u5bf9\u7a0b\u5e8f\u8f93\u51fa\u7ed3\u679c\u548c\u9884\u671f\u7ed3\u679c\u7684\u5dee\u5f02\u3002\n",
      "    * \u5b66\u4e60\u953b\u70bc\u201c\u8bfb\u7a0b\u5e8f\u201d\uff0c\u5373\u5bf9\u7740\u6587\u4ef6\u6a21\u62df\u6574\u4e2a\u7684\u8bfb\u5165\u3001\u5904\u7406\u8fc7\u7a0b\u6765\u53d1\u73b0\u53ef\u80fd\u7684\u903b\u8f91\u95ee\u9898\u3002\n",
      "    * \u7a0b\u5e8f\u8fd0\u884c\u6ca1\u6709\u9519\u8bef\u4e0d\u4ee3\u8868\u4f60\u5199\u7684\u7a0b\u5e8f\u5b8c\u6210\u4e86\u4f60\u7684\u9700\u6c42\uff0c\u4f60\u8981\u53bb\u67e5\u9a8c\u8f93\u51fa\u7ed3\u679c\u662f\u4e0d\u662f\u4f60\u60f3\u8981\u7684\u3002\n",
      "11. \u5173\u4e8e\u7a0b\u5e8f\u8c03\u8bd5\n",
      "    * \u5728\u521d\u5199\u7a0b\u5e8f\u65f6\uff0c\u53ef\u80fd\u4f1a\u51fa\u73b0\u5404\u79cd\u5404\u6837\u7684\u9519\u8bef\uff0c\u5e38\u89c1\u7684\u6709\u7f29\u8fdb\u4e0d\u4e00\u81f4\uff0c\u53d8\u91cf\u540d\u5b57\u62fc\u5199\u9519\u8bef\uff0c\u4e22\u5931\u5192\u53f7\uff0c\u6587\u4ef6\u540d\u672a\u52a0\u5f15\u53f7\u7b49\uff0c\u8fd9\u65f6\u8981\u6839\u636e\u9519\u8bef\u63d0\u793a\u67e5\u770b\u9519\u8bef\u7c7b\u578b\u662f\u4ec0\u4e48\uff0c\u51fa\u9519\u7684\u662f\u54ea\u4e00\u884c\u6765\u5b9a\u4f4d\u9519\u8bef\u3002\u5f53\u7136\uff0c\u6709\u7684\u65f6\u5019\u62a5\u9519\u7684\u884c\u81ea\u8eab\u4e0d\u4e00\u5b9a\u6709\u9519\uff0c\u53ef\u80fd\u662f\u5176\u524d\u9762\u6216\u540e\u9762\u7684\u884c\u51fa\u73b0\u4e86\u9519\u8bef\u3002\n",
      "    * \u5f53\u7ed3\u679c\u4e0d\u7b26\u5408\u9884\u671f\u65f6\uff0c\u8981\u5b66\u4f1a**\u4f7f\u7528print\u6765\u67e5\u770b\u6bcf\u6b65\u7684\u64cd\u4f5c\u662f\u5426\u6b63\u786e**\uff0c\u6bd4\u5982\u6211\u8bfb\u5165\u4e86\u5b57\u5178\uff0c\u6211\u5c31\u6253\u5370\u4e0b\u5b57\u5178\uff0c\u770b\u770b\u8bfb\u5165\u7684\u662f\u4e0d\u662f\u6211\u60f3\u8981\u7684\uff0c\u662f\u5426\u542b\u6709\u4e0d\u8be5\u5b58\u5728\u7684\u5b57\u7b26\uff1b\u6216\u8005**\u5728\u6bcf\u4e2a\u5224\u65ad\u53e5\u3001\u51fd\u6570\u8c03\u5165\u7684\u60c5\u51b5\u4e0b\u6253\u5370\u4e2a\u5b57\u7b26\uff0c\u6765\u8ddf\u8e2a\u7a0b\u5e8f\u7684\u8fd0\u884c\u8f68\u8ff9**\u3002"
     ]
    },
    {
     "cell_type": "code",
     "collapsed": false,
     "input": [
      "%%writefile script/cat.py\n",
      "#\u4f5c\u4e1a1\u548c2, cat.py\n",
      "#\u5305\u542b\u4e86\u4e09\u4e2d\u5904\u7406\u6362\u884c\u7b26\u7684\u5199\u6cd5\n",
      "for line in open(\"data/test1.fa\"):\n",
      "    print line.strip()\n",
      "\n",
      "for line in open(\"data/test2.fa\"):\n",
      "    print line,\n",
      "\n",
      "for line in open(\"data/test1.fq\"):\n",
      "    line = line.strip()\n",
      "    print line"
     ],
     "language": "python",
     "metadata": {},
     "outputs": [
      {
       "output_type": "stream",
       "stream": "stdout",
       "text": [
        "Overwriting script/cat.py\n"
       ]
      }
     ],
     "prompt_number": 5
    },
    {
     "cell_type": "code",
     "collapsed": false,
     "input": [
      "%run script/cat"
     ],
     "language": "python",
     "metadata": {},
     "outputs": [
      {
       "output_type": "stream",
       "stream": "stdout",
       "text": [
        ">NM_001011874 gene=Xkr4 CDS=151-2091\n",
        "gcggcggcgggcgagcgggcgctggagtaggagctggggagcggcgcggccggggaaggaagccagggcg\n",
        ">NM_001195662 gene=Rp1 CDS=55-909\n",
        "AGGTCTCACCCAAAATGAGTGACACACCTTCTACTAGTTTCTCCATGATTCATCTGACTTCTGAAGGTCA\n",
        ">NM_011283 gene=Rp1 CDS=128-6412\n",
        "AATAAATCCAAAGACATTTGTTTACGTGAAACAAGCAGGTTGCATATCCAGTGACGTTTATACAGACCAC\n",
        ">NM_0112835 gene=Rp15 CDS=128-6412\n",
        "AATAAATCCAAAGACATTTGTTTACGTGAAACAAGCAGGTTGCATATCCAGTGACGTTTATACAGACCAC\n",
        ">NM_001011874 gene=Xkr4 CDS=151-2091\n",
        "gcggcggcgggcgagcgggcgctggagtaggagctggggagcggcgcggccggggaaggaagccagggcg\n",
        "aggcgaggaggtggcgggaggaggagacagcagggacaggTGTCAGATAAAGGAGTGCTCTCCTCCGCTG\n",
        "CCGAGGCATCATGGCCGCTAAGTCAGACGGGAGGCTGAAGATGAAGAAGAGCAGCGACGTGGCGTTCACC\n",
        "CCGCTGCAGAACTCGGACAATTCGGGCTCTGTGCAAGGACTGGCTCCAGGCTTGCCGTCGGGGTCCGGAG\n",
        ">NM_001195662 gene=Rp1 CDS=55-909\n",
        "AAGCTCAGCCTTTGCTCAGATTCTCCTCTTGATGAAACAAAGGGATTTCTGCACATGCTTGAGAAATTGC\n",
        "AGGTCTCACCCAAAATGAGTGACACACCTTCTACTAGTTTCTCCATGATTCATCTGACTTCTGAAGGTCA\n",
        "AGTTCCTTCCCCTCGCCATTCAAATATCACTCATCCTGTAGTGGCTAAACGCATCAGTTTCTATAAGAGT\n",
        "GGAGACCCACAGTTTGGCGGCGTTCGGGTGGTGGTCAACCCTCGTTCCTTTAAGACTTTTGACGCTCTGC\n",
        "TGGACAGTTTATCCAGGAAGGTACCCCTGCCCTTTGGGGTAAGGAACATCAGCACGCCCCGTGGACGACA\n",
        "CAGCATCACCAGGCTGGAGGAGCTAGAGGACGGCAAGTCTTATGTGTGCTCCCACAATAAGAAGGTGCTG\n",
        ">NM_011283 gene=Rp1 CDS=128-6412\n",
        "AATAAATCCAAAGACATTTGTTTACGTGAAACAAGCAGGTTGCATATCCAGTGACGTTTATACAGACCAC\n",
        "ACAAACTATTTACTCTTTTCTTCGTAAGGAAAGGTTCAACTTCTGGTCTCACCCAAAATGAGTGACACAC\n",
        "CTTCTACTAGTTTCTCCATGATTCATCTGACTTCTGAAGGTCAAGTTCCTTCCCCTCGCCATTCAAATAT\n",
        "CACTCATCCTGTAGTGGCTAAACGCATCAGTTTCTATAAGAGTGGAGACCCACAGTTTGGCGGCGTTCGG\n",
        "GTGGTGGTCAACCCTCGTTCCTTTAAGACTTTTGACGCTCTGCTGGACAGTTTATCCAGGAAGGTACCCC\n",
        "TGCCCTTTGGGGTAAGGAACATCAGCACGCCCCGTGGACGACACAGCATCACCAGGCTGGAGGAGCTAGA\n",
        "GGACGGCAAGTCTTATGTGTGCTCCCACAATAAGAAGGTGCTGCCAGTTGACCTGGACAAGGCCCGCAGG\n",
        "CGCCCTCGGCCCTGGCTGAGTAGTCGCTCCATAAGCACGCATGTGCAGCTCTGTCCTGCAACTGCCAATA\n",
        "TGTCCACCATGGCACCTGGCATGCTCCGTGCCCCAAGGAGGCTCGTGGTCTTCCGGAATGGTGACCCGAA\n",
        ">NM_0112835 gene=Rp1 CDS=128-6412\n",
        "AATAAATCCAAAGACATTTGTTTACGTGAAACAAGCAGGTTGCATATCCAGTGACGTTTATACAGACCAC\n",
        "ACAAACTATTTACTCTTTTCTTCGTAAGGAAAGGTTCAACTTCTGGTCTCACCCAAAATGAGTGACACAC\n",
        "CTTCTACTAGTTTCTCCATGATTCATCTGACTTCTGAAGGTCAAGTTCCTTCCCCTCGCCATTCAAATAT\n",
        "CACTCATCCTGTAGTGGCTAAACGCATCAGTTTCTATAAGAGTGGAGACCCACAGTTTGGCGGCGTTCGG\n",
        "GTGGTGGTCAACCCTCGTTCCTTTAAGACTTTTGACGCTCTGCTGGACAGTTTATCCAGGAAGGTACCCC\n",
        "TGCCCTTTGGGGTAAGGAACATCAGCACGCCCCGTGGACGACACAGCATCACCAGGCTGGAGGAGCTAGA\n",
        "GGACGGCAAGTCTTATGTGTGCTCCCACAATAAGAAGGTGCTGCCAGTTGACCTGGACAAGGCCCGCAGG\n",
        "CGCCCTCGGCCCTGGCTGAGTAGTCGCTCCATAAGCACGCATGTGCAGCTCTGTCCTGCAACTGCCAATA\n",
        "TGTCCACCATGGCACCTGGCATGCTCCGTGCCCCAAGGAGGCTCGTGGTCTTCCGGAATGGTGACCCGAA\n",
        "@HWI-ST1223:80:D1FMTACXX:2:1101:1243:2213 1:N:0:AGTCAA\n",
        "TCTGTGTAGCCNTGGCTGTCCTGGAACTCACTTTGTAGACCAGGCTGGCATGCACCACCACNNNCGGCTCATTTGTCTTTNNTTTTTGTTTTGTTCTGTA\n",
        "+\n",
        "BCCFFFFFFHH#4AFHIJJJJJJJJJJJJJJJJJIJIJJJJJGHIJJJJJJJJJJJJJIIJ###--5ABECFFDDEEEEE##,5=@B8?CDD<AD>C:@>\n",
        "@HWI-ST1223:80:D1FMTACXX:2:1101:1375:2060 1:N:0:AGTCAA\n",
        "NTGCTGAGCCACGACAAGGATCCCAGAGGGCCNAGCCCTGCATCTTGTATGGACCAGTTACNCATCAAAAGAGACTACTGTAGGCACCATCAATCAGATC\n",
        "+\n",
        "#1:DDDD;?CFFHDFEEIGIIIIIIG;DHFGG#)0?BFBDHBFF<FCFEFD;@DD@A=7?E#,,,;=(>3;=;;C>ACCC@CCCCCBBBCCAACCCCCCC\n",
        "@HWI-ST1223:80:D1FMTACXX:2:1101:1383:2091 1:N:0:AGTCAA\n",
        "NGTTCGTGTGGAACCTGGCGCTAAACCATTCGTAGACGACCTGCTTCTGGGTCGGGGTTTCGTACGTAGCAGAGCAGCTCCCTCGCTGCGATCTATTGAA\n",
        "+\n",
        "#1=DDFDFHHHHHJGJJJJJJJJJJJJJJJIJIGDHIHIGIJJJJJJJIIIGHHFDD3>BDDBDDDDDDDDDDBDCCBDDDDDDDDDDDBBDDDDEEACD\n",
        "@HWI-ST1223:80:D1FMTACXX:2:1101:1452:2138 1:N:0:AGTCAA\n",
        "NTCTAGGAGGTCTAGAAAGCCCAGGCCACCGGTACAAACATCAAGGGTGTTACGGATGTGCCGCTCTGAACCTCCAGGACGACTTTGATTTCAACTACAA\n",
        "+\n",
        "#4=DFFEFHHHHHJJJJJIJJJJHIIJGJJJJ@GIIJJJJJJIJJJJFGHIIIJJHHHDFFFFDDDDDDDDDDDDCDDDDDDDDDDDCCCEDEDDDDDDD\n"
       ]
      }
     ],
     "prompt_number": 6
    },
    {
     "cell_type": "code",
     "collapsed": false,
     "input": [
      "%%writefile script/splitName.py\n",
      "#\u4f5c\u4e1a3\n",
      "filename = \"data/test2.fa\"\n",
      "for line in open(filename):\n",
      "    if line[0] == '>':\n",
      "        lineL = line.split(' ')\n",
      "        print lineL[0]\n",
      "    else:\n",
      "        print line,"
     ],
     "language": "python",
     "metadata": {},
     "outputs": [
      {
       "output_type": "stream",
       "stream": "stdout",
       "text": [
        "Overwriting script/splitName.py\n"
       ]
      }
     ],
     "prompt_number": 7
    },
    {
     "cell_type": "code",
     "collapsed": false,
     "input": [
      "%run script/splitName"
     ],
     "language": "python",
     "metadata": {},
     "outputs": [
      {
       "output_type": "stream",
       "stream": "stdout",
       "text": [
        ">NM_001011874\n",
        "gcggcggcgggcgagcgggcgctggagtaggagctggggagcggcgcggccggggaaggaagccagggcg\n",
        "aggcgaggaggtggcgggaggaggagacagcagggacaggTGTCAGATAAAGGAGTGCTCTCCTCCGCTG\n",
        "CCGAGGCATCATGGCCGCTAAGTCAGACGGGAGGCTGAAGATGAAGAAGAGCAGCGACGTGGCGTTCACC\n",
        "CCGCTGCAGAACTCGGACAATTCGGGCTCTGTGCAAGGACTGGCTCCAGGCTTGCCGTCGGGGTCCGGAG\n",
        ">NM_001195662\n",
        "AAGCTCAGCCTTTGCTCAGATTCTCCTCTTGATGAAACAAAGGGATTTCTGCACATGCTTGAGAAATTGC\n",
        "AGGTCTCACCCAAAATGAGTGACACACCTTCTACTAGTTTCTCCATGATTCATCTGACTTCTGAAGGTCA\n",
        "AGTTCCTTCCCCTCGCCATTCAAATATCACTCATCCTGTAGTGGCTAAACGCATCAGTTTCTATAAGAGT\n",
        "GGAGACCCACAGTTTGGCGGCGTTCGGGTGGTGGTCAACCCTCGTTCCTTTAAGACTTTTGACGCTCTGC\n",
        "TGGACAGTTTATCCAGGAAGGTACCCCTGCCCTTTGGGGTAAGGAACATCAGCACGCCCCGTGGACGACA\n",
        "CAGCATCACCAGGCTGGAGGAGCTAGAGGACGGCAAGTCTTATGTGTGCTCCCACAATAAGAAGGTGCTG\n",
        ">NM_011283\n",
        "AATAAATCCAAAGACATTTGTTTACGTGAAACAAGCAGGTTGCATATCCAGTGACGTTTATACAGACCAC\n",
        "ACAAACTATTTACTCTTTTCTTCGTAAGGAAAGGTTCAACTTCTGGTCTCACCCAAAATGAGTGACACAC\n",
        "CTTCTACTAGTTTCTCCATGATTCATCTGACTTCTGAAGGTCAAGTTCCTTCCCCTCGCCATTCAAATAT\n",
        "CACTCATCCTGTAGTGGCTAAACGCATCAGTTTCTATAAGAGTGGAGACCCACAGTTTGGCGGCGTTCGG\n",
        "GTGGTGGTCAACCCTCGTTCCTTTAAGACTTTTGACGCTCTGCTGGACAGTTTATCCAGGAAGGTACCCC\n",
        "TGCCCTTTGGGGTAAGGAACATCAGCACGCCCCGTGGACGACACAGCATCACCAGGCTGGAGGAGCTAGA\n",
        "GGACGGCAAGTCTTATGTGTGCTCCCACAATAAGAAGGTGCTGCCAGTTGACCTGGACAAGGCCCGCAGG\n",
        "CGCCCTCGGCCCTGGCTGAGTAGTCGCTCCATAAGCACGCATGTGCAGCTCTGTCCTGCAACTGCCAATA\n",
        "TGTCCACCATGGCACCTGGCATGCTCCGTGCCCCAAGGAGGCTCGTGGTCTTCCGGAATGGTGACCCGAA\n",
        ">NM_0112835\n",
        "AATAAATCCAAAGACATTTGTTTACGTGAAACAAGCAGGTTGCATATCCAGTGACGTTTATACAGACCAC\n",
        "ACAAACTATTTACTCTTTTCTTCGTAAGGAAAGGTTCAACTTCTGGTCTCACCCAAAATGAGTGACACAC\n",
        "CTTCTACTAGTTTCTCCATGATTCATCTGACTTCTGAAGGTCAAGTTCCTTCCCCTCGCCATTCAAATAT\n",
        "CACTCATCCTGTAGTGGCTAAACGCATCAGTTTCTATAAGAGTGGAGACCCACAGTTTGGCGGCGTTCGG\n",
        "GTGGTGGTCAACCCTCGTTCCTTTAAGACTTTTGACGCTCTGCTGGACAGTTTATCCAGGAAGGTACCCC\n",
        "TGCCCTTTGGGGTAAGGAACATCAGCACGCCCCGTGGACGACACAGCATCACCAGGCTGGAGGAGCTAGA\n",
        "GGACGGCAAGTCTTATGTGTGCTCCCACAATAAGAAGGTGCTGCCAGTTGACCTGGACAAGGCCCGCAGG\n",
        "CGCCCTCGGCCCTGGCTGAGTAGTCGCTCCATAAGCACGCATGTGCAGCTCTGTCCTGCAACTGCCAATA\n",
        "TGTCCACCATGGCACCTGGCATGCTCCGTGCCCCAAGGAGGCTCGTGGTCTTCCGGAATGGTGACCCGAA\n"
       ]
      }
     ],
     "prompt_number": 8
    },
    {
     "cell_type": "code",
     "collapsed": false,
     "input": [
      "%%writefile script/formatFasta.py\n",
      "#\u4f5c\u4e1a4\n",
      "filename = \"data/test2.fa\"\n",
      "aList = []\n",
      "for line in open(filename):\n",
      "    if line[0] == '>':\n",
      "        lineL = line.split(' ')\n",
      "        if aList:\n",
      "            print ''.join(aList)\n",
      "            aList = []\n",
      "        name = lineL[0]\n",
      "        print name\n",
      "    else:\n",
      "        aList.append(line.strip())\n",
      "#\u4e0d\u8981\u5fd8\u4e86\u6700\u540e\u4e00\u4e2a\u5e8f\u5217\n",
      "print ''.join(aList)"
     ],
     "language": "python",
     "metadata": {},
     "outputs": [
      {
       "output_type": "stream",
       "stream": "stdout",
       "text": [
        "Overwriting script/formatFasta.py\n"
       ]
      }
     ],
     "prompt_number": 9
    },
    {
     "cell_type": "code",
     "collapsed": false,
     "input": [
      "%run script/formatFasta"
     ],
     "language": "python",
     "metadata": {},
     "outputs": [
      {
       "output_type": "stream",
       "stream": "stdout",
       "text": [
        ">NM_001011874\n",
        "gcggcggcgggcgagcgggcgctggagtaggagctggggagcggcgcggccggggaaggaagccagggcgaggcgaggaggtggcgggaggaggagacagcagggacaggTGTCAGATAAAGGAGTGCTCTCCTCCGCTGCCGAGGCATCATGGCCGCTAAGTCAGACGGGAGGCTGAAGATGAAGAAGAGCAGCGACGTGGCGTTCACCCCGCTGCAGAACTCGGACAATTCGGGCTCTGTGCAAGGACTGGCTCCAGGCTTGCCGTCGGGGTCCGGAG\n",
        ">NM_001195662\n",
        "AAGCTCAGCCTTTGCTCAGATTCTCCTCTTGATGAAACAAAGGGATTTCTGCACATGCTTGAGAAATTGCAGGTCTCACCCAAAATGAGTGACACACCTTCTACTAGTTTCTCCATGATTCATCTGACTTCTGAAGGTCAAGTTCCTTCCCCTCGCCATTCAAATATCACTCATCCTGTAGTGGCTAAACGCATCAGTTTCTATAAGAGTGGAGACCCACAGTTTGGCGGCGTTCGGGTGGTGGTCAACCCTCGTTCCTTTAAGACTTTTGACGCTCTGCTGGACAGTTTATCCAGGAAGGTACCCCTGCCCTTTGGGGTAAGGAACATCAGCACGCCCCGTGGACGACACAGCATCACCAGGCTGGAGGAGCTAGAGGACGGCAAGTCTTATGTGTGCTCCCACAATAAGAAGGTGCTG\n",
        ">NM_011283\n",
        "AATAAATCCAAAGACATTTGTTTACGTGAAACAAGCAGGTTGCATATCCAGTGACGTTTATACAGACCACACAAACTATTTACTCTTTTCTTCGTAAGGAAAGGTTCAACTTCTGGTCTCACCCAAAATGAGTGACACACCTTCTACTAGTTTCTCCATGATTCATCTGACTTCTGAAGGTCAAGTTCCTTCCCCTCGCCATTCAAATATCACTCATCCTGTAGTGGCTAAACGCATCAGTTTCTATAAGAGTGGAGACCCACAGTTTGGCGGCGTTCGGGTGGTGGTCAACCCTCGTTCCTTTAAGACTTTTGACGCTCTGCTGGACAGTTTATCCAGGAAGGTACCCCTGCCCTTTGGGGTAAGGAACATCAGCACGCCCCGTGGACGACACAGCATCACCAGGCTGGAGGAGCTAGAGGACGGCAAGTCTTATGTGTGCTCCCACAATAAGAAGGTGCTGCCAGTTGACCTGGACAAGGCCCGCAGGCGCCCTCGGCCCTGGCTGAGTAGTCGCTCCATAAGCACGCATGTGCAGCTCTGTCCTGCAACTGCCAATATGTCCACCATGGCACCTGGCATGCTCCGTGCCCCAAGGAGGCTCGTGGTCTTCCGGAATGGTGACCCGAA\n",
        ">NM_0112835\n",
        "AATAAATCCAAAGACATTTGTTTACGTGAAACAAGCAGGTTGCATATCCAGTGACGTTTATACAGACCACACAAACTATTTACTCTTTTCTTCGTAAGGAAAGGTTCAACTTCTGGTCTCACCCAAAATGAGTGACACACCTTCTACTAGTTTCTCCATGATTCATCTGACTTCTGAAGGTCAAGTTCCTTCCCCTCGCCATTCAAATATCACTCATCCTGTAGTGGCTAAACGCATCAGTTTCTATAAGAGTGGAGACCCACAGTTTGGCGGCGTTCGGGTGGTGGTCAACCCTCGTTCCTTTAAGACTTTTGACGCTCTGCTGGACAGTTTATCCAGGAAGGTACCCCTGCCCTTTGGGGTAAGGAACATCAGCACGCCCCGTGGACGACACAGCATCACCAGGCTGGAGGAGCTAGAGGACGGCAAGTCTTATGTGTGCTCCCACAATAAGAAGGTGCTGCCAGTTGACCTGGACAAGGCCCGCAGGCGCCCTCGGCCCTGGCTGAGTAGTCGCTCCATAAGCACGCATGTGCAGCTCTGTCCTGCAACTGCCAATATGTCCACCATGGCACCTGGCATGCTCCGTGCCCCAAGGAGGCTCGTGGTCTTCCGGAATGGTGACCCGAA\n"
       ]
      }
     ],
     "prompt_number": 10
    },
    {
     "cell_type": "code",
     "collapsed": false,
     "input": [
      "%%writefile script/formatFasta-2.py\n",
      "#\u4f5c\u4e1a5 \n",
      "filename = \"data/test2.fa\"\n",
      "length = 80\n",
      "aList = []\n",
      "for line in open(filename):\n",
      "    if line[0] == '>':\n",
      "        lineL = line.split(' ')\n",
      "        if aList:\n",
      "            seq = ''.join(aList)\n",
      "            len_seq = len(seq)\n",
      "            for i in range(0,len_seq,length):\n",
      "                print seq[i:i+length]\n",
      "            aList = []\n",
      "        name = lineL[0]\n",
      "        print name\n",
      "    else:\n",
      "        aList.append(line.strip())\n",
      "#\u4e0d\u8981\u5fd8\u4e86\u6700\u540e\u4e00\u4e2a\u5e8f\u5217\n",
      "seq = ''.join(aList)\n",
      "len_seq = len(seq)\n",
      "for i in range(0,len_seq,length):\n",
      "    print seq[i:i+length]"
     ],
     "language": "python",
     "metadata": {},
     "outputs": [
      {
       "output_type": "stream",
       "stream": "stdout",
       "text": [
        "Overwriting script/formatFasta-2.py\n"
       ]
      }
     ],
     "prompt_number": 11
    },
    {
     "cell_type": "code",
     "collapsed": false,
     "input": [
      "%run script/formatFasta-2"
     ],
     "language": "python",
     "metadata": {},
     "outputs": [
      {
       "output_type": "stream",
       "stream": "stdout",
       "text": [
        ">NM_001011874\n",
        "gcggcggcgggcgagcgggcgctggagtaggagctggggagcggcgcggccggggaaggaagccagggcgaggcgaggag\n",
        "gtggcgggaggaggagacagcagggacaggTGTCAGATAAAGGAGTGCTCTCCTCCGCTGCCGAGGCATCATGGCCGCTA\n",
        "AGTCAGACGGGAGGCTGAAGATGAAGAAGAGCAGCGACGTGGCGTTCACCCCGCTGCAGAACTCGGACAATTCGGGCTCT\n",
        "GTGCAAGGACTGGCTCCAGGCTTGCCGTCGGGGTCCGGAG\n",
        ">NM_001195662\n",
        "AAGCTCAGCCTTTGCTCAGATTCTCCTCTTGATGAAACAAAGGGATTTCTGCACATGCTTGAGAAATTGCAGGTCTCACC\n",
        "CAAAATGAGTGACACACCTTCTACTAGTTTCTCCATGATTCATCTGACTTCTGAAGGTCAAGTTCCTTCCCCTCGCCATT\n",
        "CAAATATCACTCATCCTGTAGTGGCTAAACGCATCAGTTTCTATAAGAGTGGAGACCCACAGTTTGGCGGCGTTCGGGTG\n",
        "GTGGTCAACCCTCGTTCCTTTAAGACTTTTGACGCTCTGCTGGACAGTTTATCCAGGAAGGTACCCCTGCCCTTTGGGGT\n",
        "AAGGAACATCAGCACGCCCCGTGGACGACACAGCATCACCAGGCTGGAGGAGCTAGAGGACGGCAAGTCTTATGTGTGCT\n",
        "CCCACAATAAGAAGGTGCTG\n",
        ">NM_011283\n",
        "AATAAATCCAAAGACATTTGTTTACGTGAAACAAGCAGGTTGCATATCCAGTGACGTTTATACAGACCACACAAACTATT\n",
        "TACTCTTTTCTTCGTAAGGAAAGGTTCAACTTCTGGTCTCACCCAAAATGAGTGACACACCTTCTACTAGTTTCTCCATG\n",
        "ATTCATCTGACTTCTGAAGGTCAAGTTCCTTCCCCTCGCCATTCAAATATCACTCATCCTGTAGTGGCTAAACGCATCAG\n",
        "TTTCTATAAGAGTGGAGACCCACAGTTTGGCGGCGTTCGGGTGGTGGTCAACCCTCGTTCCTTTAAGACTTTTGACGCTC\n",
        "TGCTGGACAGTTTATCCAGGAAGGTACCCCTGCCCTTTGGGGTAAGGAACATCAGCACGCCCCGTGGACGACACAGCATC\n",
        "ACCAGGCTGGAGGAGCTAGAGGACGGCAAGTCTTATGTGTGCTCCCACAATAAGAAGGTGCTGCCAGTTGACCTGGACAA\n",
        "GGCCCGCAGGCGCCCTCGGCCCTGGCTGAGTAGTCGCTCCATAAGCACGCATGTGCAGCTCTGTCCTGCAACTGCCAATA\n",
        "TGTCCACCATGGCACCTGGCATGCTCCGTGCCCCAAGGAGGCTCGTGGTCTTCCGGAATGGTGACCCGAA\n",
        ">NM_0112835\n",
        "AATAAATCCAAAGACATTTGTTTACGTGAAACAAGCAGGTTGCATATCCAGTGACGTTTATACAGACCACACAAACTATT\n",
        "TACTCTTTTCTTCGTAAGGAAAGGTTCAACTTCTGGTCTCACCCAAAATGAGTGACACACCTTCTACTAGTTTCTCCATG\n",
        "ATTCATCTGACTTCTGAAGGTCAAGTTCCTTCCCCTCGCCATTCAAATATCACTCATCCTGTAGTGGCTAAACGCATCAG\n",
        "TTTCTATAAGAGTGGAGACCCACAGTTTGGCGGCGTTCGGGTGGTGGTCAACCCTCGTTCCTTTAAGACTTTTGACGCTC\n",
        "TGCTGGACAGTTTATCCAGGAAGGTACCCCTGCCCTTTGGGGTAAGGAACATCAGCACGCCCCGTGGACGACACAGCATC\n",
        "ACCAGGCTGGAGGAGCTAGAGGACGGCAAGTCTTATGTGTGCTCCCACAATAAGAAGGTGCTGCCAGTTGACCTGGACAA\n",
        "GGCCCGCAGGCGCCCTCGGCCCTGGCTGAGTAGTCGCTCCATAAGCACGCATGTGCAGCTCTGTCCTGCAACTGCCAATA\n",
        "TGTCCACCATGGCACCTGGCATGCTCCGTGCCCCAAGGAGGCTCGTGGTCTTCCGGAATGGTGACCCGAA\n"
       ]
      }
     ],
     "prompt_number": 12
    },
    {
     "cell_type": "code",
     "collapsed": false,
     "input": [
      "%%writefile script/sortFasta.py\n",
      "#\u4f5c\u4e1a6\n",
      "aDict = {}\n",
      "\n",
      "filename = \"data/test2.fa\"\n",
      "\n",
      "for line in open(filename):\n",
      "    if line[0] == '>':\n",
      "        key = line.split()[0]\n",
      "        aDict[key] = []\n",
      "    else:\n",
      "        aDict[key].append(line.strip())\n",
      "#--------END reading--------------------\n",
      "keyL = aDict.keys()\n",
      "keyL.sort()\n",
      "\n",
      "for key in keyL:\n",
      "    print \"%s\\n%s\" % (key, ''.join(aDict[key]))"
     ],
     "language": "python",
     "metadata": {},
     "outputs": [
      {
       "output_type": "stream",
       "stream": "stdout",
       "text": [
        "Overwriting sortFasta.py\n"
       ]
      }
     ],
     "prompt_number": 13
    },
    {
     "cell_type": "code",
     "collapsed": false,
     "input": [
      "%run script/sortFasta"
     ],
     "language": "python",
     "metadata": {},
     "outputs": [
      {
       "output_type": "stream",
       "stream": "stdout",
       "text": [
        ">NM_001011874\n",
        "gcggcggcgggcgagcgggcgctggagtaggagctggggagcggcgcggccggggaaggaagccagggcgaggcgaggaggtggcgggaggaggagacagcagggacaggTGTCAGATAAAGGAGTGCTCTCCTCCGCTGCCGAGGCATCATGGCCGCTAAGTCAGACGGGAGGCTGAAGATGAAGAAGAGCAGCGACGTGGCGTTCACCCCGCTGCAGAACTCGGACAATTCGGGCTCTGTGCAAGGACTGGCTCCAGGCTTGCCGTCGGGGTCCGGAG\n",
        ">NM_001195662\n",
        "AAGCTCAGCCTTTGCTCAGATTCTCCTCTTGATGAAACAAAGGGATTTCTGCACATGCTTGAGAAATTGCAGGTCTCACCCAAAATGAGTGACACACCTTCTACTAGTTTCTCCATGATTCATCTGACTTCTGAAGGTCAAGTTCCTTCCCCTCGCCATTCAAATATCACTCATCCTGTAGTGGCTAAACGCATCAGTTTCTATAAGAGTGGAGACCCACAGTTTGGCGGCGTTCGGGTGGTGGTCAACCCTCGTTCCTTTAAGACTTTTGACGCTCTGCTGGACAGTTTATCCAGGAAGGTACCCCTGCCCTTTGGGGTAAGGAACATCAGCACGCCCCGTGGACGACACAGCATCACCAGGCTGGAGGAGCTAGAGGACGGCAAGTCTTATGTGTGCTCCCACAATAAGAAGGTGCTG\n",
        ">NM_011283\n",
        "AATAAATCCAAAGACATTTGTTTACGTGAAACAAGCAGGTTGCATATCCAGTGACGTTTATACAGACCACACAAACTATTTACTCTTTTCTTCGTAAGGAAAGGTTCAACTTCTGGTCTCACCCAAAATGAGTGACACACCTTCTACTAGTTTCTCCATGATTCATCTGACTTCTGAAGGTCAAGTTCCTTCCCCTCGCCATTCAAATATCACTCATCCTGTAGTGGCTAAACGCATCAGTTTCTATAAGAGTGGAGACCCACAGTTTGGCGGCGTTCGGGTGGTGGTCAACCCTCGTTCCTTTAAGACTTTTGACGCTCTGCTGGACAGTTTATCCAGGAAGGTACCCCTGCCCTTTGGGGTAAGGAACATCAGCACGCCCCGTGGACGACACAGCATCACCAGGCTGGAGGAGCTAGAGGACGGCAAGTCTTATGTGTGCTCCCACAATAAGAAGGTGCTGCCAGTTGACCTGGACAAGGCCCGCAGGCGCCCTCGGCCCTGGCTGAGTAGTCGCTCCATAAGCACGCATGTGCAGCTCTGTCCTGCAACTGCCAATATGTCCACCATGGCACCTGGCATGCTCCGTGCCCCAAGGAGGCTCGTGGTCTTCCGGAATGGTGACCCGAA\n",
        ">NM_0112835\n",
        "AATAAATCCAAAGACATTTGTTTACGTGAAACAAGCAGGTTGCATATCCAGTGACGTTTATACAGACCACACAAACTATTTACTCTTTTCTTCGTAAGGAAAGGTTCAACTTCTGGTCTCACCCAAAATGAGTGACACACCTTCTACTAGTTTCTCCATGATTCATCTGACTTCTGAAGGTCAAGTTCCTTCCCCTCGCCATTCAAATATCACTCATCCTGTAGTGGCTAAACGCATCAGTTTCTATAAGAGTGGAGACCCACAGTTTGGCGGCGTTCGGGTGGTGGTCAACCCTCGTTCCTTTAAGACTTTTGACGCTCTGCTGGACAGTTTATCCAGGAAGGTACCCCTGCCCTTTGGGGTAAGGAACATCAGCACGCCCCGTGGACGACACAGCATCACCAGGCTGGAGGAGCTAGAGGACGGCAAGTCTTATGTGTGCTCCCACAATAAGAAGGTGCTGCCAGTTGACCTGGACAAGGCCCGCAGGCGCCCTCGGCCCTGGCTGAGTAGTCGCTCCATAAGCACGCATGTGCAGCTCTGTCCTGCAACTGCCAATATGTCCACCATGGCACCTGGCATGCTCCGTGCCCCAAGGAGGCTCGTGGTCTTCCGGAATGGTGACCCGAA\n"
       ]
      }
     ],
     "prompt_number": 14
    },
    {
     "cell_type": "code",
     "collapsed": false,
     "input": [
      "%%writefile script/grepFasta.py\n",
      "#\u4f5c\u4e1a7.1\n",
      "aDict = {}\n",
      "\n",
      "seqFile = \"data/test2.fa\"\n",
      "nameFile = \"data/fasta.name\"\n",
      "\n",
      "for line in open(seqFile):\n",
      "    if line[0] == '>':\n",
      "        key = line.split()[0][1:] #\u6ce8\u610f\u53bb\u6389\u5f00\u5934\u7684'>'\uff0c\u53ea\u53d6\u5e8f\u5217\u7684\u540d\u5b57\n",
      "        aDict[key] = []  #\u5b57\u5178\u7684\u503c\u662f\u4e00\u4e2a\u5217\u8868\n",
      "    else:\n",
      "        aDict[key].append(line.strip())\n",
      "#--------END reading--------------------\n",
      "for line in open(nameFile):\n",
      "    name = line.strip()\n",
      "    print \">%s\\n%s\" % (name, ''.join(aDict[name]))"
     ],
     "language": "python",
     "metadata": {},
     "outputs": [
      {
       "output_type": "stream",
       "stream": "stdout",
       "text": [
        "Overwriting grepFasta.py\n"
       ]
      }
     ],
     "prompt_number": 15
    },
    {
     "cell_type": "code",
     "collapsed": false,
     "input": [
      "%run script/grepFasta.py"
     ],
     "language": "python",
     "metadata": {},
     "outputs": [
      {
       "output_type": "stream",
       "stream": "stdout",
       "text": [
        ">NM_001011874\n",
        "gcggcggcgggcgagcgggcgctggagtaggagctggggagcggcgcggccggggaaggaagccagggcgaggcgaggaggtggcgggaggaggagacagcagggacaggTGTCAGATAAAGGAGTGCTCTCCTCCGCTGCCGAGGCATCATGGCCGCTAAGTCAGACGGGAGGCTGAAGATGAAGAAGAGCAGCGACGTGGCGTTCACCCCGCTGCAGAACTCGGACAATTCGGGCTCTGTGCAAGGACTGGCTCCAGGCTTGCCGTCGGGGTCCGGAG\n",
        ">NM_011283\n",
        "AATAAATCCAAAGACATTTGTTTACGTGAAACAAGCAGGTTGCATATCCAGTGACGTTTATACAGACCACACAAACTATTTACTCTTTTCTTCGTAAGGAAAGGTTCAACTTCTGGTCTCACCCAAAATGAGTGACACACCTTCTACTAGTTTCTCCATGATTCATCTGACTTCTGAAGGTCAAGTTCCTTCCCCTCGCCATTCAAATATCACTCATCCTGTAGTGGCTAAACGCATCAGTTTCTATAAGAGTGGAGACCCACAGTTTGGCGGCGTTCGGGTGGTGGTCAACCCTCGTTCCTTTAAGACTTTTGACGCTCTGCTGGACAGTTTATCCAGGAAGGTACCCCTGCCCTTTGGGGTAAGGAACATCAGCACGCCCCGTGGACGACACAGCATCACCAGGCTGGAGGAGCTAGAGGACGGCAAGTCTTATGTGTGCTCCCACAATAAGAAGGTGCTGCCAGTTGACCTGGACAAGGCCCGCAGGCGCCCTCGGCCCTGGCTGAGTAGTCGCTCCATAAGCACGCATGTGCAGCTCTGTCCTGCAACTGCCAATATGTCCACCATGGCACCTGGCATGCTCCGTGCCCCAAGGAGGCTCGTGGTCTTCCGGAATGGTGACCCGAA\n"
       ]
      }
     ],
     "prompt_number": 16
    },
    {
     "cell_type": "code",
     "collapsed": true,
     "input": [
      "%%writefile script/grepFastq.py\n",
      "#\u4f5c\u4e1a7.2\n",
      "seqFile = \"data/test1.fq\"\n",
      "nameFile = \"data/fastq.name\"\n",
      "\n",
      "aDict = {}\n",
      "count = 0\n",
      "for line in open(seqFile):\n",
      "    count += 1\n",
      "    if count % 4 == 1:\n",
      "        name = line.strip()[1:] #\u53bb\u6389\u5f00\u5934\u7684@\n",
      "        aDict[name] = [line] #\u5b58\u50a8\u540d\u5b57\u884c\n",
      "    else:\n",
      "        aDict[name].append(line)\n",
      "#-------END reading----------\u8fd9\u884c\u77e5\u8bc6\u6ce8\u91ca\uff0c\u53ef\u6709\u53ef\u65e0------\n",
      "for line in open(nameFile):\n",
      "    name = line.strip()\n",
      "    print ''.join(aDict[name]),"
     ],
     "language": "python",
     "metadata": {},
     "outputs": [
      {
       "output_type": "stream",
       "stream": "stdout",
       "text": [
        "Overwriting grepFastq.py\n"
       ]
      }
     ],
     "prompt_number": 17
    },
    {
     "cell_type": "code",
     "collapsed": false,
     "input": [
      "%run script/grepFastq"
     ],
     "language": "python",
     "metadata": {},
     "outputs": [
      {
       "output_type": "stream",
       "stream": "stdout",
       "text": [
        "@HWI-ST1223:80:D1FMTACXX:2:1101:1243:2213 1:N:0:AGTCAA\n",
        "TCTGTGTAGCCNTGGCTGTCCTGGAACTCACTTTGTAGACCAGGCTGGCATGCACCACCACNNNCGGCTCATTTGTCTTTNNTTTTTGTTTTGTTCTGTA\n",
        "+\n",
        "BCCFFFFFFHH#4AFHIJJJJJJJJJJJJJJJJJIJIJJJJJGHIJJJJJJJJJJJJJIIJ###--5ABECFFDDEEEEE##,5=@B8?CDD<AD>C:@>\n",
        "@HWI-ST1223:80:D1FMTACXX:2:1101:1375:2060 1:N:0:AGTCAA\n",
        "NTGCTGAGCCACGACAAGGATCCCAGAGGGCCNAGCCCTGCATCTTGTATGGACCAGTTACNCATCAAAAGAGACTACTGTAGGCACCATCAATCAGATC\n",
        "+\n",
        "#1:DDDD;?CFFHDFEEIGIIIIIIG;DHFGG#)0?BFBDHBFF<FCFEFD;@DD@A=7?E#,,,;=(>3;=;;C>ACCC@CCCCCBBBCCAACCCCCCC\n",
        "@HWI-ST1223:80:D1FMTACXX:2:1101:1383:2091 1:N:0:AGTCAA\n",
        "NGTTCGTGTGGAACCTGGCGCTAAACCATTCGTAGACGACCTGCTTCTGGGTCGGGGTTTCGTACGTAGCAGAGCAGCTCCCTCGCTGCGATCTATTGAA\n",
        "+\n",
        "#1=DDFDFHHHHHJGJJJJJJJJJJJJJJJIJIGDHIHIGIJJJJJJJIIIGHHFDD3>BDDBDDDDDDDDDDBDCCBDDDDDDDDDDDBBDDDDEEACD\n",
        "@HWI-ST1223:80:D1FMTACXX:2:1101:1452:2138 1:N:0:AGTCAA\n",
        "NTCTAGGAGGTCTAGAAAGCCCAGGCCACCGGTACAAACATCAAGGGTGTTACGGATGTGCCGCTCTGAACCTCCAGGACGACTTTGATTTCAACTACAA\n",
        "+\n",
        "#4=DFFEFHHHHHJJJJJIJJJJHIIJGJJJJ@GIIJJJJJJIJJJJFGHIIIJJHHHDFFFFDDDDDDDDDDDDCDDDDDDDDDDDCCCEDEDDDDDDD\n"
       ]
      }
     ],
     "prompt_number": 18
    },
    {
     "cell_type": "code",
     "collapsed": false,
     "input": [
      "%%writefile script/screenResult.py\n",
      "#\u4f5c\u4e1a8\n",
      "file = \"data/test.expr\"\n",
      "\n",
      "head = 1 #This is used to indicate there is one head line needing to skip\n",
      "for line in open(file):\n",
      "    if head:\n",
      "        head -= 1\n",
      "        continue\n",
      "    #-----Begin data lines------\n",
      "    lineL = line.split()\n",
      "    \n",
      "    foldChange = float(lineL[9])\n",
      "    adjP = float(lineL[12])\n",
      "    if foldChange > 2 and adjP < 0.05:\n",
      "        print lineL[0]"
     ],
     "language": "python",
     "metadata": {},
     "outputs": [
      {
       "output_type": "stream",
       "stream": "stdout",
       "text": [
        "Overwriting screenResult.py\n"
       ]
      }
     ],
     "prompt_number": 19
    },
    {
     "cell_type": "code",
     "collapsed": false,
     "input": [
      "%run script/screenResult"
     ],
     "language": "python",
     "metadata": {},
     "outputs": [
      {
       "output_type": "stream",
       "stream": "stdout",
       "text": [
        "Novel00011\n",
        "Novel00043\n",
        "Novel00047\n",
        "Novel00077\n",
        "Novel00079\n",
        "Novel00080\n",
        "Novel00084\n",
        "Novel00085\n",
        "Novel00086\n",
        "Novel00087\n",
        "Novel00090\n",
        "Novel00124\n",
        "Novel00148\n",
        "Novel00156\n",
        "Novel00162\n",
        "Novel00166\n"
       ]
      }
     ],
     "prompt_number": 20
    },
    {
     "cell_type": "code",
     "collapsed": false,
     "input": [
      "%%writefile script/transferMultipleColumToMatrix.py\n",
      "#\u4f5c\u4e1a9\n",
      "file = \"data/multipleColExpr.txt\"\n",
      "head = 1\n",
      "tissueSet = set()\n",
      "aDict = {}\n",
      "for line in open(file):\n",
      "    if head: #skip header line\n",
      "        head -= 1\n",
      "        continue\n",
      "    #-------------------------------\n",
      "    lineL = line.split()\n",
      "    gene = lineL[0]\n",
      "    tissue = lineL[1]\n",
      "    expr = lineL[2]\n",
      "    if gene not in aDict:\n",
      "        aDict[gene] = {}\n",
      "    assert tissue not in aDict[gene], \"Duplicate tissues\"\n",
      "    aDict[gene][tissue] = expr\n",
      "    tissueSet.add(tissue)\n",
      "#---END reading----------------------------\n",
      "tissueL = list(tissueSet)\n",
      "tissueL.sort()\n",
      "print \"Gene\\t%s\" % '\\t'.join(tissueL)\n",
      "\n",
      "for gene, tissueD in aDict.items():\n",
      "    exprL = [gene]\n",
      "    for tissue in tissueL:\n",
      "        exprL.append(tissueD[tissue])\n",
      "    print '\\t'.join(exprL)\n",
      "    "
     ],
     "language": "python",
     "metadata": {},
     "outputs": [
      {
       "output_type": "stream",
       "stream": "stdout",
       "text": [
        "Overwriting transferMultipleColumToMatrix.py\n"
       ]
      }
     ],
     "prompt_number": 21
    },
    {
     "cell_type": "code",
     "collapsed": false,
     "input": [
      "%run script/transferMultipleColumToMatrix"
     ],
     "language": "python",
     "metadata": {},
     "outputs": [
      {
       "output_type": "stream",
       "stream": "stdout",
       "text": [
        "Gene\tA-431\tA-549\tAN3-CA\tBEWO\tCACO-2\n",
        "ENSG00000000460\t25.2\t14.2\t10.6\t24.4\t14.2\n",
        "ENSG00000000938\t0.0\t0.0\t0.0\t0.0\t0.0\n",
        "ENSG00000000457\t2.8\t3.4\t3.8\t5.8\t2.9\n",
        "ENSG00000000419\t73.8\t38.6\t33.9\t53.7\t155.5\n",
        "ENSG00000000003\t21.3\t32.5\t38.2\t31.4\t63.9\n",
        "ENSG00000000005\t0.0\t0.0\t0.0\t0.0\t0.0\n"
       ]
      }
     ],
     "prompt_number": 22
    },
    {
     "cell_type": "code",
     "collapsed": false,
     "input": [
      "%%writefile script/reverseComplementary.py\n",
      "#\u4f5c\u4e1a10\n",
      "str1 = \"ACGTACGTACGTCACGTCAGCTAGAC\"\n",
      "\n",
      "ATCG_dict = {'A':'T','T':'A','C':'G','G':'C', 'a':'t','t':'a','c':'g','g':'c'}\n",
      "\n",
      "tmpL = []\n",
      "for i in str1:\n",
      "    tmpL.append(ATCG_dict[i])\n",
      "tmpL.reverse()\n",
      "print ''.join(tmpL)"
     ],
     "language": "python",
     "metadata": {},
     "outputs": [
      {
       "output_type": "stream",
       "stream": "stdout",
       "text": [
        "Overwriting reverseComplementary.py\n"
       ]
      }
     ],
     "prompt_number": 23
    },
    {
     "cell_type": "code",
     "collapsed": false,
     "input": [
      "%run script/reverseComplementary"
     ],
     "language": "python",
     "metadata": {},
     "outputs": [
      {
       "output_type": "stream",
       "stream": "stdout",
       "text": [
        "GTCTAGCTGACGTGACGTACGTACGT\n"
       ]
      }
     ],
     "prompt_number": 24
    },
    {
     "cell_type": "code",
     "collapsed": false,
     "input": [
      "%%writefile script/collapsemiRNAreads.py\n",
      "#\u4f5c\u4e1a11\n",
      "smRNA_file = \"data/mir.collapse\"\n",
      "\n",
      "head = 1\n",
      "sample = 'ESB'\n",
      "lineno = 0\n",
      "for line in open(smRNA_file):\n",
      "    if head:\n",
      "        head -= 1\n",
      "        continue\n",
      "    #----end skip header line---\n",
      "    seq, value = line.split()\n",
      "    lineno += 1\n",
      "    print \">%s_%d_x%s\\n%s\" % (sample, lineno, value, seq)"
     ],
     "language": "python",
     "metadata": {},
     "outputs": [
      {
       "output_type": "stream",
       "stream": "stdout",
       "text": [
        "Overwriting collapsemiRNAreads.py\n"
       ]
      }
     ],
     "prompt_number": 25
    },
    {
     "cell_type": "code",
     "collapsed": false,
     "input": [
      "%run script/collapsemiRNAreads"
     ],
     "language": "python",
     "metadata": {},
     "outputs": [
      {
       "output_type": "stream",
       "stream": "stdout",
       "text": [
        ">ESB_1_x2\n",
        "ACTGCCCTAAGTGCTCCTTCTGGC\n",
        ">ESB_2_x2\n",
        "ATAAGGTGCATCTAGTGCAGATA\n",
        ">ESB_3_x1\n",
        "TGAGGTAGTAGTTTGTGCTGTTT\n",
        ">ESB_4_x1\n",
        "TCCTACGAGTTGCATGGATTC\n",
        ">ESB_5_x1\n",
        "ACCGGGTGGAGCCGCCGCA\n",
        ">ESB_6_x1\n",
        "ACTGCCCTAAGTGCTCCTTCTGGT\n",
        ">ESB_7_x1\n",
        "TACAGGGCTGGGGATGG\n",
        ">ESB_8_x1\n",
        "CCCTGGATGCTGTAGGATG\n",
        ">ESB_9_x1\n",
        "AAAATGCTACTACTTTTGAGTC\n",
        ">ESB_10_x1\n",
        "TCCCTGGTGGTCTAGTGGCTAGGAT\n",
        ">ESB_11_x4\n",
        "CTCTTAGATCGATGTGGTGCTC\n",
        ">ESB_12_x1\n",
        "TTGGTGGTTCAGTGGTA\n",
        ">ESB_13_x1\n",
        "TCACAATTCCCCTATACCATGGGCCAT\n",
        ">ESB_14_x1\n",
        "CAAATGCTAGGGTTGGTGG\n",
        ">ESB_15_x4\n",
        "AGGCAGCTTCCACAGCA\n",
        ">ESB_16_x3\n",
        "GCACTGAGATGGAGTGGTGTAA\n",
        ">ESB_17_x3\n",
        "CTCCATTTGTTTGATGATGGA\n",
        ">ESB_18_x1\n",
        "GCACTGAGATGGAGTGGTGTAT\n",
        ">ESB_19_x2\n",
        "AGTGCCCAGAGTTTGTAGTGT\n",
        ">ESB_20_x1\n",
        "ATAAGGTGCATCTAGTGCTGTTAGA\n",
        ">ESB_21_x9\n",
        "AAAATGCTTCCACTTTGTGTG\n",
        ">ESB_22_x2\n",
        "GGTAATTCTAGAGCTAATACATGCCG\n",
        ">ESB_23_x6\n",
        "CCGGGCGGAAACACCA\n",
        ">ESB_24_x1\n",
        "TGAAAGGCTGACCCGCCGGGC\n",
        ">ESB_25_x1\n",
        "TTCGTACAGTGGTCGTAAGTTCGTGC\n",
        ">ESB_26_x1\n",
        "GGTTAGCACTCTGGACTC\n"
       ]
      }
     ],
     "prompt_number": 26
    },
    {
     "cell_type": "code",
     "collapsed": false,
     "input": [
      "%%writefile script/map.py\n",
      "#\u4f5c\u4e1a12\n",
      "ref = \"data/ref.fa\"\n",
      "short = \"data/short.fa\"\n",
      "\n",
      "refD = {}\n",
      "for line in open(ref):\n",
      "    if line[0] == '>':\n",
      "        name = line[1:-1]\n",
      "        assert name not in refD\n",
      "        refD[name] = []\n",
      "    else:\n",
      "        refD[name].append(line.strip())\n",
      "#---------END reading----------------\n",
      "for key, valueL in refD.items():\n",
      "    refD[key] = ''.join(valueL)\n",
      "#------------------------------------\n",
      "for line in open(short):\n",
      "    if line[0] == '>':\n",
      "        pass\n",
      "    else:\n",
      "        seq = line.strip()\n",
      "        len_seq = len(seq)\n",
      "        for key, value in refD.items():\n",
      "            pos = value.find(seq)\n",
      "            while pos != -1:\n",
      "                print \"%s\\t%d\\t%d\\t%s\" % (key, pos, pos+len_seq, seq)\n",
      "                current = pos + 1\n",
      "                newpos = value[current:].find(seq)\n",
      "                if newpos == -1:\n",
      "                    break\n",
      "                pos = current + newpos"
     ],
     "language": "python",
     "metadata": {},
     "outputs": [
      {
       "output_type": "stream",
       "stream": "stdout",
       "text": [
        "Overwriting map.py\n"
       ]
      }
     ],
     "prompt_number": 27
    },
    {
     "cell_type": "code",
     "collapsed": false,
     "input": [
      "%run script/map"
     ],
     "language": "python",
     "metadata": {},
     "outputs": [
      {
       "output_type": "stream",
       "stream": "stdout",
       "text": [
        "chr1\t199\t208\tTGGCGTTCA\n",
        "chr1\t207\t216\tACCCCGCTG\n",
        "chr2\t63\t70\tAAATTGC\n",
        "chr3\t0\t7\tAATAAAT\n",
        "chr3\t66\t74\tCCACACAA\n",
        "chr3\t206\t214\tATATCACT\n",
        "chr2\t163\t171\tATATCACT\n",
        "chr3\t417\t423\tAGAGGA\n",
        "chr2\t374\t380\tAGAGGA\n",
        "chrX\t137\t143\tAGAGGA\n"
       ]
      }
     ],
     "prompt_number": 28
    },
    {
     "cell_type": "heading",
     "level": 2,
     "metadata": {},
     "source": [
      "\u4f5c\u4e1a\uff08\u4e8c\uff09"
     ]
    },
    {
     "cell_type": "markdown",
     "metadata": {},
     "source": [
      "6. \u5c06 \u201c\u4f5c\u4e1a\uff08\u4e00\uff09\u201d \u4e2d\u7684\u7a0b\u5e8f\u5757\u7528\u51fd\u6570\u7684\u65b9\u5f0f\u91cd\u5199\uff0c\u5e76\u8c03\u7528\u6267\u884c\n",
      "    * \u7528\u5230\u7684\u77e5\u8bc6\u70b9\n",
      "        * def func(para1,para2,...):\n",
      "        * func(para1,para2,...)\n",
      "10. \u5907\u6ce8\uff1a\n",
      "    * \u6bcf\u4e2a\u63d0\u5230\u63d0\u5230\u7684\u201c\u7528\u5230\u7684\u77e5\u8bc6\u70b9\u201d\u4e3a\u76f8\u5bf9\u4e8e\u524d\u9762\u7684\u9898\u76ee\u65b0\u589e\u7684\u77e5\u8bc6\u70b9\uff0c\u8bf7\u7efc\u5408\u8003\u8651\u3002\u6b64\u5916\uff0c\u5bf9\u4e8e\u4e0d\u540c\u7684\u601d\u8def\u5e76\u4e0d\u662f\u6240\u6709\u63d0\u5230\u7684\u77e5\u8bc6\u70b9\u90fd\u4f1a\u7528\u7740\uff0c\u800c\u4e14\u4e5f\u53ef\u80fd\u4f1a\u7528\u5230\u672a\u63d0\u5230\u7684\u77e5\u8bc6\u70b9\u3002\u4f46\u662f\u6240\u6709\u77e5\u8bc6\u70b9\u90fd\u5728\u524d\u9762\u7684\u8bb2\u4e49\u90e8\u5206\u6709\u4ecb\u7ecd\u3002\n",
      "    * \u6bcf\u4e2a\u7a0b\u5e8f\u5bf9\u4e8e\u4f60\u8eab\u8fb9\u4f1a\u5199\u7684\u4eba\u6765\u8bf4\u90fd\u5f88\u7b80\u5355\uff0c\u56e0\u6b64\u4f60\u4e00\u5b9a\u8981\u514b\u5236\u4f4f\uff0c\u72ec\u7acb\u53bb\u628a\u7b54\u6848\u505a\u51fa\uff0c\u591a\u770b\u9519\u8bef\u63d0\u793a\uff0c\u591a\u6bd4\u5bf9\u7a0b\u5e8f\u8f93\u51fa\u7ed3\u679c\u548c\u9884\u671f\u7ed3\u679c\u7684\u5dee\u5f02\u3002\n",
      "    * \u5b66\u4e60\u953b\u70bc\u201c\u8bfb\u7a0b\u5e8f\u201d\uff0c\u5373\u5bf9\u7740\u6587\u4ef6\u6a21\u62df\u6574\u4e2a\u7684\u8bfb\u5165\u3001\u5904\u7406\u8fc7\u7a0b\u6765\u53d1\u73b0\u53ef\u80fd\u7684\u903b\u8f91\u95ee\u9898\u3002\n",
      "    * \u7a0b\u5e8f\u8fd0\u884c\u6ca1\u6709\u9519\u8bef\u4e0d\u4ee3\u8868\u4f60\u5199\u7684\u7a0b\u5e8f\u5b8c\u6210\u4e86\u4f60\u7684\u9700\u6c42\uff0c\u4f60\u8981\u53bb\u63d2\u773c\u8f93\u51fa\u7ed3\u679c\u662f\u4e0d\u662f\u4f60\u60f3\u8981\u7684\u3002\n",
      "11. \u5173\u4e8e\u7a0b\u5e8f\u8c03\u8bd5\n",
      "    * \u5728\u521d\u5199\u7a0b\u5e8f\u65f6\uff0c\u53ef\u80fd\u4f1a\u51fa\u73b0\u5404\u79cd\u5404\u6837\u7684\u9519\u8bef\uff0c\u5e38\u89c1\u7684\u6709\u7f29\u8fdb\u4e0d\u4e00\u81f4\uff0c\u53d8\u91cf\u540d\u5b57\u62fc\u5199\u9519\u8bef\uff0c\u4e22\u5931\u5192\u53f7\uff0c\u6587\u4ef6\u540d\u672a\u52a0\u5f15\u53f7\u7b49\uff0c\u8fd9\u65f6\u8981\u6839\u636e\u9519\u8bef\u63d0\u793a\u67e5\u770b\u9519\u8bef\u7c7b\u578b\u662f\u4ec0\u4e48\uff0c\u51fa\u9519\u7684\u662f\u54ea\u4e00\u884c\u6765\u5b9a\u4f4d\u9519\u8bef\u3002\u5f53\u7136\uff0c\u6709\u7684\u65f6\u5019\u62a5\u9519\u7684\u884c\u81ea\u8eab\u4e0d\u4e00\u5b9a\u6709\u9519\uff0c\u53ef\u80fd\u662f\u5176\u524d\u9762\u6216\u540e\u9762\u7684\u884c\u51fa\u73b0\u4e86\u9519\u8bef\u3002\n",
      "    * \u5f53\u7ed3\u679c\u4e0d\u7b26\u5408\u9884\u671f\u65f6\uff0c\u8981\u5b66\u4f1a\u4f7f\u7528print\u6765\u67e5\u770b\u6bcf\u6b65\u7684\u64cd\u4f5c\u662f\u5426\u6b63\u786e\uff0c\u6bd4\u5982\u6211\u8bfb\u5165\u4e86\u5b57\u5178\uff0c\u6211\u5c31\u6253\u5370\u4e0b\u5b57\u5178\uff0c\u770b\u770b\u8bfb\u5165\u7684\u662f\u4e0d\u662f\u6211\u60f3\u8981\u7684\uff0c\u662f\u5426\u542b\u6709\u4e0d\u8be5\u5b58\u5728\u7684\u5b57\u7b26\uff1b\u6216\u8005\u5728\u6bcf\u4e2a\u5224\u65ad\u53e5\u3001\u51fd\u6570\u8c03\u5165\u7684\u60c5\u51b5\u4e0b\u6253\u5370\u4e2a\u5b57\u7b26\uff0c\u6765\u8ddf\u8e2a\u7a0b\u5e8f\u7684\u8fd0\u884c\u8f68\u8ff9\u3002"
     ]
    },
    {
     "cell_type": "code",
     "collapsed": false,
     "input": [
      "%%writefile script/cat.py\n",
      "#\u4f5c\u4e1a1\u548c2, cat.py\n",
      "#\u5305\u542b\u4e86\u4e09\u4e2d\u5904\u7406\u6362\u884c\u7b26\u7684\u5199\u6cd5\n",
      "\n",
      "def cat(file):\n",
      "    for line in open(file):\n",
      "        print line,\n",
      "#------END of cat---------\n",
      "cat(\"data/test1.fa\")\n",
      "cat(\"data/test2.fa\")\n",
      "cat(\"data/test1.fq\")"
     ],
     "language": "python",
     "metadata": {},
     "outputs": [
      {
       "output_type": "stream",
       "stream": "stdout",
       "text": [
        "Overwriting script/cat.py\n"
       ]
      }
     ],
     "prompt_number": 33
    },
    {
     "cell_type": "code",
     "collapsed": false,
     "input": [
      "%run script/cat"
     ],
     "language": "python",
     "metadata": {},
     "outputs": [
      {
       "output_type": "stream",
       "stream": "stdout",
       "text": [
        ">NM_001011874 gene=Xkr4 CDS=151-2091\n",
        "gcggcggcgggcgagcgggcgctggagtaggagctggggagcggcgcggccggggaaggaagccagggcg\n",
        ">NM_001195662 gene=Rp1 CDS=55-909\n",
        "AGGTCTCACCCAAAATGAGTGACACACCTTCTACTAGTTTCTCCATGATTCATCTGACTTCTGAAGGTCA\n",
        ">NM_011283 gene=Rp1 CDS=128-6412\n",
        "AATAAATCCAAAGACATTTGTTTACGTGAAACAAGCAGGTTGCATATCCAGTGACGTTTATACAGACCAC\n",
        ">NM_0112835 gene=Rp15 CDS=128-6412\n",
        "AATAAATCCAAAGACATTTGTTTACGTGAAACAAGCAGGTTGCATATCCAGTGACGTTTATACAGACCAC\n",
        ">NM_001011874 gene=Xkr4 CDS=151-2091\n",
        "gcggcggcgggcgagcgggcgctggagtaggagctggggagcggcgcggccggggaaggaagccagggcg\n",
        "aggcgaggaggtggcgggaggaggagacagcagggacaggTGTCAGATAAAGGAGTGCTCTCCTCCGCTG\n",
        "CCGAGGCATCATGGCCGCTAAGTCAGACGGGAGGCTGAAGATGAAGAAGAGCAGCGACGTGGCGTTCACC\n",
        "CCGCTGCAGAACTCGGACAATTCGGGCTCTGTGCAAGGACTGGCTCCAGGCTTGCCGTCGGGGTCCGGAG\n",
        ">NM_001195662 gene=Rp1 CDS=55-909\n",
        "AAGCTCAGCCTTTGCTCAGATTCTCCTCTTGATGAAACAAAGGGATTTCTGCACATGCTTGAGAAATTGC\n",
        "AGGTCTCACCCAAAATGAGTGACACACCTTCTACTAGTTTCTCCATGATTCATCTGACTTCTGAAGGTCA\n",
        "AGTTCCTTCCCCTCGCCATTCAAATATCACTCATCCTGTAGTGGCTAAACGCATCAGTTTCTATAAGAGT\n",
        "GGAGACCCACAGTTTGGCGGCGTTCGGGTGGTGGTCAACCCTCGTTCCTTTAAGACTTTTGACGCTCTGC\n",
        "TGGACAGTTTATCCAGGAAGGTACCCCTGCCCTTTGGGGTAAGGAACATCAGCACGCCCCGTGGACGACA\n",
        "CAGCATCACCAGGCTGGAGGAGCTAGAGGACGGCAAGTCTTATGTGTGCTCCCACAATAAGAAGGTGCTG\n",
        ">NM_011283 gene=Rp1 CDS=128-6412\n",
        "AATAAATCCAAAGACATTTGTTTACGTGAAACAAGCAGGTTGCATATCCAGTGACGTTTATACAGACCAC\n",
        "ACAAACTATTTACTCTTTTCTTCGTAAGGAAAGGTTCAACTTCTGGTCTCACCCAAAATGAGTGACACAC\n",
        "CTTCTACTAGTTTCTCCATGATTCATCTGACTTCTGAAGGTCAAGTTCCTTCCCCTCGCCATTCAAATAT\n",
        "CACTCATCCTGTAGTGGCTAAACGCATCAGTTTCTATAAGAGTGGAGACCCACAGTTTGGCGGCGTTCGG\n",
        "GTGGTGGTCAACCCTCGTTCCTTTAAGACTTTTGACGCTCTGCTGGACAGTTTATCCAGGAAGGTACCCC\n",
        "TGCCCTTTGGGGTAAGGAACATCAGCACGCCCCGTGGACGACACAGCATCACCAGGCTGGAGGAGCTAGA\n",
        "GGACGGCAAGTCTTATGTGTGCTCCCACAATAAGAAGGTGCTGCCAGTTGACCTGGACAAGGCCCGCAGG\n",
        "CGCCCTCGGCCCTGGCTGAGTAGTCGCTCCATAAGCACGCATGTGCAGCTCTGTCCTGCAACTGCCAATA\n",
        "TGTCCACCATGGCACCTGGCATGCTCCGTGCCCCAAGGAGGCTCGTGGTCTTCCGGAATGGTGACCCGAA\n",
        ">NM_0112835 gene=Rp1 CDS=128-6412\n",
        "AATAAATCCAAAGACATTTGTTTACGTGAAACAAGCAGGTTGCATATCCAGTGACGTTTATACAGACCAC\n",
        "ACAAACTATTTACTCTTTTCTTCGTAAGGAAAGGTTCAACTTCTGGTCTCACCCAAAATGAGTGACACAC\n",
        "CTTCTACTAGTTTCTCCATGATTCATCTGACTTCTGAAGGTCAAGTTCCTTCCCCTCGCCATTCAAATAT\n",
        "CACTCATCCTGTAGTGGCTAAACGCATCAGTTTCTATAAGAGTGGAGACCCACAGTTTGGCGGCGTTCGG\n",
        "GTGGTGGTCAACCCTCGTTCCTTTAAGACTTTTGACGCTCTGCTGGACAGTTTATCCAGGAAGGTACCCC\n",
        "TGCCCTTTGGGGTAAGGAACATCAGCACGCCCCGTGGACGACACAGCATCACCAGGCTGGAGGAGCTAGA\n",
        "GGACGGCAAGTCTTATGTGTGCTCCCACAATAAGAAGGTGCTGCCAGTTGACCTGGACAAGGCCCGCAGG\n",
        "CGCCCTCGGCCCTGGCTGAGTAGTCGCTCCATAAGCACGCATGTGCAGCTCTGTCCTGCAACTGCCAATA\n",
        "TGTCCACCATGGCACCTGGCATGCTCCGTGCCCCAAGGAGGCTCGTGGTCTTCCGGAATGGTGACCCGAA\n",
        "@HWI-ST1223:80:D1FMTACXX:2:1101:1243:2213 1:N:0:AGTCAA\n",
        "TCTGTGTAGCCNTGGCTGTCCTGGAACTCACTTTGTAGACCAGGCTGGCATGCACCACCACNNNCGGCTCATTTGTCTTTNNTTTTTGTTTTGTTCTGTA\n",
        "+\n",
        "BCCFFFFFFHH#4AFHIJJJJJJJJJJJJJJJJJIJIJJJJJGHIJJJJJJJJJJJJJIIJ###--5ABECFFDDEEEEE##,5=@B8?CDD<AD>C:@>\n",
        "@HWI-ST1223:80:D1FMTACXX:2:1101:1375:2060 1:N:0:AGTCAA\n",
        "NTGCTGAGCCACGACAAGGATCCCAGAGGGCCNAGCCCTGCATCTTGTATGGACCAGTTACNCATCAAAAGAGACTACTGTAGGCACCATCAATCAGATC\n",
        "+\n",
        "#1:DDDD;?CFFHDFEEIGIIIIIIG;DHFGG#)0?BFBDHBFF<FCFEFD;@DD@A=7?E#,,,;=(>3;=;;C>ACCC@CCCCCBBBCCAACCCCCCC\n",
        "@HWI-ST1223:80:D1FMTACXX:2:1101:1383:2091 1:N:0:AGTCAA\n",
        "NGTTCGTGTGGAACCTGGCGCTAAACCATTCGTAGACGACCTGCTTCTGGGTCGGGGTTTCGTACGTAGCAGAGCAGCTCCCTCGCTGCGATCTATTGAA\n",
        "+\n",
        "#1=DDFDFHHHHHJGJJJJJJJJJJJJJJJIJIGDHIHIGIJJJJJJJIIIGHHFDD3>BDDBDDDDDDDDDDBDCCBDDDDDDDDDDDBBDDDDEEACD\n",
        "@HWI-ST1223:80:D1FMTACXX:2:1101:1452:2138 1:N:0:AGTCAA\n",
        "NTCTAGGAGGTCTAGAAAGCCCAGGCCACCGGTACAAACATCAAGGGTGTTACGGATGTGCCGCTCTGAACCTCCAGGACGACTTTGATTTCAACTACAA\n",
        "+\n",
        "#4=DFFEFHHHHHJJJJJIJJJJHIIJGJJJJ@GIIJJJJJJIJJJJFGHIIIJJHHHDFFFFDDDDDDDDDDDDCDDDDDDDDDDDCCCEDEDDDDDDD\n"
       ]
      }
     ],
     "prompt_number": 34
    },
    {
     "cell_type": "code",
     "collapsed": false,
     "input": [
      "%%writefile script/splitName.py\n",
      "#\u4f5c\u4e1a3\n",
      "filename = \"data/test2.fa\"\n",
      "def splitName(filename):\n",
      "    for line in open(filename):\n",
      "        if line[0] == '>':\n",
      "            lineL = line.split(' ')\n",
      "            print lineL[0]\n",
      "        else:\n",
      "            print line,\n",
      "#------END splitName---------------\n",
      "splitName(filename)"
     ],
     "language": "python",
     "metadata": {},
     "outputs": [
      {
       "output_type": "stream",
       "stream": "stdout",
       "text": [
        "Overwriting script/splitName.py\n"
       ]
      }
     ],
     "prompt_number": 35
    },
    {
     "cell_type": "code",
     "collapsed": false,
     "input": [
      "%run script/splitName"
     ],
     "language": "python",
     "metadata": {},
     "outputs": [
      {
       "output_type": "stream",
       "stream": "stdout",
       "text": [
        ">NM_001011874\n",
        "gcggcggcgggcgagcgggcgctggagtaggagctggggagcggcgcggccggggaaggaagccagggcg\n",
        "aggcgaggaggtggcgggaggaggagacagcagggacaggTGTCAGATAAAGGAGTGCTCTCCTCCGCTG\n",
        "CCGAGGCATCATGGCCGCTAAGTCAGACGGGAGGCTGAAGATGAAGAAGAGCAGCGACGTGGCGTTCACC\n",
        "CCGCTGCAGAACTCGGACAATTCGGGCTCTGTGCAAGGACTGGCTCCAGGCTTGCCGTCGGGGTCCGGAG\n",
        ">NM_001195662\n",
        "AAGCTCAGCCTTTGCTCAGATTCTCCTCTTGATGAAACAAAGGGATTTCTGCACATGCTTGAGAAATTGC\n",
        "AGGTCTCACCCAAAATGAGTGACACACCTTCTACTAGTTTCTCCATGATTCATCTGACTTCTGAAGGTCA\n",
        "AGTTCCTTCCCCTCGCCATTCAAATATCACTCATCCTGTAGTGGCTAAACGCATCAGTTTCTATAAGAGT\n",
        "GGAGACCCACAGTTTGGCGGCGTTCGGGTGGTGGTCAACCCTCGTTCCTTTAAGACTTTTGACGCTCTGC\n",
        "TGGACAGTTTATCCAGGAAGGTACCCCTGCCCTTTGGGGTAAGGAACATCAGCACGCCCCGTGGACGACA\n",
        "CAGCATCACCAGGCTGGAGGAGCTAGAGGACGGCAAGTCTTATGTGTGCTCCCACAATAAGAAGGTGCTG\n",
        ">NM_011283\n",
        "AATAAATCCAAAGACATTTGTTTACGTGAAACAAGCAGGTTGCATATCCAGTGACGTTTATACAGACCAC\n",
        "ACAAACTATTTACTCTTTTCTTCGTAAGGAAAGGTTCAACTTCTGGTCTCACCCAAAATGAGTGACACAC\n",
        "CTTCTACTAGTTTCTCCATGATTCATCTGACTTCTGAAGGTCAAGTTCCTTCCCCTCGCCATTCAAATAT\n",
        "CACTCATCCTGTAGTGGCTAAACGCATCAGTTTCTATAAGAGTGGAGACCCACAGTTTGGCGGCGTTCGG\n",
        "GTGGTGGTCAACCCTCGTTCCTTTAAGACTTTTGACGCTCTGCTGGACAGTTTATCCAGGAAGGTACCCC\n",
        "TGCCCTTTGGGGTAAGGAACATCAGCACGCCCCGTGGACGACACAGCATCACCAGGCTGGAGGAGCTAGA\n",
        "GGACGGCAAGTCTTATGTGTGCTCCCACAATAAGAAGGTGCTGCCAGTTGACCTGGACAAGGCCCGCAGG\n",
        "CGCCCTCGGCCCTGGCTGAGTAGTCGCTCCATAAGCACGCATGTGCAGCTCTGTCCTGCAACTGCCAATA\n",
        "TGTCCACCATGGCACCTGGCATGCTCCGTGCCCCAAGGAGGCTCGTGGTCTTCCGGAATGGTGACCCGAA\n",
        ">NM_0112835\n",
        "AATAAATCCAAAGACATTTGTTTACGTGAAACAAGCAGGTTGCATATCCAGTGACGTTTATACAGACCAC\n",
        "ACAAACTATTTACTCTTTTCTTCGTAAGGAAAGGTTCAACTTCTGGTCTCACCCAAAATGAGTGACACAC\n",
        "CTTCTACTAGTTTCTCCATGATTCATCTGACTTCTGAAGGTCAAGTTCCTTCCCCTCGCCATTCAAATAT\n",
        "CACTCATCCTGTAGTGGCTAAACGCATCAGTTTCTATAAGAGTGGAGACCCACAGTTTGGCGGCGTTCGG\n",
        "GTGGTGGTCAACCCTCGTTCCTTTAAGACTTTTGACGCTCTGCTGGACAGTTTATCCAGGAAGGTACCCC\n",
        "TGCCCTTTGGGGTAAGGAACATCAGCACGCCCCGTGGACGACACAGCATCACCAGGCTGGAGGAGCTAGA\n",
        "GGACGGCAAGTCTTATGTGTGCTCCCACAATAAGAAGGTGCTGCCAGTTGACCTGGACAAGGCCCGCAGG\n",
        "CGCCCTCGGCCCTGGCTGAGTAGTCGCTCCATAAGCACGCATGTGCAGCTCTGTCCTGCAACTGCCAATA\n",
        "TGTCCACCATGGCACCTGGCATGCTCCGTGCCCCAAGGAGGCTCGTGGTCTTCCGGAATGGTGACCCGAA\n"
       ]
      }
     ],
     "prompt_number": 36
    },
    {
     "cell_type": "code",
     "collapsed": false,
     "input": [
      "%%writefile script/formatFasta.py\n",
      "#\u4f5c\u4e1a4\n",
      "filename = \"data/test2.fa\"\n",
      "\n",
      "def formatFasta(filename):\n",
      "    aList = []\n",
      "    for line in open(filename):\n",
      "        if line[0] == '>':\n",
      "            lineL = line.split(' ')\n",
      "            if aList:\n",
      "                print ''.join(aList)\n",
      "                aList = []\n",
      "            name = lineL[0]\n",
      "            print name\n",
      "        else:\n",
      "            aList.append(line.strip())\n",
      "#\u4e0d\u8981\u5fd8\u4e86\u6700\u540e\u4e00\u4e2a\u5e8f\u5217\n",
      "    print ''.join(aList)\n",
      "#-----End formatFasta----------------\n",
      "formatFasta(filename)"
     ],
     "language": "python",
     "metadata": {},
     "outputs": [
      {
       "output_type": "stream",
       "stream": "stdout",
       "text": [
        "Overwriting script/formatFasta.py\n"
       ]
      }
     ],
     "prompt_number": 37
    },
    {
     "cell_type": "code",
     "collapsed": false,
     "input": [
      "%run script/formatFasta"
     ],
     "language": "python",
     "metadata": {},
     "outputs": [
      {
       "output_type": "stream",
       "stream": "stdout",
       "text": [
        ">NM_001011874\n",
        "gcggcggcgggcgagcgggcgctggagtaggagctggggagcggcgcggccggggaaggaagccagggcgaggcgaggaggtggcgggaggaggagacagcagggacaggTGTCAGATAAAGGAGTGCTCTCCTCCGCTGCCGAGGCATCATGGCCGCTAAGTCAGACGGGAGGCTGAAGATGAAGAAGAGCAGCGACGTGGCGTTCACCCCGCTGCAGAACTCGGACAATTCGGGCTCTGTGCAAGGACTGGCTCCAGGCTTGCCGTCGGGGTCCGGAG\n",
        ">NM_001195662\n",
        "AAGCTCAGCCTTTGCTCAGATTCTCCTCTTGATGAAACAAAGGGATTTCTGCACATGCTTGAGAAATTGCAGGTCTCACCCAAAATGAGTGACACACCTTCTACTAGTTTCTCCATGATTCATCTGACTTCTGAAGGTCAAGTTCCTTCCCCTCGCCATTCAAATATCACTCATCCTGTAGTGGCTAAACGCATCAGTTTCTATAAGAGTGGAGACCCACAGTTTGGCGGCGTTCGGGTGGTGGTCAACCCTCGTTCCTTTAAGACTTTTGACGCTCTGCTGGACAGTTTATCCAGGAAGGTACCCCTGCCCTTTGGGGTAAGGAACATCAGCACGCCCCGTGGACGACACAGCATCACCAGGCTGGAGGAGCTAGAGGACGGCAAGTCTTATGTGTGCTCCCACAATAAGAAGGTGCTG\n",
        ">NM_011283\n",
        "AATAAATCCAAAGACATTTGTTTACGTGAAACAAGCAGGTTGCATATCCAGTGACGTTTATACAGACCACACAAACTATTTACTCTTTTCTTCGTAAGGAAAGGTTCAACTTCTGGTCTCACCCAAAATGAGTGACACACCTTCTACTAGTTTCTCCATGATTCATCTGACTTCTGAAGGTCAAGTTCCTTCCCCTCGCCATTCAAATATCACTCATCCTGTAGTGGCTAAACGCATCAGTTTCTATAAGAGTGGAGACCCACAGTTTGGCGGCGTTCGGGTGGTGGTCAACCCTCGTTCCTTTAAGACTTTTGACGCTCTGCTGGACAGTTTATCCAGGAAGGTACCCCTGCCCTTTGGGGTAAGGAACATCAGCACGCCCCGTGGACGACACAGCATCACCAGGCTGGAGGAGCTAGAGGACGGCAAGTCTTATGTGTGCTCCCACAATAAGAAGGTGCTGCCAGTTGACCTGGACAAGGCCCGCAGGCGCCCTCGGCCCTGGCTGAGTAGTCGCTCCATAAGCACGCATGTGCAGCTCTGTCCTGCAACTGCCAATATGTCCACCATGGCACCTGGCATGCTCCGTGCCCCAAGGAGGCTCGTGGTCTTCCGGAATGGTGACCCGAA\n",
        ">NM_0112835\n",
        "AATAAATCCAAAGACATTTGTTTACGTGAAACAAGCAGGTTGCATATCCAGTGACGTTTATACAGACCACACAAACTATTTACTCTTTTCTTCGTAAGGAAAGGTTCAACTTCTGGTCTCACCCAAAATGAGTGACACACCTTCTACTAGTTTCTCCATGATTCATCTGACTTCTGAAGGTCAAGTTCCTTCCCCTCGCCATTCAAATATCACTCATCCTGTAGTGGCTAAACGCATCAGTTTCTATAAGAGTGGAGACCCACAGTTTGGCGGCGTTCGGGTGGTGGTCAACCCTCGTTCCTTTAAGACTTTTGACGCTCTGCTGGACAGTTTATCCAGGAAGGTACCCCTGCCCTTTGGGGTAAGGAACATCAGCACGCCCCGTGGACGACACAGCATCACCAGGCTGGAGGAGCTAGAGGACGGCAAGTCTTATGTGTGCTCCCACAATAAGAAGGTGCTGCCAGTTGACCTGGACAAGGCCCGCAGGCGCCCTCGGCCCTGGCTGAGTAGTCGCTCCATAAGCACGCATGTGCAGCTCTGTCCTGCAACTGCCAATATGTCCACCATGGCACCTGGCATGCTCCGTGCCCCAAGGAGGCTCGTGGTCTTCCGGAATGGTGACCCGAA\n"
       ]
      }
     ],
     "prompt_number": 38
    },
    {
     "cell_type": "code",
     "collapsed": false,
     "input": [
      "%%writefile script/formatFasta-2.py\n",
      "#\u4f5c\u4e1a5 \n",
      "filename = \"data/test2.fa\"\n",
      "length = 80\n",
      "def formatSeq(aList):\n",
      "    seq = ''.join(aList)\n",
      "    len_seq = len(seq)\n",
      "    for i in range(0,len_seq,length):\n",
      "        print seq[i:i+length] \n",
      "#----END formatSeq-------------------\n",
      "\n",
      "def formatFasta(filename,length):\n",
      "    aList = []\n",
      "    for line in open(filename):\n",
      "        if line[0] == '>':\n",
      "            lineL = line.split(' ')\n",
      "            if aList:\n",
      "                formatSeq(aList)\n",
      "                aList = []\n",
      "            name = lineL[0]\n",
      "            print name\n",
      "        else:\n",
      "            aList.append(line.strip())\n",
      "    #\u4e0d\u8981\u5fd8\u4e86\u6700\u540e\u4e00\u4e2a\u5e8f\u5217\n",
      "    formatSeq(aList)\n",
      "#------------END of formatFasta------------\n",
      "formatFasta(filename,length)"
     ],
     "language": "python",
     "metadata": {},
     "outputs": [
      {
       "output_type": "stream",
       "stream": "stdout",
       "text": [
        "Overwriting script/formatFasta-2.py\n"
       ]
      }
     ],
     "prompt_number": 39
    },
    {
     "cell_type": "code",
     "collapsed": false,
     "input": [
      "%run script/formatFasta-2"
     ],
     "language": "python",
     "metadata": {},
     "outputs": [
      {
       "output_type": "stream",
       "stream": "stdout",
       "text": [
        ">NM_001011874\n",
        "gcggcggcgggcgagcgggcgctggagtaggagctggggagcggcgcggccggggaaggaagccagggcgaggcgaggag\n",
        "gtggcgggaggaggagacagcagggacaggTGTCAGATAAAGGAGTGCTCTCCTCCGCTGCCGAGGCATCATGGCCGCTA\n",
        "AGTCAGACGGGAGGCTGAAGATGAAGAAGAGCAGCGACGTGGCGTTCACCCCGCTGCAGAACTCGGACAATTCGGGCTCT\n",
        "GTGCAAGGACTGGCTCCAGGCTTGCCGTCGGGGTCCGGAG\n",
        ">NM_001195662\n",
        "AAGCTCAGCCTTTGCTCAGATTCTCCTCTTGATGAAACAAAGGGATTTCTGCACATGCTTGAGAAATTGCAGGTCTCACC\n",
        "CAAAATGAGTGACACACCTTCTACTAGTTTCTCCATGATTCATCTGACTTCTGAAGGTCAAGTTCCTTCCCCTCGCCATT\n",
        "CAAATATCACTCATCCTGTAGTGGCTAAACGCATCAGTTTCTATAAGAGTGGAGACCCACAGTTTGGCGGCGTTCGGGTG\n",
        "GTGGTCAACCCTCGTTCCTTTAAGACTTTTGACGCTCTGCTGGACAGTTTATCCAGGAAGGTACCCCTGCCCTTTGGGGT\n",
        "AAGGAACATCAGCACGCCCCGTGGACGACACAGCATCACCAGGCTGGAGGAGCTAGAGGACGGCAAGTCTTATGTGTGCT\n",
        "CCCACAATAAGAAGGTGCTG\n",
        ">NM_011283\n",
        "AATAAATCCAAAGACATTTGTTTACGTGAAACAAGCAGGTTGCATATCCAGTGACGTTTATACAGACCACACAAACTATT\n",
        "TACTCTTTTCTTCGTAAGGAAAGGTTCAACTTCTGGTCTCACCCAAAATGAGTGACACACCTTCTACTAGTTTCTCCATG\n",
        "ATTCATCTGACTTCTGAAGGTCAAGTTCCTTCCCCTCGCCATTCAAATATCACTCATCCTGTAGTGGCTAAACGCATCAG\n",
        "TTTCTATAAGAGTGGAGACCCACAGTTTGGCGGCGTTCGGGTGGTGGTCAACCCTCGTTCCTTTAAGACTTTTGACGCTC\n",
        "TGCTGGACAGTTTATCCAGGAAGGTACCCCTGCCCTTTGGGGTAAGGAACATCAGCACGCCCCGTGGACGACACAGCATC\n",
        "ACCAGGCTGGAGGAGCTAGAGGACGGCAAGTCTTATGTGTGCTCCCACAATAAGAAGGTGCTGCCAGTTGACCTGGACAA\n",
        "GGCCCGCAGGCGCCCTCGGCCCTGGCTGAGTAGTCGCTCCATAAGCACGCATGTGCAGCTCTGTCCTGCAACTGCCAATA\n",
        "TGTCCACCATGGCACCTGGCATGCTCCGTGCCCCAAGGAGGCTCGTGGTCTTCCGGAATGGTGACCCGAA\n",
        ">NM_0112835\n",
        "AATAAATCCAAAGACATTTGTTTACGTGAAACAAGCAGGTTGCATATCCAGTGACGTTTATACAGACCACACAAACTATT\n",
        "TACTCTTTTCTTCGTAAGGAAAGGTTCAACTTCTGGTCTCACCCAAAATGAGTGACACACCTTCTACTAGTTTCTCCATG\n",
        "ATTCATCTGACTTCTGAAGGTCAAGTTCCTTCCCCTCGCCATTCAAATATCACTCATCCTGTAGTGGCTAAACGCATCAG\n",
        "TTTCTATAAGAGTGGAGACCCACAGTTTGGCGGCGTTCGGGTGGTGGTCAACCCTCGTTCCTTTAAGACTTTTGACGCTC\n",
        "TGCTGGACAGTTTATCCAGGAAGGTACCCCTGCCCTTTGGGGTAAGGAACATCAGCACGCCCCGTGGACGACACAGCATC\n",
        "ACCAGGCTGGAGGAGCTAGAGGACGGCAAGTCTTATGTGTGCTCCCACAATAAGAAGGTGCTGCCAGTTGACCTGGACAA\n",
        "GGCCCGCAGGCGCCCTCGGCCCTGGCTGAGTAGTCGCTCCATAAGCACGCATGTGCAGCTCTGTCCTGCAACTGCCAATA\n",
        "TGTCCACCATGGCACCTGGCATGCTCCGTGCCCCAAGGAGGCTCGTGGTCTTCCGGAATGGTGACCCGAA\n"
       ]
      }
     ],
     "prompt_number": 40
    },
    {
     "cell_type": "code",
     "collapsed": false,
     "input": [
      "%%writefile script/sortFasta.py\n",
      "#\u4f5c\u4e1a6\n",
      "\n",
      "\n",
      "filename = \"data/test2.fa\"\n",
      "\n",
      "def readFasta(filename):\n",
      "    aDict = {}\n",
      "    for line in open(filename):\n",
      "        if line[0] == '>':\n",
      "            key = line.split()[0]\n",
      "            aDict[key] = [] #\u5b57\u5178\u7684\u503c\u662f\u4e00\u4e2a\u5217\u8868, = \u5de6\u8fb9\u7684\u5b57\u7b26\u4e32\u53ef\u4ee5\u8ba4\u4e3a\u662f\u53f3\u8fb9\u5217\u8868\u7684\u540d\u5b57\n",
      "        else:\n",
      "            aDict[key].append(line.strip()) \n",
      "    return aDict\n",
      "#-----END readFasta-------------------\n",
      "def sortFasta(aDict):\n",
      "    keyL = aDict.keys()\n",
      "    keyL.sort()\n",
      "    \n",
      "    for key in keyL:\n",
      "        print \"%s\\n%s\" % (key, ''.join(aDict[key]))\n",
      "#--------END sortFasta--------------------\n",
      "aDict = readFasta(filename)\n",
      "sortFasta(aDict)"
     ],
     "language": "python",
     "metadata": {},
     "outputs": [
      {
       "output_type": "stream",
       "stream": "stdout",
       "text": [
        "Overwriting sortFasta.py\n"
       ]
      }
     ],
     "prompt_number": 41
    },
    {
     "cell_type": "code",
     "collapsed": false,
     "input": [
      "%run script/sortFasta"
     ],
     "language": "python",
     "metadata": {},
     "outputs": [
      {
       "output_type": "stream",
       "stream": "stdout",
       "text": [
        ">NM_001011874\n",
        "gcggcggcgggcgagcgggcgctggagtaggagctggggagcggcgcggccggggaaggaagccagggcgaggcgaggaggtggcgggaggaggagacagcagggacaggTGTCAGATAAAGGAGTGCTCTCCTCCGCTGCCGAGGCATCATGGCCGCTAAGTCAGACGGGAGGCTGAAGATGAAGAAGAGCAGCGACGTGGCGTTCACCCCGCTGCAGAACTCGGACAATTCGGGCTCTGTGCAAGGACTGGCTCCAGGCTTGCCGTCGGGGTCCGGAG\n",
        ">NM_001195662\n",
        "AAGCTCAGCCTTTGCTCAGATTCTCCTCTTGATGAAACAAAGGGATTTCTGCACATGCTTGAGAAATTGCAGGTCTCACCCAAAATGAGTGACACACCTTCTACTAGTTTCTCCATGATTCATCTGACTTCTGAAGGTCAAGTTCCTTCCCCTCGCCATTCAAATATCACTCATCCTGTAGTGGCTAAACGCATCAGTTTCTATAAGAGTGGAGACCCACAGTTTGGCGGCGTTCGGGTGGTGGTCAACCCTCGTTCCTTTAAGACTTTTGACGCTCTGCTGGACAGTTTATCCAGGAAGGTACCCCTGCCCTTTGGGGTAAGGAACATCAGCACGCCCCGTGGACGACACAGCATCACCAGGCTGGAGGAGCTAGAGGACGGCAAGTCTTATGTGTGCTCCCACAATAAGAAGGTGCTG\n",
        ">NM_011283\n",
        "AATAAATCCAAAGACATTTGTTTACGTGAAACAAGCAGGTTGCATATCCAGTGACGTTTATACAGACCACACAAACTATTTACTCTTTTCTTCGTAAGGAAAGGTTCAACTTCTGGTCTCACCCAAAATGAGTGACACACCTTCTACTAGTTTCTCCATGATTCATCTGACTTCTGAAGGTCAAGTTCCTTCCCCTCGCCATTCAAATATCACTCATCCTGTAGTGGCTAAACGCATCAGTTTCTATAAGAGTGGAGACCCACAGTTTGGCGGCGTTCGGGTGGTGGTCAACCCTCGTTCCTTTAAGACTTTTGACGCTCTGCTGGACAGTTTATCCAGGAAGGTACCCCTGCCCTTTGGGGTAAGGAACATCAGCACGCCCCGTGGACGACACAGCATCACCAGGCTGGAGGAGCTAGAGGACGGCAAGTCTTATGTGTGCTCCCACAATAAGAAGGTGCTGCCAGTTGACCTGGACAAGGCCCGCAGGCGCCCTCGGCCCTGGCTGAGTAGTCGCTCCATAAGCACGCATGTGCAGCTCTGTCCTGCAACTGCCAATATGTCCACCATGGCACCTGGCATGCTCCGTGCCCCAAGGAGGCTCGTGGTCTTCCGGAATGGTGACCCGAA\n",
        ">NM_0112835\n",
        "AATAAATCCAAAGACATTTGTTTACGTGAAACAAGCAGGTTGCATATCCAGTGACGTTTATACAGACCACACAAACTATTTACTCTTTTCTTCGTAAGGAAAGGTTCAACTTCTGGTCTCACCCAAAATGAGTGACACACCTTCTACTAGTTTCTCCATGATTCATCTGACTTCTGAAGGTCAAGTTCCTTCCCCTCGCCATTCAAATATCACTCATCCTGTAGTGGCTAAACGCATCAGTTTCTATAAGAGTGGAGACCCACAGTTTGGCGGCGTTCGGGTGGTGGTCAACCCTCGTTCCTTTAAGACTTTTGACGCTCTGCTGGACAGTTTATCCAGGAAGGTACCCCTGCCCTTTGGGGTAAGGAACATCAGCACGCCCCGTGGACGACACAGCATCACCAGGCTGGAGGAGCTAGAGGACGGCAAGTCTTATGTGTGCTCCCACAATAAGAAGGTGCTGCCAGTTGACCTGGACAAGGCCCGCAGGCGCCCTCGGCCCTGGCTGAGTAGTCGCTCCATAAGCACGCATGTGCAGCTCTGTCCTGCAACTGCCAATATGTCCACCATGGCACCTGGCATGCTCCGTGCCCCAAGGAGGCTCGTGGTCTTCCGGAATGGTGACCCGAA\n"
       ]
      }
     ],
     "prompt_number": 42
    },
    {
     "cell_type": "code",
     "collapsed": false,
     "input": [
      "%%writefile script/grepFasta.py\n",
      "#\u4f5c\u4e1a7.1\n",
      "\n",
      "\n",
      "seqFile = \"data/test2.fa\"\n",
      "nameFile = \"data/fasta.name\"\n",
      "\n",
      "def readFasta(filename):\n",
      "    aDict = {}\n",
      "    for line in open(filename):\n",
      "        if line[0] == '>':\n",
      "            key = line.split()[0][1:] #\u6ce8\u610f\u53bb\u6389\u5f00\u5934\u7684'>'\uff0c\u53ea\u53d6\u5e8f\u5217\u7684\u540d\u5b57\n",
      "            aDict[key] = []  #\u5b57\u5178\u7684\u503c\u662f\u4e00\u4e2a\u5217\u8868\n",
      "        else:\n",
      "            aDict[key].append(line.strip())\n",
      "    return aDict\n",
      "#--------END readFasta--------------------\n",
      "aDict = readFasta(seqFile)\n",
      "for line in open(nameFile):\n",
      "    name = line.strip()\n",
      "    print \">%s\\n%s\" % (name, ''.join(aDict[name]))"
     ],
     "language": "python",
     "metadata": {},
     "outputs": [
      {
       "output_type": "stream",
       "stream": "stdout",
       "text": [
        "Overwriting grepFasta.py\n"
       ]
      }
     ],
     "prompt_number": 43
    },
    {
     "cell_type": "code",
     "collapsed": false,
     "input": [
      "%run script/grepFasta.py"
     ],
     "language": "python",
     "metadata": {},
     "outputs": [
      {
       "output_type": "stream",
       "stream": "stdout",
       "text": [
        ">NM_001011874\n",
        "gcggcggcgggcgagcgggcgctggagtaggagctggggagcggcgcggccggggaaggaagccagggcgaggcgaggaggtggcgggaggaggagacagcagggacaggTGTCAGATAAAGGAGTGCTCTCCTCCGCTGCCGAGGCATCATGGCCGCTAAGTCAGACGGGAGGCTGAAGATGAAGAAGAGCAGCGACGTGGCGTTCACCCCGCTGCAGAACTCGGACAATTCGGGCTCTGTGCAAGGACTGGCTCCAGGCTTGCCGTCGGGGTCCGGAG\n",
        ">NM_011283\n",
        "AATAAATCCAAAGACATTTGTTTACGTGAAACAAGCAGGTTGCATATCCAGTGACGTTTATACAGACCACACAAACTATTTACTCTTTTCTTCGTAAGGAAAGGTTCAACTTCTGGTCTCACCCAAAATGAGTGACACACCTTCTACTAGTTTCTCCATGATTCATCTGACTTCTGAAGGTCAAGTTCCTTCCCCTCGCCATTCAAATATCACTCATCCTGTAGTGGCTAAACGCATCAGTTTCTATAAGAGTGGAGACCCACAGTTTGGCGGCGTTCGGGTGGTGGTCAACCCTCGTTCCTTTAAGACTTTTGACGCTCTGCTGGACAGTTTATCCAGGAAGGTACCCCTGCCCTTTGGGGTAAGGAACATCAGCACGCCCCGTGGACGACACAGCATCACCAGGCTGGAGGAGCTAGAGGACGGCAAGTCTTATGTGTGCTCCCACAATAAGAAGGTGCTGCCAGTTGACCTGGACAAGGCCCGCAGGCGCCCTCGGCCCTGGCTGAGTAGTCGCTCCATAAGCACGCATGTGCAGCTCTGTCCTGCAACTGCCAATATGTCCACCATGGCACCTGGCATGCTCCGTGCCCCAAGGAGGCTCGTGGTCTTCCGGAATGGTGACCCGAA\n"
       ]
      }
     ],
     "prompt_number": 44
    },
    {
     "cell_type": "code",
     "collapsed": true,
     "input": [
      "%%writefile script/grepFastq.py\n",
      "#\u4f5c\u4e1a7.2\n",
      "seqFile = \"data/test1.fq\"\n",
      "nameFile = \"data/fastq.name\"\n",
      "\n",
      "def readFastq(seqFile):\n",
      "    aDict = {}\n",
      "    count = 0\n",
      "    for line in open(seqFile):\n",
      "        count += 1\n",
      "        if count % 4 == 1:\n",
      "            name = line.strip()[1:] #\u53bb\u6389\u5f00\u5934\u7684@\n",
      "            aDict[name] = [line] #\u5b58\u50a8\u540d\u5b57\u884c\n",
      "        else:\n",
      "            aDict[name].append(line)\n",
      "    #----END reading--------------\n",
      "    return aDict\n",
      "#-------END readFastq----------\u8fd9\u884c\u53ea\u662f\u6ce8\u91ca\uff0c\u53ef\u6709\u53ef\u65e0------\n",
      "aDict = readFastq(seqFile)\n",
      "\n",
      "for line in open(nameFile):\n",
      "    name = line.strip()\n",
      "    print ''.join(aDict[name]),"
     ],
     "language": "python",
     "metadata": {},
     "outputs": [
      {
       "output_type": "stream",
       "stream": "stdout",
       "text": [
        "Overwriting grepFastq.py\n"
       ]
      }
     ],
     "prompt_number": 45
    },
    {
     "cell_type": "code",
     "collapsed": false,
     "input": [
      "%run script/grepFastq"
     ],
     "language": "python",
     "metadata": {},
     "outputs": [
      {
       "output_type": "stream",
       "stream": "stdout",
       "text": [
        "@HWI-ST1223:80:D1FMTACXX:2:1101:1243:2213 1:N:0:AGTCAA\n",
        "TCTGTGTAGCCNTGGCTGTCCTGGAACTCACTTTGTAGACCAGGCTGGCATGCACCACCACNNNCGGCTCATTTGTCTTTNNTTTTTGTTTTGTTCTGTA\n",
        "+\n",
        "BCCFFFFFFHH#4AFHIJJJJJJJJJJJJJJJJJIJIJJJJJGHIJJJJJJJJJJJJJIIJ###--5ABECFFDDEEEEE##,5=@B8?CDD<AD>C:@>\n",
        "@HWI-ST1223:80:D1FMTACXX:2:1101:1375:2060 1:N:0:AGTCAA\n",
        "NTGCTGAGCCACGACAAGGATCCCAGAGGGCCNAGCCCTGCATCTTGTATGGACCAGTTACNCATCAAAAGAGACTACTGTAGGCACCATCAATCAGATC\n",
        "+\n",
        "#1:DDDD;?CFFHDFEEIGIIIIIIG;DHFGG#)0?BFBDHBFF<FCFEFD;@DD@A=7?E#,,,;=(>3;=;;C>ACCC@CCCCCBBBCCAACCCCCCC\n",
        "@HWI-ST1223:80:D1FMTACXX:2:1101:1383:2091 1:N:0:AGTCAA\n",
        "NGTTCGTGTGGAACCTGGCGCTAAACCATTCGTAGACGACCTGCTTCTGGGTCGGGGTTTCGTACGTAGCAGAGCAGCTCCCTCGCTGCGATCTATTGAA\n",
        "+\n",
        "#1=DDFDFHHHHHJGJJJJJJJJJJJJJJJIJIGDHIHIGIJJJJJJJIIIGHHFDD3>BDDBDDDDDDDDDDBDCCBDDDDDDDDDDDBBDDDDEEACD\n",
        "@HWI-ST1223:80:D1FMTACXX:2:1101:1452:2138 1:N:0:AGTCAA\n",
        "NTCTAGGAGGTCTAGAAAGCCCAGGCCACCGGTACAAACATCAAGGGTGTTACGGATGTGCCGCTCTGAACCTCCAGGACGACTTTGATTTCAACTACAA\n",
        "+\n",
        "#4=DFFEFHHHHHJJJJJIJJJJHIIJGJJJJ@GIIJJJJJJIJJJJFGHIIIJJHHHDFFFFDDDDDDDDDDDDCDDDDDDDDDDDCCCEDEDDDDDDD\n"
       ]
      }
     ],
     "prompt_number": 46
    },
    {
     "cell_type": "code",
     "collapsed": false,
     "input": [
      "%%writefile script/screenResult.py\n",
      "#\u4f5c\u4e1a8\n",
      "filename = \"data/test.expr\"\n",
      "\n",
      "def screenResult(filename, fc_value, adjP_value):\n",
      "    head = 1 #This is used to indicate there is one head line needing to skip\n",
      "    for line in open(filename):\n",
      "        if head:\n",
      "            head -= 1\n",
      "            continue\n",
      "        #-----Begin data lines------\n",
      "        lineL = line.split()\n",
      "    \n",
      "        foldChange = float(lineL[9])\n",
      "        adjP = float(lineL[12])\n",
      "        if foldChange > fc_value and adjP < adjP_value:\n",
      "            print lineL[0]\n",
      "#-------END screenResult-------------------\n",
      "screenResult(filename, 2, 0.05)"
     ],
     "language": "python",
     "metadata": {},
     "outputs": [
      {
       "output_type": "stream",
       "stream": "stdout",
       "text": [
        "Overwriting screenResult.py\n"
       ]
      }
     ],
     "prompt_number": 47
    },
    {
     "cell_type": "code",
     "collapsed": false,
     "input": [
      "%run script/screenResult"
     ],
     "language": "python",
     "metadata": {},
     "outputs": [
      {
       "output_type": "stream",
       "stream": "stdout",
       "text": [
        "Novel00011\n",
        "Novel00043\n",
        "Novel00047\n",
        "Novel00077\n",
        "Novel00079\n",
        "Novel00080\n",
        "Novel00084\n",
        "Novel00085\n",
        "Novel00086\n",
        "Novel00087\n",
        "Novel00090\n",
        "Novel00124\n",
        "Novel00148\n",
        "Novel00156\n",
        "Novel00162\n",
        "Novel00166\n"
       ]
      }
     ],
     "prompt_number": 48
    },
    {
     "cell_type": "code",
     "collapsed": false,
     "input": [
      "%%writefile script/transferMultipleColumToMatrix.py\n",
      "#\u4f5c\u4e1a9\n",
      "filename = \"data/multipleColExpr.txt\"\n",
      "\n",
      "def readMultipleColFile(filename):\n",
      "    head = 1\n",
      "    tissueSet = set()\n",
      "    aDict = {}\n",
      "    for line in open(filename):\n",
      "        if head: #skip header line\n",
      "            head -= 1\n",
      "            continue\n",
      "        #-------------------------------\n",
      "        lineL = line.split()\n",
      "        gene = lineL[0]\n",
      "        tissue = lineL[1]\n",
      "        expr = lineL[2]\n",
      "        if gene not in aDict:\n",
      "            aDict[gene] = {}\n",
      "        assert tissue not in aDict[gene], \"Duplicate tissues\"\n",
      "        aDict[gene][tissue] = expr\n",
      "        tissueSet.add(tissue)\n",
      "    #---END reading----------------------------\n",
      "    tissueL = list(tissueSet)\n",
      "    tissueL.sort()\n",
      "    return tissueL, aDict\n",
      "#----END readMultipleColFile--------------------------\n",
      "\n",
      "tissueL, aDict = readMultipleColFile(filename)\n",
      "\n",
      "print \"Gene\\t%s\" % '\\t'.join(tissueL)\n",
      "\n",
      "for gene, tissueD in aDict.items():\n",
      "    exprL = [gene]\n",
      "    for tissue in tissueL:\n",
      "        exprL.append(tissueD[tissue])\n",
      "    print '\\t'.join(exprL)\n",
      "    "
     ],
     "language": "python",
     "metadata": {},
     "outputs": [
      {
       "output_type": "stream",
       "stream": "stdout",
       "text": [
        "Overwriting transferMultipleColumToMatrix.py\n"
       ]
      }
     ],
     "prompt_number": 49
    },
    {
     "cell_type": "code",
     "collapsed": false,
     "input": [
      "%run script/transferMultipleColumToMatrix"
     ],
     "language": "python",
     "metadata": {},
     "outputs": [
      {
       "output_type": "stream",
       "stream": "stdout",
       "text": [
        "Gene\tA-431\tA-549\tAN3-CA\tBEWO\tCACO-2\n",
        "ENSG00000000460\t25.2\t14.2\t10.6\t24.4\t14.2\n",
        "ENSG00000000938\t0.0\t0.0\t0.0\t0.0\t0.0\n",
        "ENSG00000000457\t2.8\t3.4\t3.8\t5.8\t2.9\n",
        "ENSG00000000419\t73.8\t38.6\t33.9\t53.7\t155.5\n",
        "ENSG00000000003\t21.3\t32.5\t38.2\t31.4\t63.9\n",
        "ENSG00000000005\t0.0\t0.0\t0.0\t0.0\t0.0\n"
       ]
      }
     ],
     "prompt_number": 50
    },
    {
     "cell_type": "code",
     "collapsed": false,
     "input": [
      "%%writefile script/reverseComplementary.py\n",
      "#\u4f5c\u4e1a10\n",
      "str1 = \"ACGTACGTACGTCACGTCAGCTAGAC\"\n",
      "\n",
      "def reverseComplementary(string):\n",
      "    ATCG_dict = {'A':'T','T':'A','C':'G','G':'C', 'a':'t','t':'a','c':'g','g':'c'}\n",
      "\n",
      "    tmpL = []\n",
      "    for i in string:\n",
      "        tmpL.append(ATCG_dict[i])\n",
      "    tmpL.reverse()\n",
      "    return ''.join(tmpL)\n",
      "#------END reverseComplementary-------\n",
      "print reverseComplementary(str1)\n",
      "print reverseComplementary('ACGT')"
     ],
     "language": "python",
     "metadata": {},
     "outputs": [
      {
       "output_type": "stream",
       "stream": "stdout",
       "text": [
        "Overwriting reverseComplementary.py\n"
       ]
      }
     ],
     "prompt_number": 51
    },
    {
     "cell_type": "code",
     "collapsed": false,
     "input": [
      "%run script/reverseComplementary"
     ],
     "language": "python",
     "metadata": {},
     "outputs": [
      {
       "output_type": "stream",
       "stream": "stdout",
       "text": [
        "GTCTAGCTGACGTGACGTACGTACGT\n",
        "ACGT\n"
       ]
      }
     ],
     "prompt_number": 52
    },
    {
     "cell_type": "code",
     "collapsed": false,
     "input": [
      "%%writefile script/collapsemiRNAreads.py\n",
      "#\u4f5c\u4e1a11\n",
      "smRNA_file = \"data/mir.collapse\"\n",
      "def collapsemiRNAreads(smRNA_file, sample, head = 1):\n",
      "    lineno = 0\n",
      "    for line in open(smRNA_file):\n",
      "        if head:\n",
      "            head -= 1\n",
      "            continue\n",
      "        #----end skip header line---\n",
      "        seq, value = line.split()\n",
      "        lineno += 1\n",
      "        print \">%s_%d_x%s\\n%s\" % (sample, lineno, value, seq)\n",
      "#-------end collapsemiRNAreads------------\n",
      "collapsemiRNAreads(smRNA_file, \"ESB\")"
     ],
     "language": "python",
     "metadata": {},
     "outputs": [
      {
       "output_type": "stream",
       "stream": "stdout",
       "text": [
        "Overwriting collapsemiRNAreads.py\n"
       ]
      }
     ],
     "prompt_number": 53
    },
    {
     "cell_type": "code",
     "collapsed": false,
     "input": [
      "%run script/collapsemiRNAreads"
     ],
     "language": "python",
     "metadata": {},
     "outputs": [
      {
       "output_type": "stream",
       "stream": "stdout",
       "text": [
        ">ESB_1_x2\n",
        "ACTGCCCTAAGTGCTCCTTCTGGC\n",
        ">ESB_2_x2\n",
        "ATAAGGTGCATCTAGTGCAGATA\n",
        ">ESB_3_x1\n",
        "TGAGGTAGTAGTTTGTGCTGTTT\n",
        ">ESB_4_x1\n",
        "TCCTACGAGTTGCATGGATTC\n",
        ">ESB_5_x1\n",
        "ACCGGGTGGAGCCGCCGCA\n",
        ">ESB_6_x1\n",
        "ACTGCCCTAAGTGCTCCTTCTGGT\n",
        ">ESB_7_x1\n",
        "TACAGGGCTGGGGATGG\n",
        ">ESB_8_x1\n",
        "CCCTGGATGCTGTAGGATG\n",
        ">ESB_9_x1\n",
        "AAAATGCTACTACTTTTGAGTC\n",
        ">ESB_10_x1\n",
        "TCCCTGGTGGTCTAGTGGCTAGGAT\n",
        ">ESB_11_x4\n",
        "CTCTTAGATCGATGTGGTGCTC\n",
        ">ESB_12_x1\n",
        "TTGGTGGTTCAGTGGTA\n",
        ">ESB_13_x1\n",
        "TCACAATTCCCCTATACCATGGGCCAT\n",
        ">ESB_14_x1\n",
        "CAAATGCTAGGGTTGGTGG\n",
        ">ESB_15_x4\n",
        "AGGCAGCTTCCACAGCA\n",
        ">ESB_16_x3\n",
        "GCACTGAGATGGAGTGGTGTAA\n",
        ">ESB_17_x3\n",
        "CTCCATTTGTTTGATGATGGA\n",
        ">ESB_18_x1\n",
        "GCACTGAGATGGAGTGGTGTAT\n",
        ">ESB_19_x2\n",
        "AGTGCCCAGAGTTTGTAGTGT\n",
        ">ESB_20_x1\n",
        "ATAAGGTGCATCTAGTGCTGTTAGA\n",
        ">ESB_21_x9\n",
        "AAAATGCTTCCACTTTGTGTG\n",
        ">ESB_22_x2\n",
        "GGTAATTCTAGAGCTAATACATGCCG\n",
        ">ESB_23_x6\n",
        "CCGGGCGGAAACACCA\n",
        ">ESB_24_x1\n",
        "TGAAAGGCTGACCCGCCGGGC\n",
        ">ESB_25_x1\n",
        "TTCGTACAGTGGTCGTAAGTTCGTGC\n",
        ">ESB_26_x1\n",
        "GGTTAGCACTCTGGACTC\n"
       ]
      }
     ],
     "prompt_number": 54
    },
    {
     "cell_type": "code",
     "collapsed": false,
     "input": [
      "%%writefile script/map.py\n",
      "#\u4f5c\u4e1a12\n",
      "ref = \"data/ref.fa\"\n",
      "short = \"data/short.fa\"\n",
      "\n",
      "def readRef(ref):\n",
      "    refD = {}\n",
      "    for line in open(ref):\n",
      "        if line[0] == '>':\n",
      "            name = line[1:-1]\n",
      "            assert name not in refD\n",
      "            refD[name] = []\n",
      "        else:\n",
      "            refD[name].append(line.strip())\n",
      "    #---------END reading----------------\n",
      "    for key, valueL in refD.items():\n",
      "        refD[key] = ''.join(valueL)\n",
      "    return refD\n",
      "#---------END readRef----------------\n",
      "def mapSeq(seq, refD):\n",
      "    len_seq = len(seq)\n",
      "    for key, value in refD.items():\n",
      "        pos = value.find(seq)\n",
      "        while pos != -1:\n",
      "            print \"%s\\t%d\\t%d\\t%s\" % (key, pos, pos+len_seq, seq)\n",
      "            current = pos + 1\n",
      "            newpos = value[current:].find(seq)\n",
      "            if newpos == -1:\n",
      "                break\n",
      "            pos = current + newpos\n",
      "#----------END mapSeq------------\n",
      "refD = readRef(ref)\n",
      "#------------------------------------\n",
      "for line in open(short):\n",
      "    if line[0] == '>':\n",
      "        pass\n",
      "    else:\n",
      "        seq = line.strip()\n",
      "        mapSeq(seq, refD)"
     ],
     "language": "python",
     "metadata": {},
     "outputs": [
      {
       "output_type": "stream",
       "stream": "stdout",
       "text": [
        "Overwriting map.py\n"
       ]
      }
     ],
     "prompt_number": 55
    },
    {
     "cell_type": "code",
     "collapsed": false,
     "input": [
      "%run script/map"
     ],
     "language": "python",
     "metadata": {},
     "outputs": [
      {
       "output_type": "stream",
       "stream": "stderr",
       "text": [
        "ERROR: File `u'script/map.py'` not found.\n"
       ]
      }
     ],
     "prompt_number": 102
    },
    {
     "cell_type": "heading",
     "level": 2,
     "metadata": {},
     "source": [
      "\u4f5c\u4e1a\uff08\u4e09\uff09"
     ]
    },
    {
     "cell_type": "markdown",
     "metadata": {},
     "source": [
      "7. \u4f7f \u201c\u4f5c\u4e1a\uff08\u4e8c\uff09\u201d \u4e2d\u7684\u7a0b\u5e8f\u90fd\u80fd\u63a5\u53d7\u547d\u4ee4\u884c\u53c2\u6570\n",
      "    * \u7528\u5230\u7684\u77e5\u8bc6\u70b9\n",
      "        * import sys\n",
      "        * sys.argv\n",
      "        * import optparse\n",
      "        \n",
      "10. \u5907\u6ce8\n",
      "    * \u6bcf\u4e2a\u63d0\u5230\u63d0\u5230\u7684\u201c\u7528\u5230\u7684\u77e5\u8bc6\u70b9\u201d\u4e3a\u76f8\u5bf9\u4e8e\u524d\u9762\u7684\u9898\u76ee\u65b0\u589e\u7684\u77e5\u8bc6\u70b9\uff0c\u8bf7\u7efc\u5408\u8003\u8651\u3002\u6b64\u5916\uff0c\u5bf9\u4e8e\u4e0d\u540c\u7684\u601d\u8def\u5e76\u4e0d\u662f\u6240\u6709\u63d0\u5230\u7684\u77e5\u8bc6\u70b9\u90fd\u4f1a\u7528\u7740\uff0c\u800c\u4e14\u4e5f\u53ef\u80fd\u4f1a\u7528\u5230\u672a\u63d0\u5230\u7684\u77e5\u8bc6\u70b9\u3002\u4f46\u662f\u6240\u6709\u77e5\u8bc6\u70b9\u90fd\u5728\u524d\u9762\u7684\u8bb2\u4e49\u90e8\u5206\u6709\u4ecb\u7ecd\u3002\n",
      "    * \u6bcf\u4e2a\u7a0b\u5e8f\u5bf9\u4e8e\u4f60\u8eab\u8fb9\u4f1a\u5199\u7684\u4eba\u6765\u8bf4\u90fd\u5f88\u7b80\u5355\uff0c\u56e0\u6b64\u4f60\u4e00\u5b9a\u8981\u514b\u5236\u4f4f\uff0c\u72ec\u7acb\u53bb\u628a\u7b54\u6848\u505a\u51fa\uff0c\u591a\u770b\u9519\u8bef\u63d0\u793a\uff0c\u591a\u6bd4\u5bf9\u7a0b\u5e8f\u8f93\u51fa\u7ed3\u679c\u548c\u9884\u671f\u7ed3\u679c\u7684\u5dee\u5f02\u3002\n",
      "    * \u5b66\u4e60\u953b\u70bc\u201c\u8bfb\u7a0b\u5e8f\u201d\uff0c\u5373\u5bf9\u7740\u6587\u4ef6\u6a21\u62df\u6574\u4e2a\u7684\u8bfb\u5165\u3001\u5904\u7406\u8fc7\u7a0b\u6765\u53d1\u73b0\u53ef\u80fd\u7684\u903b\u8f91\u95ee\u9898\u3002\n",
      "    * \u7a0b\u5e8f\u8fd0\u884c\u6ca1\u6709\u9519\u8bef\u4e0d\u4ee3\u8868\u4f60\u5199\u7684\u7a0b\u5e8f\u5b8c\u6210\u4e86\u4f60\u7684\u9700\u6c42\uff0c\u4f60\u8981\u53bb\u63d2\u773c\u8f93\u51fa\u7ed3\u679c\u662f\u4e0d\u662f\u4f60\u60f3\u8981\u7684\u3002\n",
      "11. \u5173\u4e8e\u7a0b\u5e8f\u8c03\u8bd5\n",
      "    * \u5728\u521d\u5199\u7a0b\u5e8f\u65f6\uff0c\u53ef\u80fd\u4f1a\u51fa\u73b0\u5404\u79cd\u5404\u6837\u7684\u9519\u8bef\uff0c\u5e38\u89c1\u7684\u6709\u7f29\u8fdb\u4e0d\u4e00\u81f4\uff0c\u53d8\u91cf\u540d\u5b57\u62fc\u5199\u9519\u8bef\uff0c\u4e22\u5931\u5192\u53f7\uff0c\u6587\u4ef6\u540d\u672a\u52a0\u5f15\u53f7\u7b49\uff0c\u8fd9\u65f6\u8981\u6839\u636e\u9519\u8bef\u63d0\u793a\u67e5\u770b\u9519\u8bef\u7c7b\u578b\u662f\u4ec0\u4e48\uff0c\u51fa\u9519\u7684\u662f\u54ea\u4e00\u884c\u6765\u5b9a\u4f4d\u9519\u8bef\u3002\u5f53\u7136\uff0c\u6709\u7684\u65f6\u5019\u62a5\u9519\u7684\u884c\u81ea\u8eab\u4e0d\u4e00\u5b9a\u6709\u9519\uff0c\u53ef\u80fd\u662f\u5176\u524d\u9762\u6216\u540e\u9762\u7684\u884c\u51fa\u73b0\u4e86\u9519\u8bef\u3002\n",
      "    * \u5f53\u7ed3\u679c\u4e0d\u7b26\u5408\u9884\u671f\u65f6\uff0c\u8981\u5b66\u4f1a\u4f7f\u7528print\u6765\u67e5\u770b\u6bcf\u6b65\u7684\u64cd\u4f5c\u662f\u5426\u6b63\u786e\uff0c\u6bd4\u5982\u6211\u8bfb\u5165\u4e86\u5b57\u5178\uff0c\u6211\u5c31\u6253\u5370\u4e0b\u5b57\u5178\uff0c\u770b\u770b\u8bfb\u5165\u7684\u662f\u4e0d\u662f\u6211\u60f3\u8981\u7684\uff0c\u662f\u5426\u542b\u6709\u4e0d\u8be5\u5b58\u5728\u7684\u5b57\u7b26\uff1b\u6216\u8005\u5728\u6bcf\u4e2a\u5224\u65ad\u53e5\u3001\u51fd\u6570\u8c03\u5165\u7684\u60c5\u51b5\u4e0b\u6253\u5370\u4e2a\u5b57\u7b26\uff0c\u6765\u8ddf\u8e2a\u7a0b\u5e8f\u7684\u8fd0\u884c\u8f68\u8ff9\u3002"
     ]
    },
    {
     "cell_type": "code",
     "collapsed": false,
     "input": [
      "%%writefile script/cat.py\n",
      "#\u4f5c\u4e1a1\u548c2, cat.py\n",
      "#\u5305\u542b\u4e86\u4e09\u4e2d\u5904\u7406\u6362\u884c\u7b26\u7684\u5199\u6cd5\n",
      "import sys\n",
      "    \n",
      "def cat(file):\n",
      "    for line in open(file):\n",
      "        print line,\n",
      "#------END of cat---------\n",
      "\n",
      "def main():\n",
      "    if len(sys.argv) < 2:  #\n",
      "        print >>sys.stderr, \"Usage: python %s filename\" % sys.argv[0] #\u4e00\u822c\u63d0\u793a\u4fe1\u606f\u8f93\u51fa\u5230\u6807\u51c6\u9519\u8bef\n",
      "        sys.exit(0)\n",
      "\n",
      "    file = sys.argv[1]\n",
      "    cat(file)\n",
      "#-------END main---------------\n",
      "if __name__ == '__main__':\n",
      "    main()\n"
     ],
     "language": "python",
     "metadata": {},
     "outputs": [
      {
       "output_type": "stream",
       "stream": "stdout",
       "text": [
        "Overwriting script/cat.py\n"
       ]
      }
     ],
     "prompt_number": 66
    },
    {
     "cell_type": "code",
     "collapsed": false,
     "input": [
      "%run script/cat data/test1.fa"
     ],
     "language": "python",
     "metadata": {},
     "outputs": [
      {
       "output_type": "stream",
       "stream": "stdout",
       "text": [
        ">NM_001011874 gene=Xkr4 CDS=151-2091\n",
        "gcggcggcgggcgagcgggcgctggagtaggagctggggagcggcgcggccggggaaggaagccagggcg\n",
        ">NM_001195662 gene=Rp1 CDS=55-909\n",
        "AGGTCTCACCCAAAATGAGTGACACACCTTCTACTAGTTTCTCCATGATTCATCTGACTTCTGAAGGTCA\n",
        ">NM_011283 gene=Rp1 CDS=128-6412\n",
        "AATAAATCCAAAGACATTTGTTTACGTGAAACAAGCAGGTTGCATATCCAGTGACGTTTATACAGACCAC\n",
        ">NM_0112835 gene=Rp15 CDS=128-6412\n",
        "AATAAATCCAAAGACATTTGTTTACGTGAAACAAGCAGGTTGCATATCCAGTGACGTTTATACAGACCAC\n"
       ]
      }
     ],
     "prompt_number": 67
    },
    {
     "cell_type": "code",
     "collapsed": false,
     "input": [
      "%%writefile script/splitName.py\n",
      "#\u4f5c\u4e1a3\n",
      "import sys\n",
      "\n",
      "def splitName(filename):\n",
      "    for line in open(filename):\n",
      "        if line[0] == '>':\n",
      "            lineL = line.split(' ')\n",
      "            print lineL[0]\n",
      "        else:\n",
      "            print line,\n",
      "#------END splitName---------------\n",
      "\n",
      "def main():\n",
      "    if len(sys.argv) < 2:  #\n",
      "        print >>sys.stderr, \"Usage: python %s filename\" % sys.argv[0] #\u4e00\u822c\u63d0\u793a\u4fe1\u606f\u8f93\u51fa\u5230\u6807\u51c6\u9519\u8bef\n",
      "        sys.exit(0)\n",
      "\n",
      "    filename = sys.argv[1]\n",
      "    splitName(filename)\n",
      "#-------END main------------------\n",
      "\n",
      "if __name__ == '__main__':\n",
      "    main()"
     ],
     "language": "python",
     "metadata": {},
     "outputs": [
      {
       "output_type": "stream",
       "stream": "stdout",
       "text": [
        "Overwriting script/splitName.py\n"
       ]
      }
     ],
     "prompt_number": 68
    },
    {
     "cell_type": "code",
     "collapsed": false,
     "input": [
      "%run script/splitName data/test2.fa"
     ],
     "language": "python",
     "metadata": {},
     "outputs": [
      {
       "output_type": "stream",
       "stream": "stdout",
       "text": [
        ">NM_001011874\n",
        "gcggcggcgggcgagcgggcgctggagtaggagctggggagcggcgcggccggggaaggaagccagggcg\n",
        "aggcgaggaggtggcgggaggaggagacagcagggacaggTGTCAGATAAAGGAGTGCTCTCCTCCGCTG\n",
        "CCGAGGCATCATGGCCGCTAAGTCAGACGGGAGGCTGAAGATGAAGAAGAGCAGCGACGTGGCGTTCACC\n",
        "CCGCTGCAGAACTCGGACAATTCGGGCTCTGTGCAAGGACTGGCTCCAGGCTTGCCGTCGGGGTCCGGAG\n",
        ">NM_001195662\n",
        "AAGCTCAGCCTTTGCTCAGATTCTCCTCTTGATGAAACAAAGGGATTTCTGCACATGCTTGAGAAATTGC\n",
        "AGGTCTCACCCAAAATGAGTGACACACCTTCTACTAGTTTCTCCATGATTCATCTGACTTCTGAAGGTCA\n",
        "AGTTCCTTCCCCTCGCCATTCAAATATCACTCATCCTGTAGTGGCTAAACGCATCAGTTTCTATAAGAGT\n",
        "GGAGACCCACAGTTTGGCGGCGTTCGGGTGGTGGTCAACCCTCGTTCCTTTAAGACTTTTGACGCTCTGC\n",
        "TGGACAGTTTATCCAGGAAGGTACCCCTGCCCTTTGGGGTAAGGAACATCAGCACGCCCCGTGGACGACA\n",
        "CAGCATCACCAGGCTGGAGGAGCTAGAGGACGGCAAGTCTTATGTGTGCTCCCACAATAAGAAGGTGCTG\n",
        ">NM_011283\n",
        "AATAAATCCAAAGACATTTGTTTACGTGAAACAAGCAGGTTGCATATCCAGTGACGTTTATACAGACCAC\n",
        "ACAAACTATTTACTCTTTTCTTCGTAAGGAAAGGTTCAACTTCTGGTCTCACCCAAAATGAGTGACACAC\n",
        "CTTCTACTAGTTTCTCCATGATTCATCTGACTTCTGAAGGTCAAGTTCCTTCCCCTCGCCATTCAAATAT\n",
        "CACTCATCCTGTAGTGGCTAAACGCATCAGTTTCTATAAGAGTGGAGACCCACAGTTTGGCGGCGTTCGG\n",
        "GTGGTGGTCAACCCTCGTTCCTTTAAGACTTTTGACGCTCTGCTGGACAGTTTATCCAGGAAGGTACCCC\n",
        "TGCCCTTTGGGGTAAGGAACATCAGCACGCCCCGTGGACGACACAGCATCACCAGGCTGGAGGAGCTAGA\n",
        "GGACGGCAAGTCTTATGTGTGCTCCCACAATAAGAAGGTGCTGCCAGTTGACCTGGACAAGGCCCGCAGG\n",
        "CGCCCTCGGCCCTGGCTGAGTAGTCGCTCCATAAGCACGCATGTGCAGCTCTGTCCTGCAACTGCCAATA\n",
        "TGTCCACCATGGCACCTGGCATGCTCCGTGCCCCAAGGAGGCTCGTGGTCTTCCGGAATGGTGACCCGAA\n",
        ">NM_0112835\n",
        "AATAAATCCAAAGACATTTGTTTACGTGAAACAAGCAGGTTGCATATCCAGTGACGTTTATACAGACCAC\n",
        "ACAAACTATTTACTCTTTTCTTCGTAAGGAAAGGTTCAACTTCTGGTCTCACCCAAAATGAGTGACACAC\n",
        "CTTCTACTAGTTTCTCCATGATTCATCTGACTTCTGAAGGTCAAGTTCCTTCCCCTCGCCATTCAAATAT\n",
        "CACTCATCCTGTAGTGGCTAAACGCATCAGTTTCTATAAGAGTGGAGACCCACAGTTTGGCGGCGTTCGG\n",
        "GTGGTGGTCAACCCTCGTTCCTTTAAGACTTTTGACGCTCTGCTGGACAGTTTATCCAGGAAGGTACCCC\n",
        "TGCCCTTTGGGGTAAGGAACATCAGCACGCCCCGTGGACGACACAGCATCACCAGGCTGGAGGAGCTAGA\n",
        "GGACGGCAAGTCTTATGTGTGCTCCCACAATAAGAAGGTGCTGCCAGTTGACCTGGACAAGGCCCGCAGG\n",
        "CGCCCTCGGCCCTGGCTGAGTAGTCGCTCCATAAGCACGCATGTGCAGCTCTGTCCTGCAACTGCCAATA\n",
        "TGTCCACCATGGCACCTGGCATGCTCCGTGCCCCAAGGAGGCTCGTGGTCTTCCGGAATGGTGACCCGAA\n"
       ]
      }
     ],
     "prompt_number": 69
    },
    {
     "cell_type": "code",
     "collapsed": false,
     "input": [
      "%%writefile script/formatFasta.py\n",
      "#\u4f5c\u4e1a4\n",
      "\n",
      "import sys\n",
      "\n",
      "def formatFasta(filename):\n",
      "    aList = []\n",
      "    for line in open(filename):\n",
      "        if line[0] == '>':\n",
      "            lineL = line.split(' ')\n",
      "            if aList:\n",
      "                print ''.join(aList)\n",
      "                aList = []\n",
      "            name = lineL[0]\n",
      "            print name\n",
      "        else:\n",
      "            aList.append(line.strip())\n",
      "#\u4e0d\u8981\u5fd8\u4e86\u6700\u540e\u4e00\u4e2a\u5e8f\u5217\n",
      "    print ''.join(aList)\n",
      "#-----End formatFasta----------------\n",
      "def main():\n",
      "    if len(sys.argv) < 2:  #\n",
      "        print >>sys.stderr, \"Usage: python %s filename\" % sys.argv[0] #\u4e00\u822c\u63d0\u793a\u4fe1\u606f\u8f93\u51fa\u5230\u6807\u51c6\u9519\u8bef\n",
      "        sys.exit(0)\n",
      "\n",
      "    filename = sys.argv[1]\n",
      "    formatFasta(filename)\n",
      "#-------END main------------------\n",
      "\n",
      "if __name__ == '__main__':\n",
      "    main()"
     ],
     "language": "python",
     "metadata": {},
     "outputs": [
      {
       "output_type": "stream",
       "stream": "stdout",
       "text": [
        "Overwriting script/formatFasta.py\n"
       ]
      }
     ],
     "prompt_number": 70
    },
    {
     "cell_type": "code",
     "collapsed": false,
     "input": [
      "%run script/formatFasta data/test2.fa"
     ],
     "language": "python",
     "metadata": {},
     "outputs": [
      {
       "output_type": "stream",
       "stream": "stdout",
       "text": [
        ">NM_001011874\n",
        "gcggcggcgggcgagcgggcgctggagtaggagctggggagcggcgcggccggggaaggaagccagggcgaggcgaggaggtggcgggaggaggagacagcagggacaggTGTCAGATAAAGGAGTGCTCTCCTCCGCTGCCGAGGCATCATGGCCGCTAAGTCAGACGGGAGGCTGAAGATGAAGAAGAGCAGCGACGTGGCGTTCACCCCGCTGCAGAACTCGGACAATTCGGGCTCTGTGCAAGGACTGGCTCCAGGCTTGCCGTCGGGGTCCGGAG\n",
        ">NM_001195662\n",
        "AAGCTCAGCCTTTGCTCAGATTCTCCTCTTGATGAAACAAAGGGATTTCTGCACATGCTTGAGAAATTGCAGGTCTCACCCAAAATGAGTGACACACCTTCTACTAGTTTCTCCATGATTCATCTGACTTCTGAAGGTCAAGTTCCTTCCCCTCGCCATTCAAATATCACTCATCCTGTAGTGGCTAAACGCATCAGTTTCTATAAGAGTGGAGACCCACAGTTTGGCGGCGTTCGGGTGGTGGTCAACCCTCGTTCCTTTAAGACTTTTGACGCTCTGCTGGACAGTTTATCCAGGAAGGTACCCCTGCCCTTTGGGGTAAGGAACATCAGCACGCCCCGTGGACGACACAGCATCACCAGGCTGGAGGAGCTAGAGGACGGCAAGTCTTATGTGTGCTCCCACAATAAGAAGGTGCTG\n",
        ">NM_011283\n",
        "AATAAATCCAAAGACATTTGTTTACGTGAAACAAGCAGGTTGCATATCCAGTGACGTTTATACAGACCACACAAACTATTTACTCTTTTCTTCGTAAGGAAAGGTTCAACTTCTGGTCTCACCCAAAATGAGTGACACACCTTCTACTAGTTTCTCCATGATTCATCTGACTTCTGAAGGTCAAGTTCCTTCCCCTCGCCATTCAAATATCACTCATCCTGTAGTGGCTAAACGCATCAGTTTCTATAAGAGTGGAGACCCACAGTTTGGCGGCGTTCGGGTGGTGGTCAACCCTCGTTCCTTTAAGACTTTTGACGCTCTGCTGGACAGTTTATCCAGGAAGGTACCCCTGCCCTTTGGGGTAAGGAACATCAGCACGCCCCGTGGACGACACAGCATCACCAGGCTGGAGGAGCTAGAGGACGGCAAGTCTTATGTGTGCTCCCACAATAAGAAGGTGCTGCCAGTTGACCTGGACAAGGCCCGCAGGCGCCCTCGGCCCTGGCTGAGTAGTCGCTCCATAAGCACGCATGTGCAGCTCTGTCCTGCAACTGCCAATATGTCCACCATGGCACCTGGCATGCTCCGTGCCCCAAGGAGGCTCGTGGTCTTCCGGAATGGTGACCCGAA\n",
        ">NM_0112835\n",
        "AATAAATCCAAAGACATTTGTTTACGTGAAACAAGCAGGTTGCATATCCAGTGACGTTTATACAGACCACACAAACTATTTACTCTTTTCTTCGTAAGGAAAGGTTCAACTTCTGGTCTCACCCAAAATGAGTGACACACCTTCTACTAGTTTCTCCATGATTCATCTGACTTCTGAAGGTCAAGTTCCTTCCCCTCGCCATTCAAATATCACTCATCCTGTAGTGGCTAAACGCATCAGTTTCTATAAGAGTGGAGACCCACAGTTTGGCGGCGTTCGGGTGGTGGTCAACCCTCGTTCCTTTAAGACTTTTGACGCTCTGCTGGACAGTTTATCCAGGAAGGTACCCCTGCCCTTTGGGGTAAGGAACATCAGCACGCCCCGTGGACGACACAGCATCACCAGGCTGGAGGAGCTAGAGGACGGCAAGTCTTATGTGTGCTCCCACAATAAGAAGGTGCTGCCAGTTGACCTGGACAAGGCCCGCAGGCGCCCTCGGCCCTGGCTGAGTAGTCGCTCCATAAGCACGCATGTGCAGCTCTGTCCTGCAACTGCCAATATGTCCACCATGGCACCTGGCATGCTCCGTGCCCCAAGGAGGCTCGTGGTCTTCCGGAATGGTGACCCGAA\n"
       ]
      }
     ],
     "prompt_number": 71
    },
    {
     "cell_type": "code",
     "collapsed": false,
     "input": [
      "%%writefile script/formatFasta-2.py\n",
      "#\u4f5c\u4e1a5 \n",
      "\n",
      "import sys\n",
      "\n",
      "def formatSeq(aList, length):\n",
      "    seq = ''.join(aList)\n",
      "    len_seq = len(seq)\n",
      "    for i in range(0,len_seq,length):\n",
      "        print seq[i:i+length] \n",
      "#----END formatSeq-------------------\n",
      "\n",
      "def formatFasta(filename,length):\n",
      "    aList = []\n",
      "    for line in open(filename):\n",
      "        if line[0] == '>':\n",
      "            lineL = line.split(' ')\n",
      "            if aList:\n",
      "                formatSeq(aList, length)\n",
      "                aList = []\n",
      "            name = lineL[0]\n",
      "            print name\n",
      "        else:\n",
      "            aList.append(line.strip())\n",
      "    #\u4e0d\u8981\u5fd8\u4e86\u6700\u540e\u4e00\u4e2a\u5e8f\u5217\n",
      "    formatSeq(aList, length)\n",
      "#------------END of formatFasta------------\n",
      "def main():\n",
      "    if len(sys.argv) < 3:  #\u6ce8\u610f\u8fd9\u513f\u53c2\u6570\u6539\u53d8\u4e86\n",
      "        print >>sys.stderr, \"Usage: python %s filename length_of_seq_in_each_line\" % sys.argv[0] #\u4e00\u822c\u63d0\u793a\u4fe1\u606f\u8f93\u51fa\u5230\u6807\u51c6\u9519\u8bef\n",
      "        sys.exit(0)\n",
      "\n",
      "    filename = sys.argv[1]\n",
      "    length = int(sys.argv[2])\n",
      "    formatFasta(filename, length)\n",
      "#-------END main------------------\n",
      "\n",
      "if __name__ == '__main__':\n",
      "    main()\n"
     ],
     "language": "python",
     "metadata": {},
     "outputs": [
      {
       "output_type": "stream",
       "stream": "stdout",
       "text": [
        "Overwriting script/formatFasta-2.py\n"
       ]
      }
     ],
     "prompt_number": 72
    },
    {
     "cell_type": "code",
     "collapsed": false,
     "input": [
      "%run script/formatFasta-2 data/test2.fa 80"
     ],
     "language": "python",
     "metadata": {},
     "outputs": [
      {
       "output_type": "stream",
       "stream": "stdout",
       "text": [
        ">NM_001011874\n",
        "gcggcggcgggcgagcgggcgctggagtaggagctggggagcggcgcggccggggaaggaagccagggcgaggcgaggag\n",
        "gtggcgggaggaggagacagcagggacaggTGTCAGATAAAGGAGTGCTCTCCTCCGCTGCCGAGGCATCATGGCCGCTA\n",
        "AGTCAGACGGGAGGCTGAAGATGAAGAAGAGCAGCGACGTGGCGTTCACCCCGCTGCAGAACTCGGACAATTCGGGCTCT\n",
        "GTGCAAGGACTGGCTCCAGGCTTGCCGTCGGGGTCCGGAG\n",
        ">NM_001195662\n",
        "AAGCTCAGCCTTTGCTCAGATTCTCCTCTTGATGAAACAAAGGGATTTCTGCACATGCTTGAGAAATTGCAGGTCTCACC\n",
        "CAAAATGAGTGACACACCTTCTACTAGTTTCTCCATGATTCATCTGACTTCTGAAGGTCAAGTTCCTTCCCCTCGCCATT\n",
        "CAAATATCACTCATCCTGTAGTGGCTAAACGCATCAGTTTCTATAAGAGTGGAGACCCACAGTTTGGCGGCGTTCGGGTG\n",
        "GTGGTCAACCCTCGTTCCTTTAAGACTTTTGACGCTCTGCTGGACAGTTTATCCAGGAAGGTACCCCTGCCCTTTGGGGT\n",
        "AAGGAACATCAGCACGCCCCGTGGACGACACAGCATCACCAGGCTGGAGGAGCTAGAGGACGGCAAGTCTTATGTGTGCT\n",
        "CCCACAATAAGAAGGTGCTG\n",
        ">NM_011283\n",
        "AATAAATCCAAAGACATTTGTTTACGTGAAACAAGCAGGTTGCATATCCAGTGACGTTTATACAGACCACACAAACTATT\n",
        "TACTCTTTTCTTCGTAAGGAAAGGTTCAACTTCTGGTCTCACCCAAAATGAGTGACACACCTTCTACTAGTTTCTCCATG\n",
        "ATTCATCTGACTTCTGAAGGTCAAGTTCCTTCCCCTCGCCATTCAAATATCACTCATCCTGTAGTGGCTAAACGCATCAG\n",
        "TTTCTATAAGAGTGGAGACCCACAGTTTGGCGGCGTTCGGGTGGTGGTCAACCCTCGTTCCTTTAAGACTTTTGACGCTC\n",
        "TGCTGGACAGTTTATCCAGGAAGGTACCCCTGCCCTTTGGGGTAAGGAACATCAGCACGCCCCGTGGACGACACAGCATC\n",
        "ACCAGGCTGGAGGAGCTAGAGGACGGCAAGTCTTATGTGTGCTCCCACAATAAGAAGGTGCTGCCAGTTGACCTGGACAA\n",
        "GGCCCGCAGGCGCCCTCGGCCCTGGCTGAGTAGTCGCTCCATAAGCACGCATGTGCAGCTCTGTCCTGCAACTGCCAATA\n",
        "TGTCCACCATGGCACCTGGCATGCTCCGTGCCCCAAGGAGGCTCGTGGTCTTCCGGAATGGTGACCCGAA\n",
        ">NM_0112835\n",
        "AATAAATCCAAAGACATTTGTTTACGTGAAACAAGCAGGTTGCATATCCAGTGACGTTTATACAGACCACACAAACTATT\n",
        "TACTCTTTTCTTCGTAAGGAAAGGTTCAACTTCTGGTCTCACCCAAAATGAGTGACACACCTTCTACTAGTTTCTCCATG\n",
        "ATTCATCTGACTTCTGAAGGTCAAGTTCCTTCCCCTCGCCATTCAAATATCACTCATCCTGTAGTGGCTAAACGCATCAG\n",
        "TTTCTATAAGAGTGGAGACCCACAGTTTGGCGGCGTTCGGGTGGTGGTCAACCCTCGTTCCTTTAAGACTTTTGACGCTC\n",
        "TGCTGGACAGTTTATCCAGGAAGGTACCCCTGCCCTTTGGGGTAAGGAACATCAGCACGCCCCGTGGACGACACAGCATC\n",
        "ACCAGGCTGGAGGAGCTAGAGGACGGCAAGTCTTATGTGTGCTCCCACAATAAGAAGGTGCTGCCAGTTGACCTGGACAA\n",
        "GGCCCGCAGGCGCCCTCGGCCCTGGCTGAGTAGTCGCTCCATAAGCACGCATGTGCAGCTCTGTCCTGCAACTGCCAATA\n",
        "TGTCCACCATGGCACCTGGCATGCTCCGTGCCCCAAGGAGGCTCGTGGTCTTCCGGAATGGTGACCCGAA\n"
       ]
      }
     ],
     "prompt_number": 73
    },
    {
     "cell_type": "code",
     "collapsed": false,
     "input": [
      "%%writefile script/sortFasta.py\n",
      "#\u4f5c\u4e1a6\n",
      "\n",
      "import sys\n",
      "\n",
      "def readFasta(filename):\n",
      "    aDict = {}\n",
      "    for line in open(filename):\n",
      "        if line[0] == '>':\n",
      "            key = line.split()[0]\n",
      "            aDict[key] = [] #\u5b57\u5178\u7684\u503c\u662f\u4e00\u4e2a\u5217\u8868, = \u5de6\u8fb9\u7684\u5b57\u7b26\u4e32\u53ef\u4ee5\u8ba4\u4e3a\u662f\u53f3\u8fb9\u5217\u8868\u7684\u540d\u5b57\n",
      "        else:\n",
      "            aDict[key].append(line.strip()) \n",
      "    return aDict\n",
      "#-----END readFasta-------------------\n",
      "def sortFasta(aDict):\n",
      "    keyL = aDict.keys()\n",
      "    keyL.sort()\n",
      "    \n",
      "    for key in keyL:\n",
      "        print \"%s\\n%s\" % (key, ''.join(aDict[key]))\n",
      "#--------END sortFasta--------------------\n",
      "\n",
      "def main():\n",
      "    if len(sys.argv) < 2:  #\u6ce8\u610f\u8fd9\u513f\u53c2\u6570\u6539\u53d8\u4e86\n",
      "        print >>sys.stderr, \"Usage: python %s filename\" % sys.argv[0] #\u4e00\u822c\u63d0\u793a\u4fe1\u606f\u8f93\u51fa\u5230\u6807\u51c6\u9519\u8bef\n",
      "        sys.exit(0)\n",
      "\n",
      "    filename = sys.argv[1]\n",
      "    aDict = readFasta(filename)\n",
      "    sortFasta(aDict)\n",
      "    \n",
      "#-------END main------------------\n",
      "\n",
      "if __name__ == '__main__':\n",
      "    main()"
     ],
     "language": "python",
     "metadata": {},
     "outputs": [
      {
       "output_type": "stream",
       "stream": "stdout",
       "text": [
        "Overwriting sortFasta.py\n"
       ]
      }
     ],
     "prompt_number": 74
    },
    {
     "cell_type": "code",
     "collapsed": false,
     "input": [
      "%run script/sortFasta data/test2.fa"
     ],
     "language": "python",
     "metadata": {},
     "outputs": [
      {
       "output_type": "stream",
       "stream": "stdout",
       "text": [
        ">NM_001011874\n",
        "gcggcggcgggcgagcgggcgctggagtaggagctggggagcggcgcggccggggaaggaagccagggcgaggcgaggaggtggcgggaggaggagacagcagggacaggTGTCAGATAAAGGAGTGCTCTCCTCCGCTGCCGAGGCATCATGGCCGCTAAGTCAGACGGGAGGCTGAAGATGAAGAAGAGCAGCGACGTGGCGTTCACCCCGCTGCAGAACTCGGACAATTCGGGCTCTGTGCAAGGACTGGCTCCAGGCTTGCCGTCGGGGTCCGGAG\n",
        ">NM_001195662\n",
        "AAGCTCAGCCTTTGCTCAGATTCTCCTCTTGATGAAACAAAGGGATTTCTGCACATGCTTGAGAAATTGCAGGTCTCACCCAAAATGAGTGACACACCTTCTACTAGTTTCTCCATGATTCATCTGACTTCTGAAGGTCAAGTTCCTTCCCCTCGCCATTCAAATATCACTCATCCTGTAGTGGCTAAACGCATCAGTTTCTATAAGAGTGGAGACCCACAGTTTGGCGGCGTTCGGGTGGTGGTCAACCCTCGTTCCTTTAAGACTTTTGACGCTCTGCTGGACAGTTTATCCAGGAAGGTACCCCTGCCCTTTGGGGTAAGGAACATCAGCACGCCCCGTGGACGACACAGCATCACCAGGCTGGAGGAGCTAGAGGACGGCAAGTCTTATGTGTGCTCCCACAATAAGAAGGTGCTG\n",
        ">NM_011283\n",
        "AATAAATCCAAAGACATTTGTTTACGTGAAACAAGCAGGTTGCATATCCAGTGACGTTTATACAGACCACACAAACTATTTACTCTTTTCTTCGTAAGGAAAGGTTCAACTTCTGGTCTCACCCAAAATGAGTGACACACCTTCTACTAGTTTCTCCATGATTCATCTGACTTCTGAAGGTCAAGTTCCTTCCCCTCGCCATTCAAATATCACTCATCCTGTAGTGGCTAAACGCATCAGTTTCTATAAGAGTGGAGACCCACAGTTTGGCGGCGTTCGGGTGGTGGTCAACCCTCGTTCCTTTAAGACTTTTGACGCTCTGCTGGACAGTTTATCCAGGAAGGTACCCCTGCCCTTTGGGGTAAGGAACATCAGCACGCCCCGTGGACGACACAGCATCACCAGGCTGGAGGAGCTAGAGGACGGCAAGTCTTATGTGTGCTCCCACAATAAGAAGGTGCTGCCAGTTGACCTGGACAAGGCCCGCAGGCGCCCTCGGCCCTGGCTGAGTAGTCGCTCCATAAGCACGCATGTGCAGCTCTGTCCTGCAACTGCCAATATGTCCACCATGGCACCTGGCATGCTCCGTGCCCCAAGGAGGCTCGTGGTCTTCCGGAATGGTGACCCGAA\n",
        ">NM_0112835\n",
        "AATAAATCCAAAGACATTTGTTTACGTGAAACAAGCAGGTTGCATATCCAGTGACGTTTATACAGACCACACAAACTATTTACTCTTTTCTTCGTAAGGAAAGGTTCAACTTCTGGTCTCACCCAAAATGAGTGACACACCTTCTACTAGTTTCTCCATGATTCATCTGACTTCTGAAGGTCAAGTTCCTTCCCCTCGCCATTCAAATATCACTCATCCTGTAGTGGCTAAACGCATCAGTTTCTATAAGAGTGGAGACCCACAGTTTGGCGGCGTTCGGGTGGTGGTCAACCCTCGTTCCTTTAAGACTTTTGACGCTCTGCTGGACAGTTTATCCAGGAAGGTACCCCTGCCCTTTGGGGTAAGGAACATCAGCACGCCCCGTGGACGACACAGCATCACCAGGCTGGAGGAGCTAGAGGACGGCAAGTCTTATGTGTGCTCCCACAATAAGAAGGTGCTGCCAGTTGACCTGGACAAGGCCCGCAGGCGCCCTCGGCCCTGGCTGAGTAGTCGCTCCATAAGCACGCATGTGCAGCTCTGTCCTGCAACTGCCAATATGTCCACCATGGCACCTGGCATGCTCCGTGCCCCAAGGAGGCTCGTGGTCTTCCGGAATGGTGACCCGAA\n"
       ]
      }
     ],
     "prompt_number": 75
    },
    {
     "cell_type": "code",
     "collapsed": false,
     "input": [
      "%%writefile script/grepFasta.py\n",
      "#\u4f5c\u4e1a7.1\n",
      "\n",
      "import sys\n",
      "\n",
      "def readFasta(filename):\n",
      "    aDict = {}\n",
      "    for line in open(filename):\n",
      "        if line[0] == '>':\n",
      "            key = line.split()[0][1:] #\u6ce8\u610f\u53bb\u6389\u5f00\u5934\u7684'>'\uff0c\u53ea\u53d6\u5e8f\u5217\u7684\u540d\u5b57\n",
      "            aDict[key] = []  #\u5b57\u5178\u7684\u503c\u662f\u4e00\u4e2a\u5217\u8868\n",
      "        else:\n",
      "            aDict[key].append(line.strip())\n",
      "    return aDict\n",
      "#--------END readFasta--------------------\n",
      "def main():\n",
      "    if len(sys.argv) < 3:  #\u6ce8\u610f\u8fd9\u513f\u53c2\u6570\u6539\u53d8\u4e86\n",
      "        print >>sys.stderr, \"Usage: python %s seqFile nameFile\" % sys.argv[0] #\u4e00\u822c\u63d0\u793a\u4fe1\u606f\u8f93\u51fa\u5230\u6807\u51c6\u9519\u8bef\n",
      "        sys.exit(0)\n",
      "\n",
      "    seqFile = sys.argv[1]\n",
      "    nameFile = sys.argv[2]\n",
      "    aDict = readFasta(seqFile)\n",
      "    for line in open(nameFile):\n",
      "        name = line.strip()\n",
      "        print \">%s\\n%s\" % (name, ''.join(aDict[name]))\n",
      "#-------END main------------------\n",
      "\n",
      "if __name__ == '__main__':\n",
      "    main()"
     ],
     "language": "python",
     "metadata": {},
     "outputs": [
      {
       "output_type": "stream",
       "stream": "stdout",
       "text": [
        "Overwriting grepFasta.py\n"
       ]
      }
     ],
     "prompt_number": 76
    },
    {
     "cell_type": "code",
     "collapsed": false,
     "input": [
      "%run script/grepFasta.py data/test2.fa data/fasta.name"
     ],
     "language": "python",
     "metadata": {},
     "outputs": [
      {
       "output_type": "stream",
       "stream": "stdout",
       "text": [
        ">NM_001011874\n",
        "gcggcggcgggcgagcgggcgctggagtaggagctggggagcggcgcggccggggaaggaagccagggcgaggcgaggaggtggcgggaggaggagacagcagggacaggTGTCAGATAAAGGAGTGCTCTCCTCCGCTGCCGAGGCATCATGGCCGCTAAGTCAGACGGGAGGCTGAAGATGAAGAAGAGCAGCGACGTGGCGTTCACCCCGCTGCAGAACTCGGACAATTCGGGCTCTGTGCAAGGACTGGCTCCAGGCTTGCCGTCGGGGTCCGGAG\n",
        ">NM_011283\n",
        "AATAAATCCAAAGACATTTGTTTACGTGAAACAAGCAGGTTGCATATCCAGTGACGTTTATACAGACCACACAAACTATTTACTCTTTTCTTCGTAAGGAAAGGTTCAACTTCTGGTCTCACCCAAAATGAGTGACACACCTTCTACTAGTTTCTCCATGATTCATCTGACTTCTGAAGGTCAAGTTCCTTCCCCTCGCCATTCAAATATCACTCATCCTGTAGTGGCTAAACGCATCAGTTTCTATAAGAGTGGAGACCCACAGTTTGGCGGCGTTCGGGTGGTGGTCAACCCTCGTTCCTTTAAGACTTTTGACGCTCTGCTGGACAGTTTATCCAGGAAGGTACCCCTGCCCTTTGGGGTAAGGAACATCAGCACGCCCCGTGGACGACACAGCATCACCAGGCTGGAGGAGCTAGAGGACGGCAAGTCTTATGTGTGCTCCCACAATAAGAAGGTGCTGCCAGTTGACCTGGACAAGGCCCGCAGGCGCCCTCGGCCCTGGCTGAGTAGTCGCTCCATAAGCACGCATGTGCAGCTCTGTCCTGCAACTGCCAATATGTCCACCATGGCACCTGGCATGCTCCGTGCCCCAAGGAGGCTCGTGGTCTTCCGGAATGGTGACCCGAA\n"
       ]
      }
     ],
     "prompt_number": 77
    },
    {
     "cell_type": "code",
     "collapsed": true,
     "input": [
      "%%writefile script/grepFastq.py\n",
      "#\u4f5c\u4e1a7.2\n",
      "import sys\n",
      "\n",
      "def readFastq(seqFile):\n",
      "    aDict = {}\n",
      "    count = 0\n",
      "    for line in open(seqFile):\n",
      "        count += 1\n",
      "        if count % 4 == 1:\n",
      "            name = line.strip()[1:] #\u53bb\u6389\u5f00\u5934\u7684@\n",
      "            aDict[name] = [line] #\u5b58\u50a8\u540d\u5b57\u884c\n",
      "        else:\n",
      "            aDict[name].append(line)\n",
      "    #----END reading--------------\n",
      "    return aDict\n",
      "#-------END readFastq----------\u8fd9\u884c\u53ea\u662f\u6ce8\u91ca\uff0c\u53ef\u6709\u53ef\u65e0------\n",
      "\n",
      "def main():\n",
      "    if len(sys.argv) < 3:  #\u6ce8\u610f\u8fd9\u513f\u53c2\u6570\u6539\u53d8\u4e86\n",
      "        print >>sys.stderr, \"Usage: python %s seqFile nameFile\" % sys.argv[0] #\u4e00\u822c\u63d0\u793a\u4fe1\u606f\u8f93\u51fa\u5230\u6807\u51c6\u9519\u8bef\n",
      "        sys.exit(0)\n",
      "\n",
      "    seqFile = sys.argv[1]\n",
      "    nameFile = sys.argv[2]\n",
      "    aDict = readFastq(seqFile)\n",
      "    for line in open(nameFile):\n",
      "        name = line.strip()\n",
      "        print ''.join(aDict[name]),\n",
      "#-------END main------------------\n",
      "\n",
      "if __name__ == '__main__':\n",
      "    main()"
     ],
     "language": "python",
     "metadata": {},
     "outputs": [
      {
       "output_type": "stream",
       "stream": "stdout",
       "text": [
        "Overwriting grepFastq.py\n"
       ]
      }
     ],
     "prompt_number": 78
    },
    {
     "cell_type": "code",
     "collapsed": false,
     "input": [
      "%run script/grepFastq data/test1.fq data/fastq.name"
     ],
     "language": "python",
     "metadata": {},
     "outputs": [
      {
       "output_type": "stream",
       "stream": "stdout",
       "text": [
        "@HWI-ST1223:80:D1FMTACXX:2:1101:1243:2213 1:N:0:AGTCAA\n",
        "TCTGTGTAGCCNTGGCTGTCCTGGAACTCACTTTGTAGACCAGGCTGGCATGCACCACCACNNNCGGCTCATTTGTCTTTNNTTTTTGTTTTGTTCTGTA\n",
        "+\n",
        "BCCFFFFFFHH#4AFHIJJJJJJJJJJJJJJJJJIJIJJJJJGHIJJJJJJJJJJJJJIIJ###--5ABECFFDDEEEEE##,5=@B8?CDD<AD>C:@>\n",
        "@HWI-ST1223:80:D1FMTACXX:2:1101:1375:2060 1:N:0:AGTCAA\n",
        "NTGCTGAGCCACGACAAGGATCCCAGAGGGCCNAGCCCTGCATCTTGTATGGACCAGTTACNCATCAAAAGAGACTACTGTAGGCACCATCAATCAGATC\n",
        "+\n",
        "#1:DDDD;?CFFHDFEEIGIIIIIIG;DHFGG#)0?BFBDHBFF<FCFEFD;@DD@A=7?E#,,,;=(>3;=;;C>ACCC@CCCCCBBBCCAACCCCCCC\n",
        "@HWI-ST1223:80:D1FMTACXX:2:1101:1383:2091 1:N:0:AGTCAA\n",
        "NGTTCGTGTGGAACCTGGCGCTAAACCATTCGTAGACGACCTGCTTCTGGGTCGGGGTTTCGTACGTAGCAGAGCAGCTCCCTCGCTGCGATCTATTGAA\n",
        "+\n",
        "#1=DDFDFHHHHHJGJJJJJJJJJJJJJJJIJIGDHIHIGIJJJJJJJIIIGHHFDD3>BDDBDDDDDDDDDDBDCCBDDDDDDDDDDDBBDDDDEEACD\n",
        "@HWI-ST1223:80:D1FMTACXX:2:1101:1452:2138 1:N:0:AGTCAA\n",
        "NTCTAGGAGGTCTAGAAAGCCCAGGCCACCGGTACAAACATCAAGGGTGTTACGGATGTGCCGCTCTGAACCTCCAGGACGACTTTGATTTCAACTACAA\n",
        "+\n",
        "#4=DFFEFHHHHHJJJJJIJJJJHIIJGJJJJ@GIIJJJJJJIJJJJFGHIIIJJHHHDFFFFDDDDDDDDDDDDCDDDDDDDDDDDCCCEDEDDDDDDD\n"
       ]
      }
     ],
     "prompt_number": 79
    },
    {
     "cell_type": "code",
     "collapsed": false,
     "input": [
      "%%writefile script/screenResult.py\n",
      "#\u4f5c\u4e1a8\n",
      "import sys\n",
      "\n",
      "def screenResult(filename, fc_value, adjP_value):\n",
      "    head = 1 #This is used to indicate there is one head line needing to skip\n",
      "    for line in open(filename):\n",
      "        if head:\n",
      "            head -= 1\n",
      "            continue\n",
      "        #-----Begin data lines------\n",
      "        lineL = line.split()\n",
      "    \n",
      "        foldChange = float(lineL[9])\n",
      "        adjP = float(lineL[12])\n",
      "        if foldChange > fc_value and adjP < adjP_value:\n",
      "            print lineL[0]\n",
      "#-------END screenResult-------------------\n",
      "def main():\n",
      "    if len(sys.argv) < 4:  #\u6ce8\u610f\u8fd9\u513f\u53c2\u6570\u6539\u53d8\u4e86\n",
      "        print >>sys.stderr, \"Usage: python %s fileName fold_change adjP\" % sys.argv[0] #\u4e00\u822c\u63d0\u793a\u4fe1\u606f\u8f93\u51fa\u5230\u6807\u51c6\u9519\u8bef\n",
      "        sys.exit(0)\n",
      "\n",
      "    filename = sys.argv[1]\n",
      "    fc = float(sys.argv[2])\n",
      "    adjP = float(sys.argv[3])\n",
      "    \n",
      "    screenResult(filename, fc, adjP)\n",
      "#-------END main------------------\n",
      "\n",
      "if __name__ == '__main__':\n",
      "    main()"
     ],
     "language": "python",
     "metadata": {},
     "outputs": [
      {
       "output_type": "stream",
       "stream": "stdout",
       "text": [
        "Overwriting screenResult.py\n"
       ]
      }
     ],
     "prompt_number": 80
    },
    {
     "cell_type": "code",
     "collapsed": false,
     "input": [
      "%run script/screenResult data/test.expr 2 0.05"
     ],
     "language": "python",
     "metadata": {},
     "outputs": [
      {
       "output_type": "stream",
       "stream": "stdout",
       "text": [
        "Novel00011\n",
        "Novel00043\n",
        "Novel00047\n",
        "Novel00077\n",
        "Novel00079\n",
        "Novel00080\n",
        "Novel00084\n",
        "Novel00085\n",
        "Novel00086\n",
        "Novel00087\n",
        "Novel00090\n",
        "Novel00124\n",
        "Novel00148\n",
        "Novel00156\n",
        "Novel00162\n",
        "Novel00166\n"
       ]
      }
     ],
     "prompt_number": 81
    },
    {
     "cell_type": "code",
     "collapsed": false,
     "input": [
      "%%writefile script/transferMultipleColumToMatrix.py\n",
      "#\u4f5c\u4e1a9\n",
      "\n",
      "import sys\n",
      "\n",
      "def readMultipleColFile(filename):\n",
      "    head = 1\n",
      "    tissueSet = set()\n",
      "    aDict = {}\n",
      "    for line in open(filename):\n",
      "        if head: #skip header line\n",
      "            head -= 1\n",
      "            continue\n",
      "        #-------------------------------\n",
      "        lineL = line.split()\n",
      "        gene = lineL[0]\n",
      "        tissue = lineL[1]\n",
      "        expr = lineL[2]\n",
      "        if gene not in aDict:\n",
      "            aDict[gene] = {}\n",
      "        assert tissue not in aDict[gene], \"Duplicate tissues\"\n",
      "        aDict[gene][tissue] = expr\n",
      "        tissueSet.add(tissue)\n",
      "    #---END reading----------------------------\n",
      "    tissueL = list(tissueSet)\n",
      "    tissueL.sort()\n",
      "    return tissueL, aDict\n",
      "#----END readMultipleColFile--------------------------\n",
      "\n",
      "def main():\n",
      "    if len(sys.argv) < 2:  #\u6ce8\u610f\u8fd9\u513f\u53c2\u6570\u6539\u53d8\u4e86\n",
      "        print >>sys.stderr, \"Usage: python %s fileName\" % sys.argv[0] #\u4e00\u822c\u63d0\u793a\u4fe1\u606f\u8f93\u51fa\u5230\u6807\u51c6\u9519\u8bef\n",
      "        sys.exit(0)\n",
      "\n",
      "    filename = sys.argv[1]\n",
      "    tissueL, aDict = readMultipleColFile(filename)\n",
      "\n",
      "    print \"Gene\\t%s\" % '\\t'.join(tissueL)\n",
      "\n",
      "    for gene, tissueD in aDict.items():\n",
      "        exprL = [gene]\n",
      "        for tissue in tissueL:\n",
      "            exprL.append(tissueD[tissue])\n",
      "        print '\\t'.join(exprL)\n",
      "#-------END main------------------\n",
      "if __name__ == '__main__':\n",
      "    main()    "
     ],
     "language": "python",
     "metadata": {},
     "outputs": [
      {
       "output_type": "stream",
       "stream": "stdout",
       "text": [
        "Overwriting transferMultipleColumToMatrix.py\n"
       ]
      }
     ],
     "prompt_number": 82
    },
    {
     "cell_type": "code",
     "collapsed": false,
     "input": [
      "%run script/transferMultipleColumToMatrix data/multipleColExpr.txt"
     ],
     "language": "python",
     "metadata": {},
     "outputs": [
      {
       "output_type": "stream",
       "stream": "stdout",
       "text": [
        "Gene\tA-431\tA-549\tAN3-CA\tBEWO\tCACO-2\n",
        "ENSG00000000460\t25.2\t14.2\t10.6\t24.4\t14.2\n",
        "ENSG00000000938\t0.0\t0.0\t0.0\t0.0\t0.0\n",
        "ENSG00000000457\t2.8\t3.4\t3.8\t5.8\t2.9\n",
        "ENSG00000000419\t73.8\t38.6\t33.9\t53.7\t155.5\n",
        "ENSG00000000003\t21.3\t32.5\t38.2\t31.4\t63.9\n",
        "ENSG00000000005\t0.0\t0.0\t0.0\t0.0\t0.0\n"
       ]
      }
     ],
     "prompt_number": 83
    },
    {
     "cell_type": "code",
     "collapsed": false,
     "input": [
      "%%writefile script/reverseComplementary.py\n",
      "#\u4f5c\u4e1a10\n",
      "import sys\n",
      "\n",
      "def reverseComplementary(string):\n",
      "    ATCG_dict = {'A':'T','T':'A','C':'G','G':'C', 'a':'t','t':'a','c':'g','g':'c'}\n",
      "\n",
      "    tmpL = []\n",
      "    for i in string:\n",
      "        tmpL.append(ATCG_dict[i])\n",
      "    tmpL.reverse()\n",
      "    return ''.join(tmpL)\n",
      "#------END reverseComplementary-------\n",
      "def main():\n",
      "    if len(sys.argv) < 2:  #\u6ce8\u610f\u8fd9\u513f\u53c2\u6570\u6539\u53d8\u4e86\n",
      "        print >>sys.stderr, \"Usage: python %s DNAsequence\" % sys.argv[0] #\u4e00\u822c\u63d0\u793a\u4fe1\u606f\u8f93\u51fa\u5230\u6807\u51c6\u9519\u8bef\n",
      "        sys.exit(0)\n",
      "\n",
      "    DNA = sys.argv[1]\n",
      "    print reverseComplementary(DNA)    \n",
      "#-------END main------------------\n",
      "\n",
      "if __name__ == '__main__':\n",
      "    main()\n"
     ],
     "language": "python",
     "metadata": {},
     "outputs": [
      {
       "output_type": "stream",
       "stream": "stdout",
       "text": [
        "Overwriting reverseComplementary.py\n"
       ]
      }
     ],
     "prompt_number": 84
    },
    {
     "cell_type": "code",
     "collapsed": false,
     "input": [
      "%run script/reverseComplementary ACGTACGTACGTCACGTCAGCTAGAC"
     ],
     "language": "python",
     "metadata": {},
     "outputs": [
      {
       "output_type": "stream",
       "stream": "stdout",
       "text": [
        "GTCTAGCTGACGTGACGTACGTACGT\n"
       ]
      }
     ],
     "prompt_number": 85
    },
    {
     "cell_type": "code",
     "collapsed": false,
     "input": [
      "%%writefile script/collapsemiRNAreads.py\n",
      "#\u4f5c\u4e1a11\n",
      "\n",
      "import sys\n",
      "\n",
      "def collapsemiRNAreads(smRNA_file, sample, head = 1):\n",
      "    lineno = 0\n",
      "    for line in open(smRNA_file):\n",
      "        if head:\n",
      "            head -= 1\n",
      "            continue\n",
      "        #----end skip header line---\n",
      "        seq, value = line.split()\n",
      "        lineno += 1\n",
      "        print \">%s_%d_x%s\\n%s\" % (sample, lineno, value, seq)\n",
      "#-------end collapsemiRNAreads------------\n",
      "def main():\n",
      "    if len(sys.argv) < 3:  #\u6ce8\u610f\u8fd9\u513f\u53c2\u6570\u6539\u53d8\u4e86\n",
      "        print >>sys.stderr, \\\n",
      "            \"Usage: python %s smRNA_file sampleLabel (Only three letters like ESB)\" % sys.argv[0] #\u4e00\u822c\u63d0\u793a\u4fe1\u606f\u8f93\u51fa\u5230\u6807\u51c6\u9519\u8bef\n",
      "        sys.exit(0)\n",
      "\n",
      "    smRNA_file = sys.argv[1]\n",
      "    sample = sys.argv[2]\n",
      "    collapsemiRNAreads(smRNA_file, sample)    \n",
      "#-------END main------------------\n",
      "\n",
      "if __name__ == '__main__':\n",
      "    main()"
     ],
     "language": "python",
     "metadata": {},
     "outputs": [
      {
       "output_type": "stream",
       "stream": "stdout",
       "text": [
        "Overwriting collapsemiRNAreads.py\n"
       ]
      }
     ],
     "prompt_number": 86
    },
    {
     "cell_type": "code",
     "collapsed": false,
     "input": [
      "%run script/collapsemiRNAreads data/mir.collapse ESB"
     ],
     "language": "python",
     "metadata": {},
     "outputs": [
      {
       "output_type": "stream",
       "stream": "stdout",
       "text": [
        ">ESB_1_x2\n",
        "ACTGCCCTAAGTGCTCCTTCTGGC\n",
        ">ESB_2_x2\n",
        "ATAAGGTGCATCTAGTGCAGATA\n",
        ">ESB_3_x1\n",
        "TGAGGTAGTAGTTTGTGCTGTTT\n",
        ">ESB_4_x1\n",
        "TCCTACGAGTTGCATGGATTC\n",
        ">ESB_5_x1\n",
        "ACCGGGTGGAGCCGCCGCA\n",
        ">ESB_6_x1\n",
        "ACTGCCCTAAGTGCTCCTTCTGGT\n",
        ">ESB_7_x1\n",
        "TACAGGGCTGGGGATGG\n",
        ">ESB_8_x1\n",
        "CCCTGGATGCTGTAGGATG\n",
        ">ESB_9_x1\n",
        "AAAATGCTACTACTTTTGAGTC\n",
        ">ESB_10_x1\n",
        "TCCCTGGTGGTCTAGTGGCTAGGAT\n",
        ">ESB_11_x4\n",
        "CTCTTAGATCGATGTGGTGCTC\n",
        ">ESB_12_x1\n",
        "TTGGTGGTTCAGTGGTA\n",
        ">ESB_13_x1\n",
        "TCACAATTCCCCTATACCATGGGCCAT\n",
        ">ESB_14_x1\n",
        "CAAATGCTAGGGTTGGTGG\n",
        ">ESB_15_x4\n",
        "AGGCAGCTTCCACAGCA\n",
        ">ESB_16_x3\n",
        "GCACTGAGATGGAGTGGTGTAA\n",
        ">ESB_17_x3\n",
        "CTCCATTTGTTTGATGATGGA\n",
        ">ESB_18_x1\n",
        "GCACTGAGATGGAGTGGTGTAT\n",
        ">ESB_19_x2\n",
        "AGTGCCCAGAGTTTGTAGTGT\n",
        ">ESB_20_x1\n",
        "ATAAGGTGCATCTAGTGCTGTTAGA\n",
        ">ESB_21_x9\n",
        "AAAATGCTTCCACTTTGTGTG\n",
        ">ESB_22_x2\n",
        "GGTAATTCTAGAGCTAATACATGCCG\n",
        ">ESB_23_x6\n",
        "CCGGGCGGAAACACCA\n",
        ">ESB_24_x1\n",
        "TGAAAGGCTGACCCGCCGGGC\n",
        ">ESB_25_x1\n",
        "TTCGTACAGTGGTCGTAAGTTCGTGC\n",
        ">ESB_26_x1\n",
        "GGTTAGCACTCTGGACTC\n"
       ]
      }
     ],
     "prompt_number": 87
    },
    {
     "cell_type": "code",
     "collapsed": false,
     "input": [
      "%%writefile script/map.py\n",
      "#\u4f5c\u4e1a12\n",
      "import sys\n",
      "\n",
      "def readRef(ref):\n",
      "    refD = {}\n",
      "    for line in open(ref):\n",
      "        if line[0] == '>':\n",
      "            name = line[1:-1]\n",
      "            assert name not in refD\n",
      "            refD[name] = []\n",
      "        else:\n",
      "            refD[name].append(line.strip())\n",
      "    #---------END reading----------------\n",
      "    for key, valueL in refD.items():\n",
      "        refD[key] = ''.join(valueL)\n",
      "    return refD\n",
      "#---------END readRef----------------\n",
      "def mapSeq(seq, refD):\n",
      "    len_seq = len(seq)\n",
      "    for key, value in refD.items():\n",
      "        pos = value.find(seq)\n",
      "        while pos != -1:\n",
      "            print \"%s\\t%d\\t%d\\t%s\" % (key, pos, pos+len_seq, seq)\n",
      "            current = pos + 1\n",
      "            newpos = value[current:].find(seq)\n",
      "            if newpos == -1:\n",
      "                break\n",
      "            pos = current + newpos\n",
      "#----------END mapSeq------------\n",
      "def main():\n",
      "    if len(sys.argv) < 3:  #\u6ce8\u610f\u8fd9\u513f\u53c2\u6570\u6539\u53d8\u4e86\n",
      "        print >>sys.stderr, \\\n",
      "            \"Usage: python %s Ref_genome.fa reads.fa\" % sys.argv[0] #\u4e00\u822c\u63d0\u793a\u4fe1\u606f\u8f93\u51fa\u5230\u6807\u51c6\u9519\u8bef\n",
      "        sys.exit(0)\n",
      "\n",
      "    ref = sys.argv[1]\n",
      "    read = sys.argv[2]\n",
      "    refD = readRef(ref)\n",
      "    #------------------------------------\n",
      "    for line in open(read):\n",
      "        if line[0] == '>':\n",
      "            pass\n",
      "        else:\n",
      "            seq = line.strip()\n",
      "            mapSeq(seq, refD)   \n",
      "#-------END main------------------\n",
      "\n",
      "if __name__ == '__main__':\n",
      "    main()"
     ],
     "language": "python",
     "metadata": {},
     "outputs": [
      {
       "output_type": "stream",
       "stream": "stdout",
       "text": [
        "Overwriting map.py\n"
       ]
      }
     ],
     "prompt_number": 88
    },
    {
     "cell_type": "code",
     "collapsed": false,
     "input": [
      "%run script/map data/ref.fa data/short.fa"
     ],
     "language": "python",
     "metadata": {},
     "outputs": [
      {
       "output_type": "stream",
       "stream": "stdout",
       "text": [
        "chr1\t199\t208\tTGGCGTTCA\n",
        "chr1\t207\t216\tACCCCGCTG\n",
        "chr2\t63\t70\tAAATTGC\n",
        "chr3\t0\t7\tAATAAAT\n",
        "chr3\t66\t74\tCCACACAA\n",
        "chr3\t206\t214\tATATCACT\n",
        "chr2\t163\t171\tATATCACT\n",
        "chr3\t417\t423\tAGAGGA\n",
        "chr2\t374\t380\tAGAGGA\n",
        "chrX\t137\t143\tAGAGGA\n"
       ]
      }
     ],
     "prompt_number": 89
    },
    {
     "cell_type": "heading",
     "level": 1,
     "metadata": {},
     "source": [
      "References"
     ]
    },
    {
     "cell_type": "markdown",
     "metadata": {},
     "source": [
      "* http://www.byteofpython.info/\n",
      "* http://woodpecker.org.cn/abyteofpython_cn/chinese/index.html\n",
      "* http://www.python-course.eu/"
     ]
    }
   ],
   "metadata": {}
  }
 ]
}