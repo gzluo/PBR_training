{
 "metadata": {
  "name": "",
  "signature": "sha256:0f783577253ab891061fbca01522d9803a6943f4b33e62254c736080661a929c"
 },
 "nbformat": 3,
 "nbformat_minor": 0,
 "worksheets": [
  {
   "cells": [
    {
     "cell_type": "code",
     "collapsed": false,
     "input": [
      "%%bash\n",
      "echo \"\u4f7f\u7528man page\u6765\u83b7\u53d6\u547d\u4ee4\u7684\u610f\u4e49\u548c\u4f7f\u7528\u65b9\u5f0f\u3001\u53c2\u6570\u89e3\u91ca\"\n",
      "man"
     ],
     "language": "python",
     "metadata": {},
     "outputs": [
      {
       "output_type": "stream",
       "stream": "stdout",
       "text": [
        "\u4f7f\u7528man page\u6765\u83b7\u53d6\u547d\u4ee4\u7684\u610f\u4e49\u548c\u4f7f\u7528\u65b9\u5f0f\u3001\u53c2\u6570\u89e3\u91ca\n"
       ]
      },
      {
       "output_type": "stream",
       "stream": "stderr",
       "text": [
        "What manual page do you want?\n"
       ]
      }
     ],
     "prompt_number": 11
    },
    {
     "cell_type": "code",
     "collapsed": false,
     "input": [
      "%%bash\n",
      "echo \"\u65b0\u5efa\u4e00\u4e2a\u76ee\u5f55\uff0c\u5982\u679c\u8fd9\u4e2a\u76ee\u5f55\u5df2\u7ecf\u5b58\u5728\uff0c\u7cfb\u7edf\u4f1a\u62a5\u9519\"\n",
      "mkdir bash_work\n",
      "\n",
      "echo \"\u65b0\u5efa\u4e00\u4e2a\u76ee\u5f55\uff0c\u5982\u679c\u8fd9\u4e2a\u76ee\u5f55\u5df2\u7ecf\u5b58\u5728\uff0c\u52a0\u4e0a-p\u8fd9\u4e2a\u53c2\u6570\u7cfb\u7edf\u5c31\u4e0d\u4f1a\u62a5\u9519\"\n",
      "mkdir -p bash_work"
     ],
     "language": "python",
     "metadata": {},
     "outputs": [
      {
       "output_type": "stream",
       "stream": "stdout",
       "text": [
        "\u65b0\u5efa\u4e00\u4e2a\u76ee\u5f55\uff0c\u5982\u679c\u8fd9\u4e2a\u76ee\u5f55\u5df2\u7ecf\u5b58\u5728\uff0c\u7cfb\u7edf\u4f1a\u62a5\u9519\n",
        "\u65b0\u5efa\u4e00\u4e2a\u76ee\u5f55\uff0c\u5982\u679c\u8fd9\u4e2a\u76ee\u5f55\u5df2\u7ecf\u5b58\u5728\uff0c\u52a0\u4e0a-p\u8fd9\u4e2a\u53c2\u6570\u7cfb\u7edf\u5c31\u4e0d\u4f1a\u62a5\u9519\n"
       ]
      },
      {
       "output_type": "stream",
       "stream": "stderr",
       "text": [
        "mkdir: cannot create directory `bash_work': File exists\n"
       ]
      }
     ],
     "prompt_number": 12
    },
    {
     "cell_type": "code",
     "collapsed": false,
     "input": [
      "%%bash\n",
      "echo \"\u65b0\u5efa\u4e00\u4e2a\u7a7a\u6587\u4ef6\"\n",
      "touch new_file\n",
      "ls -l"
     ],
     "language": "python",
     "metadata": {},
     "outputs": [
      {
       "output_type": "stream",
       "stream": "stdout",
       "text": [
        "\u65b0\u5efa\u4e00\u4e2a\u7a7a\u6587\u4ef6\n",
        "total 8\n",
        "-rw-rw-r-- 1 chentong chentong 3959 Jul 29 05:58 Bash_training-chinese.ipynb\n",
        "drwxrwxr-x 2 chentong chentong 4096 Jul 29 05:53 bash_work\n",
        "-rw-rw-r-- 1 chentong chentong    0 Jul 29 05:58 new_file\n"
       ]
      }
     ],
     "prompt_number": 14
    },
    {
     "cell_type": "code",
     "collapsed": false,
     "input": [
      "%%bash\n",
      "echo \"ls\u5217\u51fa\u5f53\u524d\u76ee\u5f55\u7684\u5185\u5bb9\"\n",
      "ls\n",
      "echo \"-----------------\"\n",
      "echo \"\u5217\u8f66\u76ee\u5f55bash_work\u7684\u5185\u5bb9\"\n",
      "ls bash_work"
     ],
     "language": "python",
     "metadata": {},
     "outputs": [
      {
       "output_type": "stream",
       "stream": "stdout",
       "text": [
        "ls\u5217\u51fa\u5f53\u524d\u76ee\u5f55\u7684\u5185\u5bb9\n",
        "Bash_training-chinese.ipynb\n",
        "bash_work\n",
        "-----------------\n"
       ]
      }
     ],
     "prompt_number": 10
    },
    {
     "cell_type": "code",
     "collapsed": false,
     "input": [
      "%%bash\n",
      "echo \"\u5217\u51fa\u5f53\u524d\u76ee\u5f55\u7684\u5185\u5bb9\u7684\u8be6\u7ec6\u4fe1\u606f\"\n",
      "ls -l\n",
      "\n",
      "echo \"\u4ee5\u4eba\u7c7b\u53ef\u8bfb\u7684\u65b9\u5f0f\u5217\u51fa\u5f53\u524d\u76ee\u5f55\u7684\u5185\u5bb9\u7684\u5927\u5c0f\"\n",
      "ls -sh"
     ],
     "language": "python",
     "metadata": {},
     "outputs": [
      {
       "output_type": "stream",
       "stream": "stdout",
       "text": [
        "total 8\n",
        "-rw-rw-r-- 1 chentong chentong 2799 Jul 29 05:56 Bash_training-chinese.ipynb\n",
        "drwxrwxr-x 2 chentong chentong 4096 Jul 29 05:53 bash_work\n",
        "total 8.0K\n",
        "4.0K Bash_training-chinese.ipynb\n",
        "4.0K bash_work\n"
       ]
      }
     ],
     "prompt_number": 9
    },
    {
     "cell_type": "markdown",
     "metadata": {},
     "source": [
      "**`ls -l`\u5217\u51fa\u7684\u6587\u4ef6\u5c5e\u6027\u89e3\u91ca**\n",
      "\n",
      "```\n",
      "rw-rw-r-- 1 chentong chentong 2799 Jul 29 05:56 Bash_training-chinese.ipynb\n",
      "drwxrwxr-x 2 chentong chentong 4096 Jul 29 05:53 bash_work\n",
      "```    \n",
      "\u6587\u4ef6\u5c5e\u6027\u5217\u4e3a`ls -l`\u8f93\u51fa\u7ed3\u679c\u7684\u7b2c\u4e00\u5217\uff0c\u6700\u540e9\u4e2a\u5b57\u6bcd\u8868\u793a\u6587\u4ef6*\u8bfb\u5199\u53ef\u6267\u884c*\u5c5e\u6027\u3002\u8fd99\u4e2a\u5b57\u6bcd\u5206\u4e3a3\u7ec4\uff0c\u6bcf\u7ec43\u4e2a\u5b57\u6bcd\uff0c\u4ece\u524d\u5411\u540e\u4f9d\u6b21\u4ee3\u8868\u6587\u4ef6\u7684\u6240\u6709\u8005\u7684\u6743\u9650\uff0c\u6587\u4ef6\u6240\u6709\u8005\u6240\u5728\u7ec4\u7684\u6743\u9650\uff0c\u5176\u5b83\u4eba\u7684\u6743\u9650\u3002\u6bcf\u7ec4\u5305\u542b4\u4e2a\u5b57\u7b26\uff0c`r`\u4ee3\u8868`read`\u53ef\u8bfb\uff0c`w`\u4ee3\u8868`write`\u53ef\u5199,`x`\u4ee3\u8868`executive`\u53ef\u6267\u884c\uff0c`-`\u4ee3\u8868\u7f3a\u5c11\u8fd9\u4e2a\u6743\u9650\u3002\u5982\u5bf9\u6587\u4ef6`Bash_training-chinese.ipynb`\u6765\u8bb2\uff0c\u5176\u6240\u6709\u8005`chentong`\u548c\u6240\u5728\u7ec4`chentong`\u5bf9\u8fd9\u4e2a\u6587\u4ef6\u6709*\u53ef\u8bfb\u548c\u53ef\u5199*\u7684\u6743\u9650\uff0c\u5176\u5b83\u4eba\u90fd\u53ea\u6709\u53ef\u8bfb\u6743\u9650\uff0c\u6ca1\u6709\u4eba\u5177\u6709\u53ef\u6267\u884c\u6743\u9650 \uff08\u540e\u9762\u4f1a\u5355\u72ec\u4ecb\u7ecd\u53ef\u6267\u884c\u6743\u9650\uff09\u3002\u76ee\u5f55\u6bd4\u6587\u4ef6\u5728\u5c5e\u6027\u7684\u5f00\u5934\u5904\u591a\u4e86\u4e2a`d`\u4ee3\u8868`directory`\u3002\n"
     ]
    },
    {
     "cell_type": "code",
     "collapsed": false,
     "input": [
      "%%bash\n",
      "echo \"\u62f7\u8d1d\u4e00\u4e2a\u6587\u4ef6\"\n",
      "cp Bash_training-chinese.ipynb bash_work/Bash_training-chinese.ipynb.bak\n",
      "ls -l\n",
      "\n",
      "echo \"\u62f7\u8d1d\u4e00\u4e2a\u6587\u4ef6\u5230\u6307\u5b9a\u76ee\u5f55\"\n",
      "cp Bash_training-chinese.ipynb bash_work/\n",
      "ls"
     ],
     "language": "python",
     "metadata": {},
     "outputs": [
      {
       "output_type": "stream",
       "stream": "stdout",
       "text": [
        "\u62f7\u8d1d\u4e00\u4e2a\u6587\u4ef6\n",
        "total 24\n",
        "-rw-rw-r-- 1 chentong chentong 8154 Jul 29 06:14 Bash_training-chinese.ipynb\n",
        "-rw-rw-r-- 1 chentong chentong 6367 Jul 29 06:11 Bash_training-chinese.ipynb.bak\n",
        "drwxrwxr-x 2 chentong chentong 4096 Jul 29 06:12 bash_work\n",
        "drwxrwxr-x 3 chentong chentong 4096 Jul 29 06:13 bash_work.bak\n",
        "-rw-rw-r-- 1 chentong chentong    0 Jul 29 05:58 new_file\n",
        "\u62f7\u8d1d\u4e00\u4e2a\u6587\u4ef6\u5230\u6307\u5b9a\u76ee\u5f55\n",
        "Bash_training-chinese.ipynb\n",
        "Bash_training-chinese.ipynb.bak\n",
        "bash_work\n",
        "bash_work.bak\n",
        "new_file\n",
        "\u62f7\u8d1d\u4e00\u4e2a\u76ee\u5f55,\u6ce8\u610f-r\u53c2\u6570\n",
        "Bash_training-chinese.ipynb\n",
        "Bash_training-chinese.ipynb.bak\n",
        "bash_work\n",
        "bash_work.bak\n",
        "new_file\n"
       ]
      }
     ],
     "prompt_number": 21
    },
    {
     "cell_type": "code",
     "collapsed": false,
     "input": [
      "%%bash\n",
      "echo \"\u62f7\u8d1d\u4e00\u4e2a\u76ee\u5f55,\u6ce8\u610f-r\u53c2\u6570, -r\u8868\u793arecursive\uff0c\u9012\u5f52\u5730\u62f7\u8d1d\"\n",
      "cp -r bash_work bash_work.bak\n",
      "ls"
     ],
     "language": "python",
     "metadata": {},
     "outputs": []
    },
    {
     "cell_type": "code",
     "collapsed": false,
     "input": [
      "%%bash\n",
      "echo \"\u62f7\u8d1d\u65f6\u5982\u679c\u5df2\u5b58\u5728\u540c\u540d\u6587\u4ef6\uff0c\u505a\u51fa\u63d0\u793a\u64cd\u4f5c, -i interactive\"\n",
      "cp -i Bash_training-chinese.ipynb bash_work"
     ],
     "language": "python",
     "metadata": {},
     "outputs": [
      {
       "output_type": "stream",
       "stream": "stdout",
       "text": [
        "\u62f7\u8d1d\u65f6\u5982\u679c\u5df2\u5b58\u5728\u540c\u540d\u6587\u4ef6\uff0c\u505a\u51fa\u63d0\u793a\u64cd\u4f5c, -i interactive\n"
       ]
      },
      {
       "output_type": "stream",
       "stream": "stderr",
       "text": [
        "cp: overwrite `bash_work/Bash_training-chinese.ipynb'? "
       ]
      }
     ],
     "prompt_number": 24
    },
    {
     "cell_type": "code",
     "collapsed": false,
     "input": [
      "%%bash\n",
      "echo \"\u62f7\u8d1d\u65f6\u5982\u679c\u5df2\u5b58\u5728\u540c\u540d\u6587\u4ef6\u5f3a\u5236\u8986\u76d6, -f force\"\n",
      "cp -f Bash_training-chinese.ipynb bash_work"
     ],
     "language": "python",
     "metadata": {},
     "outputs": [
      {
       "output_type": "stream",
       "stream": "stdout",
       "text": [
        "\u62f7\u8d1d\u65f6\u5982\u679c\u5df2\u5b58\u5728\u540c\u540d\u6587\u4ef6\u5f3a\u5236\u8986\u76d6, -f force\n"
       ]
      }
     ],
     "prompt_number": 25
    },
    {
     "cell_type": "code",
     "collapsed": false,
     "input": [
      "%%bash\n",
      "echo \"\u5220\u9664\u4e00\u4e2a\u6587\u4ef6\uff0c\u5e76\u5728\u5220\u9664\u524d\u7ed9\u51fa\u786e\u8ba4\u63d0\u793a\"\n",
      "rm -i bash_work/Bash_training-chinese.ipynb"
     ],
     "language": "python",
     "metadata": {},
     "outputs": [
      {
       "output_type": "stream",
       "stream": "stdout",
       "text": [
        "\u5220\u9664\u4e00\u4e2a\u6587\u4ef6\uff0c\u5e76\u5728\u5220\u9664\u524d\u7ed9\u51fa\u786e\u8ba4\u63d0\u793a\n"
       ]
      },
      {
       "output_type": "stream",
       "stream": "stderr",
       "text": [
        "rm: remove regular file `bash_work/Bash_training-chinese.ipynb'? "
       ]
      }
     ],
     "prompt_number": 26
    },
    {
     "cell_type": "code",
     "collapsed": false,
     "input": [
      "%%bash\n",
      "echo \"\u5f3a\u5236\u5220\u9664\u4e00\u4e2a\u6587\u4ef6\"\n",
      "rm -f bash_work/Bash_training-chinese.ipynb\n",
      "ls bash_work"
     ],
     "language": "python",
     "metadata": {},
     "outputs": []
    },
    {
     "cell_type": "code",
     "collapsed": false,
     "input": [
      "%%bash\n",
      "echo \"\u5220\u9664\u4e00\u4e2a\u6587\u4ef6\u5939, -r \u8868\u793a\u9012\u5f52\u5730\u5220\u9664\uff08recursive\uff09, -f \u8868\u793a\u5f3a\u5236\u5220\u9664\"\n",
      "rm -rf bash_work\n",
      "ls \n",
      "\n",
      "echo \"\u6ce8\u610frm\u64cd\u4f5c\u4e0d\u53ef\u6062\u590d\uff0c\u5220\u6389\u7684\u6587\u4ef6\u4e0d\u4f1a\u8fdb\u5165\u56de\u6536\u7ad9\uff0c\u800c\u662f\u76f4\u63a5\u4e22\u5931\""
     ],
     "language": "python",
     "metadata": {},
     "outputs": []
    },
    {
     "cell_type": "code",
     "collapsed": false,
     "input": [
      "%%bash\n",
      "echo \"\u67e5\u770b\u5f53\u524d\u5de5\u4f5c\u76ee\u5f55, print-working-directory\"\n",
      "pwd"
     ],
     "language": "python",
     "metadata": {},
     "outputs": [
      {
       "output_type": "stream",
       "stream": "stdout",
       "text": [
        "\u67e5\u770b\u5f53\u524d\u5de5\u4f5c\u76ee\u5f55\n",
        "/home/chentong/tutorial\n"
       ]
      }
     ],
     "prompt_number": 27
    },
    {
     "cell_type": "code",
     "collapsed": false,
     "input": [
      "%%bash\n",
      "echo \"\u66f4\u6362\u5de5\u4f5c\u76ee\u5f55\uff0ccd=change-dir\"\n",
      "\n",
      "echo \"\u5f53\u524d\u5de5\u4f5c\u76ee\u5f55\u662f`pwd`\"\n",
      "cd bash_work\n",
      "echo \"\u66f4\u6362\u540e\uff0c\u5de5\u4f5c\u76ee\u5f55\u662f`pwd`\"\n",
      "echo \"\u56de\u5230\u539f\u6765\u7684\u76ee\u5f55\"\n",
      "cd ../\n",
      "echo \"\u66f4\u6362\u540e\uff0c\u5de5\u4f5c\u76ee\u5f55\u662f`pwd`\"\n",
      "echo \n",
      "echo \"\u95ee\u9898\uff1a\u81ea\u884c\u67e5\u627e\u53e6\u5916\u4e00\u4e2a\u56de\u5230\u539f\u6765\u5de5\u4f5c\u76ee\u5f55\u7684\u65b9\u5f0f\uff1f\""
     ],
     "language": "python",
     "metadata": {},
     "outputs": [
      {
       "output_type": "stream",
       "stream": "stdout",
       "text": [
        "\u66f4\u6362\u5de5\u4f5c\u76ee\u5f55\uff0ccd=change-dir\n",
        "\u5f53\u524d\u5de5\u4f5c\u76ee\u5f55\u662f/home/chentong/tutorial\n",
        "\u66f4\u6362\u540e\uff0c\u5de5\u4f5c\u76ee\u5f55\u662f/home/chentong/tutorial/bash_work\n",
        "\u56de\u5230\u539f\u6765\u7684\u76ee\u5f55\n",
        "\u66f4\u6362\u540e\uff0c\u5de5\u4f5c\u76ee\u5f55\u662f/home/chentong/tutorial\n",
        "\n",
        "\u95ee\u9898\uff1a\u81ea\u884c\u67e5\u627e\u53e6\u5916\u4e00\u4e2a\u56de\u5230\u539f\u6765\u5de5\u4f5c\u76ee\u5f55\u7684\u65b9\u5f0f\uff1f\n"
       ]
      }
     ],
     "prompt_number": 34
    },
    {
     "cell_type": "code",
     "collapsed": false,
     "input": [
      "%%bash\n",
      "echo \"\u67e5\u770b\u6587\u4ef6\u7684\u884c\u6570, world count\"\n",
      "wc -l Bash_training-chinese.ipynb\n",
      "echo \n",
      "echo \"\u95ee\u9898\uff1a\u5982\u4f55\u67e5\u770b\u6587\u4ef6\u7684\u5b57\u7b26\u6570? \u63d0\u793a\uff1a\u4f7f\u7528manpage\u6765\u770bwc\u547d\u4ee4\u7684\u53c2\u6570\u4f7f\u7528\""
     ],
     "language": "python",
     "metadata": {},
     "outputs": [
      {
       "output_type": "stream",
       "stream": "stdout",
       "text": [
        "\u67e5\u770b\u6587\u4ef6\u7684\u884c\u6570, world count\n",
        "393 Bash_training-chinese.ipynb\n",
        "\n",
        "\u95ee\u9898\uff1a\u5982\u4f55\u67e5\u770b\u6587\u4ef6\u7684\u5b57\u7b26\u6570? \u63d0\u793a\uff1a\u4f7f\u7528manpage\u6765\u770bwc\u547d\u4ee4\u7684\u53c2\u6570\u4f7f\u7528\n"
       ]
      }
     ],
     "prompt_number": 31
    },
    {
     "cell_type": "code",
     "collapsed": false,
     "input": [
      "%%bash\n",
      "echo \"\u67e5\u770b\u6587\u4ef6\u524d\u7684\u524d\u51e0\u884c\u548c\u672b\u51e0\u884c\"\n",
      "echo \"\u524d10\u884c\"\n",
      "head Bash_training-chinese.ipynb\n",
      "echo \"\u540e10\u884c\"\n",
      "tail Bash_training-chinese.ipynb"
     ],
     "language": "python",
     "metadata": {},
     "outputs": []
    },
    {
     "cell_type": "markdown",
     "metadata": {},
     "source": [
      "**less\u7684\u64cd\u4f5c**\n",
      "\n",
      "* q or ESC \u9000\u51fa\u5f53\u524dless\u547d\u4ee4\n",
      "* /word \u641c\u7d22\u67d0\u4e2a\u5355\u8bcd\uff0c\u56de\u8f66\u540e\u6309`n`\u53ef\u4ee5\u8df3\u5230\u5176\u5b83\u5339\u914d\u5355\u8bcd\n",
      "* \u5728`less`\u7a97\u53e3\u8f93\u5165 `/`\u540e\u53ef\u4ee5\u4f7f\u7528\u65b9\u5411\u952e\u56de\u6eaf\u4e4b\u524d\u7684\u641c\u7d22"
     ]
    },
    {
     "cell_type": "code",
     "collapsed": false,
     "input": [
      "%%bash\n",
      "echo \"\u8bfb\u6587\u4ef6\uff0cless, more, cat\"\n",
      "less Bash_training-chinese.ipynb"
     ],
     "language": "python",
     "metadata": {},
     "outputs": []
    },
    {
     "cell_type": "markdown",
     "metadata": {},
     "source": [
      "**\u4f7f\u7528\u6280\u5de71**\n",
      "\n",
      "* `CTRL-C` \u6216 `ESC` \u53ef\u4ee5\u4e2d\u65ad\u8fd0\u884c\u7684\u4efb\u4f55\u7a0b\u5e8f\n",
      "* `clear` \u6e05\u7a7a\u5f53\u524d\u7684\u5c4f\u5e55\u8f93\u51fa\n",
      "* \u65b9\u5411\u952e\u7684\u4e0a\u4e0b\u7bad\u5934\u6765\u56de\u6eaf\u4f7f\u7528\u8fc7\u7684\u547d\u4ee4\n",
      "* \u4f7f\u7528`TAB`\u952e\u81ea\u52a8\u8865\u5168\u672a\u5199\u5b8c\u6574\u7684\u547d\u4ee4\u6216\u6587\u4ef6\u8def\u5f84\n",
      "* !ssh\u53ef\u4ee5\u8c03\u51fa\u6700\u8fd1\u4e00\u6761\u6267\u884c\u8fc7\u7684\u4ee5ssh\u5f00\u5934\u7684\u547d\u4ee4\n",
      "* !!\u8868\u793a\u4e0a\u4e00\u6761\u6267\u884c\u7684\u547d\u4ee4\n",
      "* !!:gs/old/new \u628a\u4e0a\u4e00\u6761\u547d\u4ee4\u7684\u53c2\u6570\u66ff\u6362\u4e3a\u65b0\u53c2\u6570\u540e\u518d\u6267\u884c\n",
      "* | \u7ad6\u7ebf\u4e3a\u7ba1\u9053\u64cd\u4f5c\u7b26\uff0c\u53ef\u4ee5\u628a\u4e00\u4e2a\u547d\u4ee4\u7684\u8f93\u51fa\u4f5c\u4e3a\u7b2c\u4e8c\u4e2a\u547d\u4ee4\u7684\u8f93\u5165\u76f4\u63a5\u4f20\u9012\u8fc7\u53bb"
     ]
    },
    {
     "cell_type": "code",
     "collapsed": false,
     "input": [
      "%%bash\n",
      "/bin/rm -f bash_work/test\n",
      "for i in `seq 1 10`; do\n",
      "    echo -e \"$i\\t$((i*(-1)))\" >>bash_work/test\n",
      "done"
     ],
     "language": "python",
     "metadata": {},
     "outputs": [],
     "prompt_number": 7
    },
    {
     "cell_type": "code",
     "collapsed": false,
     "input": [
      "%%bash\n",
      "cat bash_work/test"
     ],
     "language": "python",
     "metadata": {},
     "outputs": [
      {
       "output_type": "stream",
       "stream": "stdout",
       "text": [
        "1\t-1\n",
        "2\t-2\n",
        "3\t-3\n",
        "4\t-4\n",
        "5\t-5\n",
        "6\t-6\n",
        "7\t-7\n",
        "8\t-8\n",
        "9\t-9\n",
        "10\t-10\n"
       ]
      }
     ],
     "prompt_number": 8
    },
    {
     "cell_type": "code",
     "collapsed": false,
     "input": [
      "%%bash\n",
      "echo \"\u9ed8\u8ba4sort\u4f1a\u9075\u5faa\u5b57\u7b26\u4e32\u7684\u6392\u5e8f\u89c4\u5219\uff0c\u4ece\u524d\u5411\u540e\u9010\u6b65\u9009\u53d6\u6bcf\u884c\u4e00\u4e2a\u5b57\u7b26\u6309\u7167ASCII\u7801\u5927\u5c0f\u6bd4\u8f83\"\n",
      "sort bash_work/test "
     ],
     "language": "python",
     "metadata": {},
     "outputs": [
      {
       "output_type": "stream",
       "stream": "stdout",
       "text": [
        "10\t-10\n",
        "1\t-1\n",
        "2\t-2\n",
        "3\t-3\n",
        "4\t-4\n",
        "5\t-5\n",
        "6\t-6\n",
        "7\t-7\n",
        "8\t-8\n",
        "9\t-9\n"
       ]
      }
     ],
     "prompt_number": 12
    },
    {
     "cell_type": "code",
     "collapsed": false,
     "input": [
      "%%bash\n",
      "echo \"sort -n \u8f6c\u6362\u4e3a\u6309\u6570\u5b57\u5927\u5c0f\u6392\u5e8f\"\n",
      "sort -n bash_work/test"
     ],
     "language": "python",
     "metadata": {},
     "outputs": [
      {
       "output_type": "stream",
       "stream": "stdout",
       "text": [
        "sort -n \u8f6c\u6362\u4e3a\u6309\u6570\u5b57\u5927\u5c0f\u6392\u5e8f\n",
        "1\t-1\n",
        "2\t-2\n",
        "3\t-3\n",
        "4\t-4\n",
        "5\t-5\n",
        "6\t-6\n",
        "7\t-7\n",
        "8\t-8\n",
        "9\t-9\n",
        "10\t-10\n"
       ]
      },
      {
       "output_type": "stream",
       "stream": "stderr",
       "text": [
        "bash: line 3: !!: command not found\n"
       ]
      }
     ],
     "prompt_number": 2
    },
    {
     "cell_type": "code",
     "collapsed": false,
     "input": [
      "%%bash\n",
      "echo \"sort -k2,2n \u9009\u53d6\u7b2c\u4e8c\u5217\u5e76\u4f5c\u4e3a\u6570\u5b57\u6392\u5e8f\"\n",
      "sort -k2,2n bash_work/test"
     ],
     "language": "python",
     "metadata": {},
     "outputs": [
      {
       "output_type": "stream",
       "stream": "stdout",
       "text": [
        "10\t-10\n",
        "9\t-9\n",
        "8\t-8\n",
        "7\t-7\n",
        "6\t-6\n",
        "5\t-5\n",
        "4\t-4\n",
        "3\t-3\n",
        "2\t-2\n",
        "1\t-1\n"
       ]
      }
     ],
     "prompt_number": 11
    },
    {
     "cell_type": "code",
     "collapsed": false,
     "input": [
      "%%bash\n",
      "echo \"\u95ee\u9898\uff1a\u5982\u4f55\u8ba9\u6587\u4ef6\u6839\u636e\u7b2c\u4e00\u5217\u7684\u6570\u5b57\u9006\u5e8f\u6392\u5217\uff1f\""
     ],
     "language": "python",
     "metadata": {},
     "outputs": []
    },
    {
     "cell_type": "code",
     "collapsed": false,
     "input": [
      "%%bash\n",
      "echo \"\u95ee\u9898\uff1a\u5c06data/test.expr\u4e2d\u7684\u57fa\u56e0\u6309\u7167FoldChange\u5217\u7531\u5927\u5230\u5c0f\u6392\u5e8f\uff08\u5ffd\u7565\u9996\u884c\uff09\uff1f\"9808"
     ],
     "language": "python",
     "metadata": {},
     "outputs": []
    },
    {
     "cell_type": "code",
     "collapsed": false,
     "input": [
      "%%bash\n",
      "echo \"\u53d6\u51fadata/test.expr\u4e2d\u7684\u7b2c1,10\u5217\uff0c\u5e76\u663e\u793a\u5176\u524d10\u884c\"\n",
      "cut -f 1,10 data/test.expr | head"
     ],
     "language": "python",
     "metadata": {},
     "outputs": [
      {
       "output_type": "stream",
       "stream": "stdout",
       "text": [
        "gene_id\tfoldChange\n",
        "Novel00002\t0.85 \n",
        "Novel00003\t0.13 \n",
        "Novel00004\t1.06 \n",
        "Novel00005\t17.67 \n",
        "Novel00006\t0.23 \n",
        "Novel00008\t0.70 \n",
        "Novel00009\t0.73 \n",
        "Novel00010\t0.13 \n",
        "Novel00011\t28.64 \n"
       ]
      }
     ],
     "prompt_number": 14
    },
    {
     "cell_type": "code",
     "collapsed": false,
     "input": [
      "%%bash\n",
      "echo \"\u53d6\u51fadata/test.expr\u4e2d\u7684\u7b2c1,10,13\u5217\uff0c\u5e76\u8f93\u51fa\u5230\u6587\u4ef6\"\n",
      "cut -f 1,10,13 data/test.expr >data/test.expr.sim\n",
      "head data/test.expr.sim"
     ],
     "language": "python",
     "metadata": {},
     "outputs": [
      {
       "output_type": "stream",
       "stream": "stdout",
       "text": [
        "\u53d6\u51fadata/test.expr\u4e2d\u7684\u7b2c1,10,13\u5217\uff0c\u5e76\u8f93\u51fa\u5230\u6587\u4ef6\n",
        "gene_id\tfoldChange\tpadj\r\n",
        "Novel00002\t0.85 \t1.00 \r\n",
        "Novel00003\t0.13 \t0.02 \r\n",
        "Novel00004\t1.06 \t1.00 \r\n",
        "Novel00005\t17.67 \t0.05 \r\n",
        "Novel00006\t0.23 \t0.00 \r\n",
        "Novel00008\t0.70 \t0.92 \r\n",
        "Novel00009\t0.73 \t0.65 \r\n",
        "Novel00010\t0.13 \t0.32 \r\n",
        "Novel00011\t28.64 \t0.00 \r\n"
       ]
      }
     ],
     "prompt_number": 17
    },
    {
     "cell_type": "code",
     "collapsed": false,
     "input": [
      "%%bash\n",
      "echo \"\u53d6\u51fadata/test1.fa\u4e2d\u7684\u540d\u5b57\u884c\uff08>\u5f00\u5934\u7684\u884c\uff09\"\n",
      "grep '^>' data/test1.fa"
     ],
     "language": "python",
     "metadata": {},
     "outputs": [
      {
       "output_type": "stream",
       "stream": "stdout",
       "text": [
        "\u53d6\u51fadata/test1.fa\u4e2d\u7684\u540d\u5b57\u884c\uff08>\u5f00\u5934\u7684\u884c\uff09\n",
        ">NM_001011874 gene=Xkr4 CDS=151-2091\r\n",
        ">NM_001195662 gene=Rp1 CDS=55-909\r\n",
        ">NM_011283 gene=Rp1 CDS=128-6412\r\n",
        ">NM_0112835 gene=Rp15 CDS=128-6412\r\n"
       ]
      }
     ],
     "prompt_number": 3
    },
    {
     "cell_type": "code",
     "collapsed": false,
     "input": [
      "%%bash\n",
      "echo \"\u7edf\u8ba1data/test1.fa\u4e2d\u7684\u540d\u5b57\u884c\uff08>\u5f00\u5934\u7684\u884c\uff09\u7684\u6570\u76ee\"\n",
      "grep -c '^>' data/test1.fa"
     ],
     "language": "python",
     "metadata": {},
     "outputs": [
      {
       "output_type": "stream",
       "stream": "stdout",
       "text": [
        "\u7edf\u8ba1data/test1.fa\u4e2d\u7684\u540d\u5b57\u884c\uff08>\u5f00\u5934\u7684\u884c\uff09\u7684\u6570\u76ee\n",
        "4\n"
       ]
      }
     ],
     "prompt_number": 4
    },
    {
     "cell_type": "code",
     "collapsed": false,
     "input": [
      "%%bash\n",
      "echo \"\u53d6\u51fa\u540d\u5b57\u4e3aRp1\u7684\u5e8f\u5217\"; echo\n",
      "echo \"\u4e0d\u592a\u6b63\u786e\u7684\u64cd\u4f5c\uff0c\u5339\u914d\u8fc7\u591a\"; echo\n",
      "grep -A 1 'Rp1' data/test1.fa  #\u9519\u8bef\u7684\u5339\u914d\u4e86Rp15\uff1b-A 1 \u8868\u793a\u540c\u65f6\u53d6\u51fa\u5339\u914d\u884c\u7684\u540e\u4e00\u884c(after)\u3002\n",
      "echo;echo \"\u63a5\u8fd1\u6b63\u786e\u7684\u64cd\u4f5c\uff0c\u4e0d\u8fde\u7eed\u7684\u5339\u914d\u88ab\u884c\u2018--\u2019\u5206\u5272\u4e86\";echo\n",
      "grep -A 1 -w 'Rp1' data/test1.fa #-w \u8868\u793a\u5339\u914d\u5b8c\u6574\u7684\u5355\u8bcd\uff0c\u5373\u4ee5\u975e\u6570\u5b57\u5b57\u6bcd\u4e0b\u5212\u7ebf\u5206\u5f00\u7684\u5b57\u7b26\u4e32\n",
      "echo;echo \"\u6b63\u786e\u7684\u64cd\u4f5c\";echo\n",
      "grep -A 1 -w 'Rp1' data/test1.fa | sed '/^--$/d'"
     ],
     "language": "python",
     "metadata": {},
     "outputs": [
      {
       "output_type": "stream",
       "stream": "stdout",
       "text": [
        "\u53d6\u51fa\u540d\u5b57\u4e3aRp1\u7684\u5e8f\u5217\n",
        "\n",
        "\u4e0d\u592a\u6b63\u786e\u7684\u64cd\u4f5c\uff0c\u5339\u914d\u8fc7\u591a\n",
        "\n",
        ">NM_001195662 gene=Rp1 CDS=55-909\r\n",
        "AGGTCTCACCCAAAATGAGTGACACACCTTCTACTAGTTTCTCCATGATTCATCTGACTTCTGAAGGTCA\r\n",
        ">NM_0112835 gene=Rp15 CDS=128-6412\r\n",
        "AATAAATCCAAAGACATTTGTTTACGTGAAACAAGCAGGTTGCATATCCAGTGACGTTTATACAGACCAC\r\n",
        ">NM_011283 gene=Rp1 CDS=128-6412\r\n",
        "AATAAATCCAAAGACATTTGTTTACGTGAAACAAGCAGGTTGCATATCCAGTGACGTTTATACAGACCAC\r\n",
        "\n",
        "\u63a5\u8fd1\u6b63\u786e\u7684\u64cd\u4f5c\uff0c\u4e0d\u8fde\u7eed\u7684\u5339\u914d\u88ab\u884c\u2018--\u2019\u5206\u5272\u4e86\n",
        "\n",
        ">NM_001195662 gene=Rp1 CDS=55-909\r\n",
        "AGGTCTCACCCAAAATGAGTGACACACCTTCTACTAGTTTCTCCATGATTCATCTGACTTCTGAAGGTCA\r\n",
        "--\n",
        ">NM_011283 gene=Rp1 CDS=128-6412\r\n",
        "AATAAATCCAAAGACATTTGTTTACGTGAAACAAGCAGGTTGCATATCCAGTGACGTTTATACAGACCAC\r\n",
        "\n",
        "\u6b63\u786e\u7684\u64cd\u4f5c\n",
        "\n",
        ">NM_001195662 gene=Rp1 CDS=55-909\r\n",
        "AGGTCTCACCCAAAATGAGTGACACACCTTCTACTAGTTTCTCCATGATTCATCTGACTTCTGAAGGTCA\r\n",
        ">NM_011283 gene=Rp1 CDS=128-6412\r\n",
        "AATAAATCCAAAGACATTTGTTTACGTGAAACAAGCAGGTTGCATATCCAGTGACGTTTATACAGACCAC\r\n"
       ]
      }
     ],
     "prompt_number": 11
    },
    {
     "cell_type": "code",
     "collapsed": false,
     "input": [
      "%%bash\n",
      "echo \"\u8fd9\u4e2a\u662f\u6b63\u786e\u7684\u64cd\u4f5c\uff0c\u4f46\u6ca1\u6709\u8f93\u51fa\uff0c\u4e3a\u4ec0\u4e48\u5462\uff1f\"\n",
      "grep -f data/fasta.name data/test1.fa\n",
      "head data/fasta.name data/test1.fa #\u8fd9\u4e2a\u5730\u65b9\u4f7f\u7528head\u67e5\u770b\u6587\u4ef6\u65f6\u56e0\u4e3a\u5b83\u53ef\u4ee5\u8f93\u51fa\u6587\u4ef6\u540d"
     ],
     "language": "python",
     "metadata": {},
     "outputs": [
      {
       "output_type": "stream",
       "stream": "stdout",
       "text": [
        "\u8fd9\u4e2a\u662f\u6b63\u786e\u7684\u64cd\u4f5c\uff0c\u4f46\u6ca1\u6709\u8f93\u51fa\uff0c\u4e3a\u4ec0\u4e48\u5462\uff1f\n",
        "==> data/fasta.name <==\n",
        "NM_001011874\r\n",
        "NM_011283\r\n",
        "\n",
        "==> data/test1.fa <==\n",
        ">NM_001011874 gene=Xkr4 CDS=151-2091\r\n",
        "gcggcggcgggcgagcgggcgctggagtaggagctggggagcggcgcggccggggaaggaagccagggcg\r\n",
        ">NM_001195662 gene=Rp1 CDS=55-909\r\n",
        "AGGTCTCACCCAAAATGAGTGACACACCTTCTACTAGTTTCTCCATGATTCATCTGACTTCTGAAGGTCA\r\n",
        ">NM_0112835 gene=Rp15 CDS=128-6412\r\n",
        "AATAAATCCAAAGACATTTGTTTACGTGAAACAAGCAGGTTGCATATCCAGTGACGTTTATACAGACCAC\r\n",
        ">NM_011283 gene=Rp1 CDS=128-6412\r\n",
        "AATAAATCCAAAGACATTTGTTTACGTGAAACAAGCAGGTTGCATATCCAGTGACGTTTATACAGACCAC\r\n"
       ]
      }
     ],
     "prompt_number": 23
    },
    {
     "cell_type": "code",
     "collapsed": false,
     "input": [
      "%%bash\n",
      "echo \"\u4e4b\u6240\u4ee5\u4e0a\u4e00\u4e2a\u547d\u4ee4\u6ca1\u6709\u8f93\u51fa\uff0c\u662f\u56e0\u4e3a\u6587\u4ef6fasta.name \u548c test1.fa \u90fd\u662f\u5728Windows\u4e0b\u5199\u7684\uff0c\u56e0\u6b64\u884c\u5c3e\u4f1a\u591a\u4e00\u4e2a\\r\u6362\u884c\u7b26\uff0c\\\n",
      "\u5bfc\u81f4\u4e0d\u80fd\u5339\u914d\u4efb\u4f55\u4e00\u884c\u3002\u8fd9\u662fWindows\u548cLinux\u4f20\u8f93\u4e1c\u897f\u6700\u5e38\u78b0\u5230\u7684\uff0c\u4e5f\u662f\u65b0\u624b\u96be\u53d1\u73b0\u7684\u95ee\u9898\u3002\\\n",
      "\u6b63\u786e\u7684\u64cd\u4f5c\u662f\u5148\u7528sed\u547d\u4ee4\u66ff\u6362\u6389\u672b\u5c3e\u7684\u591a\u4f59\u6362\u884c\u7b26\u3002\"\n",
      "sed 's/%%bash\n",
      "echo \"\u8fd9\u4e2a\u662f\u6b63\u786e\u7684\u64cd\u4f5c\uff0c\u4f46\u6ca1\u6709\u8f93\u51fa\uff0c\u4e3a\u4ec0\u4e48\u5462\uff1f\"\n",
      "sed 's/^M//' data/fasta.name | grep -f - data/test1.fa #^M\u7684\u8f93\u5165\u65b9\u5f0f\u662f\u8fde\u7eed\u8f93\u5165CTRL-V,CTRL-M\u3002WIndows\u4e0b\u65e0\u6cd5\u5b8c\u6210\u6b64\u64cd\u4f5c\uff0c\u56e0\u6b64\u8fd9\u4e2a\u547d\u4ee4\u4e5f\u65e0\u6548"
     ],
     "language": "python",
     "metadata": {},
     "outputs": [
      {
       "output_type": "stream",
       "stream": "stdout",
       "text": [
        "\u4e4b\u6240\u4ee5\u4e0a\u4e00\u4e2a\u547d\u4ee4\u6ca1\u6709\u8f93\u51fa\uff0c\u662f\u56e0\u4e3a\u6587\u4ef6fasta.name \u548c test1.fa \u90fd\u662f\u5728Windows\u4e0b\u5199\u7684\uff0c\u56e0\u6b64\u884c\u5c3e\u4f1a\u591a\u4e00\u4e2a\\r\u6362\u884c\u7b26\uff0c      \u5bfc\u81f4\u4e0d\u80fd\u5339\u914d\u4efb\u4f55\u4e00\u884c\u3002\u8fd9\u662fWindows\u548cLinux\u4f20\u8f93\u4e1c\u897f\u6700\u5e38\u78b0\u5230\u7684\uff0c\u4e5f\u662f\u65b0\u624b\u96be\u53d1\u73b0\u7684\u95ee\u9898\u3002      \u6b63\u786e\u7684\u64cd\u4f5c\u662f\u5148\u7528sed\u547d\u4ee4\u66ff\u6362\u6389\u672b\u5c3e\u7684\u591a\u4f59\u6362\u884c\u7b26\u3002\n"
       ]
      },
      {
       "output_type": "stream",
       "stream": "stderr",
       "text": [
        "bash: line 6: unexpected EOF while looking for matching `''\n",
        "bash: line 7: syntax error: unexpected end of file\n"
       ]
      }
     ],
     "prompt_number": 19
    },
    {
     "cell_type": "code",
     "collapsed": false,
     "input": [
      "%%bash\n",
      "echo \"\u8fd9\u4e2a\u662f\u6b63\u786e\u7684\u64cd\u4f5c\"\n",
      "grep -f data/fasta.name.forGrep data/test1.fa #\u6ce8\u610f\u6587\u4ef6\u540d\u7684\u66ff\u6362"
     ],
     "language": "python",
     "metadata": {},
     "outputs": [
      {
       "output_type": "stream",
       "stream": "stdout",
       "text": [
        "\u8fd9\u4e2a\u662f\u6b63\u786e\u7684\u64cd\u4f5c\uff0c\u4f46\u6ca1\u6709\u8f93\u51fa\uff0c\u4e3a\u4ec0\u4e48\u5462\uff1f\n",
        ">NM_001011874 gene=Xkr4 CDS=151-2091\r\n",
        ">NM_0112835 gene=Rp15 CDS=128-6412\r\n",
        ">NM_011283 gene=Rp1 CDS=128-6412\r\n"
       ]
      }
     ],
     "prompt_number": 20
    },
    {
     "cell_type": "code",
     "collapsed": false,
     "input": [
      "%%bash\n",
      "echo \"\u95ee\u9898\uff1agrep\u5982\u4f55\u8f93\u51fa\u4e0d\u5339\u914d\u67d0\u4e2a\u6807\u51c6\u7684\u884c\uff1b\u6bd4\u5982\u5982\u4f55\u53d6\u51fadata/test1.fa\u4e2d\u975e'>'\u5f00\u5934\u7684\u884c\uff1f\""
     ],
     "language": "python",
     "metadata": {},
     "outputs": []
    },
    {
     "cell_type": "markdown",
     "metadata": {},
     "source": [
      "**\u8f93\u5165\u6d41\u548c\u8f93\u51fa\u6d41**\n",
      "\n",
      "* `< file` \u8868\u793a\u4ece\u6587\u4ef6\u8bfb\u5165\n",
      "* `> file` \u8868\u793a\u8f93\u51fa\u5230\u6587\u4ef6\uff0c\u5982\u679c\u6587\u4ef6\u5b58\u5728\u5219\u8986\u76d6\n",
      "* `>> file` \u8868\u793a\u8ffd\u52a0\u5230\u5df2\u6709\u6587\u4ef6\uff0c\u5982\u679c\u6587\u4ef6\u4e0d\u5b58\u5728\u5219\u65b0\u5efa"
     ]
    },
    {
     "cell_type": "code",
     "collapsed": false,
     "input": [
      "%%bash\n",
      "echo \"\u4f7f\u7528diff\u547d\u4ee4\u67e5\u770b\u4e24\u4e2a\u6587\u4ef6\u7684\u4e0d\u540c\"\n",
      "diff data/diff_1 data/diff_2\n",
      "head data/diff_1 data/diff_2 #\u8fd9\u4e2a\u5730\u65b9\u4f7f\u7528head\u67e5\u770b\u6587\u4ef6\u65f6\u56e0\u4e3a\u5b83\u8f93\u51fa\u6587\u4ef6\u540d"
     ],
     "language": "python",
     "metadata": {},
     "outputs": [
      {
       "output_type": "stream",
       "stream": "stdout",
       "text": [
        "\u4f7f\u7528diff\u547d\u4ee4\u67e5\u770b\u4e24\u4e2a\u6587\u4ef6\u7684\u4e0d\u540c\n",
        "1d0\n",
        "< 1\n",
        "3d1\n",
        "< 3\n",
        "4a3,4\n",
        "> 3\n",
        "> 1\n",
        "==> data/diff_1 <==\n",
        "1\n",
        "2\n",
        "3\n",
        "4\n",
        "\n",
        "==> data/diff_2 <==\n",
        "2\n",
        "4\n",
        "3\n",
        "1\n"
       ]
      }
     ],
     "prompt_number": 24
    },
    {
     "cell_type": "code",
     "collapsed": false,
     "input": [
      "%%bash\n",
      "echo \"\u5148\u6392\u5e8f\u518d\u4f7f\u7528diff\u547d\u4ee4\u67e5\u770b\u4e24\u4e2a\u6587\u4ef6\u7684\u4e0d\u540c\uff1b\u8fd9\u91cc\u6211\u4eec\u4f7f\u7528\u4e86\u8f93\u5165\u8f93\u51fa\u91cd\u5b9a\u5411\uff0csort\u540e\u7684\u7ed3\u679c\u4e0d\u5b58\u5165\u4e34\u65f6\u6587\u4ef6\u800c\u662f\u76f4\u63a5\u4f20\u9012\u7ed9diff\u3002\"\n",
      "diff <(sort data/diff_1) <(sort data/diff_2)"
     ],
     "language": "python",
     "metadata": {},
     "outputs": [
      {
       "output_type": "stream",
       "stream": "stdout",
       "text": [
        "\u5148\u6392\u5e8f\u518d\u4f7f\u7528diff\u547d\u4ee4\u67e5\u770b\u4e24\u4e2a\u6587\u4ef6\u7684\u4e0d\u540c\uff1b\u8fd9\u91cc\u6211\u4eec\u4f7f\u7528\u4e86\u8f93\u5165\u8f93\u51fa\u91cd\u5b9a\u5411\uff0csort\u540e\u7684\u7ed3\u679c\u4e0d\u5b58\u5165\u4e34\u65f6\u6587\u4ef6\u800c\u662f\u76f4\u63a5\u4f20\u9012\u7ed9diff\u3002\n"
       ]
      }
     ],
     "prompt_number": 25
    },
    {
     "cell_type": "markdown",
     "metadata": {},
     "source": [
      "**\u4f7f\u7528\u6280\u5de72**\n",
      "\n",
      "* "
     ]
    },
    {
     "cell_type": "code",
     "collapsed": false,
     "input": [
      "uniq"
     ],
     "language": "python",
     "metadata": {},
     "outputs": []
    }
   ],
   "metadata": {}
  }
 ]
}