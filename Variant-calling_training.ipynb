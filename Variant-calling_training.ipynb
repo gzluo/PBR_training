{
 "metadata": {
  "name": "",
  "signature": "sha256:94fb95790f00ee2f8c3f4d7d697cdbc03e44a3acd6720b3c7b836c48b141b235"
 },
 "nbformat": 3,
 "nbformat_minor": 0,
 "worksheets": [
  {
   "cells": [
    {
     "cell_type": "markdown",
     "metadata": {},
     "source": [
      "Variant-calling training tutorial\n",
      "===\n",
      "Chen Tong\n",
      "===\n",
      "\n",
      "Welcome to my tutorial, enjoy it. \n",
      "\n",
      "This work is licensed under a <a rel=\"license\" href=\"http://creativecommons.org/licenses/by-nc-sa/2.0/\">Creative Commons Attribution-NonCommercial-ShareAlike 2.0 Generic License</a>.\n"
     ]
    },
    {
     "cell_type": "heading",
     "level": 1,
     "metadata": {},
     "source": [
      "Next-Generation Sequencing basic knowledges"
     ]
    },
    {
     "cell_type": "markdown",
     "metadata": {},
     "source": [
      "Please refer to `NGS-basic_training.ipynb` for basic sequencing concepts and software installation and uasage."
     ]
    },
    {
     "cell_type": "heading",
     "level": 1,
     "metadata": {},
     "source": [
      "Exome-Seq"
     ]
    },
    {
     "cell_type": "heading",
     "level": 2,
     "metadata": {},
     "source": [
      "SNP filtering (VQSR)"
     ]
    },
    {
     "cell_type": "heading",
     "level": 3,
     "metadata": {},
     "source": [
      "Whole-Genome-Seq\u4f7f\u7528\u7684\u53c2\u6570\u548c\u9700\u8981\u6ce8\u610f\u7684\u4e8b\u9879"
     ]
    },
    {
     "cell_type": "heading",
     "level": 3,
     "metadata": {},
     "source": [
      "Exome-Seq\u4f7f\u7528\u7684\u53c2\u6570\u548c\u9700\u8981\u6ce8\u610f\u7684\u4e8b\u9879"
     ]
    },
    {
     "cell_type": "markdown",
     "metadata": {},
     "source": [
      "* Depth of coverage (the DP annotation invoked by Coverage) should **not** be used when working with **exome** datasets since there is extreme variation in the depth to which targets are captured! In whole genome experiments this variation is indicative of error but that is not the case in capture experiments.\n",
      "* The *InbreedingCoeff* is a population level statistic that requires at least **10** samples in order to be computed. For projects with fewer samples please omit this annotation from the command line.\n",
      "* In our testing we've found that in order to achieve the best exome results one needs to use an exome SNP and/or indel callset with at least 30 samples. For users with experiments containing fewer exome samples there are several options to explore:\n",
      "\n",
      "    * Add additional samples for variant calling, either by sequencing additional samples or using publicly available exome bams from the 1000 Genomes Project (this option is used by the Broad exome production pipeline)\n",
      "    * Use the VQSR with the smaller variant callset but experiment with the precise argument settings (try adding --maxGaussians 4 to your command line, for example)\n",
      "\n",
      "\n",
      "* \u53c2\u8003\u8d44\u6599\n",
      "    * http://gatkforums.broadinstitute.org/discussion/1259/what-vqsr-training-sets-arguments-should-i-use-for-my-specific-project \n",
      "    * http://gatkforums.broadinstitute.org/discussion/1783/variantrecalibrator-creating-a-truth-data-set\n",
      "    * http://www.broadinstitute.org/gatk/guide/article?id=39\n"
     ]
    },
    {
     "cell_type": "code",
     "collapsed": false,
     "input": [
      "%%bash\n",
      "#VariantRecalibrator for SNP\n",
      "java -Xmx4g -jar GenomeAnalysisTK.jar -T VariantRecalibrator \\\n",
      "-R hg19.fa \\\n",
      "-input genotypeGvcf.vcf \\\n",
      "-mode SNP \\\n",
      "-resource:hapmap,known=false,training=true,truth=true,prior=15.0 hapmap_3.3.b37.sites.vcf \\\n",
      "-resource:omni,known=false,training=true,truth=true,prior=12.0 1000G_omni2.5.b37.sites.vcf \\\n",
      "-resource:1000G,known=false,training=true,truth=false,prior=10.0 1000G_phase1.snps.high_confidence.vcf \\\n",
      "-resource:dbsnp,known=true,training=false,truth=false,prior=2.0 dbsnp.b37.vcf \\\n",
      "-an QD -an MQ -an MQRankSum -an ReadPosRankSum -an FS -an InbreedingCoeff \\\n",
      "-recalFile genotypeGvcf.SNPs.vqsr_recal \\\n",
      "-tranchesFile genotypeGvcf.SNPs.vqsr_tranches \\\n",
      "-rscriptFile genotypeGvcf.SNPs.plots.r -tranche 100.0 -tranche 99.9 -tranche 99.0 -tranche 90.0 -nt 10\n",
      "\n",
      "java -Xmx4g -jar GenomeAnalysisTK.jar -T ApplyRecalibration \\\n",
      "-R hg19.fa \\\n",
      "-input genotypeGvcf.vcf \\\n",
      "-mode SNP -ts_filter_level 99.5 \\\n",
      "-recalFile genotypeGvcf.SNPs.vqsr_recal \\\n",
      "-tranchesFile genotypeGvcf.SNPs.vqsr_tranches \\\n",
      "-o genotypeGvcf.SNPs.vqsr.vcf"
     ],
     "language": "python",
     "metadata": {},
     "outputs": []
    },
    {
     "cell_type": "code",
     "collapsed": false,
     "input": [
      "%%bash\n",
      "#VariantRecalibrator for INDEL\n",
      "java -Xmx4g -jar GenomeAnalysisTK.jar -T VariantRecalibrator \\\n",
      "-R hg19.fa -mode INDEL \\\n",
      "-input genotypeGvcf.SNPs.vqsr.vcf \\\n",
      "--maxGaussians 4 \\\n",
      "-resource:mills,known=false,training=true,truth=true,prior=12.0 Mills_and_1000G_gold_standard.indels.b37.sites.vcf \\\n",
      "-resource:dbsnp,known=true,training=false,truth=false,prior=2.0 dbsnp.b37.vcf \\\n",
      "-an QD -an FS -an ReadPosRankSum -an MQRankSum -an InbreedingCoeff \\\n",
      "-recalFile genotypeGvcf.SNPs_INDEL.vqsr_recal \\\n",
      "-tranchesFile genotypeGvcf.SNPs_INDEL.vqsr_tranches \\\n",
      "-rscriptFile genotypeGvcf.SNPs_INDEL.plots.r\n",
      "\n",
      "java -Xmx4g -jar GenomeAnalysisTK.jar -T ApplyRecalibration \\\n",
      "-R hg19.fa -input genotypeGvcf.SNPs.vqsr.vcf \\\n",
      "-mode INDEL -ts_filter_level 99.0 \\\n",
      "-recalFile genotypeGvcf.SNPs_INDEL.vqsr_recal \\\n",
      "-tranchesFile genotypeGvcf.SNPs_INDEL.vqsr_tranches \\\n",
      "-o genotypeGvcf.SNPs_INDEL.vqsr.vcf\n"
     ],
     "language": "python",
     "metadata": {},
     "outputs": []
    },
    {
     "cell_type": "heading",
     "level": 3,
     "metadata": {},
     "source": [
      "\u53c2\u6570\u89e3\u91ca"
     ]
    },
    {
     "cell_type": "markdown",
     "metadata": {},
     "source": [
      "* `-ts_filter_level`: We typically seek to achieve 99.5% sensitivity to the accessible truth sites.\n",
      "* `-tranche`: The default values are 100.0, 99.9, 99.0, and 90.0"
     ]
    },
    {
     "cell_type": "heading",
     "level": 3,
     "metadata": {},
     "source": [
      "\u9519\u8bef\u7c7b\u578b\u548c\u89e3\u51b3\u65b9\u5f0f"
     ]
    },
    {
     "cell_type": "markdown",
     "metadata": {},
     "source": [
      "* ERROR MESSAGE: Timeout of 30000 milliseconds was reached while trying to acquire a lock on file 1000G_phase1.snps.high_confidence.hg19.vcf.idx. Since the GATK uses non-blocking lock acquisition calls that are not supposed to wait, this implies a problem with the file locking support in your operating system.\n",
      "    * \u6dfb\u52a0\u53c2\u6570 --disable_auto_index_creation_and_locking_when_reading_rods \n",
      "        * [This parameter disables index auto-creation and related file locking when reading vcfs. If all index files are pre-existing, and no concurrent processes will ever update any of the indices, it should be safe to use this argument.]([http://gatkforums.broadinstitute.org/discussion/1252/unifiedgenotyper-gets-hung-waiting-for-file-lock)\n",
      "\n",
      "* ERROR MESSAGE: Bad input: Values for InbreedingCoeff annotation not detected for ANY training variant in the input callset. VariantAnnotator may be used to add these annotations.\n",
      "    * \u5982\u679c\u4f60\u7684\u6837\u54c1\u4e0a\u5c11\u4e8e10\u4e2a\uff0c\u8bf7\u53bb\u6389\u53c2\u6570 -an InbreedingCoeff\n",
      "    * \u5426\u5219\uff0c\u8bf7\u5c1d\u8bd5\u4f7f\u7528 VariantAnnotator\n",
      "        * http://gatkforums.broadinstitute.org/discussion/1406/error-values-for-inbreedingcoeff-annotation-not-detected-for-any-training-variant-in-the-input"
     ]
    },
    {
     "cell_type": "code",
     "collapsed": false,
     "input": [],
     "language": "python",
     "metadata": {},
     "outputs": []
    },
    {
     "cell_type": "code",
     "collapsed": false,
     "input": [],
     "language": "python",
     "metadata": {},
     "outputs": []
    }
   ],
   "metadata": {}
  }
 ]
}