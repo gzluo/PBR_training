{
 "metadata": {
  "name": "",
  "signature": "sha256:b9aaf3d578a135d136143e78feb670bc4975ec7b4dbc1f052d6260a46f548915"
 },
 "nbformat": 3,
 "nbformat_minor": 0,
 "worksheets": [
  {
   "cells": [
    {
     "cell_type": "heading",
     "level": 1,
     "metadata": {},
     "source": [
      "TOOLS"
     ]
    },
    {
     "cell_type": "markdown",
     "metadata": {},
     "source": [
      "You can use one of the following tools/resources for diseases enriched in a disease list:\n",
      "\n",
      "Enrichment analysis using Disease Ontology (DO)http://www.ncbi.nlm.nih.gov/pubmed/22080554 / DO-Lite http://www.ncbi.nlm.nih.gov/pubmed/19478018. You can Functional Disease Ontology server http://django.nubic.northwestern.edu/fundo/ for enrichment analysis using DO http://www.ebi.ac.uk/ontology-lookup/browse.do?ontName=DOID\n",
      "DAVID (Expand the Diseases tab and select options. This is mainly for genetic diseases. Default option is OMIM, also available GDA database and GDA class)\n",
      "\n",
      "Disease subset of KEGG pathway http://www.genome.jp/kegg/disease/ or Reactome http://wiki.reactome.org/index.php/Disease can be inferred using KEGG or Reactome pathway enrichment tools. See this discussion http://www.biostars.org/post/show/42219/best-way-to-do-pathway-analysis-of-a-set-of-genes/#42392 for pathway analysis)\n",
      "\n",
      "Other options: Human Phenotype Ontology http://www.human-phenotype-ontology.org/, GWAS association http://www.genome.gov/gwastudies/ or any other custom disease-gene annotation/association to perform a standard enrichment analysis. Some of the key aspects of enrichment analysis is discussed here http://www.biostars.org/post/show/7946/gene-ontology-categories/#7961.\n",
      "\n",
      "ConsensusPathDB is a meta-search engine for pathway analysis. it basically incorporates all/most of the reputable public access pathway databases out there.\n",
      "\n",
      "http://cpdb.molgen.mpg.de/\n",
      "\n",
      "http://gettinggeneticsdone.blogspot.com/2012/03/pathway-analysis-for-high-throughput.html"
     ]
    },
    {
     "cell_type": "markdown",
     "metadata": {},
     "source": [
      "http://www.the-dream-project.org\n",
      "http://coxpresdb.jp\n",
      "http://www.biolayout.org/download/"
     ]
    },
    {
     "cell_type": "heading",
     "level": 2,
     "metadata": {},
     "source": [
      "Courses"
     ]
    },
    {
     "cell_type": "markdown",
     "metadata": {},
     "source": [
      "http://datasciencemasters.org\n",
      "http://cm.dce.harvard.edu/2014/01/14328/publicationListing.shtml#\n",
      "http://cs109.github.io/2014/"
     ]
    },
    {
     "cell_type": "heading",
     "level": 1,
     "metadata": {},
     "source": [
      "Motifs"
     ]
    },
    {
     "cell_type": "markdown",
     "metadata": {},
     "source": [
      "http://compbio.mit.edu/encode-motifs/\n"
     ]
    },
    {
     "cell_type": "heading",
     "level": 1,
     "metadata": {},
     "source": [
      "Regulatory elements"
     ]
    },
    {
     "cell_type": "markdown",
     "metadata": {},
     "source": [
      "http://fantom.gsc.riken.jp"
     ]
    }
   ],
   "metadata": {}
  }
 ]
}