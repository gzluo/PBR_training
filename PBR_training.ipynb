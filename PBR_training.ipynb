{
 "metadata": {
  "name": "",
  "signature": "sha256:a64aa9e9edaf886da5fe6bdc0a6b2c4115268a3f02b28087e4da37bf09be8045"
 },
 "nbformat": 3,
 "nbformat_minor": 0,
 "worksheets": [
  {
   "cells": [
    {
     "cell_type": "markdown",
     "metadata": {},
     "source": [
      "Python training tutorial\n",
      "===\n",
      "Chen Tong\n",
      "=============\n",
      "\n",
      "\n",
      "Welcome to my python tutorial, enjoy it. Please also refer to one classical introduction for python usage named [A byte of python](http://www.byteofpython.info/) and its [chinese version](http://woodpecker.org.cn/abyteofpython_cn/chinese/index.html) to get more understanding of *Python*. \n",
      "\n",
      "This work is licensed under a <a rel=\"license\" href=\"http://creativecommons.org/licenses/by-nc-sa/2.0/\">Creative Commons Attribution-NonCommercial-ShareAlike 2.0 Generic License</a>.\n"
     ]
    },
    {
     "cell_type": "heading",
     "level": 1,
     "metadata": {},
     "source": [
      "Introduction"
     ]
    },
    {
     "cell_type": "heading",
     "level": 2,
     "metadata": {},
     "source": [
      "Why I choose Python"
     ]
    },
    {
     "cell_type": "markdown",
     "metadata": {},
     "source": [
      "* Simple. Just read and write as you think.\n",
      "* Powerful. Active community and amounts of gorgeous standard and third-party packages.\n",
      "* Scalacity. Easily to ge fused with C and C++."
     ]
    },
    {
     "cell_type": "heading",
     "level": 2,
     "metadata": {},
     "source": [
      "How to install Python"
     ]
    },
    {
     "cell_type": "markdown",
     "metadata": {},
     "source": [
      "Normally, I would recommend newbies try [Anacodna](https://store.continuum.io/cshop/anaconda/) (free to everybody) and [Canopy](https://www.enthought.com/products/canopy/) (free to education and academy). These two python distributions intergated many useful scientific computation Python packages, saving you lots of time to fix annoying incompatibility-problems. "
     ]
    },
    {
     "cell_type": "heading",
     "level": 2,
     "metadata": {},
     "source": [
      "How to run Python commands and scripts"
     ]
    },
    {
     "cell_type": "markdown",
     "metadata": {},
     "source": [
      "* For Linux/Unix users, one just typing `python` in the terminal and hitting `Enter` would start the interctive Python interpreter just as showed below. Then any operations can be typed in directly and run by hitting `Enter`. Also all the commands can be saved in a file, here for example `test.py` and simply type `python test.py` will run the commands.  <img src=\"Image/Python_start_run_linux.png\">\n",
      "\n",
      "* For Windows users, an interactive Python interpreter can be invoked by double-clicking `python.exe` or `Canopy` if installed. Files containing python source codes can be loaded directly to these interpreters to get run. <img src=\"Image/Python_start_run_winCanopy.png\">\n",
      "\n",
      "* Press `Ctrl-d` and `Ctrl-z` would let you quit interactive Python interpreter in Linux/Unix or Windows systems respectively. \n",
      "\n",
      "* \n",
      "\n",
      "* Since this tutorial is written and distributed using `IPython Notebook`, it would be a great way to directly run codes within this document under `IPython Notebook` environment."
     ]
    },
    {
     "cell_type": "heading",
     "level": 2,
     "metadata": {},
     "source": [
      "What editor should I use"
     ]
    },
    {
     "cell_type": "markdown",
     "metadata": {},
     "source": [
      "Normally, I would recommend [Vim](http://www.vim.org/download.php) to edit Python scripts as well as other scripts. A detailed configuration of `vim` for linux can be found at [my github](https://github.com/Tong-Chen/vim) and [BaiDuYun](http://pan.baidu.com/s/1kT5KIN1) for Windows. "
     ]
    },
    {
     "cell_type": "heading",
     "level": 1,
     "metadata": {},
     "source": [
      "Basic concepts"
     ]
    },
    {
     "cell_type": "markdown",
     "metadata": {},
     "source": [
      "* Constant, meaning fixed numbers and strings like `2`, `2.9`, `Hello world` ,etc. \n",
      "* Variable, something with a value that may or may not change. In simplest terms, a variable is just a box that you can put stuff in. You can use variables to store all kinds of stuff.\n",
      "    * Number variable      \n",
      "    * String variable\n",
      "    * List variable\n",
      "    * Dict variable"
     ]
    },
    {
     "cell_type": "code",
     "collapsed": false,
     "input": [
      "print \"Hello, welcome to Python\""
     ],
     "language": "python",
     "metadata": {},
     "outputs": [
      {
       "output_type": "stream",
       "stream": "stdout",
       "text": [
        "Hello, welcome to Python\n"
       ]
      }
     ],
     "prompt_number": 5
    },
    {
     "cell_type": "code",
     "collapsed": false,
     "input": [],
     "language": "python",
     "metadata": {},
     "outputs": []
    }
   ],
   "metadata": {}
  }
 ]
}