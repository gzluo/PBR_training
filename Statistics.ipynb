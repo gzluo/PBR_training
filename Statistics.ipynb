{
 "metadata": {
  "name": "",
  "signature": "sha256:4214500dfc5a7239d40f2bda26167d1ae80bb30ac3c4491f243292bbaec2461e"
 },
 "nbformat": 3,
 "nbformat_minor": 0,
 "worksheets": [
  {
   "cells": [
    {
     "cell_type": "markdown",
     "metadata": {},
     "source": [
      "http://statweb.stanford.edu/~tibs/ElemStatLearn/"
     ]
    },
    {
     "cell_type": "code",
     "collapsed": false,
     "input": [],
     "language": "python",
     "metadata": {},
     "outputs": []
    }
   ],
   "metadata": {}
  }
 ]
}