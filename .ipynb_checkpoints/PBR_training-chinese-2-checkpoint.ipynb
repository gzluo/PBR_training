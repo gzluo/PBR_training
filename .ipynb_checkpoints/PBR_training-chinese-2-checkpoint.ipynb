{
 "metadata": {
  "name": "",
  "signature": "sha256:2be021755f040c685389cc2b1c54c5a4261e48da2d76323ef1c300ef5e3d114f"
 },
 "nbformat": 3,
 "nbformat_minor": 0,
 "worksheets": [
  {
   "cells": [
    {
     "cell_type": "markdown",
     "metadata": {},
     "source": [
      "Python training tutorial\n",
      "===\n",
      "Chen Tong\n",
      "=============\n",
      "\n",
      "\n",
      "Welcome to my python tutorial, enjoy it. Please also refer to one classical introduction for python usage named [A byte of python](http://www.byteofpython.info/) and its [chinese version](http://woodpecker.org.cn/abyteofpython_cn/chinese/index.html) to get more understanding of *Python*. \n",
      "\n",
      "This work is licensed under a <a rel=\"license\" href=\"http://creativecommons.org/licenses/by-nc-sa/2.0/\">Creative Commons Attribution-NonCommercial-ShareAlike 2.0 Generic License</a>.\n"
     ]
    },
    {
     "cell_type": "heading",
     "level": 1,
     "metadata": {},
     "source": [
      "Introduction"
     ]
    },
    {
     "cell_type": "heading",
     "level": 2,
     "metadata": {},
     "source": [
      "Why I choose Python"
     ]
    },
    {
     "cell_type": "markdown",
     "metadata": {},
     "source": [
      "* Simple. Just read and write as you think.\n",
      "* Powerful. Active community and amounts of gorgeous standard and third-party packages.\n",
      "* Scalacity. Easily to ge fused with C and C++."
     ]
    },
    {
     "cell_type": "heading",
     "level": 2,
     "metadata": {},
     "source": [
      "How to install Python"
     ]
    },
    {
     "cell_type": "markdown",
     "metadata": {},
     "source": [
      "Normally, I would recommend newbies try [Anaconda](https://store.continuum.io/cshop/anaconda/) (free to everybody) and [Canopy](https://www.enthought.com/products/canopy/) (free to education and academy). These two python distributions intergated many useful scientific computation Python packages, saving you lots of time to fix annoying incompatibility-problems. "
     ]
    },
    {
     "cell_type": "heading",
     "level": 2,
     "metadata": {},
     "source": [
      "How to run Python commands and scripts"
     ]
    },
    {
     "cell_type": "markdown",
     "metadata": {},
     "source": [
      "* For Linux/Unix users, one just typing `python` in the terminal and hitting `Enter` would start the interctive Python interpreter just as showed below. Then any operations can be typed in directly and run by hitting `Enter`. Also all the commands can be saved in a file, here for example `test.py` and simply type `python test.py` will run the commands.  <img src=\"Image/Python_start_run_linux.png\">\n",
      "\n",
      "* For Windows users, an interactive Python interpreter can be invoked by double-clicking `python.exe` or `Canopy` if installed. Files containing python source codes can be loaded directly to these interpreters to get run. <img src=\"Image/Python_start_run_winCanopy.png\">\n",
      "\n",
      "* Press `Ctrl-d` and `Ctrl-z` would let you quit interactive Python interpreter in Linux/Unix or Windows systems respectively. \n",
      "\n",
      "* \n",
      "\n",
      "* Since this tutorial is written and distributed using `IPython Notebook`, it would be a great way to directly run codes within this document under `IPython Notebook` environment."
     ]
    },
    {
     "cell_type": "heading",
     "level": 2,
     "metadata": {},
     "source": [
      "What editor should I use"
     ]
    },
    {
     "cell_type": "markdown",
     "metadata": {},
     "source": [
      "Normally, I would recommend [Vim](http://www.vim.org/download.php) to edit Python scripts as well as other scripts. A detailed configuration of `vim` for linux can be found at [my github](https://github.com/Tong-Chen/vim) and [BaiDuYun](http://pan.baidu.com/s/1kT5KIN1) for Windows. "
     ]
    },
    {
     "cell_type": "heading",
     "level": 1,
     "metadata": {},
     "source": [
      "Basic concepts"
     ]
    },
    {
     "cell_type": "markdown",
     "metadata": {},
     "source": [
      "* \u5408\u9002\u7684\u7f29\u8fdb\u3002\u7a7a\u767d\u5728Python\u4e2d\u662f\u91cd\u8981\u7684\u3002\u4e8b\u5b9e\u4e0a\u884c\u9996\u7684\u7a7a\u767d\u662f\u91cd\u8981\u7684\u3002\u5b83\u79f0\u4e3a\u7f29\u8fdb\u3002\u5728\u903b\u8f91\u884c\u9996\u7684\u7a7a\u767d\uff08\u7a7a\u683c\u548c\u5236\u8868\u7b26\uff09\u7528\u6765\u51b3\u5b9a\u903b\u8f91\u884c\u7684\u7f29\u8fdb\u5c42\u6b21\uff0c\u4ece\u800c\u7528\u6765\u51b3\u5b9a\u8bed\u53e5\u7684\u5206\u7ec4\u3002\u8fd9\u610f\u5473\u7740\u540c\u4e00\u5c42\u6b21\u7684\u8bed\u53e5\u5fc5\u987b\u6709\u76f8\u540c\u7684\u7f29\u8fdb\u3002\u6bcf\u4e00\u7ec4\u8fd9\u6837\u7684\u8bed\u53e5\u79f0\u4e3a\u4e00\u4e2a\u5757\u3002"
     ]
    },
    {
     "cell_type": "code",
     "collapsed": false,
     "input": [
      "print \"\u4e0d\u5408\u9002\u7684\u7f29\u8fdb\u4f1a\u5f15\u53d1\u9519\u8bef\uff0c\u4e0d\u8be5\u6709\u7684\u7f29\u8fdb\"\n",
      "a = 'No indent'\n",
      " b = 'One blank before'"
     ],
     "language": "python",
     "metadata": {},
     "outputs": [
      {
       "ename": "IndentationError",
       "evalue": "unexpected indent (<ipython-input-4-dcc86a03edde>, line 3)",
       "output_type": "pyerr",
       "traceback": [
        "\u001b[1;36m  File \u001b[1;32m\"<ipython-input-4-dcc86a03edde>\"\u001b[1;36m, line \u001b[1;32m3\u001b[0m\n\u001b[1;33m    b = 'One blank before'\u001b[0m\n\u001b[1;37m    ^\u001b[0m\n\u001b[1;31mIndentationError\u001b[0m\u001b[1;31m:\u001b[0m unexpected indent\n"
       ]
      }
     ],
     "prompt_number": 4
    },
    {
     "cell_type": "code",
     "collapsed": false,
     "input": [
      "print \"\u4e0d\u5408\u9002\u7684\u7f29\u8fdb\uff0c\u5e94\u8be5\u6709\u800c\u6ca1\u6709\u7684\u7f29\u8fdb\"\n",
      "a = [1,2,3]\n",
      "\n",
      "for i in a:\n",
      "print i\n"
     ],
     "language": "python",
     "metadata": {},
     "outputs": [
      {
       "ename": "IndentationError",
       "evalue": "expected an indented block (<ipython-input-2-019a88d57764>, line 5)",
       "output_type": "pyerr",
       "traceback": [
        "\u001b[1;36m  File \u001b[1;32m\"<ipython-input-2-019a88d57764>\"\u001b[1;36m, line \u001b[1;32m5\u001b[0m\n\u001b[1;33m    print i\u001b[0m\n\u001b[1;37m        ^\u001b[0m\n\u001b[1;31mIndentationError\u001b[0m\u001b[1;31m:\u001b[0m expected an indented block\n"
       ]
      }
     ],
     "prompt_number": 2
    },
    {
     "cell_type": "markdown",
     "metadata": {},
     "source": [
      "* \u5e38\u91cf, \u6307\u56fa\u5b9a\u7684\u6570\u5b57\u6216\u5b57\u7b26\u4e32\uff0c\u5982`2`, `2.9`, `Hello world`\u7b49\u3002 \n",
      "\n",
      "* \u53d8\u91cf, \u5b58\u50a8\u4e86\u6570\u5b57\u6216\u5b57\u7b26\u4e32\u7684\u4e8b\u7269\u79f0\u4e3a\u53d8\u91cf\uff0c\u5b83\u53ef\u4ee5\u88ab\u8d4b\u503c\u6216\u88ab\u4fee\u6539\u3002\u7b80\u5355\u7684\u53ef\u4ee5\u7406\u89e3\u4e3a\u53d8\u91cf\u662f\u4e00\u4e2a\u76d2\u5b50\uff0c\u4f60\u53ef\u4ee5\u628a\u4efb\u4f55\u4e1c\u897f\u653e\u5728\u91cc\u9762\uff0c\u901a\u8fc7\u76d2\u5b50\u7684\u540d\u5b57\u6765\u53bb\u9664\u76d2\u5b50\u5185\u7684\u4e1c\u897f\u3002\n",
      "    * \u6570\u503c\u53d8\u91cf\uff1a\u5b58\u50a8\u4e86\u6570\u7684\u53d8\u91cf      \n",
      "    * \u5b57\u7b26\u4e32\u53d8\u91cf\uff1a\u5b58\u50a8\u4e86\u5b57\u7b26\u4e32\u7684\u53d8\u91cf\n",
      "    * \u5217\u8868(list): list\u662f\u5904\u7406\u4e00\u7ec4\u6709\u5e8f\u9879\u76ee\u7684\u6570\u636e\u7ed3\u6784\uff0c\u5373\u4f60\u53ef\u4ee5\u5728\u4e00\u4e2a\u5217\u8868\u4e2d\u5b58\u50a8\u4e00\u4e2a \u5e8f\u5217 \u7684\u9879\u76ee\u3002\u5047\u60f3\u4f60\u6709\u4e00\u4e2a\u8d2d\u7269\u5217\u8868\uff0c\u4e0a\u9762\u8bb0\u8f7d\u7740\u4f60\u8981\u4e70\u7684\u4e1c\u897f\uff0c\u4f60\u5c31\u5bb9\u6613\u7406\u89e3\u5217\u8868\u4e86\u3002\u53ea\u4e0d\u8fc7\u5728\u4f60\u7684\u8d2d\u7269\u8868\u4e0a\uff0c\u53ef\u80fd\u6bcf\u6837\u4e1c\u897f\u90fd\u72ec\u81ea\u5360\u6709\u4e00\u884c\uff0c\u800c\u5728Python\u4e2d\uff0c\u4f60\u5728\u6bcf\u4e2a\u9879\u76ee\u4e4b\u95f4\u7528\u9017\u53f7\u5206\u5272\u3002\u5217\u8868\u4e2d\u7684\u9879\u76ee\u5e94\u8be5\u5305\u62ec\u5728\u65b9\u62ec\u53f7\u4e2d\uff0c\u8fd9\u6837Python\u5c31\u77e5\u9053\u4f60\u662f\u5728\u6307\u660e\u4e00\u4e2a\u5217\u8868\u3002\u4e00\u65e6\u4f60\u521b\u5efa\u4e86\u4e00\u4e2a\u5217\u8868\uff0c\u4f60\u53ef\u4ee5\u6dfb\u52a0\u3001\u5220\u9664\u6216\u662f\u641c\u7d22\u5217\u8868\u4e2d\u7684\u9879\u76ee\u3002\u7531\u4e8e\u4f60\u53ef\u4ee5\u589e\u52a0\u6216\u5220\u9664\u9879\u76ee\uff0c\u6211\u4eec\u8bf4\u5217\u8868\u662f *\u53ef\u53d8\u7684* \u6570\u636e\u7c7b\u578b\uff0c\u5373\u8fd9\u79cd\u7c7b\u578b\u662f\u53ef\u4ee5\u88ab\u6539\u53d8\u7684\u3002\n",
      "    * \u5143\u7ec4(set\uff0c\u96c6\u5408)\uff1a\u5143\u7ec4\u548c\u5217\u8868\u5341\u5206\u7c7b\u4f3c\uff0c\u53ea\u4e0d\u8fc7\u5143\u7ec4\u548c\u5b57\u7b26\u4e32\u4e00\u6837\u662f \u4e0d\u53ef\u53d8\u7684 \u5373\u4f60\u4e0d\u80fd\u4fee\u6539\u5143\u7ec4\u3002\u5143\u7ec4\u901a\u8fc7\u5706\u62ec\u53f7\u4e2d\u7528\u9017\u53f7\u5206\u5272\u7684\u9879\u76ee\u5b9a\u4e49\u3002\u5143\u7ec4\u901a\u5e38\u7528\u5728\u4f7f\u8bed\u53e5\u6216\u7528\u6237\u5b9a\u4e49\u7684\u51fd\u6570\u80fd\u591f\u5b89\u5168\u5730\u91c7\u7528\u4e00\u7ec4\u503c\u7684\u65f6\u5019\uff0c\u5373\u88ab\u4f7f\u7528\u7684\u5143\u7ec4\u7684\u503c\u4e0d\u4f1a\u6539\u53d8\u3002\n",
      "    * \u5b57\u5178(dict): \u5b57\u5178\u7c7b\u4f3c\u4e8e\u4f60\u901a\u8fc7\u8054\u7cfb\u4eba\u540d\u5b57\u67e5\u627e\u5730\u5740\u548c\u8054\u7cfb\u4eba\u8be6\u7ec6\u60c5\u51b5\u7684\u5730\u5740\u7c3f\uff0c\u5373\uff0c\u6211\u4eec\u628a\u952e\uff08\u540d\u5b57\uff09\u548c\u503c\uff08\u8be6\u7ec6\u60c5\u51b5\uff09\u8054\u7cfb\u5728\u4e00\u8d77\u3002\u6ce8\u610f\uff0c\u952e\u5fc5\u987b\u662f\u552f\u4e00\u7684\uff0c\u5c31\u50cf\u5982\u679c\u6709\u4e24\u4e2a\u4eba\u6070\u5de7\u540c\u540d\u7684\u8bdd\uff0c\u4f60\u65e0\u6cd5\u627e\u5230\u6b63\u786e\u7684\u4fe1\u606f\u3002\u6ce8\u610f\uff0c\u4f60\u53ea\u80fd\u4f7f\u7528\u4e0d\u53ef\u53d8\u7684\u5bf9\u8c61\uff08\u6bd4\u5982\u5b57\u7b26\u4e32\uff09\u6765\u4f5c\u4e3a\u5b57\u5178\u7684\u952e\uff0c\u4f46\u662f\u53ef\u4ee5\u7528\u4e0d\u53ef\u53d8\u6216\u53ef\u53d8\u7684\u5bf9\u8c61\u4f5c\u4e3a\u5b57\u5178\u7684\u503c\u3002\u57fa\u672c\u8bf4\u6765\u5c31\u662f\uff0c\u4f60\u5e94\u8be5\u53ea\u4f7f\u7528\u7b80\u5355\u7684\u5bf9\u8c61\u4f5c\u4e3a\u952e\u3002\u952e\u503c\u5bf9\u5728\u5b57\u5178\u4e2d\u4ee5\u8fd9\u6837\u7684\u65b9\u5f0f\u6807\u8bb0\uff1ad = {key1 : value1, key2 : value2 }\u3002\u6ce8\u610f\u5b83\u4eec\u7684\u952e/\u503c\u5bf9\u7528\u5192\u53f7\u5206\u5272\uff0c\u800c\u5404\u4e2a\u5bf9\u7528\u9017\u53f7\u5206\u5272\uff0c\u6240\u6709\u8fd9\u4e9b\u90fd\u5305\u62ec\u5728\u82b1\u62ec\u53f7\u4e2d\u3002\u8bb0\u4f4f\u5b57\u5178\u4e2d\u7684\u952e/\u503c\u5bf9\u662f\u6ca1\u6709\u987a\u5e8f\u7684\u3002\u5982\u679c\u4f60\u60f3\u8981\u4e00\u4e2a\u7279\u5b9a\u7684\u987a\u5e8f\uff0c\u90a3\u4e48\u4f60\u5e94\u8be5\u5728\u4f7f\u7528\u524d\u81ea\u5df1\u5bf9\u5b83\u4eec\u6392\u5e8f\u3002\n",
      "    * \u5e8f\u5217\uff1a\u5217\u8868\u3001\u5143\u7ec4\u3001\u5b57\u7b26\u4e32\u90fd\u662f\u4e00\u79cd\u5e8f\u5217\u683c\u5f0f\u3002\u540c\u65f6\u8fd8\u53ef\u4ee5\u4f7f\u7528range\u6765\u4ea7\u751f\u5e8f\u5217\u3002\u5e8f\u5217\u7684\u4e24\u4e2a\u4e3b\u8981\u64cd\u4f5c\u65f6*\u7d22\u5f15\u64cd\u4f5c*\u548c*\u5207\u7247\u64cd\u4f5c*\u3002\n",
      "\n",
      "* \u6807\u793a\u7b26\n",
      "  \n",
      "  \u53d8\u91cf\u7684\u540d\u5b57\u88ab\u79f0\u4e3a\u6807\u793a\u7b26\u3002\u6807\u8bc6\u7b26\u5bf9\u5927\u5c0f\u5199\u654f\u611f\uff0c\u7b2c\u4e00\u4e2a\u5b57\u7b26\u5fc5\u987b\u662f\u5b57\u6bcd\u8868\u4e2d\u7684\u5b57\u6bcd\uff08\u5927\u5199\u6216\u5c0f\u5199\uff09\u6216\u8005\u4e00\u4e2a\u4e0b\u5212\u7ebf\uff08\\_\uff09\uff0c\u5176\u5b83\u90e8\u5206\u989d\u5916\u5305\u542b\u6570\u5b57\u3002\u6709\u6548\u7684\u6807\u793a\u7b26\u6709: `abc`, `_abc`, `a_b_2`, `__23`\u7b49\u3002\u65e0\u6548\u7684\u6807\u793a\u7b26\u6709: `2a`, `3b`\u3002\n",
      "\n",
      "* \u63a7\u5236\u6d41\n",
      "    * `if`\u8bed\u53e5\n",
      "      \n",
      "      `if`\u8bed\u53e5\u7528\u6765\u68c0\u9a8c\u4e00\u4e2a\u6761\u4ef6\uff0c \u5982\u679c \u6761\u4ef6\u4e3a\u771f\uff0c\u6211\u4eec\u8fd0\u884c\u4e00\u5757\u8bed\u53e5\uff08\u79f0\u4e3a `if-\u5757` \uff09\uff0c \u5426\u5219 \u6211\u4eec\u5904\u7406\u53e6\u5916\u4e00\u5757\u8bed\u53e5\uff08\u79f0\u4e3a `else-\u5757` \uff09\u3002 `else` \u4ece\u53e5\u662f\u53ef\u9009\u7684\u3002\u5982\u679c\u6709\u591a\u4e2a\u6761\u4ef6\uff0c\u4e2d\u95f4\u4f7f\u7528`elif`\u3002\n",
      "      \n",
      "\n",
      "    * `For`\u8bed\u53e5\n",
      "      \n",
      "      for..in\u662f\u4e00\u4e2a\u5faa\u73af\u8bed\u53e5\uff0c\u5b83\u5728\u4e00\u5e8f\u5217\u7684\u5bf9\u8c61\u4e0a \u9012\u5f52 \u5373\u9010\u4e00\u4f7f\u7528\u961f\u5217\u4e2d\u7684\u6bcf\u4e2a\u9879\u76ee\u3002\n",
      "      \n",
      "\n",
      "    * `While`\u8bed\u53e5\n",
      "      \n",
      "      \u53ea\u8981\u5728\u4e00\u4e2a\u6761\u4ef6\u4e3a\u771f\u7684\u60c5\u51b5\u4e0b\uff0c`while`\u8bed\u53e5\u5141\u8bb8\u4f60\u91cd\u590d\u6267\u884c\u4e00\u5757\u8bed\u53e5\u3002`while`\u8bed\u53e5\u662f\u6240\u8c13 \u5faa\u73af \u8bed\u53e5\u7684\u4e00\u4e2a\u4f8b\u5b50\u3002`while`\u8bed\u53e5\u6709\u4e00\u4e2a\u53ef\u9009\u7684`else`\u4ece\u53e5\u3002\n",
      "      \n",
      "      \n",
      "    * `break`\u8bed\u53e5\u662f\u7528\u6765 *\u7ec8\u6b62* \u5faa\u73af\u8bed\u53e5\u7684\uff0c\u5373\u54ea\u6015\u5faa\u73af\u6761\u4ef6\u6ca1\u6709\u6210\u4e3aFalse\u6216\u5e8f\u5217\u8fd8\u6ca1\u6709\u88ab\u5b8c\u5168\u9012\u5f52\uff0c\u4e5f\u505c\u6b62\u6267\u884c\u5faa\u73af\u8bed\u53e5\u3002\n",
      "    \n",
      "      \u4e00\u4e2a\u91cd\u8981\u7684\u6ce8\u91ca\u662f\uff0c\u5982\u679c\u4f60\u4ece`for`\u6216`while`\u5faa\u73af\u4e2d *\u7ec8\u6b62* \uff0c\u4efb\u4f55\u5bf9\u5e94\u7684\u5faa\u73afelse\u5757\u5c06\u4e0d\u6267\u884c\u3002\n",
      "      \n",
      "    \n",
      "    * `continue`\u8bed\u53e5\u88ab\u7528\u6765\u544a\u8bc9Python\u8df3\u8fc7\u5f53\u524d\u5faa\u73af\u5757\u4e2d\u7684\u5269\u4f59\u8bed\u53e5\uff0c\u7136\u540e *\u7ee7\u7eed* \u8fdb\u884c\u4e0b\u4e00\u8f6e\u5faa\u73af\u3002\n",
      "    \n",
      "    "
     ]
    },
    {
     "cell_type": "code",
     "collapsed": false,
     "input": [
      "print \"\u6570\u503c\u53d8\u91cf\"\n",
      "a = 5\n",
      "print a\n",
      "\n",
      "print\n",
      "print \"The type of a is\", type(a)\n",
      "\n",
      "print\n",
      "print \"a refers to \", id(a)\n",
      "\n",
      "print\n",
      "print \"a is an int, \", isinstance(a,int)\n",
      "\n",
      "#\u5224\u65ad\n",
      "print\n",
      "\n",
      "if a > 4:\n",
      "    print \"a is larger than 4.\"\n",
      "elif a == 4:\n",
      "    print \"a is equal to 4.\"\n",
      "else:\n",
      "    print \"a is less than 4\"\n",
      "\n",
      "print \"\\n#\u6570\u503c\u8fd0\u7b97\"\n",
      "\n",
      "b = 3\n",
      "\n",
      "print \"a + b =\", a + b\n",
      "print \"a * b =\", a * b\n",
      "print \"2 * (a+b) =\", 2 * (a+b)\n",
      "print \"\u53d6\u4f59\u6570\uff1a a % b =\", a % b"
     ],
     "language": "python",
     "metadata": {},
     "outputs": [
      {
       "output_type": "stream",
       "stream": "stdout",
       "text": [
        "5\n",
        "\n",
        "The type of a is <type 'int'>\n",
        "\n",
        "a refers to  33403848\n",
        "\n",
        "a is an int,  True\n",
        "\n",
        "a is larger than 4.\n",
        "\n",
        "#\u6570\u503c\u8fd0\u7b97\n",
        "a + b = 8\n",
        "a * b = 15\n",
        "2 * (a+b) = 16\n",
        "\u53d6\u4f59\u6570\uff1a a % b = 2\n"
       ]
      }
     ],
     "prompt_number": 10
    },
    {
     "cell_type": "code",
     "collapsed": false,
     "input": [
      "print \"\u5b57\u7b26\u4e32\u53d8\u91cf\"\n",
      "\n",
      "a = \"Hello, welcome to Python\"\n",
      "\n",
      "print \"The string a is:\", a\n",
      "print\n",
      "\n",
      "print \"The length of this string <%s> is %d\" % (a, len(a))\n",
      "print\n",
      "\n",
      "print \"The type of a is\", type(a)\n",
      "print \"\\nThe id of a is\", id(a)  #\u5148\u6253\u5370\u7a7a\u884c\u518d\u8f93\u51fa\n",
      "\n",
      "b = \"123456\"\n",
      "c = '123456'\n",
      "d = '''123456'''\n",
      "\n",
      "print \n",
      "print \"b=c is \", b == c\n",
      "print \"c=d is \", c == d\n",
      "print \"b=d is %s\\n\" % (b == d)  #\u8f93\u51fa\u540e\u6253\u5370\u4e2a\u7a7a\u884c\n",
      "\n",
      "print\n",
      "print \"a and b refers to same variable, \", a is b\n",
      "\n",
      "print \"\u53d6\u51fa\u5b57\u7b26\u4e32\u7684\u7b2c\u4e00\u4e2a\u5b57\u7b26\u3001\u6700\u540e\u4e00\u4e2a\u5b57\u7b26\u3001\u6bcf\u4e2a\u5b57\u7b26\"\n",
      "print \"The first character of a is %s\\n\" % a[0]\n",
      "\n",
      "print \"The first five characters of a are %s\\n\" % a[0:5]\n",
      "\n",
      "print \"The last character of a is %s\\n\" % a[-1]\n",
      "print \"The last character of a is %s\\n\" % a[len(a)-1]\n",
      "\n",
      "print \"\u904d\u5386\u5b57\u7b26\u4e32\"\n",
      "for i in a:\n",
      "    print i\n",
      "\n",
      "print \"\u8f93\u51fa\u7b26\u5408\u7279\u5b9a\u8981\u6c42\u7684\u5b57\u7b26\u7684\u4f4d\u7f6e\"\n",
      "print\n",
      "pos = 0\n",
      "for i in a:\n",
      "    pos += 1\n",
      "    if i == 'o':\n",
      "        print pos\n",
      "    #-------------------\n",
      "#-----------------------\n",
      "print\n",
      "print \"\u5229\u7528split\u5206\u5272\u5b57\u7b26\u4e32\"\n",
      "str1 = \"a b c d e f g\"\n",
      "strL = str1.split(' ')\n",
      "print strL\n",
      "#\u4f7f\u7528\u4e0b\u9762\u7684\u547d\u4ee4\u67e5\u770b\u53ef\u4ee5\u5bf9\u5b57\u7b26\u4e32\u8fdb\u884c\u7684\u64cd\u4f5c\n",
      "#help(str)"
     ],
     "language": "python",
     "metadata": {},
     "outputs": [
      {
       "output_type": "stream",
       "stream": "stdout",
       "text": [
        "\u5b57\u7b26\u4e32\u53d8\u91cf\n",
        "The string a is: Hello, welcome to Python\n",
        "\n",
        "The length of this string <Hello, welcome to Python> is 24\n",
        "\n",
        "The type of a is <type 'str'>\n",
        "\n",
        "The id of a is 57861360\n",
        "\n",
        "b=c is  True\n",
        "c=d is  True\n",
        "b=d is True\n",
        "\n",
        "\n",
        "a and b refers to same variable,  False\n",
        "\u53d6\u51fa\u5b57\u7b26\u4e32\u7684\u7b2c\u4e00\u4e2a\u5b57\u7b26\u3001\u6700\u540e\u4e00\u4e2a\u5b57\u7b26\u3001\u6bcf\u4e2a\u5b57\u7b26\n",
        "The first character of a is H\n",
        "\n",
        "The first five characters of a are Hello\n",
        "\n",
        "The last character of a is n\n",
        "\n",
        "The last character of a is n\n",
        "\n",
        "\u904d\u5386\u5b57\u7b26\u4e32\n",
        "H\n",
        "e\n",
        "l\n",
        "l\n",
        "o\n",
        ",\n",
        " \n",
        "w\n",
        "e\n",
        "l\n",
        "c\n",
        "o\n",
        "m\n",
        "e\n",
        " \n",
        "t\n",
        "o\n",
        " \n",
        "P\n",
        "y\n",
        "t\n",
        "h\n",
        "o\n",
        "n\n",
        "\u8f93\u51fa\u7b26\u5408\u7279\u5b9a\u8981\u6c42\u7684\u5b57\u7b26\u7684\u4f4d\u7f6e\n",
        "\n",
        "5\n",
        "12\n",
        "17\n",
        "23\n",
        "\n",
        "\u5229\u7528split\u5206\u5272\u5b57\u7b26\u4e32\n",
        "['a', 'b', 'c', 'd', 'e', 'f', 'g']\n"
       ]
      }
     ],
     "prompt_number": 6
    },
    {
     "cell_type": "code",
     "collapsed": false,
     "input": [
      "print \"#\u6784\u5efa\u4e00\u4e2a\u6570\u7ec4\"\n",
      "aList = [1,2,3,4,5]\n",
      "print aList\n",
      "print\n",
      "print \"The first element is %d.\" % aList[0]\n",
      "print\n",
      "print \"The last element is %d.\" % aList[-1]\n",
      "print\n",
      "print \"The first two elements are\", aList[:2]\n",
      "\n",
      "print \"#\u904d\u5386\u6570\u7ec4\u7684\u6bcf\u4e2a\u5143\u7d20\"\n",
      "print\n",
      "for ele in aList:\n",
      "    print ele\n",
      "\n",
      "print \"#\u8f93\u51fa\u6570\u7ec4\u4e2d\u5927\u4e8e3\u7684\u5143\u7d20\"\n",
      "print \n",
      "\n",
      "for ele in aList:\n",
      "    if ele > 3:\n",
      "        print ele\n",
      "\n",
      "print \"#\u5411\u6570\u7ec4\u4e2d\u589e\u52a0\u5143\u7d20\"\n",
      "aList.append(6)\n",
      "print aList\n",
      "\n",
      "print \"\u5728\u6570\u7ec4\u4e2d\u5220\u9664\u5143\u7d20\"\n",
      "aList.remove(3)\n",
      "print\n",
      "print aList\n",
      "\n",
      "print \"#\u5411\u6570\u7ec4\u4e2d\u589e\u52a0\u4e00\u4e2a\u6570\u7ec4\"\n",
      "print \n",
      "bList = ['a','b','c']\n",
      "aList.extend(bList)\n",
      "print aList\n",
      "\n",
      "#\u4f7f\u7528\u4e0b\u9762\u7684\u547d\u4ee4\u67e5\u770b\u53ef\u4ee5\u5bf9\u5217\u8868\u8fdb\u884c\u7684\u64cd\u4f5c\n",
      "#help(list)\n"
     ],
     "language": "python",
     "metadata": {},
     "outputs": [
      {
       "output_type": "stream",
       "stream": "stdout",
       "text": [
        "[1, 2, 3, 4, 5]\n",
        "\n",
        "The first element is 1.\n",
        "\n",
        "The last element is 5.\n",
        "\n",
        "The first two elements are [1, 2]\n",
        "\n",
        "1\n",
        "2\n",
        "3\n",
        "4\n",
        "5\n",
        "\n",
        "4\n",
        "5\n",
        "[1, 2, 3, 4, 5, 6]\n",
        "\n",
        "[1, 2, 4, 5, 6]\n",
        "#\u5411\u6570\u7ec4\u4e2d\u589e\u52a0\u4e00\u4e2a\u6570\u7ec4\n",
        "\n",
        "[1, 2, 4, 5, 6, 'a', 'b', 'c']\n"
       ]
      }
     ],
     "prompt_number": 2
    },
    {
     "cell_type": "code",
     "collapsed": false,
     "input": [
      "print \"\u6784\u5efa\u4e00\u4e2a\u5143\u7ec4\"\n",
      "aSet = set([1,2,3])\n",
      "print aSet\n",
      "\n",
      "print \"\u589e\u52a0\u4e00\u4e2a\u5143\u7d20\"\n",
      "aSet.add(4)\n",
      "print aSet\n",
      "aSet.add(3)\n",
      "print aSet\n"
     ],
     "language": "python",
     "metadata": {},
     "outputs": [
      {
       "output_type": "stream",
       "stream": "stdout",
       "text": [
        "\u6784\u5efa\u4e00\u4e2a\u5143\u7ec4\n",
        "set([1, 2, 3])\n",
        "\u589e\u52a0\u4e00\u4e2a\u5143\u7d20\n",
        "set([1, 2, 3, 4])\n",
        "set([1, 2, 3, 4])\n"
       ]
      }
     ],
     "prompt_number": 8
    },
    {
     "cell_type": "code",
     "collapsed": false,
     "input": [
      "print \"\u4f7f\u7528range\"\n",
      "for i in range(16):\n",
      "    if i % 4 == 0:\n",
      "        print i"
     ],
     "language": "python",
     "metadata": {},
     "outputs": [
      {
       "output_type": "stream",
       "stream": "stdout",
       "text": [
        "\u4f7f\u7528range\n",
        "0\n",
        "4\n",
        "8\n",
        "12\n"
       ]
      }
     ],
     "prompt_number": 9
    },
    {
     "cell_type": "code",
     "collapsed": false,
     "input": [
      "print \"#\u6784\u5efa\u4e00\u4e2a\u5b57\u5178\"\n",
      "aDict = {1:2,3:4,'a':'b','d':'c'}\n",
      "\n",
      "print \"\u6253\u5370\u5b57\u5178\"\n",
      "print aDict\n",
      "\n",
      "print\n",
      "print \"\u8f93\u51fa\u5b57\u5178\u7684\u952e\u503c\u5bf9(key-value)\"\n",
      "for key, value in aDict.items():\n",
      "    print key,value\n",
      "    \n",
      "print\n",
      "print \"\u6709\u5e8f\u8f93\u51fa\u5b57\u5178\u7684\u952e\u503c\u5bf9(key-value)\"\n",
      "keyL = aDict.keys()\n",
      "keyL.sort()\n",
      "for key in keyL:\n",
      "    print key, aDict[key]"
     ],
     "language": "python",
     "metadata": {},
     "outputs": [
      {
       "output_type": "stream",
       "stream": "stdout",
       "text": [
        "#\u6784\u5efa\u4e00\u4e2a\u5b57\u5178\n",
        "\u6253\u5370\u5b57\u5178\n",
        "{'a': 'b', 1: 2, 3: 4, 'd': 'c'}\n",
        "\n",
        "\u8f93\u51fa\u5b57\u5178\u7684\u952e\u503c\u5bf9(key-value)\n",
        "a b\n",
        "1 2\n",
        "3 4\n",
        "d c\n"
       ]
      }
     ],
     "prompt_number": 3
    },
    {
     "cell_type": "heading",
     "level": 1,
     "metadata": {},
     "source": [
      "\u8f93\u5165\u8f93\u51fa"
     ]
    },
    {
     "cell_type": "heading",
     "level": 2,
     "metadata": {},
     "source": [
      "\u4ea4\u4e92\u5f0f\u8f93\u5165\u8f93\u51fa"
     ]
    },
    {
     "cell_type": "markdown",
     "metadata": {},
     "source": [
      "\u5728\u5f88\u591a\u65f6\u5019\uff0c\u4f60\u4f1a\u60f3\u8981\u8ba9\u4f60\u7684\u7a0b\u5e8f\u4e0e\u7528\u6237\uff08\u53ef\u80fd\u662f\u4f60\u81ea\u5df1\uff09\u4ea4\u4e92\u3002\u4f60\u4f1a\u4ece\u7528\u6237\u90a3\u91cc\u5f97\u5230\u8f93\u5165\uff0c\u7136\u540e\u6253\u5370\u4e00\u4e9b\u7ed3\u679c\u3002\u6211\u4eec\u53ef\u4ee5\u5206\u522b\u4f7f\u7528raw_input\u548cprint\u8bed\u53e5\u6765\u5b8c\u6210\u8fd9\u4e9b\u529f\u80fd\u3002"
     ]
    },
    {
     "cell_type": "code",
     "collapsed": false,
     "input": [
      "a = raw_input(\"Please input a string\")\n",
      "\n",
      "print \"The string you typed in is\", a"
     ],
     "language": "python",
     "metadata": {},
     "outputs": []
    },
    {
     "cell_type": "code",
     "collapsed": false,
     "input": [
      "lucky_num = 5\n",
      "c = 0\n",
      "\n",
      "while True:\n",
      "    b = int(raw_input(\"Please input a number to check if you are lucky enough to guess right: \\n\"))\n",
      "    if b == lucky_num:\n",
      "        print \"\\nYour are so smart!!! ^_^ ^_^\"\n",
      "        try_again = 0\n",
      "        while 1:\n",
      "            c = raw_input(\"Do you want to try again? [Y/N] \\n\")\n",
      "            if c == 'Y':\n",
      "                try_again = 1\n",
      "                break                \n",
      "            elif c == 'N':\n",
      "                try_again = 0\n",
      "                break\n",
      "            else:\n",
      "                print \"I can not understand you, please check your input. \\n\"\n",
      "                continue\n",
      "        #----------------------------------------------------\n",
      "        if try_again:\n",
      "            print \"\\nHere comes another run. Enjoy!\\n\"\n",
      "            continue\n",
      "        else:\n",
      "            print \"\\nBye-bye\\n\"\n",
      "            break\n",
      "    #--------------------------------------------------------\n",
      "    else:\n",
      "        print \"\\nSorry, but you are not right. %>_<%\"\n",
      "        while 1:\n",
      "            c = raw_input(\"Do you want to try again? [Y/N] \\n\")\n",
      "            if c == 'Y':\n",
      "                try_again = 1\n",
      "                break                \n",
      "            elif c == 'N':\n",
      "                try_again = 0\n",
      "                break\n",
      "            else:\n",
      "                print \"I can not understand you, please check your input. \\n\"\n",
      "                continue\n",
      "        #----------------------------------------------------\n",
      "        if try_again:\n",
      "            print \"\\nHere comes another run. Enjoy!\\n\"\n",
      "            continue\n",
      "        else:\n",
      "            print \"\\nBye-bye\\n\"\n",
      "            break"
     ],
     "language": "python",
     "metadata": {},
     "outputs": []
    },
    {
     "cell_type": "heading",
     "level": 2,
     "metadata": {},
     "source": [
      "\u6587\u4ef6\u8bfb\u5199"
     ]
    },
    {
     "cell_type": "markdown",
     "metadata": {},
     "source": [
      "\u6587\u4ef6\u8bfb\u5199\u662f\u6700\u5e38\u89c1\u7684\u8f93\u5165\u548c\u8f93\u51fa\u64cd\u4f5c\u3002\u4f60\u53ef\u4ee5\u5b9e\u7528`file`\u6216`open`\u6765\u5b9e\u73b0\u3002"
     ]
    },
    {
     "cell_type": "code",
     "collapsed": false,
     "input": [
      "print \"\u65b0\u5efa\u4e00\u4e2a\u6587\u4ef6\"\n",
      "\n",
      "context = '''The best way to learn python contains two steps:\n",
      "1. Rember basic things mentionded here masterly.\n",
      "\n",
      "2. Practise with real demands.\n",
      "'''\n",
      "\n",
      "print \"\u4ee5\u5199\u5165\u6a21\u5f0f(w)\u6253\u5f00\u4e00\u4e2a\u6587\u4ef6\u5e76\u547d\u540d\u4e3a(Test_file.txt)\"\n",
      "fh = open(\"Test_file.txt\",\"w\") \n",
      "print >>fh, context\n",
      "#fh.write(context)\n",
      "fh.close() #\u6587\u4ef6\u64cd\u4f5c\u5b8c\u6210\u540e\u5fc5\u987b\u5173\u95ed\u6587\u4ef6\u53e5\u67c4\n",
      "\n",
      "print \"\u4ee5\u8bfb\u5199\u6a21\u5f0f(r)\u8bfb\u5165\u4e00\u4e2a\u540d\u4e3a(Test_file.txt)\u7684\u6587\u4ef6\"\n",
      "\n",
      "print\n",
      "\n",
      "for line in open(\"Test_file.txt\"):\n",
      "    print line\n",
      "    \n",
      "print\n",
      "for line in open(\"Test_file.txt\"):\n",
      "    print line,\n"
     ],
     "language": "python",
     "metadata": {},
     "outputs": [
      {
       "output_type": "stream",
       "stream": "stdout",
       "text": [
        "\u65b0\u5efa\u4e00\u4e2a\u6587\u4ef6\n",
        "\u4ee5\u5199\u5165\u6a21\u5f0f(w)\u6253\u5f00\u4e00\u4e2a\u6587\u4ef6\u5e76\u547d\u540d\u4e3a(Test_file.txt)\n",
        "\u4ee5\u8bfb\u5199\u6a21\u5f0f(r)\u8bfb\u5165\u4e00\u4e2a\u540d\u4e3a(Test_file.txt)\u7684\u6587\u4ef6\n",
        "\n",
        "The best way to learn python contains two steps:\n",
        "\n",
        "1. Rember basic things mentionded here masterly.\n",
        "\n",
        "\n",
        "\n",
        "2. Practise with real demands.\n",
        "\n",
        "\n",
        "\n",
        "\n",
        "The best way to learn python contains two steps:\n",
        "1. Rember basic things mentionded here masterly.\n",
        "\n",
        "2. Practise with real demands.\n",
        "\n"
       ]
      }
     ],
     "prompt_number": 9
    },
    {
     "cell_type": "heading",
     "level": 1,
     "metadata": {},
     "source": [
      "\u5b9e\u6218\u7ec3\u4e60\uff08\u4e00\uff09"
     ]
    },
    {
     "cell_type": "heading",
     "level": 2,
     "metadata": {},
     "source": [
      "\u80cc\u666f\u77e5\u8bc6"
     ]
    },
    {
     "cell_type": "markdown",
     "metadata": {},
     "source": [
      "**1. FASTA\u6587\u4ef6\u683c\u5f0f**\n",
      "\n",
      "> \\>seq_name_1\n",
      "\n",
      "> sequence1\n",
      "\n",
      "> \\>seq_name_2\n",
      "\n",
      ">sequence2\n",
      "\n",
      "**2. FASTQ\u6587\u4ef6\u683c\u5f0f**\n",
      "\n",
      "> @HWI-ST1223:80:D1FMTACXX:2:1101:1243:2213 1:N:0:AGTCAA\n",
      "\n",
      "> TCTGTGTAGCCNTGGCTGTCCTGGAACTCACTTTGTAGACCAGGCTGGCATGCA\n",
      "\n",
      "> +\n",
      "\n",
      "> BCCFFFFFFHH#4AFHIJJJJJJJJJJJJJJJJJIJIJJJJJGHIJJJJJJJJJ\n",
      "\n",
      "<img src=\"Image/fastq_format.png\">"
     ]
    },
    {
     "cell_type": "heading",
     "level": 2,
     "metadata": {},
     "source": [
      "\u4f5c\u4e1a\u8981\u6c42"
     ]
    },
    {
     "cell_type": "markdown",
     "metadata": {},
     "source": [
      "1. \u7ed9\u5b9aFASTA\u683c\u5f0f\u7684\u6587\u4ef6(test1.fa \u548c test2.fa)\uff0c\u8bfb\u5165\uff0c\u5e76\u8f93\u51fa\u5230\u5c4f\u5e55\u3002\n",
      "2. \u7ed9\u5b9aFASTQ\u683c\u5f0f\u7684\u6587\u4ef6(test1.fq),\u8bfb\u5165\u3002\n",
      "3. \u8bfb\u5165test2.fa, \u5e76\u53d6\u539f\u59cb\u5e8f\u5217\u540d\u5b57\u7b2c\u4e00\u4e2a\u7a7a\u683c\u524d\u7684\u540d\u5b57\u4e3a\u5904\u7406\u540e\u7684\u5e8f\u5217\u540d\u5b57\uff0c\u8f93\u51fa\u5230\u5c4f\u5e55\u3002\n",
      "\n",
      "> \u8f93\u51fa\u683c\u5f0f\u4e3a\uff1a\n",
      "\n",
      "> \\>NM_001011874 gene=Xkr4 CDS=151-2091\n",
      "\n",
      "> gcggcggcgggcgagcgggcgctggagtaggagctg.......\n",
      "\n",
      "4. \u8bfb\u5165test2.fa, \u5e76\u53d6\u539f\u59cb\u5e8f\u5217\u540d\u5b57\u7b2c\u4e00\u4e2a\u7a7a\u683c\u524d\u7684\u540d\u5b57\u4e3a\u5904\u7406\u540e\u7684\u5e8f\u5217\u540d\u5b57\uff0c\u6392\u5e8f\u540e\u8f93\u51fa\u3002\n",
      "5. \u4eceFASTA\u548cFASTQ\u683c\u5f0f\u7684\u6587\u4ef6\u4e2d\u8bfb\u5165\u6587\u4ef6\uff08name.file\uff09\u4e2d\u7279\u5b9a\u540d\u5b57\u7684\u5e8f\u5217\uff0c\u5e76\u8f93\u51fa\u5230\u6587\u4ef6\u3002"
     ]
    },
    {
     "cell_type": "code",
     "collapsed": false,
     "input": [
      "aList = []\n",
      "for line in open('data/test2.fa'):\n",
      "    a = line[0]\n",
      "    if a == '>':\n",
      "        strL = line.split(' ')\n",
      "        str1 = strL[0]\n",
      "        if aList:\n",
      "            print str1\n",
      "            for ele in aList:\n",
      "                print ele\n",
      "            #-----------------\n",
      "            aList = []\n",
      "        else:\n",
      "            pass\n",
      "        #--------------------------\n",
      "    else:\n",
      "        aList.append(line.strip())\n",
      "                 "
     ],
     "language": "python",
     "metadata": {},
     "outputs": [
      {
       "output_type": "stream",
       "stream": "stdout",
       "text": [
        ">NM_001195662\n",
        "gcggcggcgggcgagcgggcgctggagtaggagctggggagcggcgcggccggggaaggaagccagggcg\n",
        "aggcgaggaggtggcgggaggaggagacagcagggacaggTGTCAGATAAAGGAGTGCTCTCCTCCGCTG\n",
        "CCGAGGCATCATGGCCGCTAAGTCAGACGGGAGGCTGAAGATGAAGAAGAGCAGCGACGTGGCGTTCACC\n",
        "CCGCTGCAGAACTCGGACAATTCGGGCTCTGTGCAAGGACTGGCTCCAGGCTTGCCGTCGGGGTCCGGAG\n",
        ">NM_011283\n",
        "AAGCTCAGCCTTTGCTCAGATTCTCCTCTTGATGAAACAAAGGGATTTCTGCACATGCTTGAGAAATTGC\n",
        "AGGTCTCACCCAAAATGAGTGACACACCTTCTACTAGTTTCTCCATGATTCATCTGACTTCTGAAGGTCA\n",
        "AGTTCCTTCCCCTCGCCATTCAAATATCACTCATCCTGTAGTGGCTAAACGCATCAGTTTCTATAAGAGT\n",
        "GGAGACCCACAGTTTGGCGGCGTTCGGGTGGTGGTCAACCCTCGTTCCTTTAAGACTTTTGACGCTCTGC\n",
        "TGGACAGTTTATCCAGGAAGGTACCCCTGCCCTTTGGGGTAAGGAACATCAGCACGCCCCGTGGACGACA\n",
        "CAGCATCACCAGGCTGGAGGAGCTAGAGGACGGCAAGTCTTATGTGTGCTCCCACAATAAGAAGGTGCTG\n",
        ">NM_0112835\n",
        "AATAAATCCAAAGACATTTGTTTACGTGAAACAAGCAGGTTGCATATCCAGTGACGTTTATACAGACCAC\n",
        "ACAAACTATTTACTCTTTTCTTCGTAAGGAAAGGTTCAACTTCTGGTCTCACCCAAAATGAGTGACACAC\n",
        "CTTCTACTAGTTTCTCCATGATTCATCTGACTTCTGAAGGTCAAGTTCCTTCCCCTCGCCATTCAAATAT\n",
        "CACTCATCCTGTAGTGGCTAAACGCATCAGTTTCTATAAGAGTGGAGACCCACAGTTTGGCGGCGTTCGG\n",
        "GTGGTGGTCAACCCTCGTTCCTTTAAGACTTTTGACGCTCTGCTGGACAGTTTATCCAGGAAGGTACCCC\n",
        "TGCCCTTTGGGGTAAGGAACATCAGCACGCCCCGTGGACGACACAGCATCACCAGGCTGGAGGAGCTAGA\n",
        "GGACGGCAAGTCTTATGTGTGCTCCCACAATAAGAAGGTGCTGCCAGTTGACCTGGACAAGGCCCGCAGG\n",
        "CGCCCTCGGCCCTGGCTGAGTAGTCGCTCCATAAGCACGCATGTGCAGCTCTGTCCTGCAACTGCCAATA\n",
        "TGTCCACCATGGCACCTGGCATGCTCCGTGCCCCAAGGAGGCTCGTGGTCTTCCGGAATGGTGACCCGAA\n"
       ]
      }
     ],
     "prompt_number": 1
    },
    {
     "cell_type": "heading",
     "level": 1,
     "metadata": {},
     "source": [
      "\u51fd\u6570\u64cd\u4f5c"
     ]
    },
    {
     "cell_type": "markdown",
     "metadata": {},
     "source": [
      "\u51fd\u6570\u662f\u91cd\u7528\u7684\u7a0b\u5e8f\u6bb5\u3002\u5b83\u4eec\u5141\u8bb8\u4f60\u7ed9\u4e00\u5757\u8bed\u53e5\u4e00\u4e2a\u540d\u79f0\uff0c\u7136\u540e\u4f60\u53ef\u4ee5\u5728\u4f60\u7684\u7a0b\u5e8f\u7684\u4efb\u4f55\u5730\u65b9\u4f7f\u7528\u8fd9\u4e2a\u540d\u79f0\u4efb\u610f\u591a\u6b21\u5730\u8fd0\u884c\u8fd9\u4e2a\u8bed\u53e5\u5757\u3002\u8fd9\u88ab\u79f0\u4e3a `\u8c03\u7528` \u51fd\u6570\u3002\u6211\u4eec\u5df2\u7ecf\u4f7f\u7528\u4e86\u8bb8\u591a\u5185\u5efa\u7684\u51fd\u6570\uff0c\u6bd4\u5982`len`\u548c`range`\u3002\n",
      "\n",
      "\u51fd\u6570\u901a\u8fc7`def`\u5173\u952e\u5b57\u5b9a\u4e49\u3002`def`\u5173\u952e\u5b57\u540e\u8ddf\u4e00\u4e2a\u51fd\u6570\u7684 `\u6807\u8bc6\u7b26` \u540d\u79f0\uff0c\u7136\u540e\u8ddf\u4e00\u5bf9\u5706\u62ec\u53f7\u3002\u5706\u62ec\u53f7\u4e4b\u4e2d\u53ef\u4ee5\u5305\u62ec\u4e00\u4e9b\u53d8\u91cf\u540d\uff0c\u8be5\u884c\u4ee5\u5192\u53f7\u7ed3\u5c3e\u3002\u63a5\u4e0b\u6765\u662f\u4e00\u5757\u8bed\u53e5\uff0c\u5b83\u4eec\u662f\u51fd\u6570\u4f53\u3002\n",
      "\n"
     ]
    },
    {
     "cell_type": "code",
     "collapsed": false,
     "input": [
      "def print_hello():\n",
      "    print \"Hello, you!\"\n",
      "\n",
      "print_hello()"
     ],
     "language": "python",
     "metadata": {},
     "outputs": [
      {
       "output_type": "stream",
       "stream": "stdout",
       "text": [
        "Hello, you!\n"
       ]
      }
     ],
     "prompt_number": 10
    },
    {
     "cell_type": "code",
     "collapsed": false,
     "input": [
      "def print_hello(who):\n",
      "    print \"Hello, %s!\" % who\n",
      "\n",
      "print_hello('me')"
     ],
     "language": "python",
     "metadata": {},
     "outputs": [
      {
       "output_type": "stream",
       "stream": "stdout",
       "text": [
        "Hello, me!\n"
       ]
      }
     ],
     "prompt_number": 11
    },
    {
     "cell_type": "code",
     "collapsed": false,
     "input": [
      "lucky_num = 5\n",
      "c = 0\n",
      "\n",
      "def next_step():\n",
      "    try_again = 0\n",
      "    while 1:\n",
      "        c = raw_input(\"Do you want to try again? [Y/N] \\n\")\n",
      "        if c == 'Y':\n",
      "            try_again = 1\n",
      "            break                \n",
      "        elif c == 'N':\n",
      "            try_again = 0\n",
      "            break\n",
      "        else:\n",
      "            print \"I can not understand you, please check your input. \\n\"\n",
      "            continue\n",
      "        #----------------------------------------------------\n",
      "    if try_again:\n",
      "        print \"\\nHere comes another run. Enjoy!\\n\"\n",
      "        return 1\n",
      "    else:\n",
      "        print \"\\nBye-bye\\n\"\n",
      "        return 0\n",
      "#-----------------------------------------\n",
      "\n",
      "while True:\n",
      "    b = int(raw_input(\"Please input a number to check if you are lucky enough to guess right: \\n\"))\n",
      "    if b == lucky_num:\n",
      "        print \"\\nYour are so smart!!! ^_^ ^_^\"\n",
      "    elif b > lucky_num:\n",
      "        print \"\\nSorry, but your guess is a little larger. %>_<%\\n\"\n",
      "    else:\n",
      "        print \"\\nSorry, but your guess is a little smaller. %>_<%\\n\"\n",
      "    try_again = next_step()\n",
      "    if try_again:\n",
      "        continue\n",
      "    else:\n",
      "        break"
     ],
     "language": "python",
     "metadata": {},
     "outputs": [
      {
       "name": "stdout",
       "output_type": "stream",
       "stream": "stdout",
       "text": [
        "Please input a number to check if you are lucky enough to guess right: \n",
        "4\n"
       ]
      },
      {
       "output_type": "stream",
       "stream": "stdout",
       "text": [
        "\n",
        "Sorry, but your guess is a little smaller. %>_<%\n"
       ]
      },
      {
       "name": "stdout",
       "output_type": "stream",
       "stream": "stdout",
       "text": [
        "Do you want to try again? [Y/N] \n",
        "Y\n"
       ]
      },
      {
       "output_type": "stream",
       "stream": "stdout",
       "text": [
        "\n",
        "Here comes another run. Enjoy!\n",
        "\n"
       ]
      },
      {
       "name": "stdout",
       "output_type": "stream",
       "stream": "stdout",
       "text": [
        "Please input a number to check if you are lucky enough to guess right: \n",
        "5\n"
       ]
      },
      {
       "output_type": "stream",
       "stream": "stdout",
       "text": [
        "\n",
        "Your are so smart!!! ^_^ ^_^\n"
       ]
      },
      {
       "name": "stdout",
       "output_type": "stream",
       "stream": "stdout",
       "text": [
        "Do you want to try again? [Y/N] \n",
        "Y\n"
       ]
      },
      {
       "output_type": "stream",
       "stream": "stdout",
       "text": [
        "\n",
        "Here comes another run. Enjoy!\n",
        "\n"
       ]
      },
      {
       "name": "stdout",
       "output_type": "stream",
       "stream": "stdout",
       "text": [
        "Please input a number to check if you are lucky enough to guess right: \n",
        "1\n"
       ]
      },
      {
       "output_type": "stream",
       "stream": "stdout",
       "text": [
        "\n",
        "Sorry, but your guess is a little smaller. %>_<%\n"
       ]
      },
      {
       "name": "stdout",
       "output_type": "stream",
       "stream": "stdout",
       "text": [
        "Do you want to try again? [Y/N] \n",
        "N\n"
       ]
      },
      {
       "output_type": "stream",
       "stream": "stdout",
       "text": [
        "\n",
        "Bye-bye\n",
        "\n"
       ]
      }
     ],
     "prompt_number": 2
    },
    {
     "cell_type": "code",
     "collapsed": false,
     "input": [],
     "language": "python",
     "metadata": {},
     "outputs": []
    }
   ],
   "metadata": {}
  }
 ]
}