{
 "metadata": {
  "name": "",
  "signature": "sha256:0b26dc758984a417dff3f3bc59200f2a54dcb6058958bc42168f425f52d70096"
 },
 "nbformat": 3,
 "nbformat_minor": 0,
 "worksheets": [
  {
   "cells": [
    {
     "cell_type": "markdown",
     "metadata": {},
     "source": [
      "Python training tutorial\n",
      "Python \u6559\u7a0b\n",
      "===\n",
      "Chen Tong (chentong_biology@163.com)\n",
      "\u9648\u540c (chentong_biology@163.com)\n",
      "=============\n",
      "\n",
      "\n",
      "Welcome to my python tutorial, enjoy it. Please also refer to one classical introduction for python usage named [A byte of python](http://www.byteofpython.info/) and its [chinese version](http://woodpecker.org.cn/abyteofpython_cn/chinese/index.html) to get more understanding of *Python*. \n",
      "\n",
      "This work is licensed under a <a rel=\"license\" href=\"http://creativecommons.org/licenses/by-nc-sa/2.0/\">Creative Commons Attribution-NonCommercial-ShareAlike 2.0 Generic License</a>.\n"
     ]
    },
    {
     "cell_type": "heading",
     "level": 1,
     "metadata": {},
     "source": [
      "Introduction"
     ]
    },
    {
     "cell_type": "heading",
     "level": 2,
     "metadata": {},
     "source": [
      "Why I choose Python"
     ]
    },
    {
     "cell_type": "markdown",
     "metadata": {},
     "source": [
      "* Simple. Just read and write as you think. \u5728\u6211\u6559\u6388\u8fc7\u7684\u670b\u53cb\u4e2d\uff0c\u5927\u5bb6\u90fd\u89c9\u5f97\u597d\u4e0d\u53ef\u601d\u8bae\uff0c\u539f\u6765\u6211\u600e\u4e48\u60f3\u7684\u600e\u4e48\u5199\u51fa\u6765\u5c31\u5bf9\u4e86\u3002\n",
      "* Powerful. Active community and amounts of gorgeous standard and third-party packages.\n",
      "* Scalacity. Easily to ge fused with C and C++."
     ]
    },
    {
     "cell_type": "heading",
     "level": 2,
     "metadata": {},
     "source": [
      "How to install Python"
     ]
    },
    {
     "cell_type": "markdown",
     "metadata": {},
     "source": [
      "Normally, I would recommend newbies try [Anaconda](https://store.continuum.io/cshop/anaconda/) (free to everybody) and [Canopy](https://www.enthought.com/products/canopy/) (free to education and academy). These two python distributions intergated many useful scientific computation Python packages, saving you lots of time to fix annoying incompatibility-problems. "
     ]
    },
    {
     "cell_type": "heading",
     "level": 2,
     "metadata": {},
     "source": [
      "How to run Python commands and scripts"
     ]
    },
    {
     "cell_type": "markdown",
     "metadata": {},
     "source": [
      "* For Linux/Unix users, one just typing `python` in the terminal and hitting `Enter` would start the interctive Python interpreter just as showed below. Then any operations can be typed in directly and run by hitting `Enter`. Also all the commands can be saved in a file, here for example `test.py` and simply type `python test.py` will run the commands.  <img src=\"Image/Python_start_run_linux.png\">\n",
      "\n",
      "* For Windows users, an interactive Python interpreter can be invoked by double-clicking `python.exe` or `Canopy` if installed. Files containing python source codes can be loaded directly to these interpreters to get run. <img src=\"Image/Python_start_run_winCanopy.png\">\n",
      "\n",
      "* Press `Ctrl-d` and `Ctrl-z` would let you quit interactive Python interpreter in Linux/Unix or Windows systems respectively. \n",
      "\n",
      "* \n",
      "\n",
      "* **Since this tutorial is written and distributed using `IPython Notebook`, it would be a great way to directly run codes within this document under `IPython Notebook` environment.**"
     ]
    },
    {
     "cell_type": "heading",
     "level": 2,
     "metadata": {},
     "source": [
      "What editor should I use"
     ]
    },
    {
     "cell_type": "markdown",
     "metadata": {},
     "source": [
      "Normally, I would recommend [Vim](http://www.vim.org/download.php) to edit Python scripts as well as other scripts. A detailed configuration of `vim` for linux can be found at [my github](https://github.com/Tong-Chen/vim) and [BaiDuYun](http://pan.baidu.com/s/1kT5KIN1) for Windows. "
     ]
    },
    {
     "cell_type": "heading",
     "level": 1,
     "metadata": {},
     "source": [
      "Basic concepts"
     ]
    },
    {
     "cell_type": "markdown",
     "metadata": {},
     "source": [
      "* \u5408\u9002\u7684\u7f29\u8fdb\u3002\u7a7a\u767d\u5728Python\u4e2d\u662f\u91cd\u8981\u7684\u3002\u4e8b\u5b9e\u4e0a\u884c\u9996\u7684\u7a7a\u767d\u662f\u91cd\u8981\u7684\u3002\u5b83\u79f0\u4e3a\u7f29\u8fdb\u3002\u5728\u903b\u8f91\u884c\u9996\u7684\u7a7a\u767d\uff08\u7a7a\u683c\u548c\u5236\u8868\u7b26\uff09\u7528\u6765\u51b3\u5b9a\u903b\u8f91\u884c\u7684\u7f29\u8fdb\u5c42\u6b21\uff0c\u4ece\u800c\u7528\u6765\u51b3\u5b9a\u8bed\u53e5\u7684\u5206\u7ec4\u3002\u8fd9\u610f\u5473\u7740\u540c\u4e00\u5c42\u6b21\u7684\u8bed\u53e5\u5fc5\u987b\u6709\u76f8\u540c\u7684\u7f29\u8fdb\u3002\u6bcf\u4e00\u7ec4\u8fd9\u6837\u7684\u8bed\u53e5\u79f0\u4e3a\u4e00\u4e2a\u5757\u3002\u901a\u5e38\u7684\u7f29\u8fdb\u4e3a4\u4e2a\u7a7a\u683c\u3002\n",
      "  \n",
      " \u4ece\u4e0b\u9762\u8fd9\u4e24\u4e2a\u4f8b\u5b50\u53ef\u4ee5\u770b\u51fa\u9519\u8bef\u7684\u7f29\u8fdb\u7c7b\u578b\u548c\u5bf9\u5e94\u7684\u63d0\u793a\u3002\n",
      " * \"unexpected indent\"\u8868\u793a\u5728\u4e0d\u8be5\u51fa\u73b0\u7a7a\u767d\u7684\u5730\u65b9\u591a\u4e86\u7a7a\u767d\uff0c\u5e76\u4e14\u6307\u51fa\u95ee\u9898\u51fa\u5728\u7b2c\u4e09\u884c(line 3)\u3002\n",
      " * \"expected an indented block\"\u8868\u793a\u5e94\u8be5\u6709\u7f29\u8fdb\u7684\u5730\u65b9\u672a\u7f29\u8fdb\uff0c\u4e5f\u6307\u51fa\u4e86\u95ee\u9898\u6240\u5728\u884c\u3002\n",
      " * \"unindent does not match any outer indentation level\"\u8868\u793a\u7f29\u8fdb\u51fa\u73b0\u4e86\u4e0d\u4e00\u81f4\uff0c\u95ee\u9898\u901a\u5e38\u4f1a\u5728\u6307\u5b9a\u884c**\u53ca\u5176\u524d\u9762\u7684\u884c**\u3002"
     ]
    },
    {
     "cell_type": "code",
     "collapsed": false,
     "input": [
      "print \"\u4e0d\u5408\u9002\u7684\u7f29\u8fdb\u4f1a\u5f15\u53d1\u9519\u8bef\uff0c\u4e0d\u8be5\u6709\u7684\u7f29\u8fdb\"\n",
      "a = 'No indent'\n",
      " b = '\u6211\u524d\u9762\u6709\u4e2a\u7a7a\u683c\u2026\u2026'"
     ],
     "language": "python",
     "metadata": {},
     "outputs": [
      {
       "ename": "IndentationError",
       "evalue": "unexpected indent (<ipython-input-4-dcc86a03edde>, line 3)",
       "output_type": "pyerr",
       "traceback": [
        "\u001b[1;36m  File \u001b[1;32m\"<ipython-input-4-dcc86a03edde>\"\u001b[1;36m, line \u001b[1;32m3\u001b[0m\n\u001b[1;33m    b = 'One blank before'\u001b[0m\n\u001b[1;37m    ^\u001b[0m\n\u001b[1;31mIndentationError\u001b[0m\u001b[1;31m:\u001b[0m unexpected indent\n"
       ]
      }
     ],
     "prompt_number": 4
    },
    {
     "cell_type": "code",
     "collapsed": false,
     "input": [
      "print \"\u4e0d\u5408\u9002\u7684\u7f29\u8fdb\uff0c\u5e94\u8be5\u6709\u800c\u6ca1\u6709\u7684\u7f29\u8fdb\"\n",
      "a = [1,2,3]\n",
      "\n",
      "for i in a:\n",
      "print \"\u6211\u5e94\u8be5\u88ab\u7f29\u8fdb\uff0c\u6211\u4ece\u5c5e\u4e8efor\u5faa\u73af!!!\\n\"\n"
     ],
     "language": "python",
     "metadata": {},
     "outputs": [
      {
       "ename": "IndentationError",
       "evalue": "expected an indented block (<ipython-input-8-019a88d57764>, line 5)",
       "output_type": "pyerr",
       "traceback": [
        "\u001b[1;36m  File \u001b[1;32m\"<ipython-input-8-019a88d57764>\"\u001b[1;36m, line \u001b[1;32m5\u001b[0m\n\u001b[1;33m    print i\u001b[0m\n\u001b[1;37m        ^\u001b[0m\n\u001b[1;31mIndentationError\u001b[0m\u001b[1;31m:\u001b[0m expected an indented block\n"
       ]
      }
     ],
     "prompt_number": 8
    },
    {
     "cell_type": "code",
     "collapsed": false,
     "input": [
      "a = [1,2, 3]\n",
      "if a:\n",
      "    for i in a:\n",
      "        print i\n",
      "       print i + 1, \"\u4e3a\u4ec0\u4e48\u6211\u7684\u7f29\u8fdb\u8ddf\u5176\u5b83\u884c\u4e0d\u4e00\u6837\u5462\uff0c\u6211\u7684\u7a7a\u683c\u88ab\u8c01\u5403\u4e86\uff1f\"\n",
      "         print i + 1, \"\u4e3a\u4ec0\u4e48\u6211\u7684\u7f29\u8fdb\u8ddf\u5176\u5b83\u884c\u4e0d\u4e00\u6837\u5462\uff0c\u8c01\u7ed9\u4e86\u6211\u4e2a\u7a7a\u683c\uff1f\""
     ],
     "language": "python",
     "metadata": {},
     "outputs": [
      {
       "ename": "IndentationError",
       "evalue": "unindent does not match any outer indentation level (<ipython-input-41-9b0482bb87f4>, line 5)",
       "output_type": "pyerr",
       "traceback": [
        "\u001b[1;36m  File \u001b[1;32m\"<ipython-input-41-9b0482bb87f4>\"\u001b[1;36m, line \u001b[1;32m5\u001b[0m\n\u001b[1;33m    print i + 1\u001b[0m\n\u001b[1;37m               ^\u001b[0m\n\u001b[1;31mIndentationError\u001b[0m\u001b[1;31m:\u001b[0m unindent does not match any outer indentation level\n"
       ]
      }
     ],
     "prompt_number": 41
    },
    {
     "cell_type": "markdown",
     "metadata": {},
     "source": [
      "* \u5e38\u91cf\uff0c\u6307\u56fa\u5b9a\u7684\u6570\u5b57\u6216\u5b57\u7b26\u4e32\uff0c\u5982`2`, `2.9`, `Hello world`\u7b49\u3002 \n",
      "\n",
      "* \u53d8\u91cf\uff0c\u5b58\u50a8\u4e86\u6570\u5b57\u6216\u5b57\u7b26\u4e32\u7684\u4e8b\u7269\u79f0\u4e3a\u53d8\u91cf\uff0c\u5b83\u53ef\u4ee5\u88ab\u8d4b\u503c\u6216\u88ab\u4fee\u6539\u3002\u7b80\u5355\u7684\u53ef\u4ee5\u7406\u89e3\u4e3a\u53d8\u91cf\u662f\u4e00\u4e2a\u76d2\u5b50\uff0c\u4f60\u53ef\u4ee5\u628a\u4efb\u4f55\u4e1c\u897f\u653e\u5728\u91cc\u9762\uff0c\u901a\u8fc7\u76d2\u5b50\u7684\u540d\u5b57\u6765\u53bb\u9664\u76d2\u5b50\u5185\u7684\u4e1c\u897f\u3002\n",
      "    * \u6570\u503c\u53d8\u91cf\uff1a\u5b58\u50a8\u4e86\u6570\u7684\u53d8\u91cf\u3002     \n",
      "    * \u5b57\u7b26\u4e32\u53d8\u91cf\uff1a\u5b58\u50a8\u4e86\u5b57\u7b26\u4e32\u7684\u53d8\u91cf\u3002\u5b57\u7b26\u4e32\u53d8\u91cf\u7684\u540d\u5b57\u6700\u597d\u4e0d\u4e3a`str`\uff0c\u53ef\u4ee5\u4f7f\u7528`aStr`\u3002\n",
      "    * \u5217\u8868(list): list\u662f\u5904\u7406\u4e00\u7ec4\u6709\u5e8f\u9879\u76ee\u7684\u6570\u636e\u7ed3\u6784\uff0c\u5373\u4f60\u53ef\u4ee5\u5728\u4e00\u4e2a\u5217\u8868\u4e2d\u5b58\u50a8\u4e00\u4e2a \u5e8f\u5217 \u7684\u9879\u76ee\u3002\u5047\u60f3\u4f60\u6709\u4e00\u4e2a\u8d2d\u7269\u5217\u8868\uff0c\u4e0a\u9762\u8bb0\u8f7d\u7740\u4f60\u8981\u4e70\u7684\u4e1c\u897f\uff0c\u4f60\u5c31\u5bb9\u6613\u7406\u89e3\u5217\u8868\u4e86\u3002\u53ea\u4e0d\u8fc7\u5728\u4f60\u7684\u8d2d\u7269\u8868\u4e0a\uff0c\u53ef\u80fd\u6bcf\u6837\u4e1c\u897f\u90fd\u72ec\u81ea\u5360\u6709\u4e00\u884c\uff0c\u800c\u5728Python\u4e2d\uff0c\u4f60\u5728\u6bcf\u4e2a\u9879\u76ee\u4e4b\u95f4\u7528\u9017\u53f7\u5206\u5272\u3002\u5217\u8868\u4e2d\u7684\u9879\u76ee\u5e94\u8be5\u5305\u62ec\u5728**\u65b9\u62ec\u53f7**\u4e2d\uff0c\u8fd9\u6837Python\u5c31\u77e5\u9053\u4f60\u662f\u5728\u6307\u660e\u4e00\u4e2a\u5217\u8868\u3002\u4e00\u65e6\u4f60\u521b\u5efa\u4e86\u4e00\u4e2a\u5217\u8868\uff0c\u4f60\u53ef\u4ee5\u6dfb\u52a0\u3001\u5220\u9664\u6216\u662f\u641c\u7d22\u5217\u8868\u4e2d\u7684\u9879\u76ee\u3002\u7531\u4e8e\u4f60\u53ef\u4ee5\u589e\u52a0\u6216\u5220\u9664\u9879\u76ee\uff0c\u6211\u4eec\u8bf4\u5217\u8868\u662f *\u53ef\u53d8\u7684* \u6570\u636e\u7c7b\u578b\uff0c\u5373\u8fd9\u79cd\u7c7b\u578b\u662f\u53ef\u4ee5\u88ab\u6539\u53d8\u7684\u3002\u5217\u8868\u53d8\u91cf\u7684\u540d\u5b57\u6700\u597d\u4e0d\u4e3a`list`\uff0c\u53ef\u4ee5\u4f7f\u7528`aList`\u3002\n",
      "    * \u5143\u7ec4(set\uff0c\u96c6\u5408)\uff1a\u5143\u7ec4\u548c\u5217\u8868\u5341\u5206\u7c7b\u4f3c\uff0c\u53ea\u4e0d\u8fc7\u5143\u7ec4\u548c\u5b57\u7b26\u4e32\u4e00\u6837\u662f \u4e0d\u53ef\u53d8\u7684 \u5373\u4f60\u4e0d\u80fd\u4fee\u6539\u5143\u7ec4\u3002\u5143\u7ec4\u901a\u8fc7**\u5706\u62ec\u53f7\u4e2d\u7528\u9017\u53f7\u5206\u5272**\u7684\u9879\u76ee\u5b9a\u4e49\u3002\u5143\u7ec4\u901a\u5e38\u7528\u5728\u4f7f\u8bed\u53e5\u6216\u7528\u6237\u5b9a\u4e49\u7684\u51fd\u6570\u80fd\u591f\u5b89\u5168\u5730\u91c7\u7528\u4e00\u7ec4\u503c\u7684\u65f6\u5019\uff0c\u5373\u88ab\u4f7f\u7528\u7684\u5143\u7ec4\u7684\u503c\u4e0d\u4f1a\u6539\u53d8\u3002\u5217\u8868\u53d8\u91cf\u7684\u540d\u5b57\u6700\u597d\u4e0d\u4e3a`set`\uff0c\u53ef\u4ee5\u4f7f\u7528`aSet`\u3002\n",
      "    * \u5b57\u5178(dict): \u5b57\u5178\u7c7b\u4f3c\u4e8e\u4f60\u901a\u8fc7\u8054\u7cfb\u4eba\u540d\u5b57\u67e5\u627e\u5730\u5740\u548c\u8054\u7cfb\u4eba\u8be6\u7ec6\u60c5\u51b5\u7684\u5730\u5740\u7c3f\uff0c\u5373\uff0c\u6211\u4eec\u628a\u952e\uff08\u540d\u5b57\uff09\u548c\u503c\uff08\u8be6\u7ec6\u60c5\u51b5\uff09\u8054\u7cfb\u5728\u4e00\u8d77\u3002\u6ce8\u610f\uff0c\u952e\u5fc5\u987b\u662f\u552f\u4e00\u7684\uff0c\u5c31\u50cf\u5982\u679c\u6709\u4e24\u4e2a\u4eba\u6070\u5de7\u540c\u540d\u7684\u8bdd\uff0c\u4f60\u65e0\u6cd5\u627e\u5230\u6b63\u786e\u7684\u4fe1\u606f\u3002\u6ce8\u610f\uff0c\u4f60\u53ea\u80fd\u4f7f\u7528\u4e0d\u53ef\u53d8\u7684\u5bf9\u8c61\uff08\u6bd4\u5982\u5b57\u7b26\u4e32\uff09\u6765\u4f5c\u4e3a\u5b57\u5178\u7684\u952e\uff0c\u4f46\u662f\u53ef\u4ee5\u7528\u4e0d\u53ef\u53d8\u6216\u53ef\u53d8\u7684\u5bf9\u8c61\u4f5c\u4e3a\u5b57\u5178\u7684\u503c\u3002\u57fa\u672c\u8bf4\u6765\u5c31\u662f\uff0c\u4f60\u5e94\u8be5\u53ea\u4f7f\u7528\u7b80\u5355\u7684\u5bf9\u8c61\u4f5c\u4e3a\u952e\u3002\u952e\u503c\u5bf9\u5728\u5b57\u5178\u4e2d\u4ee5\u8fd9\u6837\u7684\u65b9\u5f0f\u6807\u8bb0\uff1ad = {key1 : value1, key2 : value2 }\u3002\u6ce8\u610f\u5b83\u4eec\u7684\u952e/\u503c\u5bf9\u7528\u5192\u53f7\u5206\u5272\uff0c\u800c\u5404\u4e2a\u5bf9\u7528\u9017\u53f7\u5206\u5272\uff0c\u6240\u6709\u8fd9\u4e9b\u90fd\u5305\u62ec\u5728**\u82b1\u62ec\u53f7**\u4e2d\u3002\u8bb0\u4f4f\u5b57\u5178\u4e2d\u7684\u952e/\u503c\u5bf9\u662f\u6ca1\u6709\u987a\u5e8f\u7684\u3002\u5982\u679c\u4f60\u60f3\u8981\u4e00\u4e2a\u7279\u5b9a\u7684\u987a\u5e8f\uff0c\u90a3\u4e48\u4f60\u5e94\u8be5\u5728\u4f7f\u7528\u524d\u81ea\u5df1\u5bf9\u5b83\u4eec\u6392\u5e8f\u3002\u5217\u8868\u53d8\u91cf\u7684\u540d\u5b57\u6700\u597d\u4e0d\u4e3a`dict`\uff0c\u53ef\u4ee5\u4f7f\u7528`aDict`\u3002\n",
      "    * \u5e8f\u5217\uff1a\u5217\u8868\u3001\u5143\u7ec4\u3001\u5b57\u7b26\u4e32\u90fd\u662f\u4e00\u79cd\u5e8f\u5217\u683c\u5f0f\u3002\u540c\u65f6\u8fd8\u53ef\u4ee5\u4f7f\u7528range\u6765\u4ea7\u751f\u5e8f\u5217\u3002\u5e8f\u5217\u7684\u4e24\u4e2a\u4e3b\u8981\u64cd\u4f5c\u65f6*\u7d22\u5f15\u64cd\u4f5c*\u548c*\u5207\u7247\u64cd\u4f5c*\u3002\n",
      "\n",
      "* \u6807\u793a\u7b26  \n",
      "      * \u53d8\u91cf\u7684\u540d\u5b57\u88ab\u79f0\u4e3a\u6807\u793a\u7b26\u3002\u6807\u8bc6\u7b26\u5bf9\u5927\u5c0f\u5199\u654f\u611f\uff0c\u7b2c\u4e00\u4e2a\u5b57\u7b26\u5fc5\u987b\u662f\u5b57\u6bcd\u8868\u4e2d\u7684\u5b57\u6bcd\uff08\u5927\u5199\u6216\u5c0f\u5199\uff09\u6216\u8005\u4e00\u4e2a\u4e0b\u5212\u7ebf\uff08\\_\uff09\uff0c\u5176\u5b83\u90e8\u5206\u989d\u5916\u5305\u542b\u6570\u5b57\u3002\u6709\u6548\u7684\u6807\u793a\u7b26\u6709: `abc`, `_abc`, `a_b_2`, `__23`\u7b49\u3002\u65e0\u6548\u7684\u6807\u793a\u7b26\u6709: `2a`, `3b`\u3002\n",
      "      * \u6807\u793a\u7b26\u6700\u597d\u4e0d\u4f7f\u7528Python\u5185\u7f6e\u7684\u5173\u952e\u5b57\uff0c\u5982`str`, `list`, `int`, `def`, `split`, `dict`\u7b49\u3002\n",
      "      * \u6807\u793a\u7b26\u6700\u597d\u80fd\u8a00\u8bcd\u8fbe\u610f\uff0c\u5373\u5c55\u793a\u53d8\u91cf\u7684\u7c7b\u578b\uff0c\u53c8\u5e26\u6709\u53d8\u91cf\u7684\u5b9e\u9645\u542b\u4e49\u3002\u5982line\u8868\u793a\u6587\u4ef6\u7684\u4e00\u884c\uff0clineL\u8868\u793a\u5b58\u6709\u4ece\u6587\u4ef6\u8bfb\u5165\u7684\u6bcf\u4e00\u884c\u7684\u5217\u8868\u3002\n",
      "\n",
      "* \u63a7\u5236\u6d41\n",
      "    * `if`\u8bed\u53e5\n",
      "      \n",
      "      `if`\u8bed\u53e5\u7528\u6765\u68c0\u9a8c\u4e00\u4e2a\u6761\u4ef6\uff0c \u5982\u679c \u6761\u4ef6\u4e3a\u771f\uff0c\u6211\u4eec\u8fd0\u884c\u4e00\u5757\u8bed\u53e5\uff08\u79f0\u4e3a `if-\u5757` \uff09\uff0c \u5426\u5219 \u6211\u4eec\u5904\u7406\u53e6\u5916\u4e00\u5757\u8bed\u53e5\uff08\u79f0\u4e3a `else-\u5757` \uff09\u3002 `else` \u4ece\u53e5\u662f\u53ef\u9009\u7684\u3002\u5982\u679c\u6709\u591a\u4e2a\u6761\u4ef6\uff0c\u4e2d\u95f4\u4f7f\u7528`elif`\u3002\n",
      "      \n",
      "\n",
      "    * `For`\u8bed\u53e5\n",
      "      \n",
      "      for..in\u662f\u4e00\u4e2a\u5faa\u73af\u8bed\u53e5\uff0c\u5b83\u5728\u4e00\u5e8f\u5217\u7684\u5bf9\u8c61\u4e0a \u9012\u5f52 \u5373\u9010\u4e00\u4f7f\u7528\u961f\u5217\u4e2d\u7684\u6bcf\u4e2a\u9879\u76ee\u3002\n",
      "      \n",
      "\n",
      "    * `While`\u8bed\u53e5\n",
      "      \n",
      "      \u53ea\u8981\u5728\u4e00\u4e2a\u6761\u4ef6\u4e3a\u771f\u7684\u60c5\u51b5\u4e0b\uff0c`while`\u8bed\u53e5\u5141\u8bb8\u4f60\u91cd\u590d\u6267\u884c\u4e00\u5757\u8bed\u53e5\u3002`while`\u8bed\u53e5\u662f\u6240\u8c13 \u5faa\u73af \u8bed\u53e5\u7684\u4e00\u4e2a\u4f8b\u5b50\u3002`while`\u8bed\u53e5\u6709\u4e00\u4e2a\u53ef\u9009\u7684`else`\u4ece\u53e5\u3002\n",
      "      \n",
      "      \n",
      "    * `break`\u8bed\u53e5\u662f\u7528\u6765 *\u7ec8\u6b62* \u5faa\u73af\u8bed\u53e5\u7684\uff0c\u5373\u54ea\u6015\u5faa\u73af\u6761\u4ef6\u6ca1\u6709\u6210\u4e3aFalse\u6216\u5e8f\u5217\u8fd8\u6ca1\u6709\u88ab\u5b8c\u5168\u9012\u5f52\uff0c\u4e5f\u505c\u6b62\u6267\u884c\u5faa\u73af\u8bed\u53e5\u3002\n",
      "    \n",
      "      \u4e00\u4e2a\u91cd\u8981\u7684\u6ce8\u91ca\u662f\uff0c\u5982\u679c\u4f60\u4ece`for`\u6216`while`\u5faa\u73af\u4e2d *\u7ec8\u6b62* \uff0c\u4efb\u4f55\u5bf9\u5e94\u7684\u5faa\u73afelse\u5757\u5c06\u4e0d\u6267\u884c\u3002\n",
      "      \n",
      "    \n",
      "    * `continue`\u8bed\u53e5\u88ab\u7528\u6765\u544a\u8bc9Python\u8df3\u8fc7\u5f53\u524d\u5faa\u73af\u5757\u4e2d\u7684\u5269\u4f59\u8bed\u53e5\uff0c\u7136\u540e *\u7ee7\u7eed* \u8fdb\u884c\u4e0b\u4e00\u8f6e\u5faa\u73af\u3002\n",
      "    \n",
      "    "
     ]
    },
    {
     "cell_type": "code",
     "collapsed": false,
     "input": [
      "print \"\u6570\u503c\u53d8\u91cf\"\n",
      "a = 5\n",
      "print a\n",
      "\n",
      "print\n",
      "print \"The type of a is\", type(a)\n",
      "\n",
      "#print \"\u8fd9\u662f\u4fdd\u7559\u8282\u76ee\uff0c\u901a\u5e38\u5224\u65ad\u53d8\u91cf\u7684\u7c7b\u578b\u4f7f\u7528\u7684\u4e0d\u662ftype\u662fisinstance.\"\n",
      "#print \"a is an int, \", isinstance(a,int)\n"
     ],
     "language": "python",
     "metadata": {},
     "outputs": [
      {
       "output_type": "stream",
       "stream": "stdout",
       "text": [
        "\u6570\u503c\u53d8\u91cf\n",
        "5\n",
        "\n",
        "The type of a is <type 'int'>\n"
       ]
      }
     ],
     "prompt_number": 1
    },
    {
     "cell_type": "code",
     "collapsed": false,
     "input": [
      "#\u5224\u65ad\n",
      "print \"\u6bd4\u8f83\u6570\u503c\u7684\u5927\u5c0f\"\n",
      "\n",
      "if a > 4:\n",
      "    print \"a is larger than 4.\"\n",
      "elif a == 4:\n",
      "    print \"a is equal to 4.\"\n",
      "else:\n",
      "    print \"a is less than 4\""
     ],
     "language": "python",
     "metadata": {},
     "outputs": [
      {
       "output_type": "stream",
       "stream": "stdout",
       "text": [
        "\n",
        "a is larger than 4.\n",
        "\n",
        "#\u6570\u503c\u8fd0\u7b97\n",
        "a + b = 8\n",
        "a * b = 15\n",
        "2 * (a+b) = 16\n",
        "\u53d6\u4f59\u6570\uff1a a % b = 2\n"
       ]
      }
     ],
     "prompt_number": 2
    },
    {
     "cell_type": "code",
     "collapsed": false,
     "input": [
      "print \"\u7ed9\u5b9a\u6570\u503c\u53d8\u91cfa\u548cb\u7684\u503c\uff0c\u901a\u8fc7\u5224\u65ad\u548c\u91cd\u65b0\u8d4b\u503c\u4f7f\u5f97a\u7684\u503c\u5c0f\uff0cb\u7684\u503c\u5927\"\n",
      "a = 5\n",
      "b = 3\n",
      "\n",
      "if a > b:\n",
      "    c = a\n",
      "    a = b\n",
      "    b = c\n",
      "    #print \"\u6211\u662f\u4fdd\u7559\u8282\u76ee\uff0cPython\u7279\u6709\uff0c\u4e0d\u901a\u8fc7\u4e2d\u95f4\u53d8\u91cf\u76f4\u63a5\u5c31\u53ef\u4ee5\u505a\u4ea4\u6362\uff0c\u795e\u5947\u5427\uff01\uff01\"\n",
      "    #a,b = b,a\n",
      "#-------------------\n",
      "print a \n",
      "print b"
     ],
     "language": "python",
     "metadata": {},
     "outputs": [
      {
       "output_type": "stream",
       "stream": "stdout",
       "text": [
        "\u7ed9\u5b9a\u6570\u503c\u53d8\u91cfa\u548cb\u7684\u503c\uff0c\u901a\u8fc7\u5224\u65ad\u548c\u91cd\u65b0\u8d4b\u503c\u4f7f\u5f97a\u7684\u503c\u5c0f\uff0cb\u7684\u503c\u5927\n",
        "3\n",
        "5\n"
       ]
      }
     ],
     "prompt_number": 17
    },
    {
     "cell_type": "code",
     "collapsed": false,
     "input": [
      "print \"\\n#\u6570\u503c\u8fd0\u7b97, \u7b26\u5408\u4f20\u7edf\u7684\u4f18\u5148\u7ea7\uff0c\u9700\u8981\u4f7f\u7528\u62ec\u53f7\u6765\u6539\u53d8\u4f18\u5148\u7ea7\uff0c\u548c\u5c0f\u5b66\u5b66\u7684\u6570\u5b66\u4e00\u6a21\u4e00\u6837\uff01\uff01\"\n",
      "\n",
      "b = 3\n",
      "\n",
      "print \"a + b =\", a + b\n",
      "print \"a * b =\", a * b\n",
      "print \"2 * (a+b) =\", 2 * (a+b)\n",
      "print \"\u53d6\u4f59\u6570\uff1a a % b =\", a % b\n",
      "print \"\u53d6\u4f59\u6570\u662f\u5f88\u597d\u7684\u5224\u65ad\u5faa\u73af\u7684\u5730\u65b9\uff0c\u56e0\u4e3a\u6bcf\u4e2a\u56fa\u5b9a\u7684\u6570\u4f59\u6570\u5c31\u4f1a\u5faa\u73af\u4e00\u6b21\""
     ],
     "language": "python",
     "metadata": {},
     "outputs": [
      {
       "output_type": "stream",
       "stream": "stdout",
       "text": [
        "\n",
        "#\u6570\u503c\u8fd0\u7b97, \u7b26\u5408\u4f20\u7edf\u7684\u4f18\u5148\u7ea7\uff0c\u9700\u8981\u4f7f\u7528\u62ec\u53f7\u6765\u6539\u53d8\u4f18\u5148\u7ea7\uff0c\u548c\u5c0f\u5b66\u5b66\u7684\u6570\u5b66\u4e00\u6a21\u4e00\u6837\uff01\uff01\n",
        "a + b = 6\n",
        "a * b = 9\n",
        "2 * (a+b) = 12\n",
        "\u53d6\u4f59\u6570\uff1a a % b = 0\n"
       ]
      }
     ],
     "prompt_number": 18
    },
    {
     "cell_type": "code",
     "collapsed": false,
     "input": [
      "print \"\u5b57\u7b26\u4e32\u53d8\u91cf\"\n",
      "\n",
      "a = \"Hello, welcome to Python\"\n",
      "\n",
      "print \"The string a is:\", a\n",
      "print\n",
      "\n",
      "print \"The length of this string <%s> is %d\" % (a, len(a))\n",
      "print\n",
      "\n",
      "print \"The type of a is\", type(a)"
     ],
     "language": "python",
     "metadata": {},
     "outputs": [
      {
       "output_type": "stream",
       "stream": "stdout",
       "text": [
        "\u5b57\u7b26\u4e32\u53d8\u91cf\n",
        "The string a is: Hello, welcome to Python\n",
        "\n",
        "The length of this string <Hello, welcome to Python> is 24\n",
        "\n",
        "The type of a is <type 'str'>\n"
       ]
      }
     ],
     "prompt_number": 4
    },
    {
     "cell_type": "code",
     "collapsed": false,
     "input": [
      "a = \"Hello, welcome to Python\"\n",
      "\n",
      "print \"\u53d6\u51fa\u5b57\u7b26\u4e32\u7684\u7b2c\u4e00\u4e2a\u5b57\u7b26\u3001\u6700\u540e\u4e00\u4e2a\u5b57\u7b26\u3001\u4e2d\u95f4\u90e8\u5206\u5b57\u7b26\"\n",
      "print \"The first character of a is %s\\n\" % a[0]\n",
      "\n",
      "print \"The first five characters of a are %s\\n\" % a[0:5]\n",
      "\n",
      "print \"The last character of a is %s\\n\" % a[-1]\n",
      "print \"The last character of a is %s\\n\" % a[len(a)-1]\n",
      "print \"\\n\u8fd9\u90e8\u5206\u5f88\u91cd\u8981\u554a\uff0c\u5b57\u7b26\u7684\u7d22\u5f15\u548c\u5207\u7247\u64cd\u4f5c\u662f\u53ca\u5176\u5e38\u7528\u7684\u3002\""
     ],
     "language": "python",
     "metadata": {},
     "outputs": [
      {
       "output_type": "stream",
       "stream": "stdout",
       "text": [
        "\u53d6\u51fa\u5b57\u7b26\u4e32\u7684\u7b2c\u4e00\u4e2a\u5b57\u7b26\u3001\u6700\u540e\u4e00\u4e2a\u5b57\u7b26\u3001\u4e2d\u95f4\u90e8\u5206\u5b57\u7b26\n",
        "The first character of a is H\n",
        "\n",
        "The first five characters of a are Hello\n",
        "\n",
        "The last character of a is n\n",
        "\n",
        "The last character of a is n\n",
        "\n",
        "\n",
        "\u8fd9\u90e8\u5206\u5f88\u91cd\u8981\u554a\uff0c\u5b57\u7b26\u7684\u7d22\u5f15\u548c\u5207\u7247\u64cd\u4f5c\u65f6\u53ca\u5176\u5e38\u7528\u7684\u3002\n"
       ]
      }
     ],
     "prompt_number": 19
    },
    {
     "cell_type": "code",
     "collapsed": false,
     "input": [
      "a = \"oaoaoaoa\"\n",
      "\n",
      "print \"\u904d\u5386\u5b57\u7b26\u4e32\"\n",
      "for i in a:\n",
      "    print i\n",
      "\n",
      "print \"\u8f93\u51fa\u7b26\u5408\u7279\u5b9a\u8981\u6c42\u7684\u5b57\u7b26\u7684\u4f4d\u7f6e\"\n",
      "print\n",
      "pos = 0\n",
      "for i in a:\n",
      "    pos += 1\n",
      "    if i == 'o':\n",
      "        print pos\n",
      "    #-------------------\n",
      "#-----------------------\n",
      "print \"\\n\u77e5\u9053\u5417\uff1f\u4e0d\u7ecf\u610f\u95f4\u6211\u4eec\u5199\u51fa\u4e86Python\u7684\u4e00\u4e2a\u5185\u7f6e\u7684\u6807\u51c6\u51fd\u6570find\u6216\u8005index,\u800c\u4e14\u529f\u80fd\u8fd8\u66f4\u5f3a\u5927\""
     ],
     "language": "python",
     "metadata": {},
     "outputs": [
      {
       "output_type": "stream",
       "stream": "stdout",
       "text": [
        "\u904d\u5386\u5b57\u7b26\u4e32\n",
        "o\n",
        "a\n",
        "o\n",
        "a\n",
        "o\n",
        "a\n",
        "o\n",
        "a\n",
        "\u8f93\u51fa\u7b26\u5408\u7279\u5b9a\u8981\u6c42\u7684\u5b57\u7b26\u7684\u4f4d\u7f6e\n",
        "\n",
        "1\n",
        "3\n",
        "5\n",
        "7\n"
       ]
      }
     ],
     "prompt_number": 7
    },
    {
     "cell_type": "code",
     "collapsed": false,
     "input": [
      "print \"\u6211\u4eec\u770b\u770b\u7528\u5185\u7f6e\u51fd\u6570\u5982\u4f55\u627e\u5230\u6240\u6709 o \u7684\u4f4d\u7f6e\"\n",
      "a = \"oaoaoaoa\"\n",
      "pos = a.find('o')\n",
      "\n",
      "while pos != -1:\n",
      "    print pos + 1\n",
      "    new = a[pos+1:].find('o')\n",
      "    if new == -1:\n",
      "        break\n",
      "    pos = new + pos + 1\n",
      "#help(str)"
     ],
     "language": "python",
     "metadata": {},
     "outputs": [
      {
       "output_type": "stream",
       "stream": "stdout",
       "text": [
        "\u6211\u4eec\u770b\u770b\u7528\u5185\u7f6e\u51fd\u6570\u5982\u4f55\u627e\u5230\u6240\u6709 o \u7684\u4f4d\u7f6e\n",
        "1\n",
        "3\n",
        "5\n",
        "7\n"
       ]
      }
     ],
     "prompt_number": 2
    },
    {
     "cell_type": "code",
     "collapsed": false,
     "input": [
      "print\n",
      "print \"\u5229\u7528split\u5206\u5272\u5b57\u7b26\u4e32\\n\"\n",
      "str1 = \"a b c d e f g\"\n",
      "strL = str1.split(' ')\n",
      "print strL\n",
      "print \"\\n\u4f7f\u7528split\u547d\u4ee4\u5c31\u53ef\u4ee5\u628a\u5b57\u7b26\u4e32\u5206\u6210\u5217\u8868\u4e86\uff0c\u60f3\u53d6\u7528\u54ea\u4e00\u5217\u90fd\u968f\u4fbf\u6211\u4e86\u3002\\n\"\n",
      "#\u4f7f\u7528\u4e0b\u9762\u7684\u547d\u4ee4\u67e5\u770b\u53ef\u4ee5\u5bf9\u5b57\u7b26\u4e32\u8fdb\u884c\u7684\u64cd\u4f5c\n",
      "#help(str)"
     ],
     "language": "python",
     "metadata": {},
     "outputs": [
      {
       "output_type": "stream",
       "stream": "stdout",
       "text": [
        "\n",
        "\u5229\u7528split\u5206\u5272\u5b57\u7b26\u4e32\n",
        "\n",
        "['a', 'b', 'c', 'd', 'e', 'f', 'g']\n",
        "\n",
        "\u4f7f\u7528split\u547d\u4ee4\u5c31\u53ef\u4ee5\u628a\u5b57\u7b26\u4e32\u5206\u6210\u5217\u8868\u4e86\uff0c\u60f3\u53d6\u7528\u54ea\u4e00\u5217\u90fd\u968f\u4fbf\u6211\u4e86\u3002\n",
        "\n"
       ]
      }
     ],
     "prompt_number": 16
    },
    {
     "cell_type": "code",
     "collapsed": false,
     "input": [
      "print \"\u5b57\u7b26\u4e32\u7684\u8fde\u63a5\\n\"\n",
      "\n",
      "a = \"Hello\"\n",
      "b = \"Python\"\n",
      "c = a + b\n",
      "print c\n",
      "print \"\\n\u539f\u6765\u5b57\u7b26\u4e32\u76f8\u52a0\u5c31\u53ef\u4ee5\u8fde\u8d77\u6765\u554a\uff01\\n\""
     ],
     "language": "python",
     "metadata": {},
     "outputs": [
      {
       "output_type": "stream",
       "stream": "stdout",
       "text": [
        "\u5b57\u7b26\u4e32\u7684\u8fde\u63a5\n",
        "\n",
        "HelloPython\n",
        "\n",
        "\u539f\u6765\u5b57\u7b26\u4e32\u76f8\u52a0\u5c31\u53ef\u4ee5\u8fde\u8d77\u6765\u554a\uff01\n",
        "\n"
       ]
      }
     ],
     "prompt_number": 14
    },
    {
     "cell_type": "code",
     "collapsed": false,
     "input": [
      "print \"\u53bb\u9664\u5b57\u7b26\u4e32\u4e2d\u7279\u5b9a\u7684\u5b57\u7b26\u3002\u901a\u5e38\u6211\u4eec\u5728\u6587\u4ef6\u4e2d\u8bfb\u53d6\u7684\u4e00\u884c\u90fd\u5305\u542b\u6362\u884c\u7b26\uff0clinux\u4e0b\u4e3a\\\\n\\n\"\n",
      "a = \"oneline\\n\"\n",
      "print \"Currently, the string <a> is **\", a, \"**. The length of string <a> is **\", len(a),\"**. \u6211\u4e3a\u4ec0\u4e48\u6362\u5230\u4e0b\u4e00\u884c\u4e86\uff1f\\n\"\n",
      "\n",
      "a = a.strip()\n",
      "print \"Currently, the string <a> is **\", a, \"**. The length of string <a> is **\", len(a),\"**. \u5220\u6389\u4e86\u6362\u884c\u7b26\u540e\uff0c\u5c11\u4e86\u4e2a\u5b57\u7b26\uff0c\u800c\u4e14\u6ca1\u6362\u884c\uff01\\n\"\n",
      "\n",
      "a = a.strip('o')\n",
      "print \"Currently, the string <a> is **\", a, \"**. The length of string <a> is **\", len(a), \"**. \u53c8\u5c11\u4e86\u4e2a\u5b57\u7b26\uff01\uff01\\n\""
     ],
     "language": "python",
     "metadata": {},
     "outputs": [
      {
       "output_type": "stream",
       "stream": "stdout",
       "text": [
        "\u53bb\u9664\u5b57\u7b26\u4e32\u4e2d\u7279\u5b9a\u7684\u5b57\u7b26\u3002\u901a\u5e38\u6211\u4eec\u5728\u6587\u4ef6\u4e2d\u8bfb\u53d6\u7684\u4e00\u884c\u90fd\u5305\u542b\u6362\u884c\u7b26\uff0clinux\u4e0b\u4e3a\\n\n",
        "\n",
        "Currently, the string <a> is ** oneline\n",
        "**. The length of string <a> is ** 8 **. \u6211\u4e3a\u4ec0\u4e48\u6362\u5230\u4e0b\u4e00\u884c\u4e86\uff1f\n",
        "\n",
        "Currently, the string <a> is ** oneline **. The length of string <a> is ** 7 **. \u5220\u6389\u4e86\u6362\u884c\u7b26\u540e\uff0c\u5c11\u4e86\u4e2a\u5b57\u7b26\uff0c\u800c\u4e14\u6ca1\u6362\u884c\uff01\n",
        "\n",
        "Currently, the string <a> is ** neline **. The length of string <a> is ** 6 **. \u53c8\u5c11\u4e86\u4e2a\u5b57\u7b26\uff01\uff01\n",
        "\n"
       ]
      }
     ],
     "prompt_number": 11
    },
    {
     "cell_type": "code",
     "collapsed": false,
     "input": [
      "print \"\u5b57\u7b26\u4e32\u7684\u66ff\u6362\\n\"\n",
      "\n",
      "a = \"Hello, Python\"\n",
      "b = a.replace(\"Hello\",\"Welcome\")\n",
      "print \"\u539f\u59cb\u5b57\u7b26\u4e32\u662f:\", a\n",
      "print\n",
      "print \"\u66ff\u6362\u540e\u7684\u5b57\u7b26\u4e32\u662f:\", b\n",
      "print\n",
      "\n",
      "c = a.replace(\"o\",\"O\")\n",
      "print c\n",
      "print \"\u6bcf\u6b21\u53ea\u66ff\u6362\u4e86\u4e00\u4e2ao\u554a\uff01\\n\"\n",
      "\n",
      "print \"\u5982\u679c\u6211\u60f3\u66ff\u6362\u7b2c\u4e8c\u4e2ao\u600e\u4e48\u529e\u5462\uff1f\\n\"\n",
      "c = a.replace(\"o\",\"O\",7)\n",
      "print c"
     ],
     "language": "python",
     "metadata": {},
     "outputs": [
      {
       "output_type": "stream",
       "stream": "stdout",
       "text": [
        "\u5b57\u7b26\u4e32\u7684\u66ff\u6362\n",
        "\n",
        "\u539f\u59cb\u5b57\u7b26\u4e32\u662f: Hello, Python\n",
        "\n",
        "\u66ff\u6362\u540e\u7684\u5b57\u7b26\u4e32\u662f: Welcome, Python\n",
        "\n",
        "HellO, PythOn\n",
        "\u6bcf\u6b21\u53ea\u66ff\u6362\u4e86\u4e00\u4e2ao\u554a\uff01\n",
        "\n",
        "\u5982\u679c\u6211\u60f3\u66ff\u6362\u7b2c\u4e8c\u4e2ao\u600e\u4e48\u529e\u5462\uff1f\n",
        "\n",
        "HellO, PythOn\n"
       ]
      }
     ],
     "prompt_number": 9
    },
    {
     "cell_type": "code",
     "collapsed": false,
     "input": [
      "print \"\u5b57\u7b26\u4e32\u5e2e\u52a9\"\n",
      "help(str)"
     ],
     "language": "python",
     "metadata": {},
     "outputs": []
    },
    {
     "cell_type": "code",
     "collapsed": false,
     "input": [
      "print \"\u8fd9\u4e2a\u662f\u4e2a\u4fdd\u7559\u8282\u76ee\uff0c\u6709\u5174\u8da3\u7684\u770b\uff0c\u65e0\u5174\u8da3\u7684\u8df3\u8fc7\u4e0d\u5f71\u54cd\u5b66\u4e60\"\n",
      "print \"\u5b57\u7b26\u4e32\u662f\u4e0d\u53ef\u4fee\u6539\u7684\uff0c\u540c\u4e00\u4e2a\u53d8\u91cf\u540d\u5b57\u8d4b\u4e0d\u540c\u7684\u53ea\u5b9e\u9645\u662f\u4ea7\u751f\u4e86\u591a\u4e2a\u4e0d\u540c\u7684\u53d8\u91cf\u3002\u4e0d\u540c\u7684\u53d8\u91cf\u540d\u5b57\u8d4b\u540c\u6837\u7684\u503c\uff0c\u7528\u4e8e\u6bd4\u8f83\u65f6\u76f8\u7b49\uff0c\u4f46\u5f15\u7528\u4e0d\u540c\u7684\u533a\u57df\"\n",
      "\n",
      "b = \"123456\"\n",
      "c = '123456'\n",
      "d = '''123456\n",
      "sdsdsadsdsd'''\n",
      "\n",
      "print \n",
      "print \"b=c is \", b == c\n",
      "print \"c=d is \", c == d\n",
      "print \"b=d is %s\\n\" % (b == d)  #\u8f93\u51fa\u540e\u6253\u5370\u4e2a\u7a7a\u884c\n",
      "\n",
      "print\n",
      "print \"a and b refers to same variable, \", a is b\n"
     ],
     "language": "python",
     "metadata": {},
     "outputs": [
      {
       "output_type": "stream",
       "stream": "stdout",
       "text": [
        "\u5b57\u7b26\u4e32\u662f\u4e0d\u53ef\u4fee\u6539\u7684\uff0c\u540c\u4e00\u4e2a\u53d8\u91cf\u540d\u5b57\u8d4b\u4e0d\u540c\u7684\u53ea\u5b9e\u9645\u662f\u4ea7\u751f\u4e86\u591a\u4e2a\u4e0d\u540c\u7684\u53d8\u91cf\u3002\u4e0d\u540c\u7684\u53d8\u91cf\u540d\u5b57\u8d4b\u540c\u6837\u7684\u503c\uff0c\u7528\u4e8e\u6bd4\u8f83\u65f6\u76f8\u7b49\uff0c\u4f46\u5f15\u7528\u4e0d\u540c\u7684\u533a\u57df\n",
        "\n",
        "b=c is  True\n",
        "c=d is  False\n",
        "b=d is False\n",
        "\n",
        "\n",
        "a and b refers to same variable,  False\n"
       ]
      }
     ],
     "prompt_number": 14
    },
    {
     "cell_type": "code",
     "collapsed": false,
     "input": [
      "print \"\u5b57\u7b26\u4e32\u8f6c\u6570\u7ec4\"\n",
      "str1 = \"array\"\n",
      "print list(str1)"
     ],
     "language": "python",
     "metadata": {},
     "outputs": [
      {
       "output_type": "stream",
       "stream": "stdout",
       "text": [
        "\u5b57\u7b26\u4e32\u8f6c\u6570\u7ec4\n",
        "['a', 'r', 'r', 'a', 'y']\n"
       ]
      }
     ],
     "prompt_number": 5
    },
    {
     "cell_type": "code",
     "collapsed": false,
     "input": [
      "print \"#\u6784\u5efa\u4e00\u4e2a\u6570\u7ec4\"\n",
      "aList = [1,2,3,4,5]\n",
      "print aList\n",
      "print\n",
      "print \"The first element is %d.\" % aList[0]\n",
      "print\n",
      "print \"The last element is %d.\" % aList[-1]\n",
      "print\n",
      "print \"The first two elements are\", aList[:2]\n",
      "print \"\\n\u6570\u7ec4\u7d22\u5f15\u548c\u5207\u7247\u64cd\u4f5c\u4e0e\u5b57\u7b26\u4e32\u662f\u4e00\u6837\u4e00\u6837\u7684\uff0c\u800c\u4e14\u90fd\u5f88\u91cd\u8981\u3002\""
     ],
     "language": "python",
     "metadata": {},
     "outputs": [
      {
       "output_type": "stream",
       "stream": "stdout",
       "text": [
        "#\u6784\u5efa\u4e00\u4e2a\u6570\u7ec4\n",
        "[1, 2, 3, 4, 5]\n",
        "\n",
        "The first element is 1.\n",
        "\n",
        "The last element is 5.\n",
        "\n",
        "The first two elements are [1, 2]\n",
        "\n",
        "\u6570\u7ec4\u7d22\u5f15\u548c\u5207\u7247\u64cd\u4f5c\u4e0e\u5b57\u7b26\u4e32\u662f\u4e00\u6837\u4e00\u6837\u7684\uff0c\u800c\u4e14\u90fd\u5f88\u91cd\u8981\u3002\n"
       ]
      }
     ],
     "prompt_number": 10
    },
    {
     "cell_type": "code",
     "collapsed": false,
     "input": [
      "aList = [1,2,3,4,5]\n",
      "print \"#\u5411\u6570\u7ec4\u4e2d\u589e\u52a0\u5143\u7d20\"\n",
      "aList.append(6)\n",
      "print aList\n",
      "\n",
      "print \"\\n#\u5411\u6570\u7ec4\u4e2d\u589e\u52a0\u4e00\u4e2a\u6570\u7ec4\"\n",
      "print \n",
      "bList = ['a','b','c']\n",
      "aList.extend(bList)\n",
      "print aList"
     ],
     "language": "python",
     "metadata": {},
     "outputs": [
      {
       "output_type": "stream",
       "stream": "stdout",
       "text": [
        "#\u5411\u6570\u7ec4\u4e2d\u589e\u52a0\u5143\u7d20\n",
        "[1, 2, 3, 4, 5, 6]\n",
        "\n",
        "#\u5411\u6570\u7ec4\u4e2d\u589e\u52a0\u4e00\u4e2a\u6570\u7ec4\n",
        "\n",
        "[1, 2, 3, 4, 5, 6, 'a', 'b', 'c']\n"
       ]
      }
     ],
     "prompt_number": 14
    },
    {
     "cell_type": "code",
     "collapsed": false,
     "input": [
      "aList = [1,2,3,4,3,5]\n",
      "print \"\u5728\u6570\u7ec4\u4e2d\u5220\u9664\u5143\u7d20\"\n",
      "aList.remove(3)\n",
      "print\n",
      "print aList\n",
      "\n",
      "aList.pop(3)\n",
      "print\n",
      "print aList\n",
      "print \"\\npop\u548cremove\u662f\u4e0d\u4e00\u6837\u7684\uff0cremove\u662f\u79fb\u9664\u7b49\u4e8e\u7ed9\u5b9a\u503c\u7684\u5143\u7d20\uff0cpop\u662f\u79fb\u9664\u7ed9\u5b9a\u4f4d\u7f6e\u7684\u5143\u7d20\\n\""
     ],
     "language": "python",
     "metadata": {},
     "outputs": [
      {
       "output_type": "stream",
       "stream": "stdout",
       "text": [
        "\u5728\u6570\u7ec4\u4e2d\u5220\u9664\u5143\u7d20\n",
        "\n",
        "[1, 2, 4, 3, 5]\n",
        "\n",
        "[1, 2, 4, 5]\n",
        "\n",
        "pop\u548cremove\u662f\u4e0d\u4e00\u6837\u7684\uff0cremove\u662f\u79fb\u9664\u7b49\u4e8e\u7ed9\u5b9a\u503c\u7684\u5143\u7d20\uff0cpop\u662f\u79fb\u9664\u7ed9\u5b9a\u4f4d\u7f6e\u7684\u5143\u7d20\n",
        "\n"
       ]
      }
     ],
     "prompt_number": 15
    },
    {
     "cell_type": "code",
     "collapsed": false,
     "input": [
      "aList = [1,2,3,4,5]\n",
      "\n",
      "\n",
      "print \"#\u904d\u5386\u6570\u7ec4\u7684\u6bcf\u4e2a\u5143\u7d20\"\n",
      "print\n",
      "for ele in aList:\n",
      "    print ele\n",
      "\n",
      "print \"#\u8f93\u51fa\u6570\u7ec4\u4e2d\u5927\u4e8e3\u7684\u5143\u7d20\"\n",
      "print \n",
      "\n",
      "for ele in aList:\n",
      "    if ele > 3:\n",
      "        print ele"
     ],
     "language": "python",
     "metadata": {},
     "outputs": [
      {
       "output_type": "stream",
       "stream": "stdout",
       "text": [
        "#\u904d\u5386\u6570\u7ec4\u7684\u6bcf\u4e2a\u5143\u7d20\n",
        "\n",
        "1\n",
        "2\n",
        "3\n",
        "4\n",
        "5\n",
        "#\u8f93\u51fa\u6570\u7ec4\u4e2d\u5927\u4e8e3\u7684\u5143\u7d20\n",
        "\n",
        "4\n",
        "5\n"
       ]
      }
     ],
     "prompt_number": 20
    },
    {
     "cell_type": "code",
     "collapsed": false,
     "input": [
      "print \"\u8fde\u63a5\u6570\u7ec4\u7684\u6bcf\u4e2a\u5143\u7d20\uff08\u6bcf\u4e2a\u5143\u7d20\u5fc5\u987b\u4e3a\u5b57\u7b26\u4e32\uff09\"\n",
      "aList = [1,2,3,4,5] #Wrong\n",
      "#print '\\t'.join(aList) #wrong\n",
      "\n",
      "print aList\n",
      "aList = [str(i) for i in aList]\n",
      "print aList\n",
      "print '\\t'.join(aList) #wrong\n",
      "\n",
      "print ':'.join(aList)\n",
      "print ''.join(aList)"
     ],
     "language": "python",
     "metadata": {},
     "outputs": [
      {
       "output_type": "stream",
       "stream": "stdout",
       "text": [
        "\u8fde\u63a5\u6570\u7ec4\u7684\u6bcf\u4e2a\u5143\u7d20\uff08\u6bcf\u4e2a\u5143\u7d20\u5fc5\u987b\u4e3a\u5b57\u7b26\u4e32\uff09\n",
        "[1, 2, 3, 4, 5]\n",
        "['1', '2', '3', '4', '5']\n",
        "1\t2\t3\t4\t5\n",
        "1:2:3:4:5\n",
        "12345\n"
       ]
      }
     ],
     "prompt_number": 4
    },
    {
     "cell_type": "code",
     "collapsed": false,
     "input": [
      "aList = [1,2,3,4,5]\n",
      "\n",
      "print \"\u6570\u7ec4\u53cd\u5e8f\"\n",
      "aList.reverse()\n",
      "print aList\n",
      "\n",
      "print \"\u6570\u7ec4\u5143\u7d20\u6392\u5e8f\"\n",
      "aList.sort()\n",
      "print aList\n",
      "\n",
      "#print \"lambda\u6392\u5e8f\uff0c\u4fdd\u7559\u8282\u76ee\"\n",
      "#aList.sort(key=lambda x: x*(-1))\n",
      "#print aList"
     ],
     "language": "python",
     "metadata": {},
     "outputs": [
      {
       "output_type": "stream",
       "stream": "stdout",
       "text": [
        "\u6570\u7ec4\u53cd\u5e8f\n",
        "[5, 4, 3, 2, 1]\n",
        "\u6570\u7ec4\u5143\u7d20\u6392\u5e8f\n",
        "[1, 2, 3, 4, 5]\n"
       ]
      }
     ],
     "prompt_number": 4
    },
    {
     "cell_type": "code",
     "collapsed": false,
     "input": [
      "print \"\u6784\u5efa\u4e00\u4e2a\u5143\u7ec4\"\n",
      "aSet = set([1,2,3])\n",
      "print aSet\n",
      "\n",
      "print \"\u589e\u52a0\u4e00\u4e2a\u5143\u7d20\"\n",
      "aSet.add(4)\n",
      "print aSet\n",
      "aSet.add(3)\n",
      "print aSet\n"
     ],
     "language": "python",
     "metadata": {},
     "outputs": [
      {
       "output_type": "stream",
       "stream": "stdout",
       "text": [
        "\u6784\u5efa\u4e00\u4e2a\u5143\u7ec4\n",
        "set([1, 2, 3])\n",
        "\u589e\u52a0\u4e00\u4e2a\u5143\u7d20\n",
        "set([1, 2, 3, 4])\n",
        "set([1, 2, 3, 4])\n"
       ]
      }
     ],
     "prompt_number": 8
    },
    {
     "cell_type": "code",
     "collapsed": false,
     "input": [
      "print \"\u4f7f\u7528range\uff0c\u4ea7\u751f\u4e00\u7cfb\u5217\u7684\u5b57\u7b26\u4e32\"\n",
      "for i in range(16):\n",
      "    if i % 4 == 0:\n",
      "        print i"
     ],
     "language": "python",
     "metadata": {},
     "outputs": [
      {
       "output_type": "stream",
       "stream": "stdout",
       "text": [
        "\u4f7f\u7528range\n",
        "0\n",
        "4\n",
        "8\n",
        "12\n"
       ]
      }
     ],
     "prompt_number": 9
    },
    {
     "cell_type": "code",
     "collapsed": false,
     "input": [
      "print \"#\u6784\u5efa\u4e00\u4e2a\u5b57\u5178\"\n",
      "aDict = {1:2,3:4,'a':'b','d':'c'}\n",
      "\n",
      "print \"\u6253\u5370\u5b57\u5178\"\n",
      "print aDict\n",
      "\n",
      "print \"\u5411\u5b57\u5178\u4e2d\u6dfb\u52a0\u952e\u503c\u5bf9\"\n",
      "aDict[5] = 6\n",
      "aDict['e'] = 'f'\n",
      "print aDict"
     ],
     "language": "python",
     "metadata": {},
     "outputs": [
      {
       "output_type": "stream",
       "stream": "stdout",
       "text": [
        "#\u6784\u5efa\u4e00\u4e2a\u5b57\u5178\n",
        "\u6253\u5370\u5b57\u5178\n",
        "{'a': 'b', 1: 2, 3: 4, 'd': 'c'}\n",
        "\u5411\u5b57\u5178\u4e2d\u6dfb\u52a0\u952e\u503c\u5bf9\n",
        "{'a': 'b', 1: 2, 3: 4, 'e': 'f', 'd': 'c', 5: 6}\n"
       ]
      }
     ],
     "prompt_number": 24
    },
    {
     "cell_type": "code",
     "collapsed": false,
     "input": [
      "print\n",
      "print \"\u8f93\u51fa\u5b57\u5178\u7684\u952e\u503c\u5bf9(key-value)\"\n",
      "for key, value in aDict.items():\n",
      "    print key,value"
     ],
     "language": "python",
     "metadata": {},
     "outputs": [
      {
       "output_type": "stream",
       "stream": "stdout",
       "text": [
        "\n",
        "\u8f93\u51fa\u5b57\u5178\u7684\u952e\u503c\u5bf9(key-value)\n",
        "a b\n",
        "1 2\n",
        "3 4\n",
        "e f\n",
        "d c\n",
        "5 6\n"
       ]
      }
     ],
     "prompt_number": 26
    },
    {
     "cell_type": "code",
     "collapsed": false,
     "input": [
      "print \"\u6709\u5e8f\u8f93\u51fa\u5b57\u5178\u7684\u952e\u503c\u5bf9(key-value)\"\n",
      "keyL = aDict.keys()\n",
      "print keyL\n",
      "keyL.sort()\n",
      "print keyL\n",
      "for key in keyL:\n",
      "    print key, aDict[key]"
     ],
     "language": "python",
     "metadata": {},
     "outputs": [
      {
       "output_type": "stream",
       "stream": "stdout",
       "text": [
        "\u6709\u5e8f\u8f93\u51fa\u5b57\u5178\u7684\u952e\u503c\u5bf9(key-value)\n",
        "['a', 1, 3, 'e', 'd', 5]\n",
        "[1, 3, 5, 'a', 'd', 'e']\n",
        "1 2\n",
        "3 4\n",
        "5 6\n",
        "a b\n",
        "d c\n",
        "e f\n"
       ]
      }
     ],
     "prompt_number": 25
    },
    {
     "cell_type": "heading",
     "level": 1,
     "metadata": {},
     "source": [
      "\u8f93\u5165\u8f93\u51fa"
     ]
    },
    {
     "cell_type": "heading",
     "level": 2,
     "metadata": {},
     "source": [
      "\u4ea4\u4e92\u5f0f\u8f93\u5165\u8f93\u51fa"
     ]
    },
    {
     "cell_type": "markdown",
     "metadata": {},
     "source": [
      "\u5728\u5f88\u591a\u65f6\u5019\uff0c\u4f60\u4f1a\u60f3\u8981\u8ba9\u4f60\u7684\u7a0b\u5e8f\u4e0e\u7528\u6237\uff08\u53ef\u80fd\u662f\u4f60\u81ea\u5df1\uff09\u4ea4\u4e92\u3002\u4f60\u4f1a\u4ece\u7528\u6237\u90a3\u91cc\u5f97\u5230\u8f93\u5165\uff0c\u7136\u540e\u6253\u5370\u4e00\u4e9b\u7ed3\u679c\u3002\u6211\u4eec\u53ef\u4ee5\u5206\u522b\u4f7f\u7528raw_input\u548cprint\u8bed\u53e5\u6765\u5b8c\u6210\u8fd9\u4e9b\u529f\u80fd\u3002"
     ]
    },
    {
     "cell_type": "code",
     "collapsed": false,
     "input": [
      "a = raw_input(\"Please input a string\\n> \")\n",
      "\n",
      "print \"The string you typed in is: \", a"
     ],
     "language": "python",
     "metadata": {},
     "outputs": [
      {
       "name": "stdout",
       "output_type": "stream",
       "stream": "stdout",
       "text": [
        "Please input a string\n",
        "> weerr\n"
       ]
      },
      {
       "output_type": "stream",
       "stream": "stdout",
       "text": [
        "The string you typed in is:  weerr\n"
       ]
      }
     ],
     "prompt_number": 14
    },
    {
     "cell_type": "code",
     "collapsed": false,
     "input": [
      "lucky_num = 5\n",
      "c = 0\n",
      "\n",
      "while True:\n",
      "    b = int(raw_input(\"Please input a number to check if you are lucky enough to guess right: \\n\"))\n",
      "    if b == lucky_num:\n",
      "        print \"\\nYour are so smart!!! ^_^ ^_^\"\n",
      "        #----------------------------------------------------\n",
      "    #--------------------------------------------------------\n",
      "    else:\n",
      "        print \"\\nSorry, but you are not right. %>_<%\"\n",
      "        while 1:\n",
      "            c = raw_input(\"Do you want to try again? [Y/N] \\n\")\n",
      "            if c == 'Y':\n",
      "                try_again = 1\n",
      "                break                \n",
      "            elif c == 'N':\n",
      "                try_again = 0\n",
      "                break\n",
      "            else:\n",
      "                print \"I can not understand you, please check your input. \\n\"\n",
      "                continue\n",
      "        #----------------------------------------------------\n",
      "        if try_again:\n",
      "            print \"\\nHere comes another run. Enjoy!\\n\"\n",
      "            continue\n",
      "        else:\n",
      "            print \"\\nBye-bye\\n\"\n",
      "            break"
     ],
     "language": "python",
     "metadata": {},
     "outputs": [
      {
       "name": "stdout",
       "output_type": "stream",
       "stream": "stdout",
       "text": [
        "Please input a number to check if you are lucky enough to guess right: \n",
        "4\n"
       ]
      },
      {
       "output_type": "stream",
       "stream": "stdout",
       "text": [
        "\n",
        "Sorry, but you are not right. %>_<%\n"
       ]
      },
      {
       "name": "stdout",
       "output_type": "stream",
       "stream": "stdout",
       "text": [
        "Do you want to try again? [Y/N] \n",
        "Y\n"
       ]
      },
      {
       "output_type": "stream",
       "stream": "stdout",
       "text": [
        "\n",
        "Here comes another run. Enjoy!\n",
        "\n"
       ]
      }
     ]
    },
    {
     "cell_type": "heading",
     "level": 2,
     "metadata": {},
     "source": [
      "\u6587\u4ef6\u8bfb\u5199"
     ]
    },
    {
     "cell_type": "markdown",
     "metadata": {},
     "source": [
      "\u6587\u4ef6\u8bfb\u5199\u662f\u6700\u5e38\u89c1\u7684\u8f93\u5165\u548c\u8f93\u51fa\u64cd\u4f5c\u3002\u4f60\u53ef\u4ee5\u5b9e\u7528`file`\u6216`open`\u6765\u5b9e\u73b0\u3002"
     ]
    },
    {
     "cell_type": "code",
     "collapsed": false,
     "input": [
      "print \"\u65b0\u5efa\u4e00\u4e2a\u6587\u4ef6\"\n",
      "\n",
      "context = '''The best way to learn python contains two steps:\n",
      "1. Rember basic things mentionded here masterly.\n",
      "\n",
      "2. Practise with real demands.\n",
      "'''\n",
      "\n",
      "print \"\u4ee5\u5199\u5165\u6a21\u5f0f(w)\u6253\u5f00\u4e00\u4e2a\u6587\u4ef6\u5e76\u547d\u540d\u4e3a(Test_file.txt)\"\n",
      "fh = open(\"Test_file.txt\",\"w\") \n",
      "print >>fh, context\n",
      "#fh.write(context)\n",
      "fh.close() #\u6587\u4ef6\u64cd\u4f5c\u5b8c\u6210\u540e\u5fc5\u987b\u5173\u95ed\u6587\u4ef6\u53e5\u67c4"
     ],
     "language": "python",
     "metadata": {},
     "outputs": [
      {
       "output_type": "stream",
       "stream": "stdout",
       "text": [
        "\u65b0\u5efa\u4e00\u4e2a\u6587\u4ef6\n",
        "\u4ee5\u5199\u5165\u6a21\u5f0f(w)\u6253\u5f00\u4e00\u4e2a\u6587\u4ef6\u5e76\u547d\u540d\u4e3a(Test_file.txt)\n"
       ]
      }
     ],
     "prompt_number": 28
    },
    {
     "cell_type": "code",
     "collapsed": false,
     "input": [
      "print \"\u4ee5\u8bfb\u5199\u6a21\u5f0f(r)\u8bfb\u5165\u4e00\u4e2a\u540d\u4e3a(Test_file.txt)\u7684\u6587\u4ef6\"\n",
      "\n",
      "print\n",
      "\n",
      "for line in open(\"Test_file.txt\"):\n",
      "    print line"
     ],
     "language": "python",
     "metadata": {},
     "outputs": [
      {
       "output_type": "stream",
       "stream": "stdout",
       "text": [
        "\u4ee5\u8bfb\u5199\u6a21\u5f0f(r)\u8bfb\u5165\u4e00\u4e2a\u540d\u4e3a(Test_file.txt)\u7684\u6587\u4ef6\n",
        "\n",
        "The best way to learn python contains two steps:\n",
        "\n",
        "1. Rember basic things mentionded here masterly.\n",
        "\n",
        "\n",
        "\n",
        "2. Practise with real demands.\n",
        "\n",
        "\n",
        "\n"
       ]
      }
     ],
     "prompt_number": 29
    },
    {
     "cell_type": "code",
     "collapsed": false,
     "input": [
      "print \"\u907f\u514d\u4e2d\u95f4\u7a7a\u884c\u7684\u8f93\u51fa\u3002\u4ece\u6587\u4ef6\u603b\u8bfb\u53d6\u7684\u6bcf\u4e00\u884c\u90fd\u5e26\u6709\u4e00\u4e2a\u6362\u884c\u7b26\uff0c\u800cPython\u7684print\u9ed8\u8ba4\u4f1a\u5728\u8f93\u51fa\u7ed3\u675f\u65f6\u52a0\u4e0a\u6362\u884c\u7b26\uff0c\u56e0\u6b64\u6253\u5370\u4e00\u884c\u4f1a\u7a7a\u51fa\u4e00\u884c\u3002\u4e3a\u4e86\u89e3\u51b3\u8fd9\u4e2a\u95ee\u9898\uff0c\u6709\u4e0b\u9762\u4e24\u5957\u65b9\u6848\u3002\"\n",
      "\n",
      "print \"\u5728print\u8bed\u53e5\u540e\u52a0\u4e0a\u9017\u53f7(,)\u53ef\u4ee5\u963b\u6b62Python\u5bf9\u6bcf\u6b21\u8f93\u51fa\u81ea\u52a8\u6dfb\u52a0\u7684\u6362\u884c\u7b26\"\n",
      "print\n",
      "\n",
      "for line in open(\"Test_file.txt\"):\n",
      "    print line,\n",
      "\n",
      "print\n",
      "\n",
      "print \"\u53bb\u6389\u6bcf\u884c\u81ea\u8eab\u7684\u6362\u884c\u7b26\"\n",
      "for line in open(\"Test_file.txt\"):\n",
      "    print line.strip()"
     ],
     "language": "python",
     "metadata": {},
     "outputs": [
      {
       "output_type": "stream",
       "stream": "stdout",
       "text": [
        "\n",
        "The best way to learn python contains two steps:\n",
        "1. Rember basic things mentionded here masterly.\n",
        "\n",
        "2. Practise with real demands.\n",
        "\n",
        "\n",
        "The best way to learn python contains two steps:\n",
        "1. Rember basic things mentionded here masterly.\n",
        "\n",
        "2. Practise with real demands.\n",
        "\n"
       ]
      }
     ],
     "prompt_number": 30
    },
    {
     "cell_type": "heading",
     "level": 1,
     "metadata": {},
     "source": [
      "\u5b9e\u6218\u7ec3\u4e60\uff08\u4e00\uff09"
     ]
    },
    {
     "cell_type": "heading",
     "level": 2,
     "metadata": {},
     "source": [
      "\u80cc\u666f\u77e5\u8bc6"
     ]
    },
    {
     "cell_type": "markdown",
     "metadata": {},
     "source": [
      "**1. FASTA\u6587\u4ef6\u683c\u5f0f**\n",
      "\n",
      "> \\>seq_name_1\n",
      "\n",
      "> sequence1\n",
      "\n",
      "> \\>seq_name_2\n",
      "\n",
      ">sequence2\n",
      "\n",
      "**2. FASTQ\u6587\u4ef6\u683c\u5f0f**\n",
      "\n",
      "> @HWI-ST1223:80:D1FMTACXX:2:1101:1243:2213 1:N:0:AGTCAA\n",
      "\n",
      "> TCTGTGTAGCCNTGGCTGTCCTGGAACTCACTTTGTAGACCAGGCTGGCATGCA\n",
      "\n",
      "> +\n",
      "\n",
      "> BCCFFFFFFHH#4AFHIJJJJJJJJJJJJJJJJJIJIJJJJJGHIJJJJJJJJJ\n",
      "\n",
      "<img src=\"Image/fastq_format.png\">"
     ]
    },
    {
     "cell_type": "heading",
     "level": 2,
     "metadata": {},
     "source": [
      "\u4f5c\u4e1a (\u4e00)"
     ]
    },
    {
     "cell_type": "markdown",
     "metadata": {},
     "source": [
      "1. \u7ed9\u5b9aFASTA\u683c\u5f0f\u7684\u6587\u4ef6(test1.fa \u548c test2.fa)\uff0c\u5199\u4e00\u4e2a\u7a0b\u5e8f `cat.py` \u8bfb\u5165\u6587\u4ef6\uff0c\u5e76\u8f93\u51fa\u5230\u5c4f\u5e55\n",
      "    * \u7528\u5230\u7684\u77e5\u8bc6\u70b9\n",
      "        * open(file)\n",
      "        * for .. in loop\n",
      "        * print\n",
      "        * the amazng , or strip() function\n",
      "2. \u7ed9\u5b9aFASTQ\u683c\u5f0f\u7684\u6587\u4ef6(test1.fq), \u5199\u4e00\u4e2a\u7a0b\u5e8f `cat.py` \u8bfb\u5165\u6587\u4ef6\uff0c\u5e76\u8f93\u51fa\u5230\u5c4f\u5e55\n",
      "    * \u7528\u5230\u7684\u77e5\u8bc6\u70b9\n",
      "        * \u540c\u4e0a\n",
      "3. \u5199\u7a0b\u5e8f `splitName.py`, \u8bfb\u5165test2.fa, \u5e76\u53d6\u539f\u59cb\u5e8f\u5217\u540d\u5b57\u7b2c\u4e00\u4e2a\u7a7a\u683c\u524d\u7684\u540d\u5b57\u4e3a\u5904\u7406\u540e\u7684\u5e8f\u5217\u540d\u5b57\uff0c\u8f93\u51fa\u5230\u5c4f\u5e55\n",
      "    * \u7528\u5230\u7684\u77e5\u8bc6\u70b9\n",
      "        * split\n",
      "        * \u5b57\u7b26\u4e32\u7684\u7d22\u5f15\n",
      "    * \u8f93\u51fa\u683c\u5f0f\u4e3a\uff1a\n",
      "```\n",
      ">NM_001011874\n",
      "gcggcggcgggcgagcgggcgctggagtaggagctg.......\n",
      "```\n",
      "\n",
      "4. \u5199\u7a0b\u5e8f `formatFasta.py`, \u8bfb\u5165test.fa\uff0c\u628a\u6bcf\u6761FASTA\u5e8f\u5217\u8fde\u6210\u4e00\u884c\u7136\u540e\u8f93\u51fa\n",
      "    * \u7528\u5230\u7684\u77e5\u8bc6\u70b9\n",
      "        * join\n",
      "        * strip    \n",
      "    * \u8f93\u51fa\u683c\u5f0f\u4e3a:\n",
      "```\n",
      "    >NM_001011874\n",
      "    gcggcggcgggc......TCCGCTG......GCGTTCACC......CGGGGTCCGGAG\n",
      "```\n",
      "4. \u5199\u7a0b\u5e8f `formatFasta-2.py`, \u8bfb\u5165test.fa\uff0c\u628a\u6bcf\u6761FASTA\u5e8f\u5217\u5206\u5272\u621080\u4e2a\u5b57\u6bcd\u4e00\u884c\u7684\u5e8f\u5217\n",
      "    * \u7528\u5230\u7684\u77e5\u8bc6\u70b9\n",
      "        * \u5b57\u7b26\u4e32\u5207\u7247\u64cd\u4f5c\n",
      "        * range\n",
      "    * \u8f93\u51fa\u683c\u5f0f\u4e3a\n",
      "```    \n",
      "    >NM_001011874\n",
      "    gcggcggcgc.(60\u4e2a\u5b57\u6bcd).TCCGCTGACG #(\u6bcf\u884c80\u4e2a\u5b57\u6bcd)\n",
      "    acgtgctacg.(60\u4e2a\u5b57\u6bcd).GCGTTCACCC\n",
      "    ACGTACGATG(\u6700\u540e\u4e00\u884c\u53ef\u4e0d\u8db380\u4e2a\u5b57\u6bcd)\n",
      "```     \n",
      "4. \u5199\u7a0b\u5e8f `sortFasta.py`, \u8bfb\u5165test2.fa, \u5e76\u53d6\u539f\u59cb\u5e8f\u5217\u540d\u5b57\u7b2c\u4e00\u4e2a\u7a7a\u683c\u524d\u7684\u540d\u5b57\u4e3a\u5904\u7406\u540e\u7684\u5e8f\u5217\u540d\u5b57\uff0c\u6392\u5e8f\u540e\u8f93\u51fa\n",
      "    * \u7528\u5230\u7684\u77e5\u8bc6\u70b9\n",
      "        * sort\n",
      "        * dict\n",
      "        * aDict[key] = []\n",
      "        * aDict[key].append(value)\n",
      "        \n",
      "5. \u63d0\u53d6\u7ed9\u5b9a\u540d\u5b57\u7684\u5e8f\u5217\n",
      "    * \u5199\u7a0b\u5e8f `grepFasta.py`, \u63d0\u53d6fasta.name\u4e2d\u540d\u5b57\u5bf9\u5e94\u7684test2.fa\u7684\u5e8f\u5217\uff0c\u5e76\u8f93\u51fa\u5230\u5c4f\u5e55\u3002\n",
      "    * \u5199\u7a0b\u5e8f `grepFastq.py`, \u63d0\u53d6fastq.name\u4e2d\u540d\u5b57\u5bf9\u5e94\u7684test1.fq\u7684\u5e8f\u5217\uff0c\u5e76\u8f93\u51fa\u5230\u6587\u4ef6\u3002\n",
      "        * \u7528\u5230\u7684\u77e5\u8bc6\u70b9\n",
      "            * print >>fh, or fh.write()\n",
      "            * \u53d6\u6a21\u8fd0\u7b97\uff0c4 % 2 == 0\n",
      "    \n",
      "6. \u5199\u7a0b\u5e8f `screenResult.py`, \u7b5b\u9009\u7b26\u5408\u7279\u5b9a\u8981\u6c42\u7684\u884c(test.expr\u5217\u51fa\u4e86\u5dee\u5f02\u57fa\u56e0)\n",
      "    * \u9009\u53d6test.expr\u4e2dfoldChange\u5927\u4e8e2\u7684\u57fa\u56e0\n",
      "    * \u9009\u53d6test.expr\u4e2dpadj\u5c0f\u4e8e0.05\u7684\u57fa\u56e0\n",
      "\n",
      "6. \u5199\u7a0b\u5e8f `transferMultipleColumToMatrix.py` \u5c06\u6587\u4ef6(multipleColExpr.txt)\u4e2d\u57fa\u56e0\u5728\u591a\u4e2a\u7ec4\u7ec7\u4e2d\u7684\u8868\u8fbe\u6570\u636e\u8f6c\u6362\u4e3a\u77e9\u9635\u5f62\u5f0f\n",
      "    * \u7528\u5230\u7684\u77e5\u8bc6\u70b9\n",
      "        * aDict['key'] = {}\n",
      "        * aDict['key']['key2'] = value\n",
      "    * \u8f93\u5165\u683c\u5f0f\n",
      "```\n",
      "Gene    Sample  Value   Unit    Abundance\n",
      "ENSG00000000003 A-431   21.3    FPKM    Medium\n",
      "ENSG00000000003 A-549   32.5    FPKM    Medium\n",
      "ENSG00000000003 AN3-CA  38.2    FPKM    Medium\n",
      "ENSG00000000003 BEWO    31.4    FPKM    Medium\n",
      "ENSG00000000003 CACO-2  63.9    FPKM    High\n",
      "ENSG00000000005 A-431   0.0     FPKM    Not detected\n",
      "ENSG00000000005 A-549   0.0     FPKM    Not detected\n",
      "ENSG00000000005 AN3-CA  0.0     FPKM    Not detected\n",
      "ENSG00000000005 BEWO    0.0     FPKM    Not detected\n",
      "ENSG00000000005 CACO-2  0.0     FPKM    Not detected\n",
      "```\n",
      "    * \u8f93\u51fa\u683c\u5f0f\n",
      "```\n",
      "Name\tA-431\tA-549\tAN3-CA\tBEWO\tCACO-2\n",
      "ENSG00000000460\t25.2\t14.2\t10.6\t24.4\t14.2\n",
      "ENSG00000000938\t0.0\t0.0\t0.0\t0.0\t0.0\n",
      "ENSG00000001084\t19.1\t155.1\t24.4\t12.6\t23.5\n",
      "ENSG00000000457\t2.8\t3.4\t3.8\t5.8\t2.9\n",
      "```\n",
      "\n",
      "6. \u5199\u7a0b\u5e8f `reverseComplementary.py`\u8ba1\u7b97\u5e8f\u5217 `ACGTACGTACGTCACGTCAGCTAGAC`\u7684\u53cd\u5411\u4e92\u8865\u5e8f\u5217\n",
      "    * \u7528\u5230\u7684\u77e5\u8bc6\u70b9\n",
      "        * reverse\n",
      "        * list(seq)\n",
      "7. \u5199\u7a0b\u5e8f `collapsemiRNAreads.py`\u8f6c\u6362smRNA-Seq\u7684\u6d4b\u5e8f\u6570\u636e\n",
      "    * \u8f93\u5165\u6587\u4ef6\u683c\u5f0f(mir.collapse, tab-\u5206\u5272\u7684\u4e24\u5217\u6587\u4ef6\uff0c\u7b2c\u4e00\u5217\u4e3a\u5e8f\u5217\uff0c\u7b2c\u4e8c\u5217\u4e3a\u5e8f\u5217\u88ab\u6d4b\u5230\u7684\u6b21\u6570)\n",
      "```\n",
      "        #ID_REF = \n",
      "        #VALUE = number of times sequenced\n",
      "        ID_REF        VALUE\n",
      "        ACTGCCCTAAGTGCTCCTTCTGGC        2\n",
      "        ATAAGGTGCATCTAGTGCAGATA        25\n",
      "        TGAGGTAGTAGTTTGTGCTGTTT        100\n",
      "        TCCTACGAGTTGCATGGATTC        4\n",
      "```\n",
      "    * \u8f93\u51fa\u6587\u4ef6\u683c\u5f0f (mir.collapse.fa, \u540d\u5b57\u7684\u524d3\u4e2a\u5b57\u6bcd\u4e3a\u6837\u54c1\u7684\u7279\u5f02\u6807\u793a\uff0c\u4e2d\u95f4\u7684\u6570\u5b57\u8868\u793a\u7b2c\u51e0\u6761\u5e8f\u5217\uff0c\u662f\u5e8f\u5217\u540d\u5b57\u7684\u552f\u4e00\u6807\u793a\uff0c\u7b2c\u4e09\u90e8\u5206\u662fx\u52a0\u6bcf\u4e2areads\u88ab\u6d4b\u5230\u7684\u6b21\u6570\u3002\u4e09\u90e8\u5206\u7528\u4e0b\u5212\u7ebf\u8fde\u8d77\u6765\u4f5c\u4e3afasta\u5e8f\u5217\u7684\u540d\u5b57\u3002)\n",
      "```        \n",
      "        >ESB_1_x2\n",
      "        ACTGCCCTAAGTGCTCCTTCTGGC\n",
      "        >ESB_2_x25\n",
      "        ATAAGGTGCATCTAGTGCAGATA\n",
      "        >ESB_3_x100\n",
      "        TGAGGTAGTAGTTTGTGCTGTTT\n",
      "        >ESB_4_x4\n",
      "        TCCTACGAGTTGCATGGATTC\n",
      "```\n",
      "8. \u7b80\u5316\u7684\u77ed\u5e8f\u5217\u5339\u914d\u7a0b\u5e8f (map.py) \u628ashort.fa\u4e2d\u7684\u5e8f\u5217\u6bd4\u5bf9\u5230ref.fa, \u8f93\u51fa\u77ed\u5e8f\u5217\u5339\u914d\u5230ref.fa\u6587\u4ef6\u4e2d\u54ea\u4e9b\u5e8f\u5217\u7684\u54ea\u4e9b\u4f4d\u7f6e\n",
      "    * \u7528\u5230\u7684\u77e5\u8bc6\u70b9\n",
      "        * find\n",
      "    * \u8f93\u51fa\u683c\u5f0f (\u8f93\u51fa\u683c\u5f0f\u4e3abed\u683c\u5f0f\uff0c\u7b2c\u4e00\u5217\u4e3a\u5339\u914d\u5230\u7684\u67d3\u8272\u4f53\uff0c\u7b2c\u4e8c\u5217\u548c\u7b2c\u4e09\u5217\u4e3a\u5339\u914d\u5230\u67d3\u8272\u4f53\u5e8f\u5217\u7684\u8d77\u59cb\u7ec8\u6b62\u4f4d\u7f6e\uff08\u4f4d\u7f6e\u6807\u8bb0\u4ee50\u4e3a\u8d77\u59cb\uff0c\u4ee3\u8868\u7b2c\u4e00\u4e2a\u4f4d\u7f6e\uff1b\u7ec8\u6b62\u4f4d\u7f6e\u4e0d\u5305\u542b\u5728\u5185\uff0c\u7b2c\u4e00\u4e2a\u4f8b\u5b50\u4e2d\u6240\u793a\u5e8f\u5217\u7684\u4f4d\u7f6e\u662f(199,207](\u524d\u95ed\u540e\u5f00\uff0c\u5b9e\u9645\u662fchr1\u67d3\u8272\u4f53\u7b2c199-206\u7684\u5e8f\u5217\uff0c0\u8d77\u59cb). \u7b2c4\u5217\u4e3a\u77ed\u5e8f\u5217\u7684\u540d\u5b57\uff0c\u7b2c5\u5217\u4e3a\u77ed\u5e8f\u5217\u81ea\u8eab\u7684\u5e8f\u5217\uff0c\u7b2c\u516d\u5217\u4e3a\u77ed\u5e8f\u5217\u6bd4\u5bf9\u5230\u67d3\u8272\u4f53\u7684\u54ea\u6761\u94fe\uff0c\u5982\u679c\u76f4\u63a5\u6bd4\u5bf9\u5230\u63d0\u4f9b\u7684\u5e8f\u5217\u5219\u4e3a\u6b63\u94fe(+)\uff0c\u5982\u679c\u6bd4\u5bf9\u5230\u53cd\u5411\u4e92\u8865\u5e8f\u5217\u5219\u4e3a\u8d1f\u94fe(-).)\u3002\n",
      "```\n",
      "    chr1 199 207 1 TGGCGTTCA +\n",
      "    chr2 200 210 2 ACGTAGGAT -\n",
      "    chr3 300 310 2 ACGTAGGAT +\n",
      "```\n",
      "\n",
      "10. \u5907\u6ce8\uff1a\n",
      "    * \u6bcf\u4e2a\u63d0\u5230\u63d0\u5230\u7684\u201c\u7528\u5230\u7684\u77e5\u8bc6\u70b9\u201d\u4e3a\u76f8\u5bf9\u4e8e\u524d\u9762\u7684\u9898\u76ee\u65b0\u589e\u7684\u77e5\u8bc6\u70b9\uff0c\u8bf7\u7efc\u5408\u8003\u8651\u3002\u6b64\u5916\uff0c\u5bf9\u4e8e\u4e0d\u540c\u7684\u601d\u8def\u5e76\u4e0d\u662f\u6240\u6709\u63d0\u5230\u7684\u77e5\u8bc6\u70b9\u90fd\u4f1a\u7528\u7740\uff0c\u800c\u4e14\u4e5f\u53ef\u80fd\u4f1a\u7528\u5230\u672a\u63d0\u5230\u7684\u77e5\u8bc6\u70b9\u3002\u4f46\u662f\u6240\u6709\u77e5\u8bc6\u70b9\u90fd\u5728\u524d\u9762\u7684\u8bb2\u4e49\u90e8\u5206\u6709\u4ecb\u7ecd\u3002\n",
      "    * \u6bcf\u4e2a\u7a0b\u5e8f\u5bf9\u4e8e\u4f60\u8eab\u8fb9\u4f1a\u5199\u7684\u4eba\u6765\u8bf4\u90fd\u5f88\u7b80\u5355\uff0c\u56e0\u6b64\u4f60\u4e00\u5b9a\u8981\u514b\u5236\u4f4f\uff0c\u72ec\u7acb\u53bb\u628a\u7b54\u6848\u505a\u51fa\uff0c\u591a\u770b\u9519\u8bef\u63d0\u793a\uff0c\u591a\u6bd4\u5bf9\u7a0b\u5e8f\u8f93\u51fa\u7ed3\u679c\u548c\u9884\u671f\u7ed3\u679c\u7684\u5dee\u5f02\u3002\n",
      "    * \u5b66\u4e60\u953b\u70bc\u201c\u8bfb\u7a0b\u5e8f\u201d\uff0c\u5373\u5bf9\u7740\u6587\u4ef6\u6a21\u62df\u6574\u4e2a\u7684\u8bfb\u5165\u3001\u5904\u7406\u8fc7\u7a0b\u6765\u53d1\u73b0\u53ef\u80fd\u7684\u903b\u8f91\u95ee\u9898\u3002\n",
      "    * \u7a0b\u5e8f\u8fd0\u884c\u6ca1\u6709\u9519\u8bef\u4e0d\u4ee3\u8868\u4f60\u5199\u7684\u7a0b\u5e8f\u5b8c\u6210\u4e86\u4f60\u7684\u9700\u6c42\uff0c\u4f60\u8981\u53bb\u63d2\u773c\u8f93\u51fa\u7ed3\u679c\u662f\u4e0d\u662f\u4f60\u60f3\u8981\u7684\u3002\n",
      "11. \u5173\u4e8e\u7a0b\u5e8f\u8c03\u8bd5\n",
      "    * \u5728\u521d\u5199\u7a0b\u5e8f\u65f6\uff0c\u53ef\u80fd\u4f1a\u51fa\u73b0\u5404\u79cd\u5404\u6837\u7684\u9519\u8bef\uff0c\u5e38\u89c1\u7684\u6709\u7f29\u8fdb\u4e0d\u4e00\u81f4\uff0c\u53d8\u91cf\u540d\u5b57\u62fc\u5199\u9519\u8bef\uff0c\u4e22\u6b7b\u5192\u53f7\u7b49\uff0c\u8fd9\u65f6\u8981\u6839\u636e\u9519\u8bef\u63d0\u793a\u67e5\u770b\u9519\u8bef\u7c7b\u578b\u662f\u4ec0\u4e48\uff0c\u51fa\u9519\u7684\u662f\u54ea\u4e00\u884c\u6765\u5b9a\u4f4d\u9519\u8bef\u3002\u5f53\u7136\uff0c\u6709\u7684\u65f6\u5019\u62a5\u9519\u7684\u884c\u81ea\u8eab\u4e0d\u4e00\u5b9a\u6709\u9519\uff0c\u53ef\u80fd\u662f\u5176\u524d\u9762\u6216\u540e\u9762\u7684\u884c\u51fa\u73b0\u4e86\u9519\u8bef\u3002\n",
      "    * \u5f53\u7ed3\u679c\u4e0d\u7b26\u5408\u9884\u671f\u65f6\uff0c\u8981\u5b66\u4f1a\u4f7f\u7528print\u6765\u67e5\u770b\u6bcf\u6b65\u7684\u64cd\u4f5c\u662f\u5426\u6b63\u786e\uff0c\u6bd4\u5982\u6211\u8bfb\u5165\u4e86\u5b57\u5178\uff0c\u6211\u5c31\u6253\u5370\u4e0b\u5b57\u5178\uff0c\u770b\u770b\u8bfb\u5165\u7684\u662f\u4e0d\u662f\u6211\u60f3\u8981\u7684\uff0c\u662f\u90fd\u542b\u6709\u4e0d\u8be5\u5b58\u5728\u7684\u5b57\u7b26\uff1b\u6216\u8005\u5728\u6bcf\u4e2a\u5224\u65ad\u53e5\u3001\u51fd\u6570\u8c03\u5165\u7684\u60c5\u51b5\u4e0b\u6253\u5370\u4e2a\u5b57\u7b26\uff0c\u6765\u8ddf\u8e2a\u7a0b\u5e8f\u7684\u8fd0\u884c\u8f68\u8ff9\u3002"
     ]
    },
    {
     "cell_type": "heading",
     "level": 1,
     "metadata": {},
     "source": [
      "\u51fd\u6570\u64cd\u4f5c"
     ]
    },
    {
     "cell_type": "markdown",
     "metadata": {},
     "source": [
      "\u51fd\u6570\u662f\u91cd\u7528\u7684\u7a0b\u5e8f\u6bb5\u3002\u5b83\u4eec\u5141\u8bb8\u4f60\u7ed9\u4e00\u5757\u8bed\u53e5\u4e00\u4e2a\u540d\u79f0\uff0c\u7136\u540e\u4f60\u53ef\u4ee5\u5728\u4f60\u7684\u7a0b\u5e8f\u7684\u4efb\u4f55\u5730\u65b9\u4f7f\u7528\u8fd9\u4e2a\u540d\u79f0\u4efb\u610f\u591a\u6b21\u5730\u8fd0\u884c\u8fd9\u4e2a\u8bed\u53e5\u5757\u3002\u8fd9\u88ab\u79f0\u4e3a `\u8c03\u7528` \u51fd\u6570\u3002\u6211\u4eec\u5df2\u7ecf\u4f7f\u7528\u4e86\u8bb8\u591a\u5185\u5efa\u7684\u51fd\u6570\uff0c\u6bd4\u5982`len`\u548c`range`\u3002\n",
      "\n",
      "\u51fd\u6570\u901a\u8fc7`def`\u5173\u952e\u5b57\u5b9a\u4e49\u3002`def`\u5173\u952e\u5b57\u540e\u8ddf\u4e00\u4e2a\u51fd\u6570\u7684 `\u6807\u8bc6\u7b26` \u540d\u79f0\uff0c\u7136\u540e\u8ddf\u4e00\u5bf9\u5706\u62ec\u53f7\u3002\u5706\u62ec\u53f7\u4e4b\u4e2d\u53ef\u4ee5\u5305\u62ec\u4e00\u4e9b\u53d8\u91cf\u540d\uff0c\u8be5\u884c\u4ee5\u5192\u53f7\u7ed3\u5c3e\u3002\u63a5\u4e0b\u6765\u662f\u4e00\u5757\u8bed\u53e5\uff0c\u5b83\u4eec\u662f\u51fd\u6570\u4f53\u3002\n",
      "\n"
     ]
    },
    {
     "cell_type": "code",
     "collapsed": false,
     "input": [
      "def print_hello():\n",
      "    print \"Hello, you!\"\n",
      "\n",
      "print_hello()"
     ],
     "language": "python",
     "metadata": {},
     "outputs": [
      {
       "output_type": "stream",
       "stream": "stdout",
       "text": [
        "Hello, you!\n"
       ]
      }
     ],
     "prompt_number": 6
    },
    {
     "cell_type": "code",
     "collapsed": false,
     "input": [
      "def print_hello(who):\n",
      "    print \"Hello, %s!\" % who\n",
      "\n",
      "print_hello('me')"
     ],
     "language": "python",
     "metadata": {},
     "outputs": [
      {
       "output_type": "stream",
       "stream": "stdout",
       "text": [
        "Hello, me!\n"
       ]
      }
     ],
     "prompt_number": 7
    },
    {
     "cell_type": "code",
     "collapsed": false,
     "input": [
      "lucky_num = 5\n",
      "c = 0\n",
      "\n",
      "def next_step():\n",
      "    try_again = 0\n",
      "    while 1:\n",
      "        c = raw_input(\"Do you want to try again? [Y/N] \\n\")\n",
      "        if c == 'Y':\n",
      "            try_again = 1\n",
      "            break                \n",
      "        elif c == 'N':\n",
      "            try_again = 0\n",
      "            break\n",
      "        else:\n",
      "            print \"I can not understand you, please check your input. \\n\"\n",
      "            continue\n",
      "        #----------------------------------------------------\n",
      "    if try_again:\n",
      "        print \"\\nHere comes another run. Enjoy!\\n\"\n",
      "        return 1\n",
      "    else:\n",
      "        print \"\\nBye-bye\\n\"\n",
      "        return 0\n",
      "#-----------------------------------------\n",
      "\n",
      "while True:\n",
      "    b = int(raw_input(\"Please input a number to check if you are lucky enough to guess right: \\n\"))\n",
      "    if b == lucky_num:\n",
      "        print \"\\nYour are so smart!!! ^_^ ^_^\"\n",
      "    elif b > lucky_num:\n",
      "        print \"\\nSorry, but your guess is a little larger. %>_<%\\n\"\n",
      "    else:\n",
      "        print \"\\nSorry, but your guess is a little smaller. %>_<%\\n\"\n",
      "    try_again = next_step()\n",
      "    if try_again:\n",
      "        continue\n",
      "    else:\n",
      "        break"
     ],
     "language": "python",
     "metadata": {},
     "outputs": [
      {
       "name": "stdout",
       "output_type": "stream",
       "stream": "stdout",
       "text": [
        "Please input a number to check if you are lucky enough to guess right: \n",
        "4\n"
       ]
      },
      {
       "output_type": "stream",
       "stream": "stdout",
       "text": [
        "\n",
        "Sorry, but your guess is a little smaller. %>_<%\n"
       ]
      },
      {
       "name": "stdout",
       "output_type": "stream",
       "stream": "stdout",
       "text": [
        "Do you want to try again? [Y/N] \n",
        "Y\n"
       ]
      },
      {
       "output_type": "stream",
       "stream": "stdout",
       "text": [
        "\n",
        "Here comes another run. Enjoy!\n",
        "\n"
       ]
      },
      {
       "name": "stdout",
       "output_type": "stream",
       "stream": "stdout",
       "text": [
        "Please input a number to check if you are lucky enough to guess right: \n",
        "5\n"
       ]
      },
      {
       "output_type": "stream",
       "stream": "stdout",
       "text": [
        "\n",
        "Your are so smart!!! ^_^ ^_^\n"
       ]
      },
      {
       "name": "stdout",
       "output_type": "stream",
       "stream": "stdout",
       "text": [
        "Do you want to try again? [Y/N] \n",
        "Y\n"
       ]
      },
      {
       "output_type": "stream",
       "stream": "stdout",
       "text": [
        "\n",
        "Here comes another run. Enjoy!\n",
        "\n"
       ]
      },
      {
       "name": "stdout",
       "output_type": "stream",
       "stream": "stdout",
       "text": [
        "Please input a number to check if you are lucky enough to guess right: \n",
        "1\n"
       ]
      },
      {
       "output_type": "stream",
       "stream": "stdout",
       "text": [
        "\n",
        "Sorry, but your guess is a little smaller. %>_<%\n"
       ]
      },
      {
       "name": "stdout",
       "output_type": "stream",
       "stream": "stdout",
       "text": [
        "Do you want to try again? [Y/N] \n",
        "N\n"
       ]
      },
      {
       "output_type": "stream",
       "stream": "stdout",
       "text": [
        "\n",
        "Bye-bye\n",
        "\n"
       ]
      }
     ],
     "prompt_number": 2
    },
    {
     "cell_type": "heading",
     "level": 2,
     "metadata": {},
     "source": [
      "\u4f5c\u4e1a\uff08\u4e8c\uff09"
     ]
    },
    {
     "cell_type": "markdown",
     "metadata": {},
     "source": [
      "6. \u5c06 \u201c\u4f5c\u4e1a\uff08\u4e00\uff09\u201d \u4e2d\u7684\u7a0b\u5e8f\u5757\u7528\u51fd\u6570\u7684\u65b9\u5f0f\u91cd\u5199\uff0c\u5e76\u8c03\u7528\u6267\u884c\n",
      "    * \u7528\u5230\u7684\u77e5\u8bc6\u70b9\n",
      "        * def func(para1,para2,...):\n",
      "        * func(para1,para2,...)\n",
      "10. \u5907\u6ce8\uff1a\n",
      "    * \u6bcf\u4e2a\u63d0\u5230\u63d0\u5230\u7684\u201c\u7528\u5230\u7684\u77e5\u8bc6\u70b9\u201d\u4e3a\u76f8\u5bf9\u4e8e\u524d\u9762\u7684\u9898\u76ee\u65b0\u589e\u7684\u77e5\u8bc6\u70b9\uff0c\u8bf7\u7efc\u5408\u8003\u8651\u3002\u6b64\u5916\uff0c\u5bf9\u4e8e\u4e0d\u540c\u7684\u601d\u8def\u5e76\u4e0d\u662f\u6240\u6709\u63d0\u5230\u7684\u77e5\u8bc6\u70b9\u90fd\u4f1a\u7528\u7740\uff0c\u800c\u4e14\u4e5f\u53ef\u80fd\u4f1a\u7528\u5230\u672a\u63d0\u5230\u7684\u77e5\u8bc6\u70b9\u3002\u4f46\u662f\u6240\u6709\u77e5\u8bc6\u70b9\u90fd\u5728\u524d\u9762\u7684\u8bb2\u4e49\u90e8\u5206\u6709\u4ecb\u7ecd\u3002\n",
      "    * \u6bcf\u4e2a\u7a0b\u5e8f\u5bf9\u4e8e\u4f60\u8eab\u8fb9\u4f1a\u5199\u7684\u4eba\u6765\u8bf4\u90fd\u5f88\u7b80\u5355\uff0c\u56e0\u6b64\u4f60\u4e00\u5b9a\u8981\u514b\u5236\u4f4f\uff0c\u72ec\u7acb\u53bb\u628a\u7b54\u6848\u505a\u51fa\uff0c\u591a\u770b\u9519\u8bef\u63d0\u793a\uff0c\u591a\u6bd4\u5bf9\u7a0b\u5e8f\u8f93\u51fa\u7ed3\u679c\u548c\u9884\u671f\u7ed3\u679c\u7684\u5dee\u5f02\u3002\n",
      "    * \u5b66\u4e60\u953b\u70bc\u201c\u8bfb\u7a0b\u5e8f\u201d\uff0c\u5373\u5bf9\u7740\u6587\u4ef6\u6a21\u62df\u6574\u4e2a\u7684\u8bfb\u5165\u3001\u5904\u7406\u8fc7\u7a0b\u6765\u53d1\u73b0\u53ef\u80fd\u7684\u903b\u8f91\u95ee\u9898\u3002\n",
      "    * \u7a0b\u5e8f\u8fd0\u884c\u6ca1\u6709\u9519\u8bef\u4e0d\u4ee3\u8868\u4f60\u5199\u7684\u7a0b\u5e8f\u5b8c\u6210\u4e86\u4f60\u7684\u9700\u6c42\uff0c\u4f60\u8981\u53bb\u63d2\u773c\u8f93\u51fa\u7ed3\u679c\u662f\u4e0d\u662f\u4f60\u60f3\u8981\u7684\u3002\n",
      "11. \u5173\u4e8e\u7a0b\u5e8f\u8c03\u8bd5\n",
      "    * \u5728\u521d\u5199\u7a0b\u5e8f\u65f6\uff0c\u53ef\u80fd\u4f1a\u51fa\u73b0\u5404\u79cd\u5404\u6837\u7684\u9519\u8bef\uff0c\u5e38\u89c1\u7684\u6709\u7f29\u8fdb\u4e0d\u4e00\u81f4\uff0c\u53d8\u91cf\u540d\u5b57\u62fc\u5199\u9519\u8bef\uff0c\u4e22\u6b7b\u5192\u53f7\u7b49\uff0c\u8fd9\u65f6\u8981\u6839\u636e\u9519\u8bef\u63d0\u793a\u67e5\u770b\u9519\u8bef\u7c7b\u578b\u662f\u4ec0\u4e48\uff0c\u51fa\u9519\u7684\u662f\u54ea\u4e00\u884c\u6765\u5b9a\u4f4d\u9519\u8bef\u3002\u5f53\u7136\uff0c\u6709\u7684\u65f6\u5019\u62a5\u9519\u7684\u884c\u81ea\u8eab\u4e0d\u4e00\u5b9a\u6709\u9519\uff0c\u53ef\u80fd\u662f\u5176\u524d\u9762\u6216\u540e\u9762\u7684\u884c\u51fa\u73b0\u4e86\u9519\u8bef\u3002\n",
      "    * \u5f53\u7ed3\u679c\u4e0d\u7b26\u5408\u9884\u671f\u65f6\uff0c\u8981\u5b66\u4f1a\u4f7f\u7528print\u6765\u67e5\u770b\u6bcf\u6b65\u7684\u64cd\u4f5c\u662f\u5426\u6b63\u786e\uff0c\u6bd4\u5982\u6211\u8bfb\u5165\u4e86\u5b57\u5178\uff0c\u6211\u5c31\u6253\u5370\u4e0b\u5b57\u5178\uff0c\u770b\u770b\u8bfb\u5165\u7684\u662f\u4e0d\u662f\u6211\u60f3\u8981\u7684\uff0c\u662f\u90fd\u542b\u6709\u4e0d\u8be5\u5b58\u5728\u7684\u5b57\u7b26\uff1b\u6216\u8005\u5728\u6bcf\u4e2a\u5224\u65ad\u53e5\u3001\u51fd\u6570\u8c03\u5165\u7684\u60c5\u51b5\u4e0b\u6253\u5370\u4e2a\u5b57\u7b26\uff0c\u6765\u8ddf\u8e2a\u7a0b\u5e8f\u7684\u8fd0\u884c\u8f68\u8ff9\u3002"
     ]
    },
    {
     "cell_type": "heading",
     "level": 1,
     "metadata": {},
     "source": [
      "\u6a21\u5757"
     ]
    },
    {
     "cell_type": "markdown",
     "metadata": {},
     "source": [
      "Python\u5185\u7f6e\u4e86\u5f88\u591a\u6807\u51c6\u5e93\uff0c\u5982\u505a\u6570\u5b66\u8fd0\u7b97\u7684 `math`,\u8c03\u7528\u7cfb\u7edf\u529f\u80fd\u7684 `sys`,\u5904\u7406\u6b63\u5219\u8868\u8fbe\u5f0f\u7684 `re`,\u64cd\u4f5c\u7cfb\u7edf\u76f8\u5173\u529f\u80fd\u7684 `os`\u7b49\u3002\u6211\u4eec\u4e3b\u8981\u5173\u6ce8\u4e24\u4e2a\u5e93:\n",
      "* sys\n",
      "    * sys.argv \u5904\u7406\u547d\u4ee4\u884c\u53c2\u6570\n",
      "    * sys.exit() \u9000\u51fa\u51fd\u6570\n",
      "    * sys.stdin \u6807\u51c6\u8f93\u5165\n",
      "    * sys.stderr \u6807\u51c6\u9519\u8bef\n",
      "* os\n",
      "    * os.system()\u6216os.popen() \u6267\u884c\u7cfb\u7edf\u547d\u4ee4\n",
      "    * os.getcwd() \u83b7\u53d6\u5f53\u524d\u76ee\u5f55\n",
      "    * os.remove() \u5220\u9664\u6587\u4ef6"
     ]
    },
    {
     "cell_type": "code",
     "collapsed": false,
     "input": [
      "import os\n",
      "os.getcwd()\n",
      "#help(os)"
     ],
     "language": "python",
     "metadata": {},
     "outputs": [
      {
       "metadata": {},
       "output_type": "pyout",
       "prompt_number": 17,
       "text": [
        "'D:\\\\project\\\\github\\\\PBR_training'"
       ]
      }
     ],
     "prompt_number": 17
    },
    {
     "cell_type": "code",
     "collapsed": false,
     "input": [
      "from os import getcwd\n",
      "getcwd()"
     ],
     "language": "python",
     "metadata": {},
     "outputs": [
      {
       "metadata": {},
       "output_type": "pyout",
       "prompt_number": 15,
       "text": [
        "'D:\\\\project\\\\github\\\\PBR_training'"
       ]
      }
     ],
     "prompt_number": 15
    },
    {
     "cell_type": "heading",
     "level": 1,
     "metadata": {},
     "source": [
      "\u547d\u4ee4\u884c\u53c2\u6570"
     ]
    },
    {
     "cell_type": "markdown",
     "metadata": {},
     "source": [
      "`sys.argv`\u662f\u4e00\u4e2a\u5217\u8868\uff0c\u5b58\u50a8\u4e86\u5305\u542b\u7a0b\u5e8f\u540d\u5b57\u5728\u5185\u7684\u4f20\u7ed9\u7a0b\u5e8f\u7684\u547d\u4ee4\u884c\u53c2\u6570\u3002"
     ]
    },
    {
     "cell_type": "code",
     "collapsed": false,
     "input": [
      "import sys\n",
      "print sys.argv"
     ],
     "language": "python",
     "metadata": {},
     "outputs": [
      {
       "output_type": "stream",
       "stream": "stdout",
       "text": [
        "['-c', '-f', 'C:\\\\Users\\\\ct-qi\\\\.ipython\\\\profile_default\\\\security\\\\kernel-71a86314-178a-47aa-b341-45505cd4ec1b.json', \"--IPKernelApp.parent_appname='ipython-notebook'\", '--profile-dir', 'C:\\\\Users\\\\ct-qi\\\\.ipython\\\\profile_default', '--interrupt=1316', '--parent=1320']\n"
       ]
      }
     ],
     "prompt_number": 1
    },
    {
     "cell_type": "code",
     "collapsed": false,
     "input": [
      "%%writefile cat.py\n",
      "import sys\n",
      "\n",
      "def read_print_file(filename):\n",
      "    for line in open(filename):\n",
      "        print line,\n",
      "#------END read_print_file--------------------------\n",
      "\n",
      "def main():\n",
      "    if len(sys.argv) < 2:\n",
      "        print >>sys.stderr, \"Usage: python %s filename\" % sys.argv[0]\n",
      "        sys.exit(0)\n",
      "    file = sys.argv[1]\n",
      "    read_print_file(file)\n",
      "#--------END main------------------\n",
      "main()"
     ],
     "language": "python",
     "metadata": {},
     "outputs": [
      {
       "output_type": "stream",
       "stream": "stdout",
       "text": [
        "Writing cat.py\n"
       ]
      }
     ],
     "prompt_number": 8
    },
    {
     "cell_type": "code",
     "collapsed": false,
     "input": [
      "%run cat cat.py"
     ],
     "language": "python",
     "metadata": {},
     "outputs": [
      {
       "output_type": "stream",
       "stream": "stdout",
       "text": [
        "import sys\n",
        "\n",
        "def read_print_file(filename):\n",
        "    for line in open(filename):\n",
        "        print line,\n",
        "#------END read_print_file--------------------------\n",
        "\n",
        "def main():\n",
        "    if len(sys.argv) < 2:\n",
        "        print >>sys.stderr, \"Usage: python %s filename\" % sys.argv[0]\n",
        "        sys.exit(0)\n",
        "    file = sys.argv[1]\n",
        "    read_print_file(file)\n",
        "#--------END main------------------\n",
        "main()\n"
       ]
      }
     ],
     "prompt_number": 10
    },
    {
     "cell_type": "markdown",
     "metadata": {},
     "source": [
      "\u4f7f\u7528 `optparse`\uff0c\u529f\u80fd\u66f4\u5f3a\u5927"
     ]
    },
    {
     "cell_type": "code",
     "collapsed": false,
     "input": [
      "%%writefile skeleton.py\n",
      "#!/usr/bin/env python\n",
      "# -*- coding: utf-8 -*-\n",
      "#from __future__ import division, with_statement\n",
      "'''\n",
      "Copyright 2013, \u9648\u540c (chentong_biology@163.com).  \n",
      "===========================================================\n",
      "'''\n",
      "__author__ = 'chentong & ct586[9]'\n",
      "__author_email__ = 'chentong_biology@163.com'\n",
      "#=========================================================\n",
      "desc = '''\n",
      "Functional description:\n",
      "\n",
      "'''\n",
      "\n",
      "import sys\n",
      "import os\n",
      "from time import localtime, strftime \n",
      "timeformat = \"%Y-%m-%d %H:%M:%S\"\n",
      "from optparse import OptionParser as OP\n",
      "\n",
      "def cmdparameter(argv):\n",
      "    if len(argv) == 1:\n",
      "        global desc\n",
      "        print >>sys.stderr, desc\n",
      "        cmd = 'python ' + argv[0] + ' -h'\n",
      "        os.system(cmd)\n",
      "        sys.exit(0)\n",
      "    usages = \"%prog -i file\"\n",
      "    parser = OP(usage=usages)\n",
      "    parser.add_option(\"-i\", \"--input-file\", dest=\"filein\",\n",
      "        metavar=\"FILEIN\", help=\"\")\n",
      "    parser.add_option(\"-v\", \"--verbose\", dest=\"verbose\",\n",
      "        default=0, help=\"Show process information\")\n",
      "    parser.add_option(\"-d\", \"--debug\", dest=\"debug\",\n",
      "        default=False, help=\"Debug the program\")\n",
      "    (options, args) = parser.parse_args(argv[1:])\n",
      "    assert options.filein != None, \"A filename needed for -i\"\n",
      "    return (options, args)\n",
      "#--------------------------------------------------------------------\n",
      "\n",
      "\n",
      "def main():\n",
      "    options, args = cmdparameter(sys.argv)\n",
      "    #-----------------------------------\n",
      "    file = options.filein\n",
      "    verbose = options.verbose\n",
      "    debug = options.debug\n",
      "    #-----------------------------------\n",
      "    if file == '-':\n",
      "        fh = sys.stdin\n",
      "    else:\n",
      "        fh = open(file)\n",
      "    #--------------------------------\n",
      "    for line in fh:\n",
      "        pass\n",
      "    #-------------END reading file----------\n",
      "    #----close file handle for files-----\n",
      "    if file != '-':\n",
      "        fh.close()\n",
      "    #-----------end close fh-----------\n",
      "    if verbose:\n",
      "        print >>sys.stderr,\\\n",
      "            \"--Successful %s\" % strftime(timeformat, localtime())\n",
      "if __name__ == '__main__':\n",
      "    startTime = strftime(timeformat, localtime())\n",
      "    main()\n",
      "    endTime = strftime(timeformat, localtime())\n",
      "    fh = open('python.log', 'a')\n",
      "    print >>fh, \"%s\\n\\tRun time : %s - %s \" % \\\n",
      "        (' '.join(sys.argv), startTime, endTime)\n",
      "    fh.close()"
     ],
     "language": "python",
     "metadata": {},
     "outputs": [
      {
       "output_type": "stream",
       "stream": "stdout",
       "text": [
        "Overwriting skeleton.py\n"
       ]
      }
     ],
     "prompt_number": 7
    },
    {
     "cell_type": "code",
     "collapsed": false,
     "input": [
      "%run skeleton -h"
     ],
     "language": "python",
     "metadata": {},
     "outputs": [
      {
       "output_type": "stream",
       "stream": "stdout",
       "text": [
        "Usage: skeleton.py -i file\n",
        "\n",
        "Options:\n",
        "  -h, --help            show this help message and exit\n",
        "  -i FILEIN, --input-file=FILEIN\n",
        "  -v VERBOSE, --verbose=VERBOSE\n",
        "                        Show process information\n",
        "  -d DEBUG, --debug=DEBUG\n",
        "                        Debug the program\n"
       ]
      }
     ],
     "prompt_number": 11
    },
    {
     "cell_type": "heading",
     "level": 2,
     "metadata": {},
     "source": [
      "\u4f5c\u4e1a\uff08\u4e09\uff09"
     ]
    },
    {
     "cell_type": "markdown",
     "metadata": {},
     "source": [
      "7. \u4f7f \u201c\u4f5c\u4e1a\uff08\u4e8c\uff09\u201d \u4e2d\u7684\u7a0b\u5e8f\u90fd\u80fd\u63a5\u53d7\u547d\u4ee4\u884c\u53c2\u6570\n",
      "    * \u7528\u5230\u7684\u77e5\u8bc6\u70b9\n",
      "        * import sys\n",
      "        * sys.argv\n",
      "        * import optparse\n",
      "        \n",
      "10. \u5907\u6ce8\n",
      "    * \u6bcf\u4e2a\u63d0\u5230\u63d0\u5230\u7684\u201c\u7528\u5230\u7684\u77e5\u8bc6\u70b9\u201d\u4e3a\u76f8\u5bf9\u4e8e\u524d\u9762\u7684\u9898\u76ee\u65b0\u589e\u7684\u77e5\u8bc6\u70b9\uff0c\u8bf7\u7efc\u5408\u8003\u8651\u3002\u6b64\u5916\uff0c\u5bf9\u4e8e\u4e0d\u540c\u7684\u601d\u8def\u5e76\u4e0d\u662f\u6240\u6709\u63d0\u5230\u7684\u77e5\u8bc6\u70b9\u90fd\u4f1a\u7528\u7740\uff0c\u800c\u4e14\u4e5f\u53ef\u80fd\u4f1a\u7528\u5230\u672a\u63d0\u5230\u7684\u77e5\u8bc6\u70b9\u3002\u4f46\u662f\u6240\u6709\u77e5\u8bc6\u70b9\u90fd\u5728\u524d\u9762\u7684\u8bb2\u4e49\u90e8\u5206\u6709\u4ecb\u7ecd\u3002\n",
      "    * \u6bcf\u4e2a\u7a0b\u5e8f\u5bf9\u4e8e\u4f60\u8eab\u8fb9\u4f1a\u5199\u7684\u4eba\u6765\u8bf4\u90fd\u5f88\u7b80\u5355\uff0c\u56e0\u6b64\u4f60\u4e00\u5b9a\u8981\u514b\u5236\u4f4f\uff0c\u72ec\u7acb\u53bb\u628a\u7b54\u6848\u505a\u51fa\uff0c\u591a\u770b\u9519\u8bef\u63d0\u793a\uff0c\u591a\u6bd4\u5bf9\u7a0b\u5e8f\u8f93\u51fa\u7ed3\u679c\u548c\u9884\u671f\u7ed3\u679c\u7684\u5dee\u5f02\u3002\n",
      "    * \u5b66\u4e60\u953b\u70bc\u201c\u8bfb\u7a0b\u5e8f\u201d\uff0c\u5373\u5bf9\u7740\u6587\u4ef6\u6a21\u62df\u6574\u4e2a\u7684\u8bfb\u5165\u3001\u5904\u7406\u8fc7\u7a0b\u6765\u53d1\u73b0\u53ef\u80fd\u7684\u903b\u8f91\u95ee\u9898\u3002\n",
      "    * \u7a0b\u5e8f\u8fd0\u884c\u6ca1\u6709\u9519\u8bef\u4e0d\u4ee3\u8868\u4f60\u5199\u7684\u7a0b\u5e8f\u5b8c\u6210\u4e86\u4f60\u7684\u9700\u6c42\uff0c\u4f60\u8981\u53bb\u63d2\u773c\u8f93\u51fa\u7ed3\u679c\u662f\u4e0d\u662f\u4f60\u60f3\u8981\u7684\u3002\n",
      "11. \u5173\u4e8e\u7a0b\u5e8f\u8c03\u8bd5\n",
      "    * \u5728\u521d\u5199\u7a0b\u5e8f\u65f6\uff0c\u53ef\u80fd\u4f1a\u51fa\u73b0\u5404\u79cd\u5404\u6837\u7684\u9519\u8bef\uff0c\u5e38\u89c1\u7684\u6709\u7f29\u8fdb\u4e0d\u4e00\u81f4\uff0c\u53d8\u91cf\u540d\u5b57\u62fc\u5199\u9519\u8bef\uff0c\u4e22\u6b7b\u5192\u53f7\u7b49\uff0c\u8fd9\u65f6\u8981\u6839\u636e\u9519\u8bef\u63d0\u793a\u67e5\u770b\u9519\u8bef\u7c7b\u578b\u662f\u4ec0\u4e48\uff0c\u51fa\u9519\u7684\u662f\u54ea\u4e00\u884c\u6765\u5b9a\u4f4d\u9519\u8bef\u3002\u5f53\u7136\uff0c\u6709\u7684\u65f6\u5019\u62a5\u9519\u7684\u884c\u81ea\u8eab\u4e0d\u4e00\u5b9a\u6709\u9519\uff0c\u53ef\u80fd\u662f\u5176\u524d\u9762\u6216\u540e\u9762\u7684\u884c\u51fa\u73b0\u4e86\u9519\u8bef\u3002\n",
      "    * \u5f53\u7ed3\u679c\u4e0d\u7b26\u5408\u9884\u671f\u65f6\uff0c\u8981\u5b66\u4f1a\u4f7f\u7528print\u6765\u67e5\u770b\u6bcf\u6b65\u7684\u64cd\u4f5c\u662f\u5426\u6b63\u786e\uff0c\u6bd4\u5982\u6211\u8bfb\u5165\u4e86\u5b57\u5178\uff0c\u6211\u5c31\u6253\u5370\u4e0b\u5b57\u5178\uff0c\u770b\u770b\u8bfb\u5165\u7684\u662f\u4e0d\u662f\u6211\u60f3\u8981\u7684\uff0c\u662f\u90fd\u542b\u6709\u4e0d\u8be5\u5b58\u5728\u7684\u5b57\u7b26\uff1b\u6216\u8005\u5728\u6bcf\u4e2a\u5224\u65ad\u53e5\u3001\u51fd\u6570\u8c03\u5165\u7684\u60c5\u51b5\u4e0b\u6253\u5370\u4e2a\u5b57\u7b26\uff0c\u6765\u8ddf\u8e2a\u7a0b\u5e8f\u7684\u8fd0\u884c\u8f68\u8ff9\u3002"
     ]
    },
    {
     "cell_type": "heading",
     "level": 1,
     "metadata": {},
     "source": [
      "\u66f4\u591aPython\u5185\u5bb9"
     ]
    },
    {
     "cell_type": "markdown",
     "metadata": {},
     "source": [
      "\u5355\u8bed\u53e5\u5757"
     ]
    },
    {
     "cell_type": "code",
     "collapsed": false,
     "input": [
      "if True:\n",
      "    print 'yes'\n",
      "    \n",
      "if True: print 'yes'\n",
      "\n",
      "x = 5\n",
      "y = 3\n",
      "\n",
      "x = y if y < x else x \n",
      "print x"
     ],
     "language": "python",
     "metadata": {},
     "outputs": [
      {
       "output_type": "stream",
       "stream": "stdout",
       "text": [
        "yes\n",
        "yes\n",
        "3\n"
       ]
      }
     ],
     "prompt_number": 4
    },
    {
     "cell_type": "markdown",
     "metadata": {},
     "source": [
      "\u5217\u8868\u7efc\u5408\uff0c\u751f\u6210\u65b0\u5217\u8868\u7684\u7b80\u5316\u7684for\u5faa\u73af"
     ]
    },
    {
     "cell_type": "code",
     "collapsed": false,
     "input": [
      "aList = [1,2,3,4,5]\n",
      "bList = [i * 2 for i in aList]\n",
      "print bList"
     ],
     "language": "python",
     "metadata": {},
     "outputs": [
      {
       "output_type": "stream",
       "stream": "stdout",
       "text": [
        "[2, 4, 6, 8, 10]\n"
       ]
      }
     ],
     "prompt_number": 1
    },
    {
     "cell_type": "code",
     "collapsed": false,
     "input": [
      "print \"\u5217\u8868\u7efc\u5408\u53ef\u4ee5\u505a\u5224\u65ad\u7684\"\n",
      "aList = [1,2,3,4,5]\n",
      "bList = [i * 2 for i in aList if i%2 != 0]\n",
      "print bList"
     ],
     "language": "python",
     "metadata": {},
     "outputs": [
      {
       "output_type": "stream",
       "stream": "stdout",
       "text": [
        "[2, 6, 10]\n"
       ]
      }
     ],
     "prompt_number": 5
    },
    {
     "cell_type": "code",
     "collapsed": false,
     "input": [
      "print \"\u5217\u8868\u7efc\u5408\u4e5f\u53ef\u4ee5\u5d4c\u5957\u7684\"\n",
      "aList = [1,2,3,4,5]\n",
      "bList = [5,4,3,2,1]\n",
      "bList = [i * j for i in aList for j in bList]\n",
      "print bList"
     ],
     "language": "python",
     "metadata": {},
     "outputs": [
      {
       "output_type": "stream",
       "stream": "stdout",
       "text": [
        "[5, 4, 3, 2, 1, 10, 8, 6, 4, 2, 15, 12, 9, 6, 3, 20, 16, 12, 8, 4, 25, 20, 15, 10, 5]\n"
       ]
      },
      {
       "metadata": {},
       "output_type": "pyout",
       "prompt_number": 7,
       "text": [
        "'[5, 4, 3, 2, 1, 10, 8, 6, 4, 2, 15, 12, 9, 6, 3, 20, 16, 12, 8, 4, 25, 20, 15, 10, 5]'"
       ]
      }
     ],
     "prompt_number": 7
    },
    {
     "cell_type": "markdown",
     "metadata": {},
     "source": [
      "\u65ad\u8a00\uff0c\u8bbe\u5b9a\u8fd0\u884c\u8fc7\u7a0b\u4e2d\u5fc5\u987b\u6ee1\u8db3\u7684\u6761\u4ef6\uff0c\u5f53\u60c5\u51b5\u8d85\u51fa\u9884\u671f\u65f6\u62a5\u9519\u3002\u5e38\u7528\u4e8e\u6587\u4ef6\u8bfb\u5165\u6216\u683c\u5f0f\u5224\u65ad\u65f6\uff0c\u6709\u52a9\u4e8e\u9884\u9632\u5f02\u5e38\u7684\u8bfb\u5165\u6216\u64cd\u4f5c\u3002"
     ]
    },
    {
     "cell_type": "code",
     "collapsed": false,
     "input": [
      "a = 1\n",
      "b = 2\n",
      "assert a == b, \"a is %s, b is %s\" % (a, b)"
     ],
     "language": "python",
     "metadata": {},
     "outputs": [
      {
       "ename": "AssertionError",
       "evalue": "a is 1, b is 2",
       "output_type": "pyerr",
       "traceback": [
        "\u001b[1;31m---------------------------------------------------------------------------\u001b[0m\n\u001b[1;31mAssertionError\u001b[0m                            Traceback (most recent call last)",
        "\u001b[1;32m<ipython-input-6-70c536c7376d>\u001b[0m in \u001b[0;36m<module>\u001b[1;34m()\u001b[0m\n\u001b[0;32m      1\u001b[0m \u001b[0ma\u001b[0m \u001b[1;33m=\u001b[0m \u001b[1;36m1\u001b[0m\u001b[1;33m\u001b[0m\u001b[0m\n\u001b[0;32m      2\u001b[0m \u001b[0mb\u001b[0m \u001b[1;33m=\u001b[0m \u001b[1;36m2\u001b[0m\u001b[1;33m\u001b[0m\u001b[0m\n\u001b[1;32m----> 3\u001b[1;33m \u001b[1;32massert\u001b[0m \u001b[0ma\u001b[0m \u001b[1;33m==\u001b[0m \u001b[0mb\u001b[0m\u001b[1;33m,\u001b[0m \u001b[1;34m\"a is %s, b is %s\"\u001b[0m \u001b[1;33m%\u001b[0m \u001b[1;33m(\u001b[0m\u001b[0ma\u001b[0m\u001b[1;33m,\u001b[0m \u001b[0mb\u001b[0m\u001b[1;33m)\u001b[0m\u001b[1;33m\u001b[0m\u001b[0m\n\u001b[0m",
        "\u001b[1;31mAssertionError\u001b[0m: a is 1, b is 2"
       ]
      }
     ],
     "prompt_number": 6
    },
    {
     "cell_type": "markdown",
     "metadata": {},
     "source": [
      "lambda, map, filer, reduce (\u4fdd\u7559\u8282\u76ee)\n",
      "    * lambda\u4ea7\u751f\u4e00\u4e2a\u6ca1\u6709\u540d\u5b57\u7684\u51fd\u6570\uff0c\u901a\u5e38\u4e3a\u4e86\u6ee1\u8db3\u4e00\u6b21\u4f7f\u7528\uff0c\u5176\u4f7f\u7528\u8bed\u6cd5\u4e3a`lambda argument_list: expression`\u3002\u53c2\u6570\u5217\u8868\u662f\u7528\u9017\u53f7\u5206\u9694\u5f00\u7684\u4e00\u4e2a\u5217\u8868\uff0c\u8868\u8fbe\u5f0f\u662f\u8fd9\u4e9b\u53c2\u6570\u7684\u7ec4\u5408\u64cd\u4f5c\u3002 \n",
      "    * map\u6267\u884c\u4e00\u4e2a\u5faa\u73af\u64cd\u4f5c\uff0c\u4f7f\u7528\u8bed\u6cd5\u4e3a`map(func, seq)`\u3002\u7b2c\u4e00\u4e2a\u53c2\u6570\u662f\u8981\u8c03\u7528\u7684\u51fd\u6570\u6216\u51fd\u6570\u7684\u540d\u5b57\uff0c\u7b2c\u4e8c\u4e2a\u53c2\u6570\u662f\u4e00\u4e2a\u5e8f\u5217\uff08\u5982\u5217\u8868\u3001\u5b57\u7b26\u4e32\u3001\u5b57\u5178\uff09\u3002map\u4f1a\u4ee5\u5e8f\u5217\u7684\u6bcf\u4e2a\u5143\u7d20\u4e3a\u53c2\u6570\u8c03\u7528func\uff0c\u5e76\u65b0\u5efa\u4e00\u4e2a\u8f93\u51fa\u5217\u8868\u3002\n",
      "    * filter\u7528\u4e8e\u8fc7\u6ee4\u5217\u8868\uff0c\u4f7f\u7528\u8bed\u6cd5\u4e3a`filter(func, list)`\u3002\u4ee5\u7b2c\u4e8c\u4e2a\u53c2\u6570\u7684\u6bcf\u4e2a\u5143\u7d20\u8c03\u7528func\uff0c\u8fd4\u56de\u503c\u4e3aTrue\u5219\u4fdd\u7559\uff0c\u5426\u5219\u820d\u5f03\u3002\n",
      "    * reduce\u8fde\u7eed\u5bf9\u5217\u8868\u7684\u5143\u7d20\u5e94\u7528\u51fd\u6570\uff0c\u4f7f\u7528\u8bed\u6cd5\u4e3a`reduce(func, list)`\u3002\u5982\u679c\u6211\u4eec\u6709\u4e00\u4e2a\u5217\u8868aList = [1,2,3, ... ,n ], \u8c03\u7528`reduce(func, aList)`\u540e\u8fdb\u884c\u7684\u64cd\u4f5c\u4e3a: \u9996\u5148\u524d\u4e24\u4e2a\u5143\u7d20\u4f1a\u4f20\u5165\u51fd\u6570func\u505a\u8fd0\u7b97\uff0c\u8fd4\u56de\u503c\u66ff\u6362\u8fd9\u4e24\u4e2a\u5143\u7d20\uff0c\u6210\u4e3a\u6570\u7ec4\u7b2c\u4e00\u4e2a\u5143\u7d20aList = [func(1,2),3, ... , n];\u7136\u540e\u5f53\u524d\u7684\u524d\u4e24\u4e2a\u5143\u7d20\u518d\u4f20\u56fefunc\u51fd\u6570\u505a\u8fd0\u7b97\uff0c\u8fd4\u56de\u503c\u8fd4\u56de\u503c\u66ff\u6362\u8fd9\u4e24\u4e2a\u5143\u7d20\uff0c\u6210\u4e3a\u6570\u7ec4\u7b2c\u4e00\u4e2a\u5143\u7d20aList = [func(func(1,2),3), ... , n]\uff0c\u76f4\u5230\u5217\u8868\u53ea\u6709\u4e00\u4e2a\u5143\u7d20\u3002"
     ]
    },
    {
     "cell_type": "code",
     "collapsed": false,
     "input": [
      "print \"\u6c42\u548c\u51fd\u6570\"\n",
      "f = lambda x,y: x + y\n",
      "print f([1,2,3],[4,5,6])\n",
      "print f(10,15)"
     ],
     "language": "python",
     "metadata": {},
     "outputs": [
      {
       "output_type": "stream",
       "stream": "stdout",
       "text": [
        "[1, 2, 3, 4, 5, 6]\n",
        "25\n"
       ]
      }
     ],
     "prompt_number": 16
    },
    {
     "cell_type": "code",
     "collapsed": false,
     "input": [
      "print \"\u5355\u4e2a\u53c2\u6570\u7684map, lambda\u8c03\u7528\"\n",
      "aList = [1,2,3,4,5]\n",
      "print map(lambda x: x**2, aList)\n",
      "\n",
      "print \"\u591a\u4e2a\u53c2\u6570\u7684map, lambda\u8c03\u7528\"\n",
      "f = lambda x,y: x + y\n",
      "print map(f,[1,2,3],[4,5,6])\n",
      "\n",
      "print \"\u53c2\u6570\u4e3a\u5b57\u7b26\u4e32\"\n",
      "print map(lambda x: x.upper(), 'acdf')"
     ],
     "language": "python",
     "metadata": {},
     "outputs": [
      {
       "output_type": "stream",
       "stream": "stdout",
       "text": [
        "\u5355\u4e2a\u53c2\u6570\u7684map, lambda\u8c03\u7528\n",
        "[1, 4, 9, 16, 25]\n",
        "\u591a\u4e2a\u53c2\u6570\u7684map, lambda\u8c03\u7528\n",
        "[5, 7, 9]\n",
        "\u53c2\u6570\u4e3a\u5b57\u7b26\u4e32\n",
        "['A', 'C', 'D', 'F']\n"
       ]
      }
     ],
     "prompt_number": 27
    },
    {
     "cell_type": "code",
     "collapsed": false,
     "input": [
      "print \"\u8f93\u51fa\u6240\u6709\u7684\u5947\u6570\"\n",
      "aList = [1,2,3,4,5]\n",
      "print filter(lambda x: x%2, aList)"
     ],
     "language": "python",
     "metadata": {},
     "outputs": [
      {
       "output_type": "stream",
       "stream": "stdout",
       "text": [
        "\u8f93\u51fa\u6240\u6709\u7684\u5947\u6570\n",
        "[1, 3, 5]\n"
       ]
      }
     ],
     "prompt_number": 30
    },
    {
     "cell_type": "code",
     "collapsed": false,
     "input": [
      "print \"\u5217\u8868\u6c42\u548c\"\n",
      "aList = [1,2,3,4,5]\n",
      "print reduce(lambda a,b: a+b, aList)"
     ],
     "language": "python",
     "metadata": {},
     "outputs": [
      {
       "output_type": "stream",
       "stream": "stdout",
       "text": [
        "15\n"
       ]
      }
     ],
     "prompt_number": 13
    },
    {
     "cell_type": "code",
     "collapsed": false,
     "input": [
      "print \"\u5217\u8868\u53d6\u6700\u5927\u503c\"\n",
      "aList = [1,2,3,4,5]\n",
      "print reduce(lambda a,b: a if a > b else b, aList)"
     ],
     "language": "python",
     "metadata": {},
     "outputs": [
      {
       "output_type": "stream",
       "stream": "stdout",
       "text": [
        "5\n"
       ]
      }
     ],
     "prompt_number": 14
    },
    {
     "cell_type": "markdown",
     "metadata": {},
     "source": [
      "exec, eval (\u6267\u884c\u5b57\u7b26\u4e32python\u8bed\u53e5, \u4fdd\u7559\u8282\u76ee)"
     ]
    },
    {
     "cell_type": "code",
     "collapsed": false,
     "input": [
      "a = 'print \"Executing a string as a command\"'\n",
      "exec(a)"
     ],
     "language": "python",
     "metadata": {},
     "outputs": [
      {
       "output_type": "stream",
       "stream": "stdout",
       "text": [
        "Executing a string as a command\n"
       ]
      }
     ],
     "prompt_number": 4
    },
    {
     "cell_type": "code",
     "collapsed": false,
     "input": [
      "a = '(2 + 3) * 5'\n",
      "eval(a)"
     ],
     "language": "python",
     "metadata": {},
     "outputs": [
      {
       "metadata": {},
       "output_type": "pyout",
       "prompt_number": 6,
       "text": [
        "25"
       ]
      }
     ],
     "prompt_number": 6
    },
    {
     "cell_type": "heading",
     "level": 1,
     "metadata": {},
     "source": [
      "References"
     ]
    },
    {
     "cell_type": "markdown",
     "metadata": {},
     "source": [
      "* http://www.byteofpython.info/\n",
      "* http://woodpecker.org.cn/abyteofpython_cn/chinese/index.html\n",
      "* http://www.python-course.eu/"
     ]
    },
    {
     "cell_type": "markdown",
     "metadata": {},
     "source": [
      "http://my.oschina.net/taogang/blog/286955"
     ]
    }
   ],
   "metadata": {}
  }
 ]
}