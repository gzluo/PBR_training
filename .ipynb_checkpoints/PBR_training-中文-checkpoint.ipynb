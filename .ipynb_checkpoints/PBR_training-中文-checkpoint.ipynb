{
 "metadata": {
  "name": "",
  "signature": "sha256:f24cb7bf9e759571fd9ec3919e59f13606c516d7feb6cf9968d5ede055eef0f1"
 },
 "nbformat": 3,
 "nbformat_minor": 0,
 "worksheets": [
  {
   "cells": [
    {
     "cell_type": "markdown",
     "metadata": {},
     "source": [
      "Python training tutorial\n",
      "===\n",
      "Chen Tong\n",
      "=============\n",
      "\n",
      "\n",
      "Welcome to my python tutorial, enjoy it. Please also refer to one classical introduction for python usage named [A byte of python](http://www.byteofpython.info/) and its [chinese version](http://woodpecker.org.cn/abyteofpython_cn/chinese/index.html) to get more understanding of *Python*. \n",
      "\n",
      "This work is licensed under a <a rel=\"license\" href=\"http://creativecommons.org/licenses/by-nc-sa/2.0/\">Creative Commons Attribution-NonCommercial-ShareAlike 2.0 Generic License</a>.\n"
     ]
    },
    {
     "cell_type": "heading",
     "level": 1,
     "metadata": {},
     "source": [
      "Introduction"
     ]
    },
    {
     "cell_type": "heading",
     "level": 2,
     "metadata": {},
     "source": [
      "Why I choose Python"
     ]
    },
    {
     "cell_type": "markdown",
     "metadata": {},
     "source": [
      "* Simple. Just read and write as you think.\n",
      "* Powerful. Active community and amounts of gorgeous standard and third-party packages.\n",
      "* Scalacity. Easily to ge fused with C and C++."
     ]
    },
    {
     "cell_type": "heading",
     "level": 2,
     "metadata": {},
     "source": [
      "How to install Python"
     ]
    },
    {
     "cell_type": "markdown",
     "metadata": {},
     "source": [
      "Normally, I would recommend newbies try [Anacodna](https://store.continuum.io/cshop/anaconda/) (free to everybody) and [Canopy](https://www.enthought.com/products/canopy/) (free to education and academy). These two python distributions intergated many useful scientific computation Python packages, saving you lots of time to fix annoying incompatibility-problems. "
     ]
    },
    {
     "cell_type": "heading",
     "level": 2,
     "metadata": {},
     "source": [
      "How to run Python commands and scripts"
     ]
    },
    {
     "cell_type": "markdown",
     "metadata": {},
     "source": [
      "* For Linux/Unix users, one just typing `python` in the terminal and hitting `Enter` would start the interctive Python interpreter just as showed below. Then any operations can be typed in directly and run by hitting `Enter`. Also all the commands can be saved in a file, here for example `test.py` and simply type `python test.py` will run the commands.  <img src=\"Image/Python_start_run_linux.png\">\n",
      "\n",
      "* For Windows users, an interactive Python interpreter can be invoked by double-clicking `python.exe` or `Canopy` if installed. Files containing python source codes can be loaded directly to these interpreters to get run. <img src=\"Image/Python_start_run_winCanopy.png\">\n",
      "\n",
      "* Press `Ctrl-d` and `Ctrl-z` would let you quit interactive Python interpreter in Linux/Unix or Windows systems respectively. \n",
      "\n",
      "* \n",
      "\n",
      "* Since this tutorial is written and distributed using `IPython Notebook`, it would be a great way to directly run codes within this document under `IPython Notebook` environment."
     ]
    },
    {
     "cell_type": "heading",
     "level": 2,
     "metadata": {},
     "source": [
      "What editor should I use"
     ]
    },
    {
     "cell_type": "markdown",
     "metadata": {},
     "source": [
      "Normally, I would recommend [Vim](http://www.vim.org/download.php) to edit Python scripts as well as other scripts. A detailed configuration of `vim` for linux can be found at [my github](https://github.com/Tong-Chen/vim) and [BaiDuYun](http://pan.baidu.com/s/1kT5KIN1) for Windows. "
     ]
    },
    {
     "cell_type": "heading",
     "level": 1,
     "metadata": {},
     "source": [
      "Basic concepts"
     ]
    },
    {
     "cell_type": "markdown",
     "metadata": {},
     "source": [
      "* Constant, meaning fixed numbers and strings like `2`, `2.9`, `Hello world` ,etc. \n",
      "* Variable, something with a value that may or may not change. In simplest terms, a variable is just a box that you can put stuff in. You can use variables to store all kinds of stuff.\n",
      "    * Number variable      \n",
      "    * String variable\n",
      "    * List variable\n",
      "    * Dict variable"
     ]
    },
    {
     "cell_type": "code",
     "collapsed": false,
     "input": [
      "a = 5\n",
      "print a\n",
      "\n",
      "print\n",
      "print \"The type of a is\", type(a)\n",
      "\n",
      "print\n",
      "print \"a refers to \", id(a)\n",
      "\n",
      "print\n",
      "print \"a is an int, \", isinstance(a,int)\n",
      "\n",
      "#\u5224\u65ad\n",
      "print\n",
      "\n",
      "if a > 4:\n",
      "    print \"a is larger than 4.\"\n",
      "elif a == 4:\n",
      "    print \"a is equal to 4.\"\n",
      "else:\n",
      "    print \"a is less than 4\""
     ],
     "language": "python",
     "metadata": {},
     "outputs": [
      {
       "output_type": "stream",
       "stream": "stdout",
       "text": [
        "5\n",
        "\n",
        "The type of a is <type 'int'>\n",
        "\n",
        "a refers to  6599624\n",
        "\n",
        "a is an int,  True\n",
        "\n",
        "a is larger than 4.\n"
       ]
      }
     ],
     "prompt_number": 26
    },
    {
     "cell_type": "code",
     "collapsed": false,
     "input": [
      "a = \"Hello, welcome to Python\"\n",
      "\n",
      "print \"The string a is:\", a\n",
      "print\n",
      "\n",
      "print \"The length of this string <%s> is %d\" % (a, len(a))\n",
      "print\n",
      "\n",
      "print \"The type of a is\", type(a)\n",
      "print \"\\nThe id of a is\", id(a)  #\u5148\u6253\u5370\u7a7a\u884c\u518d\u8f93\u51fa\n",
      "\n",
      "b = \"123456\"\n",
      "c = '123456'\n",
      "d = '''123456'''\n",
      "\n",
      "print \n",
      "print \"b=c is \", b == c\n",
      "print \"c=d is \", c == d\n",
      "print \"b=d is %s\\n\" % (b == d)  #\u8f93\u51fa\u540e\u6253\u5370\u4e2a\u7a7a\u884c\n",
      "\n",
      "print\n",
      "print \"a and b refers to same variable, \", a is b\n",
      "\n",
      "#\u53d6\u51fa\u5b57\u7b26\u4e32\u7684\u7b2c\u4e00\u4e2a\u5b57\u7b26\u3001\u6700\u540e\u4e00\u4e2a\u5b57\u7b26\u3001\u6bcf\u4e2a\u5b57\u7b26\n",
      "print \"The first character of a is %s\\n\" % a[0]\n",
      "\n",
      "print \"The last character of a is %s\\n\" % a[-1]\n",
      "print \"The last character of a is %s\\n\" % a[len(a)-1]\n",
      "\n",
      "#\u904d\u5386\u5b57\u7b26\u4e32\n",
      "for i in a:\n",
      "    print i\n",
      "\n",
      "#\u8f93\u51fa\u7b26\u5408\u7279\u5b9a\u8981\u6c42\u7684\u5b57\u7b26\u7684\u4f4d\u7f6e\n",
      "print\n",
      "pos = 0\n",
      "for i in a:\n",
      "    pos += 1\n",
      "    if i == 'o':\n",
      "        print pos\n",
      "    \n"
     ],
     "language": "python",
     "metadata": {},
     "outputs": [
      {
       "output_type": "stream",
       "stream": "stdout",
       "text": [
        "The string a is: Hello, welcome to Python\n",
        "\n",
        "The length of this string <Hello, welcome to Python> is 24\n",
        "\n",
        "The type of a is <type 'str'>\n",
        "\n",
        "The id of a is 57094960\n",
        "\n",
        "b=c is  True\n",
        "c=d is  True\n",
        "b=d is True\n",
        "\n",
        "\n",
        "a and b refers to same variable,  False\n",
        "The first character of a is H\n",
        "\n",
        "The last character of a is n\n",
        "\n",
        "The last character of a is n\n",
        "\n",
        "H\n",
        "e\n",
        "l\n",
        "l\n",
        "o\n",
        ",\n",
        " \n",
        "w\n",
        "e\n",
        "l\n",
        "c\n",
        "o\n",
        "m\n",
        "e\n",
        " \n",
        "t\n",
        "o\n",
        " \n",
        "P\n",
        "y\n",
        "t\n",
        "h\n",
        "o\n",
        "n\n",
        "\n",
        "5\n",
        "12\n",
        "17\n",
        "23\n"
       ]
      }
     ],
     "prompt_number": 28
    },
    {
     "cell_type": "code",
     "collapsed": false,
     "input": [
      "#\u6784\u5efa\u4e00\u4e2a\u6570\u7ec4\n",
      "aList = [1,2,3,4,5]\n",
      "print aList\n",
      "print\n",
      "print \"The first element is %d.\" % aList[0]\n",
      "print\n",
      "print \"The last element is %d.\" % aList[-1]\n",
      "print\n",
      "print \"The first two elements are\", aList[:2]\n",
      "\n",
      "#\u904d\u5386\u6570\u7ec4\u7684\u6bcf\u4e2a\u5143\u7d20\n",
      "print\n",
      "for ele in aList:\n",
      "    print ele\n",
      "\n",
      "#\u8f93\u51fa\u6570\u7ec4\u4e2d\u5927\u4e8e3\u7684\u5143\u7d20\n",
      "print \n",
      "\n",
      "for ele in aList:\n",
      "    if ele > 3:\n",
      "        print ele\n",
      "\n",
      "#\u5411\u6570\u7ec4\u4e2d\u589e\u52a0\u5143\u7d20\n",
      "aList.append(6)\n",
      "print aList\n",
      "\n",
      "#\u5728\u6570\u7ec4\u4e2d\u5220\u9664\u5143\u7d20\n",
      "aList.remove(3)\n",
      "print\n",
      "print aList\n",
      "\n",
      "print \"#\u5411\u6570\u7ec4\u4e2d\u589e\u52a0\u4e00\u4e2a\u6570\u7ec4\"\n",
      "print \n",
      "bList = ['a','b','c']\n",
      "aList.extend(bList)\n",
      "print aList"
     ],
     "language": "python",
     "metadata": {},
     "outputs": [
      {
       "output_type": "stream",
       "stream": "stdout",
       "text": [
        "[1, 2, 3, 4, 5]\n",
        "\n",
        "The first element is 1.\n",
        "\n",
        "The last element is 5.\n",
        "\n",
        "The first two elements are [1, 2]\n",
        "\n",
        "1\n",
        "2\n",
        "3\n",
        "4\n",
        "5\n",
        "\n",
        "4\n",
        "5\n",
        "[1, 2, 3, 4, 5, 6]\n",
        "\n",
        "[1, 2, 4, 5, 6]\n",
        "#\u5411\u6570\u7ec4\u4e2d\u589e\u52a0\u4e00\u4e2a\u6570\u7ec4\n",
        "\n",
        "[1, 2, 4, 5, 6, 'a', 'b', 'c']\n"
       ]
      }
     ],
     "prompt_number": 31
    },
    {
     "cell_type": "code",
     "collapsed": false,
     "input": [],
     "language": "python",
     "metadata": {},
     "outputs": []
    }
   ],
   "metadata": {}
  }
 ]
}