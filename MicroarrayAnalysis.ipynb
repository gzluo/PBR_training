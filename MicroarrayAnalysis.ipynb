{
 "metadata": {
  "name": "",
  "signature": "sha256:eeb9b7dd30819ccb0831d363c30568450ff35fa898ef639a91aea08937cc24ce"
 },
 "nbformat": 3,
 "nbformat_minor": 0,
 "worksheets": [
  {
   "cells": [
    {
     "cell_type": "markdown",
     "metadata": {},
     "source": [
      "Microarray analysis training tutorial\n",
      "===\n",
      "Chen Tong\n",
      "===\n",
      "\n",
      "Welcome to my tutorial, enjoy it. \n",
      "\n",
      "This work is licensed under a <a rel=\"license\" href=\"http://creativecommons.org/licenses/by-nc-sa/2.0/\">Creative Commons Attribution-NonCommercial-ShareAlike 2.0 Generic License</a>.\n"
     ]
    },
    {
     "cell_type": "heading",
     "level": 1,
     "metadata": {},
     "source": [
      "Analyze microarray data from GEO"
     ]
    },
    {
     "cell_type": "heading",
     "level": 2,
     "metadata": {},
     "source": [
      "Download original data and processed intensity from GEO"
     ]
    },
    {
     "cell_type": "markdown",
     "metadata": {},
     "source": [
      "Assume we want to search for gene expression profile during mouse development and we got a series number like `GSE51483`. "
     ]
    },
    {
     "cell_type": "markdown",
     "metadata": {},
     "source": [
      "Ask any two bioinformaticians about microarray normalisation and you'll get 10 different answers :-)\n",
      "\n",
      "A good summary of MAS5 versus RMA is provided in the article 'Summaries of Affymetrix GeneChip probe level data'. A slightly-less technical, but comprehensive review can be found in this PPT presentation. The essential differences between RMA and MAS5 are:\n",
      "\n",
      "MAS5 normalises each array independently and sequentially; RMA as the name suggests (robust multi-array) uses a multi-chip model\n",
      "MAS5 uses data from mismatch probes to calculate a \"robust average\", based on subtracting mismatch probe value from match probe value\n",
      "RMA does not use the mismatch probes, because their intensities are often higher than the match probes, making them unreliable as indicators of non-specific binding\n",
      "RMA values are in log2 units, MAS5 are not (so values are not directly comparable)\n",
      "In the literature, you will always be able to find examples where people state that one method performed better than another; here's an article extolling the virtues of MAS5. The important thing to remember is that they observed the improvement precisely once, under a specific set of conditions - you can't generalise to all cases from one good result.\n",
      "\n",
      "In general though, I disagree with your colleague: I'd say that RMA \"is more often used nowadays.\"\n",
      "\n",
      "I suggest searching the Web (Google for \"rma mas5\"), reading some of the literature (the journal Bioinformatics is a good source for these types of articles) and browsing the Bioconductor mailing list to get at least a feel for the discussion around different methods."
     ]
    },
    {
     "cell_type": "markdown",
     "metadata": {},
     "source": [
      "MAS5 is best for 3'-arrays of Affymetrix, because of PM and MM as a probe pair. MAS5 is highly dependent on Mismatch probes. Where as RMA is the best choice for Affymetrix Gene ST arrays (do not have MM probes), and widely used one. RMA work better with a minimum number of 6 arrays. There is little compromise on accuracy (hence need for more number of replicates.... minimum 3 would be better for each group), but the precision is good using RMA."
     ]
    }
   ],
   "metadata": {}
  }
 ]
}