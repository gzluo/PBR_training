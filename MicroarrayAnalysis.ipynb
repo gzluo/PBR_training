{
 "metadata": {
  "name": "",
  "signature": "sha256:8e161749099bd60efcf59abb0c51ed9475d57cb37a3791ad95fa939c5e08fb9a"
 },
 "nbformat": 3,
 "nbformat_minor": 0,
 "worksheets": [
  {
   "cells": [
    {
     "cell_type": "markdown",
     "metadata": {},
     "source": [
      "Microarray analysis training tutorial\n",
      "===\n",
      "Chen Tong\n",
      "===\n",
      "\n",
      "Welcome to my tutorial, enjoy it. \n",
      "\n",
      "This work is licensed under a <a rel=\"license\" href=\"http://creativecommons.org/licenses/by-nc-sa/2.0/\">Creative Commons Attribution-NonCommercial-ShareAlike 2.0 Generic License</a>.\n"
     ]
    },
    {
     "cell_type": "heading",
     "level": 1,
     "metadata": {},
     "source": [
      "Analyze microarray data from GEO"
     ]
    },
    {
     "cell_type": "heading",
     "level": 2,
     "metadata": {},
     "source": [
      "Download original data and processed intensity from GEO"
     ]
    },
    {
     "cell_type": "markdown",
     "metadata": {},
     "source": [
      "Assume we want to search for gene expression profile during mouse development and we got a series number like `GSE51483`. "
     ]
    }
   ],
   "metadata": {}
  }
 ]
}