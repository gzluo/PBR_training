{
 "metadata": {
  "name": "",
  "signature": "sha256:8f2021dc032d1de759d2af76c3088b8252e7e6f416ac6238fab13f78c13869dc"
 },
 "nbformat": 3,
 "nbformat_minor": 0,
 "worksheets": [
  {
   "cells": [
    {
     "cell_type": "markdown",
     "metadata": {},
     "source": [
      "Microarray analysis training tutorial\n",
      "===\n",
      "Chen Tong\n",
      "===\n",
      "\n",
      "Welcome to my tutorial, enjoy it. \n",
      "\n",
      "This work is licensed under a <a rel=\"license\" href=\"http://creativecommons.org/licenses/by-nc-sa/2.0/\">Creative Commons Attribution-NonCommercial-ShareAlike 2.0 Generic License</a>.\n"
     ]
    },
    {
     "cell_type": "heading",
     "level": 1,
     "metadata": {},
     "source": [
      "Analyze microarray data from GEO"
     ]
    },
    {
     "cell_type": "heading",
     "level": 2,
     "metadata": {},
     "source": [
      "Download original data and processed intensity from GEO"
     ]
    },
    {
     "cell_type": "markdown",
     "metadata": {},
     "source": [
      "Assume we want to search for gene expression profile during mouse development and we got a series number like `GSE51483`. "
     ]
    },
    {
     "cell_type": "markdown",
     "metadata": {},
     "source": [
      "Ask any two bioinformaticians about microarray normalisation and you'll get 10 different answers :-)\n",
      "\n",
      "A good summary of MAS5 versus RMA is provided in the article 'Summaries of Affymetrix GeneChip probe level data'. A slightly-less technical, but comprehensive review can be found in this PPT presentation. The essential differences between RMA and MAS5 are:\n",
      "\n",
      "MAS5 normalises each array independently and sequentially; RMA as the name suggests (robust multi-array) uses a multi-chip model\n",
      "MAS5 uses data from mismatch probes to calculate a \"robust average\", based on subtracting mismatch probe value from match probe value\n",
      "RMA does not use the mismatch probes, because their intensities are often higher than the match probes, making them unreliable as indicators of non-specific binding\n",
      "RMA values are in log2 units, MAS5 are not (so values are not directly comparable)\n",
      "In the literature, you will always be able to find examples where people state that one method performed better than another; here's an article extolling the virtues of MAS5. The important thing to remember is that they observed the improvement precisely once, under a specific set of conditions - you can't generalise to all cases from one good result.\n",
      "\n",
      "In general though, I disagree with your colleague: I'd say that RMA \"is more often used nowadays.\"\n",
      "\n",
      "I suggest searching the Web (Google for \"rma mas5\"), reading some of the literature (the journal Bioinformatics is a good source for these types of articles) and browsing the Bioconductor mailing list to get at least a feel for the discussion around different methods."
     ]
    },
    {
     "cell_type": "markdown",
     "metadata": {},
     "source": [
      "MAS5 is best for 3'-arrays of Affymetrix, because of PM and MM as a probe pair. MAS5 is highly dependent on Mismatch probes. Where as RMA is the best choice for Affymetrix Gene ST arrays (do not have MM probes), and widely used one. RMA work better with a minimum number of 6 arrays. There is little compromise on accuracy (hence need for more number of replicates.... minimum 3 would be better for each group), but the precision is good using RMA."
     ]
    },
    {
     "cell_type": "markdown",
     "metadata": {},
     "source": [
      "When you consider to use Affymetrix Power Tools instead of R you don't need a CDF file. Use the \"Library Files\" for the HuGene 2.1 ST Array from the Affymetrix web sites instead and run the power tools with a command similar to that one:\n",
      "\n",
      "```apt-probeset-summarize -m transript_cluster.mps -a rma-sketch -p chip.pgf -c chip.clf -o output-dir *.cel```"
     ]
    },
    {
     "cell_type": "markdown",
     "metadata": {},
     "source": [
      "Unofficial CDF files http://nmg-r.bioinformatics.nl/NuGO_R.html\n",
      "    "
     ]
    },
    {
     "cell_type": "markdown",
     "metadata": {},
     "source": [
      "Ref\n",
      "1. http://homer.salk.edu/homer/basicTutorial/affymetrix.html\n",
      "2. https://nsaunders.wordpress.com/2013/08/22/microarrays-scan-dates-and-bioconductor-it-shouldnt-be-this-difficult/\n",
      "3. http://permalink.gmane.org/gmane.science.biology.informatics.conductor/53063\n"
     ]
    }
   ],
   "metadata": {}
  }
 ]
}