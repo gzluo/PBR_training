{
 "metadata": {
  "name": "",
  "signature": "sha256:6770a6c346111e804d731963019af25ed92de885a547d1a8577e86c374508351"
 },
 "nbformat": 3,
 "nbformat_minor": 0,
 "worksheets": [
  {
   "cells": [
    {
     "cell_type": "markdown",
     "metadata": {},
     "source": [
      "Python \u6559\u7a0b\n",
      "===\n",
      "\u9648\u540c (chentong_biology@163.com)\n",
      "=============\n",
      "\n",
      "\n",
      "\u6b22\u8fce\u6765\u5230Python\u7684\u4e16\u754c\uff0c\u672c\u6559\u7a0b\u5c06\u5e26\u4f60\u9068\u6e38`Python`\uff0c\u9886\u609f`Python`\u7684\u9b45\u529b\u3002\u672c\u6559\u7a0b\u4e13\u6ce8\u4e8e\u5e2e\u52a9\u521d\u5b66\u8005\uff0c\u5c24\u5176\u662f\u751f\u7269\u4fe1\u606f\u5206\u6790\u4eba\u5458\u5feb\u901f\u5b66\u4f1a`Python`\u7684\u5e38\u7528\u529f\u80fd\u548c\u4f7f\u7528\u65b9\u5f0f\uff0c\u56e0\u6b64\u53ea\u7cbe\u9009\u4e86\u90e8\u5206`Python`\u7684\u529f\u80fd\uff0c\u8bf7\u989d\u5916\u53c2\u8003Python\u7ecf\u5178\u6559\u7a0b[A byte of python](http://www.byteofpython.info/)\u548c\u5b83\u7684[\u4e2d\u6587\u7248](http://woodpecker.org.cn/abyteofpython_cn/chinese/index.html) \u6765\u66f4\u597d\u7684\u7406\u89e3*Python*. \u672c\u6587\u6863\u7684\u6982\u5ff5\u548c\u6587\u5b57\u63cf\u8ff0\u53c2\u8003\u4e86A byte of python(\u4e2d\u6587\u7248)\uff0c\u7279\u6b64\u611f\u8c22\u3002\n",
      "\n",
      "This work is licensed under a <a rel=\"license\" href=\"http://creativecommons.org/licenses/by-nc-sa/2.0/\">Creative Commons Attribution-NonCommercial-ShareAlike 2.0 Generic License</a>.\n"
     ]
    },
    {
     "cell_type": "heading",
     "level": 1,
     "metadata": {},
     "source": [
      "\u76ee\u5f55"
     ]
    },
    {
     "cell_type": "markdown",
     "metadata": {},
     "source": [
      "1. [\u80cc\u666f\u4ecb\u7ecd](#\u80cc\u666f\u4ecb\u7ecd)\n",
      "    1. [\u7f16\u7a0b\u5f00\u7bc7](#\u7f16\u7a0b\u5f00\u7bc7)\n",
      "    1. [\u4e3a\u4ec0\u4e48\u5b66\u4e60Python](#\u4e3a\u4ec0\u4e48\u5b66\u4e60Python)\n",
      "    2. [\u5982\u4f55\u5b89\u88c5Python](#\u5982\u4f55\u5b89\u88c5Python)\n",
      "    3. [\u5982\u4f55\u8fd0\u884cPython\u547d\u4ee4\u548c\u811a\u672c](#\u5982\u4f55\u8fd0\u884cPython\u547d\u4ee4\u548c\u811a\u672c)\n",
      "    4. [\u4f7f\u7528\u4ec0\u4e48\u7f16\u8f91\u5668\u5199Python\u811a\u672c](#\u4f7f\u7528\u4ec0\u4e48\u7f16\u8f91\u5668\u5199Python\u811a\u672c)\n",
      "2. [Python\u7a0b\u5e8f\u4e8b\u4f8b](#Python\u7a0b\u5e8f\u4e8b\u4f8b)\n",
      "2. [Python\u57fa\u672c\u8bed\u6cd5](#Python\u8bed\u6cd5)\n",
      "    1. [\u5c42\u7ea7\u7f29\u8fdb](#\u5c42\u7ea7\u7f29\u8fdb)\n",
      "    2. [\u53d8\u91cf\u3001\u6570\u636e\u7ed3\u6784\u3001\u6d41\u7a0b\u63a7\u5236](#\u53d8\u91cf\u3001\u6570\u636e\u7ed3\u6784\u3001\u6d41\u7a0b\u63a7\u5236)\n",
      "        1. [\u6570\u503c\u53d8\u91cf\u64cd\u4f5c](#\u6570\u503c\u53d8\u91cf\u64cd\u4f5c)\n",
      "        2. [\u5b57\u7b26\u4e32\u53d8\u91cf\u64cd\u4f5c](#\u5b57\u7b26\u4e32\u53d8\u91cf\u64cd\u4f5c)\n",
      "        3. [\u5217\u8868\u64cd\u4f5c](#\u5217\u8868\u64cd\u4f5c)\n",
      "        4. [\u5143\u7ec4\u64cd\u4f5c](#\u5143\u7ec4\u64cd\u4f5c)\n",
      "        4. [Range\u4f7f\u7528](#Range\u4f7f\u7528)\n",
      "        5. [\u5b57\u5178\u64cd\u4f5c](#\u5b57\u5178\u64cd\u4f5c)\n",
      "3. [\u8f93\u5165\u8f93\u51fa](#\u8f93\u5165\u8f93\u51fa)\n",
      "    1. [\u4ea4\u4e92\u5f0f\u8f93\u5165\u8f93\u51fa](#\u4ea4\u4e92\u5f0f\u8f93\u5165\u8f93\u51fa)\n",
      "    2. [\u6587\u4ef6\u8bfb\u5199](#\u6587\u4ef6\u8bfb\u5199)\n",
      "4. [\u5b9e\u6218\u7ec3\u4e60\uff08\u4e00\uff09](#\u5b9e\u6218\u7ec3\u4e60\uff08\u4e00\uff09)\n",
      "    1. [\u80cc\u666f\u77e5\u8bc6](#\u80cc\u666f\u77e5\u8bc6)\n",
      "    2. [\u4f5c\u4e1a(\u4e00)](#\u4f5c\u4e1a\uff08\u4e00\uff09)\n",
      "5. [\u51fd\u6570\u64cd\u4f5c](#\u51fd\u6570\u64cd\u4f5c)\n",
      "    1. [\u51fd\u6570\u64cd\u4f5c](#\u51fd\u6570\u64cd\u4f5c)\n",
      "    2. [\u4f5c\u4e1a\uff08\u4e8c\uff09](#\u4f5c\u4e1a\uff08\u4e8c\uff09)\n",
      "6. [\u6a21\u5757](#\u6a21\u5757)\n",
      "7. [\u547d\u4ee4\u884c\u53c2\u6570](#\u547d\u4ee4\u884c\u53c2\u6570)\n",
      "    1. [\u547d\u4ee4\u884c\u53c2\u6570](#\u547d\u4ee4\u884c\u53c2\u6570)\n",
      "    2. [\u4f5c\u4e1a\uff08\u4e09\uff09](#\u4f5c\u4e1a\uff08\u4e09\uff09)\n",
      "8. [\u66f4\u591aPython\u5185\u5bb9](#\u66f4\u591aPython\u5185\u5bb9)\n",
      "    1. [\u5355\u8bed\u53e5\u5757](#\u5355\u8bed\u53e5\u5757)\n",
      "    2. [\u5217\u8868\u7efc\u5408\uff0c\u751f\u6210\u65b0\u5217\u8868\u7684\u7b80\u5316\u7684for\u5faa\u73af](#\u5217\u8868\u7efc\u5408)\n",
      "    3. [lambda, map, filer, reduce (\u4fdd\u7559\u8282\u76ee)](#lmfr)\n",
      "    4. [exec, eval (\u6267\u884c\u5b57\u7b26\u4e32python\u8bed\u53e5, \u4fdd\u7559\u8282\u76ee)](#ee)\n",
      "9. [Reference](#Reference)"
     ]
    },
    {
     "cell_type": "heading",
     "level": 1,
     "metadata": {},
     "source": [
      "\u80cc\u666f\u4ecb\u7ecd"
     ]
    },
    {
     "cell_type": "heading",
     "level": 2,
     "metadata": {},
     "source": [
      "\u7f16\u7a0b\u5f00\u7bc7"
     ]
    },
    {
     "cell_type": "markdown",
     "metadata": {},
     "source": [
      "A\uff1a\u6700\u8fd1\u5728\u770b\u4ec0\u4e48\u4e66\uff1f\n",
      "\n",
      "B\uff1a\u7f16\u7a0b\u3002\n",
      "\n",
      "A\uff1a\u6c88\u4ece\u6587\u7684\u90a3\u672c\u554a\u3002\n",
      "\n",
      "B\uff1a\u2026\u2026\n",
      "\n",
      "\n",
      "\n",
      "-\n",
      "\n",
      "-\n",
      "\n",
      "-\n",
      "\n",
      "-\n",
      "\n",
      "-\n",
      "\n",
      "-\n",
      "\n",
      "-\n",
      "\n",
      "-\n",
      "\n",
      "-\n",
      "\n",
      "\n",
      "\n",
      "\n",
      "C\uff1a\u6700\u8fd1\u5728\u5b66\u4e00\u95e8\u65b0\u8bed\u8a00\uff0cPython\u3002\n",
      "\n",
      "D\uff1a\u90a3\u662f\u54ea\u4e2a\u56fd\u5bb6\u7684\u8bed\u8a00\uff1f\n",
      "\n",
      "C\uff1a\u2026\u2026"
     ]
    },
    {
     "cell_type": "heading",
     "level": 2,
     "metadata": {},
     "source": [
      "\u4e3a\u4ec0\u4e48\u5b66\u4e60Python"
     ]
    },
    {
     "cell_type": "markdown",
     "metadata": {},
     "source": [
      "* \u8bed\u6cd5\u7b80\u5355 \n",
      "    \n",
      "    Python\u8bed\u8a00\u5199\u4f5c\u7684\u7a0b\u5e8f\u5c31\u50cf\u81ea\u7136\u8bed\u8a00\u6784\u5efa\u7684\u4f2a\u4ee3\u7801\u4e00\u6837\uff0c\u201c\u6240\u89c1\u5373\u6240\u60f3\u201d\u3002\u8bfb`Python`\u4ee3\u7801\u5c31\u50cf\u8bfb\u6700\u7b80\u5355\u7684\u82f1\u6587\u77ed\u6587\u4e00\u6837\uff0c\u5199`Python`\u4ee3\u7801\u6bd4\u5199\u82f1\u6587\u6587\u7ae0\u90fd\u8981\u7b80\u5355\uff0c\u201c\u6240\u60f3\u5373\u6240\u5199\u201d\u3002\u5728\u6211\u6559\u6388\u8fc7\u7684\u670b\u53cb\u4e2d\uff0c\u5927\u5bb6\u5728\u5199\u4f5c`Python`\u7684\u8fc7\u7a0b\u4e2d\u90fd\u89c9\u5f97\u5f88\u4e0d\u53ef\u601d\u8bae\uff0c\u539f\u6765\u600e\u4e48\u60f3\u600e\u4e48\u5199\u51fa\u6765\u5c31\u5bf9\u4e86\u3002\n",
      "* \u529f\u80fd\u5f3a\u5927\n",
      "    \n",
      "    \u73b0\u5728\u7a0b\u5e8f\u8bed\u8a00\u7684\u53d1\u5c55\u5df2\u7ecf\u5f88\u6210\u719f\uff0c\u6bcf\u4e00\u79cd\u7a0b\u5e8f\u8bed\u8a00\u90fd\u80fd\u5b9e\u73b0\u5176\u5b83\u7a0b\u5e8f\u8bed\u8a00\u7684\u5168\u90e8\u529f\u80fd\u3002\u56e0\u6b64\u5c31\u7a0b\u5e8f\u8bed\u8a00\u672c\u8eab\u6765\u8bb2\uff0c\u529f\u80fd\u90fd\u76f8\u5dee\u4e0d\u5927\u3002`Python`\u8bed\u8a00\u7684\u529f\u80fd\u5f3a\u5927\u5728\u4e8e\u5176\u6d3b\u8dc3\u7684\u793e\u533a\u548c\u5f3a\u5927\u7684\u7b2c\u4e09\u65b9\u6a21\u5757\u652f\u6301\uff0c\u4f7f\u5176\u4f5c\u4e3a\u79d1\u5b66\u8ba1\u7b97\u7684\u80fd\u529b\u8d8a\u6765\u8d8a\u5f3a\u3002\n",
      "* \u53ef\u6269\u5c55\u6027\u597d\n",
      "    \n",
      "    \u80fd\u4e0eC\u5b8c\u7f8e\u7684\u878d\u5408\uff0c\u52a0\u5feb\u8fd0\u884c\u901f\u5ea6\u3002\u53ef\u7528\u52a0\u901f\u6a21\u5757\u6709`Cython`, `PyPy`, `Pyrex`, `Psyco`\u7b49."
     ]
    },
    {
     "cell_type": "heading",
     "level": 2,
     "metadata": {},
     "source": [
      "\u5982\u4f55\u5b89\u88c5Python"
     ]
    },
    {
     "cell_type": "markdown",
     "metadata": {},
     "source": [
      "Python\u793e\u533a\u6709\u5f88\u591a\u529f\u80fd\u5f88\u597d\u7684\u5305\uff0c\u4f46\u9010\u4e2a\u5b89\u88c5\u9700\u8981\u89e3\u51b3\u7e41\u6742\u7684\u4f9d\u8d56\u5173\u7cfb\u3002\u901a\u5e38\u6211\u4f1a\u63a8\u8350\u5b89\u88c5\u5df2\u7ecf\u505a\u597d\u7684\u96c6\u6210\u5305\uff0c\u4e00\u52b3\u6c38\u9038\u7684\u89e3\u51b3\u540e\u7eed\u95ee\u9898\u3002\u8fd9\u513f\u63a8\u8350\u7684\u4e24\u4e2a\u96c6\u6210\u5305\u6709\u5b8c\u5168\u514d\u8d39\u7684[Anaconda](https://store.continuum.io/cshop/anaconda/)\u548c\u5bf9\u5b66\u672f\u7528\u6237\u3001\u6559\u80b2\u7528\u6237\u514d\u8d39\u7684[Canopy](https://www.enthought.com/products/canopy/). \u8fd9\u4e24\u4e2a\u5206\u53d1\u5305\u96c6\u6210\u4e86\u5e38\u7528\u7684\u6570\u503c\u8ba1\u7b97\u3001\u56fe\u5f62\u5904\u7406\u3001\u591a\u7ef4\u53ef\u89c6\u5316\u548c\u5176\u5b83\u6709\u7528\u7684\u5de5\u5177\u5305\u5982`IPython`\uff0c\u53ef\u4ee5\u8282\u7701\u5927\u91cf\u7684\u5b89\u88c5\u65f6\u95f4\u3002 "
     ]
    },
    {
     "cell_type": "heading",
     "level": 2,
     "metadata": {},
     "source": [
      "\u5982\u4f55\u8fd0\u884cPython\u547d\u4ee4\u548c\u811a\u672c"
     ]
    },
    {
     "cell_type": "markdown",
     "metadata": {},
     "source": [
      "* \u5bf9\u4e8e\u521d\u5b66\u8005\uff0c\u672c\u624b\u518c\u63a8\u8350\u76f4\u63a5\u5728`IPython Notebook`\u4e0b\u5b66\u4e60`Python`\u547d\u4ee4\u548c\u811a\u672c\u3002\u6211\u4eec\u8fd9\u5957\u6559\u7a0b\u4e5f\u662f\u7528`IPython Notebook`\u5199\u4f5c\u800c\u6210\uff0c\u91cc\u9762\u7684\u4ee3\u7801\u53ef\u4ee5\u968f\u65f6\u4fee\u6539\u548c\u8fd0\u884c\uff0c\u5e76\u80fd\u540c\u65f6\u8bb0\u5f55\u4f60\u7684\u811a\u672c\u548c\u8f93\u51fa\uff0c\u7b26\u5408\u73b0\u5728\u6d41\u884c\u7684\u201c\u53ef\u91cd\u590d\u6027\u8ba1\u7b97\u201d\u7684\u6982\u5ff5\u3002\n",
      "    * Linux/Unix\u7528\u6237\u76f4\u63a5\u5728\u7ec8\u7aef(Terminal)\u8fdb\u5165\u4f60\u7684\u76ee\u6807\u6587\u4ef6\u5939`cd /working_dir`[\u56de\u8f66]\uff0c\u7136\u540e\u5728\u7ec8\u7aef\u8f93\u5165`Ipython notebook`[\u56de\u8f66]\u5373\u53ef\u542f\u52a8`Ipython notebook`\u3002\n",
      "    * Windows\u7528\u6237\u53ef\u4ee5\u65b0\u5efa\u4e00\u4e2a`Ipython_notebook.bat`\u6587\u4ef6(\u65b0\u5efa\u4e00\u4e2atxt\u6587\u4ef6\uff0c\u5199\u5165\u5185\u5bb9\u540e\u4fee\u6539\u540e\u7f00\u4e3a`.bat`\u3002\u82e5\u4e0d\u80fd\u4fee\u6539\u540e\u7f00\uff0c\u8bf7Google\u641c\u7d22\u201cWindow\u662f\u5982\u4f55\u663e\u793a\u6587\u4ef6\u6269\u5c55\u540d\u201d)\uff0c\u5e76\u5199\u5165\u4ee5\u4e0b\u5185\u5bb9\uff08\u6ce8\u610f\u628a\u524d\u4e24\u884c\u7684*\u76d8\u7b26*\u548c*\u8def\u5f84*\u66ff\u6362\u4e3a\u4f60\u7684\u5de5\u4f5c\u76ee\u5f55\uff09\uff0c\u53cc\u51fb\u5373\u53ef\u8fd0\u884c\u3002\n",
      "```\n",
      "        D:\n",
      "        cd PBR_training\n",
      "        ipython notebook\n",
      "        pause\n",
      "```\n",
      "    * `Ipython notebook`\u542f\u52a8\u540e\u4f1a\u6253\u5f00\u9ed8\u8ba4\u7684\u6d4f\u89c8\u5668\uff08\u9700\u8981\u5728\u56fe\u5f62\u7528\u6237\u754c\u9762\u4e0b\u5de5\u4f5c\uff09\uff0c\u8fd9\u65f6\u53ef\u4ee5`\u65b0\u5efa`\u6216`\u6253\u5f00`\u76f8\u5e94\u8def\u5f84\u4e0b\u7684ipynb\u6587\u4ef6\u3002\n",
      "    \n",
      "* \u5bf9\u4e8eLInux\u6216Unix\u7528\u6237\uff0c\u76f4\u63a5\u5728\u7ec8\u7aef\u8f93\u5165 `python` \u7136\u540e\u56de\u8f66\u5373\u53ef\u6253\u5f00\u4ea4\u4e92\u5f0f`python`\u89e3\u91ca\u5668\uff0c\u5982\u4e0b\u56fe\u6240\u793a\u3002\u5728\u8fd9\u4e2a\u89e3\u91ca\u5668\u4e86\u6572\u5165\u4efb\u4f55\u5408\u6cd5\u7684`python`\u8bed\u53e5\u5373\u53ef\u6267\u884c\u3002\u6b64\u5916\uff0c\u6240\u6709\u7684\u547d\u4ee4\u8fd8\u53ef\u4ee5\u5b58\u50a8\u5230\u4e00\u4e2a\u6587\u4ef6\u4e00\u8d77\u6267\u884c\uff0c\u5982\u4e0b\u56fe\u6240\u793a\u3002\u6211\u4eec\u6709\u4e00\u4e2a\u5305\u542b`python`\u7a0b\u5e8f\u7684\u6587\u4ef6`test.py`\uff0c\u6211\u4eec\u53ea\u8981\u5728\u7ec8\u7aef\u8f93\u5165`python test.py`\u5e76\u56de\u8f66\u5c31\u53ef\u4ee5\u8fd0\u884c\u8fd9\u4e2a\u6587\u4ef6\u3002\u540c\u65f6\u6211\u4eec\u4e5f\u53ef\u5728\u7ec8\u7aef\u901a\u8fc7\u8f93\u5165`chmod 755 test.py`\u8d4b\u4e88\u7a0b\u5e8f`test.py`\u53ef\u6267\u884c\u6743\u9650\uff0c\u5e76\u5728\u7ec8\u7aef\u8f93\u5165`./test.py`\u8fd0\u884c`Python`\u811a\u672c\u3002\u66f4\u591aLinux\u4e0b\u7684\u9ad8\u7ea7\u4f7f\u7528\u548cLinux\u547d\u4ee4\u4f7f\u7528\u8bf7\u89c1\u6559\u7a0bBash_training-chinese.ipynb\u3002  <img src=\"Image/Python_start_run_linux.png\">\n",
      "\n",
      "* \u5bf9\u4e8eWindows\u7528\u6237\uff0c\u53ef\u4ee5\u901a\u8fc7\u201cWindows\u952e+R\u201d\u8c03\u51fa\u201cRun\u201d\u7a97\u53e3\u5e76\u8f93\u5165\u201ccmd\u201d\u6253\u5f00Windows\u547d\u4ee4\u89e3\u91ca\u5668\uff0c\u8f93\u5165`python`\u5373\u53ef\u6253\u5f00\u4ea4\u4e92\u5f0f`python`\u89e3\u91ca\u5668\u3002\u540c\u65f6\u4e5f\u53ef\u4ee5\u53cc\u51fb\u5b89\u88c5\u540e\u7684\u8f6f\u4ef6\u7684\u5feb\u6377\u65b9\u5f0f\u6253\u5f00\u56fe\u5f62\u754c\u9762\u7684`Python`\u89e3\u91ca\u5668\uff0c\u53ef\u4ee5\u5904\u7406\u4ea4\u4e92\u5f0f\u547d\u4ee4\u548c\u5bfc\u5165Python\u6587\u4ef6\u5e76\u6267\u884c\u3002\u4e0b\u56fe\u6240\u793a\u662fCanopy\u7684\u754c\u9762\uff1a<img src=\"Image/Python_start_run_winCanopy.png\">\n",
      "\n",
      "* \u5bf9\u4e8e\u4ea4\u4e92\u5f0f`Python`\u89e3\u91ca\u5668\uff0c\u5728\u4f7f\u7528\u7ed3\u675f\u540e\uff0c\u901a\u8fc7\u952e\u76d8\u7ec4\u5408\u952e`Ctrl-d` (Linux/Unix)\u6216`Ctrl-z` (Windows)\u5173\u95ed\u3002"
     ]
    },
    {
     "cell_type": "heading",
     "level": 2,
     "metadata": {},
     "source": [
      "\u4f7f\u7528\u4ec0\u4e48\u7f16\u8f91\u5668\u5199Python\u811a\u672c"
     ]
    },
    {
     "cell_type": "markdown",
     "metadata": {},
     "source": [
      "\u5728\u4f60\u5b66\u6210\u4e4b\u540e\uff0c\u53ef\u80fd\u4e3b\u8981\u64cd\u4f5c\u90fd\u5728\u670d\u52a1\u5668\u5b8c\u6210\uff0c\u800c\u4e14\u65e5\u5e38\u5de5\u4f5c\u4e00\u822c\u4f1a\u4ee5\u811a\u672c\u7684\u5f62\u5f0f\u89e3\u51b3\u3002\u6211\u4e2a\u4eba\u63a8\u8350\u4f7f\u7528[Vim](http://www.vim.org/download.php)\u6765\u5199\u4f5cPython\u811a\u672c\u3002\n",
      "\n",
      "Linux\u4e0b`vim`\u7684\u914d\u7f6e\u6587\u4ef6\u53ef\u4ece[\u6211\u7684 github](https://github.com/Tong-Chen/vim)\u4e0b\u8f7d\uff0cWindows\u7248\u53ef\u4ece[\u6211\u7684\u767e\u5ea6\u4e91](http://pan.baidu.com/s/1kT5KIN1) \u4e0b\u8f7d\u3002 "
     ]
    },
    {
     "cell_type": "heading",
     "level": 1,
     "metadata": {},
     "source": [
      "Python\u7a0b\u5e8f\u4e8b\u4f8b"
     ]
    },
    {
     "cell_type": "code",
     "collapsed": false,
     "input": [
      "#\u5047\u5982\u6211\u4eec\u6709\u5982\u4e0bFASTA\u683c\u5f0f\u7684\u6587\u4ef6\uff0c\u6211\u4eec\u60f3\u628a\u591a\u884c\u5e8f\u5217\u5408\u5e76\u4e3a\u4e00\u884c\uff0c\u600e\u4e48\u505a\uff1f\n",
      "for line in open(\"data/test2.fa\"):\n",
      "    print line,"
     ],
     "language": "python",
     "metadata": {},
     "outputs": [
      {
       "output_type": "stream",
       "stream": "stdout",
       "text": [
        ">NM_001011874 gene=Xkr4 CDS=151-2091\n",
        "gcggcggcgggcgagcgggcgctggagtaggagctggggagcggcgcggccggggaaggaagccagggcg\n",
        "aggcgaggaggtggcgggaggaggagacagcagggacaggTGTCAGATAAAGGAGTGCTCTCCTCCGCTG\n",
        "CCGAGGCATCATGGCCGCTAAGTCAGACGGGAGGCTGAAGATGAAGAAGAGCAGCGACGTGGCGTTCACC\n",
        "CCGCTGCAGAACTCGGACAATTCGGGCTCTGTGCAAGGACTGGCTCCAGGCTTGCCGTCGGGGTCCGGAG\n",
        ">NM_001195662 gene=Rp1 CDS=55-909\n",
        "AAGCTCAGCCTTTGCTCAGATTCTCCTCTTGATGAAACAAAGGGATTTCTGCACATGCTTGAGAAATTGC\n",
        "AGGTCTCACCCAAAATGAGTGACACACCTTCTACTAGTTTCTCCATGATTCATCTGACTTCTGAAGGTCA\n",
        "AGTTCCTTCCCCTCGCCATTCAAATATCACTCATCCTGTAGTGGCTAAACGCATCAGTTTCTATAAGAGT\n",
        "GGAGACCCACAGTTTGGCGGCGTTCGGGTGGTGGTCAACCCTCGTTCCTTTAAGACTTTTGACGCTCTGC\n",
        "TGGACAGTTTATCCAGGAAGGTACCCCTGCCCTTTGGGGTAAGGAACATCAGCACGCCCCGTGGACGACA\n",
        "CAGCATCACCAGGCTGGAGGAGCTAGAGGACGGCAAGTCTTATGTGTGCTCCCACAATAAGAAGGTGCTG\n",
        ">NM_011283 gene=Rp1 CDS=128-6412\n",
        "AATAAATCCAAAGACATTTGTTTACGTGAAACAAGCAGGTTGCATATCCAGTGACGTTTATACAGACCAC\n",
        "ACAAACTATTTACTCTTTTCTTCGTAAGGAAAGGTTCAACTTCTGGTCTCACCCAAAATGAGTGACACAC\n",
        "CTTCTACTAGTTTCTCCATGATTCATCTGACTTCTGAAGGTCAAGTTCCTTCCCCTCGCCATTCAAATAT\n",
        "CACTCATCCTGTAGTGGCTAAACGCATCAGTTTCTATAAGAGTGGAGACCCACAGTTTGGCGGCGTTCGG\n",
        "GTGGTGGTCAACCCTCGTTCCTTTAAGACTTTTGACGCTCTGCTGGACAGTTTATCCAGGAAGGTACCCC\n",
        "TGCCCTTTGGGGTAAGGAACATCAGCACGCCCCGTGGACGACACAGCATCACCAGGCTGGAGGAGCTAGA\n",
        "GGACGGCAAGTCTTATGTGTGCTCCCACAATAAGAAGGTGCTGCCAGTTGACCTGGACAAGGCCCGCAGG\n",
        "CGCCCTCGGCCCTGGCTGAGTAGTCGCTCCATAAGCACGCATGTGCAGCTCTGTCCTGCAACTGCCAATA\n",
        "TGTCCACCATGGCACCTGGCATGCTCCGTGCCCCAAGGAGGCTCGTGGTCTTCCGGAATGGTGACCCGAA\n",
        ">NM_0112835 gene=Rp1 CDS=128-6412\n",
        "AATAAATCCAAAGACATTTGTTTACGTGAAACAAGCAGGTTGCATATCCAGTGACGTTTATACAGACCAC\n",
        "ACAAACTATTTACTCTTTTCTTCGTAAGGAAAGGTTCAACTTCTGGTCTCACCCAAAATGAGTGACACAC\n",
        "CTTCTACTAGTTTCTCCATGATTCATCTGACTTCTGAAGGTCAAGTTCCTTCCCCTCGCCATTCAAATAT\n",
        "CACTCATCCTGTAGTGGCTAAACGCATCAGTTTCTATAAGAGTGGAGACCCACAGTTTGGCGGCGTTCGG\n",
        "GTGGTGGTCAACCCTCGTTCCTTTAAGACTTTTGACGCTCTGCTGGACAGTTTATCCAGGAAGGTACCCC\n",
        "TGCCCTTTGGGGTAAGGAACATCAGCACGCCCCGTGGACGACACAGCATCACCAGGCTGGAGGAGCTAGA\n",
        "GGACGGCAAGTCTTATGTGTGCTCCCACAATAAGAAGGTGCTGCCAGTTGACCTGGACAAGGCCCGCAGG\n",
        "CGCCCTCGGCCCTGGCTGAGTAGTCGCTCCATAAGCACGCATGTGCAGCTCTGTCCTGCAACTGCCAATA\n",
        "TGTCCACCATGGCACCTGGCATGCTCCGTGCCCCAAGGAGGCTCGTGGTCTTCCGGAATGGTGACCCGAA\n"
       ]
      }
     ],
     "prompt_number": 6
    },
    {
     "cell_type": "code",
     "collapsed": false,
     "input": [
      "aDict = {}\n",
      "for line in open('data/test2.fa'):\n",
      "    if line[0] == '>':\n",
      "        key = line.strip()\n",
      "        aDict[key] = []\n",
      "    else:\n",
      "        aDict[key].append(line.strip())\n",
      "#------------------------------------------\n",
      "for key, valueL in aDict.items():\n",
      "    print key\n",
      "    print ''.join(valueL)"
     ],
     "language": "python",
     "metadata": {},
     "outputs": [
      {
       "output_type": "stream",
       "stream": "stdout",
       "text": [
        ">NM_011283 gene=Rp1 CDS=128-6412\n",
        "AATAAATCCAAAGACATTTGTTTACGTGAAACAAGCAGGTTGCATATCCAGTGACGTTTATACAGACCACACAAACTATTTACTCTTTTCTTCGTAAGGAAAGGTTCAACTTCTGGTCTCACCCAAAATGAGTGACACACCTTCTACTAGTTTCTCCATGATTCATCTGACTTCTGAAGGTCAAGTTCCTTCCCCTCGCCATTCAAATATCACTCATCCTGTAGTGGCTAAACGCATCAGTTTCTATAAGAGTGGAGACCCACAGTTTGGCGGCGTTCGGGTGGTGGTCAACCCTCGTTCCTTTAAGACTTTTGACGCTCTGCTGGACAGTTTATCCAGGAAGGTACCCCTGCCCTTTGGGGTAAGGAACATCAGCACGCCCCGTGGACGACACAGCATCACCAGGCTGGAGGAGCTAGAGGACGGCAAGTCTTATGTGTGCTCCCACAATAAGAAGGTGCTGCCAGTTGACCTGGACAAGGCCCGCAGGCGCCCTCGGCCCTGGCTGAGTAGTCGCTCCATAAGCACGCATGTGCAGCTCTGTCCTGCAACTGCCAATATGTCCACCATGGCACCTGGCATGCTCCGTGCCCCAAGGAGGCTCGTGGTCTTCCGGAATGGTGACCCGAA\n",
        ">NM_0112835 gene=Rp1 CDS=128-6412\n",
        "AATAAATCCAAAGACATTTGTTTACGTGAAACAAGCAGGTTGCATATCCAGTGACGTTTATACAGACCACACAAACTATTTACTCTTTTCTTCGTAAGGAAAGGTTCAACTTCTGGTCTCACCCAAAATGAGTGACACACCTTCTACTAGTTTCTCCATGATTCATCTGACTTCTGAAGGTCAAGTTCCTTCCCCTCGCCATTCAAATATCACTCATCCTGTAGTGGCTAAACGCATCAGTTTCTATAAGAGTGGAGACCCACAGTTTGGCGGCGTTCGGGTGGTGGTCAACCCTCGTTCCTTTAAGACTTTTGACGCTCTGCTGGACAGTTTATCCAGGAAGGTACCCCTGCCCTTTGGGGTAAGGAACATCAGCACGCCCCGTGGACGACACAGCATCACCAGGCTGGAGGAGCTAGAGGACGGCAAGTCTTATGTGTGCTCCCACAATAAGAAGGTGCTGCCAGTTGACCTGGACAAGGCCCGCAGGCGCCCTCGGCCCTGGCTGAGTAGTCGCTCCATAAGCACGCATGTGCAGCTCTGTCCTGCAACTGCCAATATGTCCACCATGGCACCTGGCATGCTCCGTGCCCCAAGGAGGCTCGTGGTCTTCCGGAATGGTGACCCGAA\n",
        ">NM_001011874 gene=Xkr4 CDS=151-2091\n",
        "gcggcggcgggcgagcgggcgctggagtaggagctggggagcggcgcggccggggaaggaagccagggcgaggcgaggaggtggcgggaggaggagacagcagggacaggTGTCAGATAAAGGAGTGCTCTCCTCCGCTGCCGAGGCATCATGGCCGCTAAGTCAGACGGGAGGCTGAAGATGAAGAAGAGCAGCGACGTGGCGTTCACCCCGCTGCAGAACTCGGACAATTCGGGCTCTGTGCAAGGACTGGCTCCAGGCTTGCCGTCGGGGTCCGGAG\n",
        ">NM_001195662 gene=Rp1 CDS=55-909\n",
        "AAGCTCAGCCTTTGCTCAGATTCTCCTCTTGATGAAACAAAGGGATTTCTGCACATGCTTGAGAAATTGCAGGTCTCACCCAAAATGAGTGACACACCTTCTACTAGTTTCTCCATGATTCATCTGACTTCTGAAGGTCAAGTTCCTTCCCCTCGCCATTCAAATATCACTCATCCTGTAGTGGCTAAACGCATCAGTTTCTATAAGAGTGGAGACCCACAGTTTGGCGGCGTTCGGGTGGTGGTCAACCCTCGTTCCTTTAAGACTTTTGACGCTCTGCTGGACAGTTTATCCAGGAAGGTACCCCTGCCCTTTGGGGTAAGGAACATCAGCACGCCCCGTGGACGACACAGCATCACCAGGCTGGAGGAGCTAGAGGACGGCAAGTCTTATGTGTGCTCCCACAATAAGAAGGTGCTG\n"
       ]
      }
     ],
     "prompt_number": 10
    },
    {
     "cell_type": "heading",
     "level": 1,
     "metadata": {},
     "source": [
      "Python\u8bed\u6cd5"
     ]
    },
    {
     "cell_type": "heading",
     "level": 2,
     "metadata": {},
     "source": [
      "\u5c42\u7ea7\u7f29\u8fdb"
     ]
    },
    {
     "cell_type": "markdown",
     "metadata": {},
     "source": [
      "* \u5408\u9002\u7684\u7f29\u8fdb\u3002\u7a7a\u767d\u5728Python\u4e2d\u662f\u5f88\u91cd\u8981\u7684\uff0c\u5b83\u79f0\u4e3a\u7f29\u8fdb\u3002\u5728\u903b\u8f91\u884c\u9996\u7684\u7a7a\u767d\uff08\u7a7a\u683c\u548c\u5236\u8868\u7b26\uff09\u7528\u6765\u51b3\u5b9a\u903b\u8f91\u884c\u7684\u7f29\u8fdb\u5c42\u6b21\uff0c\u4ece\u800c\u7528\u6765\u51b3\u5b9a\u8bed\u53e5\u7684\u5206\u7ec4\u3002\u8fd9\u610f\u5473\u7740\u540c\u4e00\u5c42\u6b21\u7684\u8bed\u53e5\u5fc5\u987b\u6709\u76f8\u540c\u7684\u7f29\u8fdb\u3002\u6bcf\u4e00\u7ec4\u8fd9\u6837\u7684\u8bed\u53e5\u79f0\u4e3a\u4e00\u4e2a\u5757\u3002\u901a\u5e38\u7684\u7f29\u8fdb\u4e3a4\u4e2a\u7a7a\u683c, \u5728`Ipython Notebook`\u4e2d\u4e3a\u4e00\u4e2a`Tab`\u952e\u3002\n",
      "  \n",
      " \u4ece\u4e0b\u9762\u8fd9\u4e24\u4e2a\u4f8b\u5b50\u53ef\u4ee5\u770b\u51fa\u9519\u8bef\u7684\u7f29\u8fdb\u7c7b\u578b\u548c\u5bf9\u5e94\u7684\u63d0\u793a\u3002\n",
      " * \"unexpected indent\" \u8868\u793a\u5728\u4e0d\u8be5\u51fa\u73b0\u7a7a\u767d\u7684\u5730\u65b9\u591a\u4e86\u7a7a\u767d\uff0c\u5e76\u4e14\u6307\u51fa\u95ee\u9898\u51fa\u5728\u7b2c\u4e09\u884c(line 3)\u3002\n",
      " * \"expected an indented block\" \u8868\u793a\u5e94\u8be5\u6709\u7f29\u8fdb\u7684\u5730\u65b9\u672a\u7f29\u8fdb\uff0c\u4e5f\u6307\u51fa\u4e86\u95ee\u9898\u6240\u5728\u884c\u3002\n",
      " * \"unindent does not match any outer indentation level\" \u8868\u793a\u7f29\u8fdb\u51fa\u73b0\u4e86\u4e0d\u4e00\u81f4\uff0c\u95ee\u9898\u901a\u5e38\u4f1a\u5728\u6307\u5b9a\u884c**\u53ca\u5176\u524d\u9762\u7684\u884c**\u3002"
     ]
    },
    {
     "cell_type": "code",
     "collapsed": false,
     "input": [
      "print \"\u4e0d\u5408\u9002\u7684\u7f29\u8fdb\u4f1a\u5f15\u53d1\u9519\u8bef\uff0c\u4e0d\u8be5\u6709\u7684\u7f29\u8fdb\"\n",
      "a = 'No indent'\n",
      " b = '\u6211\u524d\u9762\u6709\u4e2a\u7a7a\u683c\u2026\u2026'"
     ],
     "language": "python",
     "metadata": {},
     "outputs": [
      {
       "ename": "IndentationError",
       "evalue": "unexpected indent (<ipython-input-123-085115ffae95>, line 3)",
       "output_type": "pyerr",
       "traceback": [
        "\u001b[1;36m  File \u001b[1;32m\"<ipython-input-123-085115ffae95>\"\u001b[1;36m, line \u001b[1;32m3\u001b[0m\n\u001b[1;33m    b = '\u6211\u524d\u9762\u6709\u4e2a\u7a7a\u683c\u2026\u2026'\u001b[0m\n\u001b[1;37m    ^\u001b[0m\n\u001b[1;31mIndentationError\u001b[0m\u001b[1;31m:\u001b[0m unexpected indent\n"
       ]
      }
     ],
     "prompt_number": 123
    },
    {
     "cell_type": "code",
     "collapsed": false,
     "input": [
      "print \"\u4e0d\u5408\u9002\u7684\u7f29\u8fdb\uff0c\u5e94\u8be5\u6709\uff0c\u5374\u6e9c\u6389\u7684\u7f29\u8fdb\"\n",
      "a = [1,2,3]\n",
      "\n",
      "for i in a:\n",
      "print \"\u6211\u5e94\u8be5\u88ab\u7f29\u8fdb\uff0c\u6211\u4ece\u5c5e\u4e8efor\u5faa\u73af!!!\\n\"\n"
     ],
     "language": "python",
     "metadata": {},
     "outputs": [
      {
       "ename": "IndentationError",
       "evalue": "expected an indented block (<ipython-input-124-bd7d3136801b>, line 5)",
       "output_type": "pyerr",
       "traceback": [
        "\u001b[1;36m  File \u001b[1;32m\"<ipython-input-124-bd7d3136801b>\"\u001b[1;36m, line \u001b[1;32m5\u001b[0m\n\u001b[1;33m    print \"\u6211\u5e94\u8be5\u88ab\u7f29\u8fdb\uff0c\u6211\u4ece\u5c5e\u4e8efor\u5faa\u73af!!!\\n\"\u001b[0m\n\u001b[1;37m        ^\u001b[0m\n\u001b[1;31mIndentationError\u001b[0m\u001b[1;31m:\u001b[0m expected an indented block\n"
       ]
      }
     ],
     "prompt_number": 124
    },
    {
     "cell_type": "code",
     "collapsed": false,
     "input": [
      "a = [1,2, 3]\n",
      "if a:\n",
      "    for i in a:\n",
      "        print i\n",
      "       print i + 1, \"\u4e3a\u4ec0\u4e48\u6211\u7684\u7f29\u8fdb\u8ddf\u5176\u5b83\u884c\u4e0d\u4e00\u6837\u5462\uff0c\u6211\u7684\u7a7a\u683c\u88ab\u8c01\u5403\u4e86\uff1f\"\n",
      "         print i + 1, \"\u4e3a\u4ec0\u4e48\u6211\u7684\u7f29\u8fdb\u8ddf\u5176\u5b83\u884c\u4e0d\u4e00\u6837\u5462\uff0c\u8c01\u7ed9\u4e86\u6211\u4e2a\u7a7a\u683c\uff1f\""
     ],
     "language": "python",
     "metadata": {},
     "outputs": [
      {
       "ename": "IndentationError",
       "evalue": "unindent does not match any outer indentation level (<ipython-input-203-1af46ff5a29f>, line 5)",
       "output_type": "pyerr",
       "traceback": [
        "\u001b[1;36m  File \u001b[1;32m\"<ipython-input-203-1af46ff5a29f>\"\u001b[1;36m, line \u001b[1;32m5\u001b[0m\n\u001b[1;33m    print i + 1, \"\u4e3a\u4ec0\u4e48\u6211\u7684\u7f29\u8fdb\u8ddf\u5176\u5b83\u884c\u4e0d\u4e00\u6837\u5462\uff0c\u6211\u7684\u7a7a\u683c\u88ab\u8c01\u5403\u4e86\uff1f\"\u001b[0m\n\u001b[1;37m                                            \n^\u001b[0m\n\u001b[1;31mIndentationError\u001b[0m\u001b[1;31m:\u001b[0m unindent does not match any outer indentation level\n"
       ]
      }
     ],
     "prompt_number": 203
    },
    {
     "cell_type": "heading",
     "level": 2,
     "metadata": {},
     "source": [
      "\u53d8\u91cf\u3001\u6570\u636e\u7ed3\u6784\u3001\u6d41\u7a0b\u63a7\u5236"
     ]
    },
    {
     "cell_type": "markdown",
     "metadata": {},
     "source": [
      "* \u5e38\u91cf\uff0c\u6307\u56fa\u5b9a\u7684\u6570\u5b57\u6216\u5b57\u7b26\u4e32\uff0c\u5982`2`, `2.9`, `Hello world`\u7b49\u3002 \n",
      "\n",
      "* \u53d8\u91cf\uff0c\u5b58\u50a8\u4e86\u6570\u5b57\u6216\u5b57\u7b26\u4e32\u7684\u4e8b\u7269\u79f0\u4e3a\u53d8\u91cf\uff0c\u5b83\u53ef\u4ee5\u88ab\u8d4b\u503c\u6216\u88ab\u4fee\u6539\u3002\u7b80\u5355\u7684\u53ef\u4ee5\u7406\u89e3\u4e3a\u53d8\u91cf\u662f\u4e00\u4e2a\u76d2\u5b50\uff0c\u4f60\u53ef\u4ee5\u628a\u4efb\u4f55\u4e1c\u897f\u653e\u5728\u91cc\u9762\uff0c\u901a\u8fc7\u76d2\u5b50\u7684\u540d\u5b57\u6765\u53d6\u51fa\u76d2\u5b50\u5185\u7684\u4e1c\u897f\u3002\n",
      "    * \u6570\u503c\u53d8\u91cf\uff1a\u5b58\u50a8\u4e86\u6570\u7684\u53d8\u91cf\u3002     \n",
      "    * \u5b57\u7b26\u4e32\u53d8\u91cf\uff1a\u5b58\u50a8\u4e86\u5b57\u7b26\u4e32\u7684\u53d8\u91cf\u3002\u5b57\u7b26\u4e32\u53d8\u91cf\u7684\u540d\u5b57\u6700\u597d\u4e0d\u4e3a`str`\uff0c\u53ef\u4ee5\u4f7f\u7528`aStr`\u3002\n",
      "    * \u5217\u8868 (list): list\u662f\u5904\u7406\u4e00\u7ec4*\u6709\u5e8f*\u9879\u76ee\u7684\u6570\u636e\u7ed3\u6784\uff0c\u5373\u4f60\u53ef\u4ee5\u5728\u4e00\u4e2a\u5217\u8868\u4e2d\u5b58\u50a8\u4e00\u4e2a *\u5e8f\u5217* \u7684\u9879\u76ee\u3002\u5047\u60f3\u4f60\u6709\u4e00\u4e2a\u8d2d\u7269\u5217\u8868\uff0c\u4e0a\u9762\u8bb0\u8f7d\u7740\u4f60\u8981\u4e70\u7684\u4e1c\u897f\uff0c\u4f60\u5c31\u5bb9\u6613\u7406\u89e3\u5217\u8868\u4e86\u3002\u53ea\u4e0d\u8fc7\u5728\u4f60\u7684\u8d2d\u7269\u8868\u4e0a\uff0c\u53ef\u80fd\u6bcf\u6837\u4e1c\u897f\u90fd\u72ec\u81ea\u5360\u6709\u4e00\u884c\uff0c\u800c\u5728Python\u4e2d\uff0c\u4f60\u5728\u6bcf\u4e2a\u9879\u76ee\u4e4b\u95f4\u7528\u9017\u53f7\u5206\u5272\u3002\u5217\u8868\u4e2d\u7684\u9879\u76ee\u5e94\u8be5\u5305\u62ec\u5728**\u65b9\u62ec\u53f7**\u4e2d\uff0c\u8fd9\u6837Python\u5c31\u77e5\u9053\u4f60\u662f\u5728\u6307\u660e\u4e00\u4e2a\u5217\u8868\u3002\u4e00\u65e6\u4f60\u521b\u5efa\u4e86\u4e00\u4e2a\u5217\u8868\uff0c\u4f60\u53ef\u4ee5\u6dfb\u52a0\u3001\u5220\u9664\u6216\u662f\u641c\u7d22\u5217\u8868\u4e2d\u7684\u9879\u76ee\u3002\u7531\u4e8e\u4f60\u53ef\u4ee5\u589e\u52a0\u6216\u5220\u9664\u9879\u76ee\uff0c\u6211\u4eec\u8bf4\u5217\u8868\u662f *\u53ef\u53d8\u7684* \u6570\u636e\u7c7b\u578b\uff0c\u5373\u8fd9\u79cd\u7c7b\u578b\u662f\u53ef\u4ee5\u88ab\u6539\u53d8\u7684\u3002\u5217\u8868\u53d8\u91cf\u7684\u540d\u5b57\u6700\u597d\u4e0d\u4e3a`list`\uff0c\u53ef\u4ee5\u4f7f\u7528`aList`\u3002\n",
      "    * \u5143\u7ec4 (set\uff0c\u96c6\u5408)\uff1a\u5143\u7ec4\u548c\u5217\u8868\u5341\u5206\u7c7b\u4f3c\uff0c\u4f46\u5143\u7ec4\u4e2d\u4e0d\u5141\u8bb8\u91cd\u590d\u503c\u51fa\u73b0\u3002\u5143\u7ec4\u901a\u8fc7**\u5706\u62ec\u53f7\u4e2d\u7528\u9017\u53f7\u5206\u5272\u7684\u9879\u76ee**\u5b9a\u4e49\u3002\u5143\u7ec4\u901a\u5e38\u7528\u5728\u4f7f\u8bed\u53e5\u6216\u7528\u6237\u5b9a\u4e49\u7684\u51fd\u6570\u80fd\u591f\u5b89\u5168\u5730\u91c7\u7528\u4e00\u7ec4\u503c\u7684\u65f6\u5019\uff0c\u5373\u88ab\u4f7f\u7528\u7684\u5143\u7ec4\u7684\u503c\u4e0d\u4f1a\u6539\u53d8\u3002\u5143\u7ec4\u53d8\u91cf\u7684\u540d\u5b57\u6700\u597d\u4e0d\u4e3a`set`\uff0c\u53ef\u4ee5\u4f7f\u7528`aSet`\u3002\n",
      "    * \u5b57\u5178 (dict): \u5b57\u5178\u7c7b\u4f3c\u4e8e\u4f60\u901a\u8fc7\u8054\u7cfb\u4eba\u540d\u5b57\u67e5\u627e\u5730\u5740\u548c\u8054\u7cfb\u4eba\u8be6\u7ec6\u60c5\u51b5\u7684\u5730\u5740\u7c3f\uff0c\u5373\uff0c\u6211\u4eec\u628a\u952e\uff08\u540d\u5b57\uff09\u548c\u503c\uff08\u8be6\u7ec6\u60c5\u51b5\uff09\u8054\u7cfb\u5728\u4e00\u8d77\u3002\u6ce8\u610f\uff0c\u952e\u5fc5\u987b\u662f\u552f\u4e00\u7684\uff0c\u5c31\u50cf\u5982\u679c\u6709\u4e24\u4e2a\u4eba\u6070\u5de7\u540c\u540d\u7684\u8bdd\uff0c\u4f60\u65e0\u6cd5\u627e\u5230\u6b63\u786e\u7684\u4fe1\u606f\u3002\u591a\u4e2a\u952e\u53ef\u4ee5\u6307\u5411\u540c\u4e00\u4e2a\u503c\u3002\u5f53\u4e00\u4e2a\u952e\u9700\u8981\u6307\u5411\u591a\u4e2a\u503c\u65f6\uff0c\u8fd9\u4e9b\u503c\u9700\u8981\u653e\u5728\u5217\u8868\u3001\u5143\u7ec4\u6216\u5b57\u5178\u91cc\u9762\u3002\u6ce8\u610f\uff0c\u4f60\u53ea\u80fd\u4f7f\u7528\u4e0d\u53ef\u53d8\u7684\u5bf9\u8c61\uff08\u5b57\u7b26\u4e32\uff0c\u6570\u5b57\uff0c\u5143\u7ec4\uff09\u6765\u4f5c\u4e3a\u5b57\u5178\u7684\u952e\uff0c\u4f46\u662f\u53ef\u4ee5\u7528\u4e0d\u53ef\u53d8\u6216\u53ef\u53d8\u7684\u5bf9\u8c61\u4f5c\u4e3a\u5b57\u5178\u7684\u503c\u3002\u952e\u503c\u5bf9\u5728\u5b57\u5178\u4e2d\u4ee5\u8fd9\u6837\u7684\u65b9\u5f0f\u6807\u8bb0\uff1ad = {key1 : value1, key2 : value2 }\u3002\u6ce8\u610f\u5b83\u4eec\u7684\u952e/\u503c\u5bf9\u7528\u5192\u53f7\u5206\u5272\uff0c\u800c\u5404\u4e2a\u5bf9\u7528\u9017\u53f7\u5206\u5272\uff0c\u6240\u6709\u8fd9\u4e9b\u90fd\u5305\u62ec\u5728**\u82b1\u62ec\u53f7**\u4e2d\u3002\u8bb0\u4f4f\u5b57\u5178\u4e2d\u7684\u952e/\u503c\u5bf9\u662f\u6ca1\u6709\u987a\u5e8f\u7684\u3002\u5982\u679c\u4f60\u60f3\u8981\u4e00\u4e2a\u7279\u5b9a\u7684\u987a\u5e8f\uff0c\u90a3\u4e48\u4f60\u5e94\u8be5\u5728\u4f7f\u7528\u524d\u81ea\u5df1\u5bf9\u5b83\u4eec\u6392\u5e8f\u3002\u5217\u8868\u53d8\u91cf\u7684\u540d\u5b57\u6700\u597d\u4e0d\u4e3a`dict`\uff0c\u53ef\u4ee5\u4f7f\u7528`aDict`\u3002\n",
      "    * \u5e8f\u5217\uff1a\u5217\u8868\u3001\u5143\u7ec4\u3001\u5b57\u7b26\u4e32\u90fd\u662f\u4e00\u79cd\u5e8f\u5217\u683c\u5f0f\u3002\u540c\u65f6\u8fd8\u53ef\u4ee5\u4f7f\u7528range\u6765\u4ea7\u751f\u5e8f\u5217\u3002\u5e8f\u5217\u7684\u4e24\u4e2a\u4e3b\u8981\u64cd\u4f5c\u65f6*\u7d22\u5f15\u64cd\u4f5c*\u548c*\u5207\u7247\u64cd\u4f5c*\u3002\n",
      "\n",
      "* \u6807\u793a\u7b26  \n",
      "      * \u53d8\u91cf\u7684\u540d\u5b57\u88ab\u79f0\u4e3a\u6807\u793a\u7b26\u3002\u6807\u8bc6\u7b26\u5bf9\u5927\u5c0f\u5199\u654f\u611f\uff0c\u7b2c\u4e00\u4e2a\u5b57\u7b26\u5fc5\u987b\u662f\u5b57\u6bcd\u8868\u4e2d\u7684\u5b57\u6bcd\uff08\u5927\u5199\u6216\u5c0f\u5199\uff09\u6216\u8005\u4e00\u4e2a\u4e0b\u5212\u7ebf\uff08\\_\uff09\uff0c\u5176\u5b83\u90e8\u5206\u989d\u5916\u5305\u542b\u6570\u5b57\u3002\u6709\u6548\u7684\u6807\u793a\u7b26\u6709: `abc`, `_abc`, `a_b_2`, `__23`\u7b49\u3002\u65e0\u6548\u7684\u6807\u793a\u7b26\u6709: `2a`, `3b`\u3002\n",
      "      * \u6807\u793a\u7b26\u6700\u597d\u4e0d\u4f7f\u7528Python\u5185\u7f6e\u7684\u5173\u952e\u5b57\uff0c\u5982`str`, `list`, `int`, `def`, `split`, `dict`\u7b49\u3002\n",
      "      * \u6807\u793a\u7b26\u6700\u597d\u80fd\u8a00\u8bcd\u8fbe\u610f\uff0c\u5373\u5c55\u793a\u53d8\u91cf\u7684\u7c7b\u578b\uff0c\u53c8\u5e26\u6709\u53d8\u91cf\u7684\u5b9e\u9645\u542b\u4e49\u3002\u5982`line`\u8868\u793a\u6587\u4ef6\u7684\u4e00\u884c\uff0c`lineL`\u8868\u793a\u5b58\u6709\u4ece\u6587\u4ef6\u8bfb\u5165\u7684\u6bcf\u4e00\u884c\u7684\u5217\u8868\u3002\n",
      "\n",
      "* \u63a7\u5236\u6d41\n",
      "    * `if`\u8bed\u53e5\n",
      "      \n",
      "      `if`\u8bed\u53e5\u7528\u6765\u68c0\u9a8c\u4e00\u4e2a\u6761\u4ef6\uff0c\u5982\u679c\u6761\u4ef6\u4e3a\u771f\uff0c\u6211\u4eec\u8fd0\u884c\u4e00\u5757\u8bed\u53e5\uff08\u79f0\u4e3a `if-\u5757`\uff09\uff0c\u5426\u5219\u6211\u4eec\u5904\u7406\u53e6\u5916\u4e00\u5757\u8bed\u53e5\uff08\u79f0\u4e3a `else-\u5757`\uff09\u3002`else` \u4ece\u53e5\u662f\u53ef\u9009\u7684\u3002\u5982\u679c\u6709\u591a\u4e2a\u6761\u4ef6\uff0c\u4e2d\u95f4\u4f7f\u7528`elif`\u3002\n",
      "      \n",
      "      \u4e3e\u4e2a\u4f8b\u5b50\uff1a\u201c\u4e70\u4e94\u4e2a\u5305\u5b50\uff0c\u5982\u679c\u770b\u5230\u5356\u897f\u74dc\u7684\uff0c\u4e70\u4e00\u4e2a\u201d\u2014\u2014\u6700\u540e\u7a0b\u5e8f\u733f\u4e70\u4e86\u4e00\u4e2a\u5305\u5b50\u201d\n",
      "      ```\n",
      "      \u4e70\u5305\u5b50 = 5\n",
      "      if \u770b\u5230\u5356\u897f\u74dc\u7684:\n",
      "          \u4e70\u5305\u5b50 = 1\n",
      "      ```\n",
      "      \n",
      "    * `For`\u8bed\u53e5\n",
      "      \n",
      "      for..in\u662f\u4e00\u4e2a\u5faa\u73af\u8bed\u53e5\uff0c\u5b83\u5728\u4e00\u5e8f\u5217\u7684\u5bf9\u8c61\u4e0a\u9012\u5f52,\u5373\u9010\u4e00\u4f7f\u7528\u961f\u5217\u4e2d\u7684\u6bcf\u4e2a\u9879\u76ee\u3002\n",
      "      \n",
      "    * `While`\u8bed\u53e5\n",
      "      \n",
      "      \u53ea\u8981\u5728\u4e00\u4e2a\u6761\u4ef6\u4e3a\u771f\u7684\u60c5\u51b5\u4e0b\uff0c`while`\u8bed\u53e5\u5141\u8bb8\u4f60\u91cd\u590d\u6267\u884c\u4e00\u5757\u8bed\u53e5\u3002`while`\u8bed\u53e5\u662f\u6240\u8c13 *\u5faa\u73af* \u8bed\u53e5\u7684\u4e00\u4e2a\u4f8b\u5b50\u3002`while`\u8bed\u53e5\u6709\u4e00\u4e2a\u53ef\u9009\u7684`else`\u4ece\u53e5\u3002\n",
      "       \n",
      "    * `break`\u8bed\u53e5\u662f\u7528\u6765 *\u7ec8\u6b62* \u5faa\u73af\u8bed\u53e5\u7684\uff0c\u5373\u54ea\u6015\u5faa\u73af\u6761\u4ef6\u6ca1\u6709\u6210\u4e3aFalse\u6216\u5e8f\u5217\u8fd8\u6ca1\u6709\u88ab\u5b8c\u5168\u9012\u5f52\uff0c\u4e5f\u505c\u6b62\u6267\u884c\u5faa\u73af\u8bed\u53e5\u3002\n",
      "    \n",
      "      \u4e00\u4e2a\u91cd\u8981\u7684\u6ce8\u91ca\u662f\uff0c\u5982\u679c\u4f60\u4ece`for`\u6216`while`\u5faa\u73af\u4e2d *\u7ec8\u6b62* \uff0c\u4efb\u4f55\u5bf9\u5e94\u7684\u5faa\u73afelse\u5757\u5c06\u4e0d\u6267\u884c\u3002\n",
      "      \n",
      "    * `continue`\u8bed\u53e5\u88ab\u7528\u6765\u544a\u8bc9`Python`\u8df3\u8fc7\u5f53\u524d\u5faa\u73af\u5757\u4e2d\u7684\u5269\u4f59\u8bed\u53e5\uff0c\u7136\u540e *\u7ee7\u7eed* \u8fdb\u884c\u4e0b\u4e00\u8f6e\u5faa\u73af\u3002\n",
      "    \n",
      "    * \u903b\u8f91\u8fd0\u7b97\u7b26 `and`, `or`, `not`\u3002 \n",
      "    "
     ]
    },
    {
     "cell_type": "heading",
     "level": 3,
     "metadata": {},
     "source": [
      "\u6570\u503c\u53d8\u91cf\u64cd\u4f5c"
     ]
    },
    {
     "cell_type": "code",
     "collapsed": false,
     "input": [
      "print \"\u6570\u503c\u53d8\u91cf\"\n",
      "a = 5   #\u6ce8\u610f\u7b49\u53f7\u4e24\u8fb9\u7684\u7a7a\u683c\uff0c\u4e3a\u4e86\u6613\u4e8e\u8fa8\u8bc6\uff0c\u64cd\u4f5c\u7b26\u4e24\u4fa7\u6700\u540e\u6709\u7a7a\u683c\uff0c\u6570\u91cf\u4e0d\u9650\n",
      "print a\n",
      "\n",
      "print\n",
      "print \"The type of a is\", type(a)\n",
      "\n",
      "#print \"\u8fd9\u662f\u4fdd\u7559\u8282\u76ee\uff0c\u901a\u5e38\u5224\u65ad\u53d8\u91cf\u7684\u7c7b\u578b\u4f7f\u7528\u7684\u4e0d\u662ftype\u662fisinstance.\"\n",
      "#print \"a is an int, \", isinstance(a,int)\n"
     ],
     "language": "python",
     "metadata": {},
     "outputs": [
      {
       "output_type": "stream",
       "stream": "stdout",
       "text": [
        "\u6570\u503c\u53d8\u91cf\n",
        "5\n",
        "\n",
        "The type of a is <type 'int'>\n"
       ]
      }
     ],
     "prompt_number": 204
    },
    {
     "cell_type": "code",
     "collapsed": false,
     "input": [
      "#\u5224\u65ad\n",
      "print \"\u6bd4\u8f83\u6570\u503c\u7684\u5927\u5c0f\"\n",
      "a = 5 \n",
      "\n",
      "#\u6ce8\u610f\u5927\u4e8e\u53f7\u4e24\u8fb9\u7684\u7a7a\u683c\uff0c\u4e3a\u4e86\u6613\u4e8e\u8fa8\u8bc6\uff0c\u64cd\u4f5c\u7b26\u4e24\u4fa7\u6700\u540e\u6709\u7a7a\u683c\uff0c\u6570\u91cf\u4e0d\u9650\n",
      "if a > 4: \n",
      "    print \"a is larger than 4.\"\n",
      "elif a == 4:\n",
      "    print \"a is equal to 4.\"\n",
      "else:\n",
      "    print \"a is less than 4\""
     ],
     "language": "python",
     "metadata": {},
     "outputs": [
      {
       "output_type": "stream",
       "stream": "stdout",
       "text": [
        "\u6bd4\u8f83\u6570\u503c\u7684\u5927\u5c0f\n",
        "a is larger than 4.\n"
       ]
      }
     ],
     "prompt_number": 205
    },
    {
     "cell_type": "code",
     "collapsed": false,
     "input": [
      "print \"\u7ed9\u5b9a\u6570\u503c\u53d8\u91cfa\u548cb\u7684\u503c\uff0c\u901a\u8fc7\u5224\u65ad\u548c\u91cd\u65b0\u8d4b\u503c\u4f7f\u5f97a\u7684\u503c\u5c0f\uff0cb\u7684\u503c\u5927\"\n",
      "a = 5\n",
      "b = 3\n",
      "\n",
      "if a > b:\n",
      "    c = a\n",
      "    a = b\n",
      "    b = c\n",
      "    #print \"\u4fdd\u7559\u8282\u76ee\uff0cPython\u7279\u6709\uff0c\u4e0d\u901a\u8fc7\u4e2d\u95f4\u53d8\u91cf\u76f4\u63a5\u505a\u4ea4\u6362\uff0c\u795e\u5947\u5427\uff01\uff01\"\n",
      "    #a,b = b,a\n",
      "#-------------------\n",
      "print a \n",
      "print b"
     ],
     "language": "python",
     "metadata": {},
     "outputs": [
      {
       "output_type": "stream",
       "stream": "stdout",
       "text": [
        "\u7ed9\u5b9a\u6570\u503c\u53d8\u91cfa\u548cb\u7684\u503c\uff0c\u901a\u8fc7\u5224\u65ad\u548c\u91cd\u65b0\u8d4b\u503c\u4f7f\u5f97a\u7684\u503c\u5c0f\uff0cb\u7684\u503c\u5927\n",
        "3\n",
        "5\n"
       ]
      }
     ],
     "prompt_number": 206
    },
    {
     "cell_type": "code",
     "collapsed": false,
     "input": [
      "print '''#\u6570\u503c\u8fd0\u7b97, \u7b26\u5408\u4f20\u7edf\u7684\u4f18\u5148\u7ea7\uff0c\u9700\u8981\u4f7f\u7528\u62ec\u53f7\u6765\u6539\u53d8\u4f18\u5148\u7ea7\uff0c\n",
      "\u548c\u5c0f\u5b66\u5b66\u7684\u6570\u5b66\u4e00\u6a21\u4e00\u6837\uff01\uff01'''\n",
      "a = 5\n",
      "b = 3\n",
      "\n",
      "print \"a + b =\", a + b\n",
      "print \"a * b =\", a * b\n",
      "print \"2 * (a+b) =\", 2 * (a+b)\n",
      "print \"\u53d6\u4f59\u6570\uff1a a % b =\", a % b\n",
      "print \"\u53d6\u4f59\u6570\u662f\u5f88\u597d\u7684\u5224\u65ad\u5faa\u73af\u7684\u5730\u65b9\uff0c\u56e0\u4e3a\u6bcf\u4e2a\u56fa\u5b9a\u7684\u5468\u671f\u4f59\u6570\u5c31\u4f1a\u5faa\u73af\u4e00\u6b21\""
     ],
     "language": "python",
     "metadata": {},
     "outputs": [
      {
       "output_type": "stream",
       "stream": "stdout",
       "text": [
        "#\u6570\u503c\u8fd0\u7b97, \u7b26\u5408\u4f20\u7edf\u7684\u4f18\u5148\u7ea7\uff0c\u9700\u8981\u4f7f\u7528\u62ec\u53f7\u6765\u6539\u53d8\u4f18\u5148\u7ea7\uff0c\n",
        "\u548c\u5c0f\u5b66\u5b66\u7684\u6570\u5b66\u4e00\u6a21\u4e00\u6837\uff01\uff01\n",
        "a + b = 8\n",
        "a * b = 15\n",
        "2 * (a+b) = 16\n",
        "\u53d6\u4f59\u6570\uff1a a % b = 2\n",
        "\u53d6\u4f59\u6570\u662f\u5f88\u597d\u7684\u5224\u65ad\u5faa\u73af\u7684\u5730\u65b9\uff0c\u56e0\u4e3a\u6bcf\u4e2a\u56fa\u5b9a\u7684\u6570\u4f59\u6570\u5c31\u4f1a\u5faa\u73af\u4e00\u6b21\n"
       ]
      }
     ],
     "prompt_number": 3
    },
    {
     "cell_type": "heading",
     "level": 3,
     "metadata": {},
     "source": [
      "\u5b57\u7b26\u4e32\u53d8\u91cf\u64cd\u4f5c"
     ]
    },
    {
     "cell_type": "code",
     "collapsed": false,
     "input": [
      "print \"\u5b57\u7b26\u4e32\u53d8\u91cf\"\n",
      "\n",
      "a = \"Hello, welcome to Python\"\n",
      "\n",
      "#a = 123\n",
      "#a = str(a)\n",
      "\n",
      "print \"The string a is:\", a\n",
      "print\n",
      "\n",
      "print \"The length of this string <%s> is %d\" % (a, len(a))\n",
      "print\n",
      "\n",
      "print \"The type of a is\", type(a)"
     ],
     "language": "python",
     "metadata": {},
     "outputs": [
      {
       "output_type": "stream",
       "stream": "stdout",
       "text": [
        "\u5b57\u7b26\u4e32\u53d8\u91cf\n",
        "The string a is: Hello, welcome to Python\n",
        "\n",
        "The length of this string <Hello, welcome to Python> is 24\n",
        "\n",
        "The type of a is <type 'str'>\n"
       ]
      }
     ],
     "prompt_number": 208
    },
    {
     "cell_type": "code",
     "collapsed": false,
     "input": [
      "a = \"\u5927\u4e8b\u8d56\u72ec\u65ad\u800c\u4e0d\u8d56\u4f17\u8c0b\"\n",
      "print \"The string a is:\", a\n",
      "print\n",
      "\n",
      "print \"The length of this string <%s> is %d\" % (a, len(a))\n",
      "print"
     ],
     "language": "python",
     "metadata": {},
     "outputs": [
      {
       "output_type": "stream",
       "stream": "stdout",
       "text": [
        "The string a is: \u5927\u4e8b\u8d56\u72ec\u65ad\u800c\u4e0d\u8d56\u4f17\u8c0b\n",
        "\n",
        "The length of this string <\u5927\u4e8b\u8d56\u72ec\u65ad\u800c\u4e0d\u8d56\u4f17\u8c0b> is 30\n",
        "\n"
       ]
      }
     ],
     "prompt_number": 1
    },
    {
     "cell_type": "code",
     "collapsed": false,
     "input": [
      "a = \"Hello, welcome to Python\"\n",
      "\n",
      "print \"\u53d6\u51fa\u5b57\u7b26\u4e32\u7684\u7b2c\u4e00\u4e2a\u5b57\u7b26\u3001\u6700\u540e\u4e00\u4e2a\u5b57\u7b26\u3001\u4e2d\u95f4\u90e8\u5206\u5b57\u7b26\"\n",
      "print \"The first character of a is %s\\n\" % a[0]\n",
      "\n",
      "print \"The first five characters of a are %s\\n\" % a[0:5]\n",
      "\n",
      "print \"The last character of a is %s\\n\" % a[-1]\n",
      "print \"The last character of a is %s\\n\" % a[len(a)-1]\n",
      "print \"\\n\u8fd9\u90e8\u5206\u5f88\u91cd\u8981\u554a\uff0c\u5b57\u7b26\u7684\u7d22\u5f15\u548c\u5207\u7247\u64cd\u4f5c\u662f\u53ca\u5176\u5e38\u7528\u7684\u3002\""
     ],
     "language": "python",
     "metadata": {},
     "outputs": [
      {
       "output_type": "stream",
       "stream": "stdout",
       "text": [
        "\u53d6\u51fa\u5b57\u7b26\u4e32\u7684\u7b2c\u4e00\u4e2a\u5b57\u7b26\u3001\u6700\u540e\u4e00\u4e2a\u5b57\u7b26\u3001\u4e2d\u95f4\u90e8\u5206\u5b57\u7b26\n",
        "The first character of a is H\n",
        "\n",
        "The first five characters of a are Hello\n",
        "\n",
        "The last character of a is n\n",
        "\n",
        "The last character of a is n\n",
        "\n",
        "\n",
        "\u8fd9\u90e8\u5206\u5f88\u91cd\u8981\u554a\uff0c\u5b57\u7b26\u7684\u7d22\u5f15\u548c\u5207\u7247\u64cd\u4f5c\u662f\u53ca\u5176\u5e38\u7528\u7684\u3002\n"
       ]
      }
     ],
     "prompt_number": 209
    },
    {
     "cell_type": "code",
     "collapsed": false,
     "input": [
      "a = \"oaoaoaoa\"\n",
      "\n",
      "print \"\u904d\u5386\u5b57\u7b26\u4e32\"\n",
      "for i in a:\n",
      "    print i\n",
      "\n",
      "print \"\u8f93\u51fa\u7b26\u5408\u7279\u5b9a\u8981\u6c42\u7684\u5b57\u7b26\u7684\u4f4d\u7f6e\"\n",
      "print\n",
      "pos = 0\n",
      "for i in a:\n",
      "    pos += 1\n",
      "    if i == 'o':\n",
      "        print pos\n",
      "    #-------------------\n",
      "#-----------------------\n",
      "print '''\\n\u77e5\u9053\u5417\uff1f\u4e0d\u7ecf\u610f\u95f4\u6211\u4eec\u5199\u51fa\u4e86Python\u7684\n",
      "\u4e00\u4e2a\u5185\u7f6e\u7684\u6807\u51c6\u51fd\u6570find\u6216\u8005index,\u800c\u4e14\u529f\u80fd\u8fd8\u66f4\u5f3a\u5927'''"
     ],
     "language": "python",
     "metadata": {},
     "outputs": [
      {
       "output_type": "stream",
       "stream": "stdout",
       "text": [
        "\u904d\u5386\u5b57\u7b26\u4e32\n",
        "o\n",
        "a\n",
        "o\n",
        "a\n",
        "o\n",
        "a\n",
        "o\n",
        "a\n",
        "\u8f93\u51fa\u7b26\u5408\u7279\u5b9a\u8981\u6c42\u7684\u5b57\u7b26\u7684\u4f4d\u7f6e\n",
        "\n",
        "1\n",
        "3\n",
        "5\n",
        "7\n",
        "\n",
        "\u77e5\u9053\u5417\uff1f\u4e0d\u7ecf\u610f\u95f4\u6211\u4eec\u5199\u51fa\u4e86Python\u7684\n",
        "\u4e00\u4e2a\u5185\u7f6e\u7684\u6807\u51c6\u51fd\u6570find\u6216\u8005index,\u800c\u4e14\u529f\u80fd\u8fd8\u66f4\u5f3a\u5927\n"
       ]
      }
     ],
     "prompt_number": 4
    },
    {
     "cell_type": "code",
     "collapsed": false,
     "input": [
      "print \"\u6211\u4eec\u770b\u770b\u7528\u5185\u7f6e\u51fd\u6570\u5982\u4f55\u627e\u5230\u6240\u6709 o \u7684\u4f4d\u7f6e\\n\"\n",
      "a = \"oaoaoaoa\"\n",
      "\n",
      "print \"\u5185\u7f6e\u51fd\u6570find\u53ea\u80fd\u786e\u5b9a\u6700\u5148\u51fa\u73b0\u7684 o \u7684\u4f4d\u7f6e\"\n",
      "pos = a.find('o')\n",
      "\n",
      "print \"\u56e0\u6b64\uff0c\u6211\u4eec\u8981\u5728\u53d1\u73b0 o \u4e4b\u540e\uff0c\u622a\u53d6\u5176\u540e\u7684\u5b57\u7b26\u4e32\uff0c\u518d\u6267\u884cfind\u64cd\u4f5c\"\n",
      "while pos != -1:\n",
      "    print pos + 1\n",
      "    new = a[pos+1:].find('o')\n",
      "    if new == -1:\n",
      "        break\n",
      "    pos = new + pos + 1\n",
      "#help(str)"
     ],
     "language": "python",
     "metadata": {},
     "outputs": [
      {
       "output_type": "stream",
       "stream": "stdout",
       "text": [
        "\u6211\u4eec\u770b\u770b\u7528\u5185\u7f6e\u51fd\u6570\u5982\u4f55\u627e\u5230\u6240\u6709 o \u7684\u4f4d\u7f6e\n",
        "\n",
        "\u5185\u7f6e\u51fd\u6570find\u53ea\u80fd\u786e\u5b9a\u6700\u5148\u51fa\u73b0\u7684 o \u7684\u4f4d\u7f6e\n",
        "\u56e0\u6b64\uff0c\u6211\u4eec\u8981\u5728\u53d1\u73b0 o \u4e4b\u540e\uff0c\u622a\u53d6\u5176\u540e\u7684\u5b57\u7b26\u4e32\uff0c\u518d\u6267\u884cfind\u64cd\u4f5c\n",
        "1\n",
        "3\n",
        "5\n",
        "7\n"
       ]
      }
     ],
     "prompt_number": 211
    },
    {
     "cell_type": "code",
     "collapsed": false,
     "input": [
      "print\n",
      "print \"\u5229\u7528split\u5206\u5272\u5b57\u7b26\u4e32\\n\"\n",
      "str1 = \"a b c d e f g\"\n",
      "strL = str1.split(' ')\n",
      "print strL\n",
      "print \"\\n\u4f7f\u7528split\u547d\u4ee4\u5c31\u53ef\u4ee5\u628a\u5b57\u7b26\u4e32\u5206\u6210\u5217\u8868\u4e86\uff0c\u60f3\u53d6\u7528\u54ea\u4e00\u5217\u90fd\u968f\u4fbf\u4f60\u4e86\u3002\"\n",
      "#\u4f7f\u7528\u4e0b\u9762\u7684\u547d\u4ee4\u67e5\u770b\u53ef\u4ee5\u5bf9\u5b57\u7b26\u4e32\u8fdb\u884c\u7684\u64cd\u4f5c\n",
      "#help(str)"
     ],
     "language": "python",
     "metadata": {},
     "outputs": [
      {
       "output_type": "stream",
       "stream": "stdout",
       "text": [
        "\n",
        "\u5229\u7528split\u5206\u5272\u5b57\u7b26\u4e32\n",
        "\n",
        "['a', 'b', 'c', 'd', 'e', 'f', 'g']\n",
        "\n",
        "\u4f7f\u7528split\u547d\u4ee4\u5c31\u53ef\u4ee5\u628a\u5b57\u7b26\u4e32\u5206\u6210\u5217\u8868\u4e86\uff0c\u60f3\u53d6\u7528\u54ea\u4e00\u5217\u90fd\u968f\u4fbf\u6211\u4e86\u3002\n",
        "\n"
       ]
      }
     ],
     "prompt_number": 212
    },
    {
     "cell_type": "code",
     "collapsed": false,
     "input": [
      "print \"\u5b57\u7b26\u4e32\u7684\u8fde\u63a5\\n\"\n",
      "\n",
      "a = \"Hello\"\n",
      "b = \"Python\"\n",
      "c = a + b\n",
      "print c\n",
      "print \"\\n\u539f\u6765\u5b57\u7b26\u4e32\u76f8\u52a0\u5c31\u53ef\u4ee5\u8fde\u8d77\u6765\u554a\uff01\\n\"\n",
      "print '''\u6ce8\u610f\uff0c\u8fd9\u4e0d\u662f\u8fde\u63a5\u5b57\u7b26\u4e32\u6700\u597d\u7684\u65b9\u5f0f\u3002\n",
      "\u8003\u8651\u5230\u5b57\u7b26\u4e32\u662f\u4e0d\u53ef\u4fee\u6539\u7684\uff0c\u6bcf\u6b21\u8fde\u63a5\u64cd\u4f5c\u90fd\u662f\u65b0\u5f00\u8f9f\u4e00\u4e2a\u5185\u5b58\u7a7a\u95f4\uff0c\n",
      "\u628a\u5b57\u7b26\u4e32\u5b58\u5230\u91cc\u9762\uff0c\u8fd9\u6837\u7684\u8fde\u63a5\u64cd\u4f5c\u6267\u884c\u51e0\u5341\u4e07\u6b21\u4f1a\u5f88\u5f71\u54cd\u8fd0\u884c\u901f\u5ea6\u3002'''"
     ],
     "language": "python",
     "metadata": {},
     "outputs": [
      {
       "output_type": "stream",
       "stream": "stdout",
       "text": [
        "\u5b57\u7b26\u4e32\u7684\u8fde\u63a5\n",
        "\n",
        "HelloPython\n",
        "\n",
        "\u539f\u6765\u5b57\u7b26\u4e32\u76f8\u52a0\u5c31\u53ef\u4ee5\u8fde\u8d77\u6765\u554a\uff01\n",
        "\n",
        "\u6ce8\u610f\uff0c\u8fd9\u4e0d\u662f\u8fde\u63a5\u5b57\u7b26\u4e32\u6700\u597d\u7684\u65b9\u5f0f\u3002\n",
        "\u8003\u8651\u5230\u5b57\u7b26\u4e32\u662f\u4e0d\u53ef\u4fee\u6539\u7684\uff0c\u6bcf\u6b21\u8fde\u63a5\u64cd\u4f5c\u90fd\u662f\u65b0\u5f00\u8f9f\u4e00\u4e2a\u5185\u5b58\u7a7a\u95f4\uff0c\n",
        "\u628a\u5b57\u7b26\u4e32\u5b58\u5230\u91cc\u9762\uff0c\u8fd9\u6837\u7684\u8fde\u63a5\u64cd\u4f5c\u6267\u884c\u51e0\u5341\u4e07\u6b21\u4f1a\u5f88\u5f71\u54cd\u8fd0\u884c\u901f\u5ea6\u3002\n"
       ]
      }
     ],
     "prompt_number": 1
    },
    {
     "cell_type": "code",
     "collapsed": false,
     "input": [
      "print '''\u53bb\u9664\u5b57\u7b26\u4e32\u4e2d\u7279\u5b9a\u7684\u5b57\u7b26\u3002\u901a\u5e38\u6211\u4eec\u5728\u6587\u4ef6\u4e2d\u8bfb\u53d6\u7684\u4e00\u884c\u90fd\u5305\u542b\u6362\u884c\u7b26\uff0c\n",
      "linux\u4e0b\u4e3a\\\\n\\n'''\n",
      "\n",
      "a = \"oneline\\n\"\n",
      "print \"Currently, the string <a> is **\", a, \"**. \\\n",
      "\\n The length of string <a> is **\", len(a),\"**. \\\n",
      "\\n \u6211\u4e3a\u4ec0\u4e48\u6362\u5230\u4e0b\u4e00\u884c\u4e86\uff1f\\n\"\n",
      "\n",
      "a = a.strip()\n",
      "print \"Currently, the string <a> is **\", a, \"**. \\\n",
      "\\n The length of string <a> is **\", len(a),\"**. \\\n",
      "\\n \u5220\u6389\u4e86\u6362\u884c\u7b26\u540e\uff0c\u5c11\u4e86\u4e2a\u5b57\u7b26\uff0c\u800c\u4e14\u6ca1\u6362\u884c\uff01\\n\"\n",
      "\n",
      "a = a.strip('o')\n",
      "print \"Currently, the string <a> is **\", a, \"**. \\\n",
      "\\n The length of string <a> is **\", len(a), \"**. \\\n",
      "\u53c8\u5c11\u4e86\u4e2a\u5b57\u7b26\uff01\uff01\\n\""
     ],
     "language": "python",
     "metadata": {},
     "outputs": [
      {
       "output_type": "stream",
       "stream": "stdout",
       "text": [
        "\u53bb\u9664\u5b57\u7b26\u4e32\u4e2d\u7279\u5b9a\u7684\u5b57\u7b26\u3002\u901a\u5e38\u6211\u4eec\u5728\u6587\u4ef6\u4e2d\u8bfb\u53d6\u7684\u4e00\u884c\u90fd\u5305\u542b\u6362\u884c\u7b26\uff0clinux\u4e0b\u4e3a\\n\n",
        "\n",
        "Currently, the string <a> is ** oneline\n",
        "**. \n",
        " The length of string <a> is ** 8 **. \u6211\u4e3a\u4ec0\u4e48\u6362\u5230\u4e0b\u4e00\u884c\u4e86\uff1f\n",
        "\n",
        "Currently, the string <a> is ** oneline **. \n",
        " The length of string <a> is ** 7 **. \u5220\u6389\u4e86\u6362\u884c\u7b26\u540e\uff0c\u5c11\u4e86\u4e2a\u5b57\u7b26\uff0c\u800c\u4e14\u6ca1\u6362\u884c\uff01\n",
        "\n",
        "Currently, the string <a> is ** neline **. \n",
        " The length of string <a> is ** 6 **. \u53c8\u5c11\u4e86\u4e2a\u5b57\u7b26\uff01\uff01\n",
        "\n"
       ]
      }
     ],
     "prompt_number": 2
    },
    {
     "cell_type": "code",
     "collapsed": false,
     "input": [
      "print \"\u5b57\u7b26\u4e32\u7684\u66ff\u6362\\n\"\n",
      "\n",
      "a = \"Hello, Python\"\n",
      "b = a.replace(\"Hello\",\"Welcome\")\n",
      "print \"\u539f\u59cb\u5b57\u7b26\u4e32\u662f:\", a\n",
      "print\n",
      "print \"\u66ff\u6362\u540e\u7684\u5b57\u7b26\u4e32\u662f:\", b\n",
      "print\n",
      "\n",
      "c = a.replace(\"o\",\"O\")\n",
      "print c\n",
      "print \"\u6240\u6709\u7684o\u90fd\u88ab\u66ff\u6362\u4e86\uff01\\n\"\n",
      "\n",
      "print \"\u5982\u679c\u6211\u53ea\u7b2c\u4e00\u4e2ao\u600e\u4e48\u529e\u5462\uff1f\\n\"\n",
      "c = a.replace(\"o\",\"O\",1)\n",
      "print c"
     ],
     "language": "python",
     "metadata": {},
     "outputs": [
      {
       "output_type": "stream",
       "stream": "stdout",
       "text": [
        "\u5b57\u7b26\u4e32\u7684\u66ff\u6362\n",
        "\n",
        "\u539f\u59cb\u5b57\u7b26\u4e32\u662f: Hello, Python\n",
        "\n",
        "\u66ff\u6362\u540e\u7684\u5b57\u7b26\u4e32\u662f: Welcome, Python\n",
        "\n",
        "HellO, PythOn\n",
        "\u6240\u6709\u7684o\u90fd\u88ab\u66ff\u6362\u4e86\uff01\n",
        "\n",
        "\u5982\u679c\u6211\u53ea\u7b2c\u4e00\u4e2ao\u600e\u4e48\u529e\u5462\uff1f\n",
        "\n",
        "HellO, Python\n"
       ]
      }
     ],
     "prompt_number": 5
    },
    {
     "cell_type": "code",
     "collapsed": false,
     "input": [
      "a = \"\u5fd9\u5904\u4e8b\u4e3a\uff0c\u5e38\u5411\u95f2\u4e2d\u5148\u68c0\u70b9\uff0c\u8fc7\u4e3e\u81ea\u7a00\uff1b\u52a8\u65f6\u5ff5\u60f3\uff0c\u9884\u4ece\u9759\u91cc\u5bc6\u64cd\u6301\uff0c\u975e\u5fc3\u81ea\u606f\u3002\"\n",
      "print a.replace('\uff1b','\\n')"
     ],
     "language": "python",
     "metadata": {},
     "outputs": [
      {
       "output_type": "stream",
       "stream": "stdout",
       "text": [
        "\u5fd9\u5904\u4e8b\u4e3a\uff0c\u5e38\u5411\u95f2\u4e2d\u5148\u68c0\u70b9\uff0c\u8fc7\u4e3e\u81ea\u7a00\n",
        "\u52a8\u65f6\u5ff5\u60f3\uff0c\u9884\u4ece\u9759\u91cc\u5bc6\u64cd\u6301\uff0c\u975e\u5fc3\u81ea\u606f\u3002\n"
       ]
      }
     ],
     "prompt_number": 3
    },
    {
     "cell_type": "code",
     "collapsed": false,
     "input": [
      "print \"\u5b57\u7b26\u4e32\u5e2e\u52a9\"\n",
      "help(str)"
     ],
     "language": "python",
     "metadata": {},
     "outputs": []
    },
    {
     "cell_type": "code",
     "collapsed": false,
     "input": [
      "print \"\u5927\u5c0f\u5199\u5224\u65ad\u548c\u8f6c\u6362\"\n",
      "a = 'Sdsdsd'\n",
      "print \"All elements in <%s> is lowercase: %s\" % (a, a.islower())\n",
      "print \"Transfer all elments in <%s> to lowerse <%s>\" % (a, a.lower())\n",
      "print \"Transfer all elments in <%s> to upperse <%s>\" % (a, a.upper())"
     ],
     "language": "python",
     "metadata": {},
     "outputs": [
      {
       "output_type": "stream",
       "stream": "stdout",
       "text": [
        "\u5927\u5c0f\u5199\u5224\u65ad\u548c\u8f6c\u6362\n",
        "All elements in <Sdsdsd> is lowercase: False\n",
        "Transfer all elments in <Sdsdsd> to lowerse <sdsdsd>\n",
        "Transfer all elments in <Sdsdsd> to upperse <SDSDSD>\n"
       ]
      }
     ],
     "prompt_number": 4
    },
    {
     "cell_type": "code",
     "collapsed": false,
     "input": [
      "print \"\u8fd9\u4e2a\u662f\u4e2a\u4fdd\u7559\u8282\u76ee\uff0c\u6709\u5174\u8da3\u7684\u770b\uff0c\u65e0\u5174\u8da3\u7684\u8df3\u8fc7\u4e0d\u5f71\u54cd\u5b66\u4e60\"\n",
      "print '''\u5b57\u7b26\u4e32\u662f\u4e0d\u53ef\u4fee\u6539\u7684\uff0c\n",
      "\u540c\u4e00\u4e2a\u53d8\u91cf\u540d\u5b57\u8d4b\u4e0d\u540c\u7684\u53ea\u5b9e\u9645\u662f\u4ea7\u751f\u4e86\u591a\u4e2a\u4e0d\u540c\u7684\u53d8\u91cf\u3002\n",
      "\u4e0d\u540c\u7684\u53d8\u91cf\u540d\u5b57\u8d4b\u540c\u6837\u7684\u503c\uff0c\u7528\u4e8e\u6bd4\u8f83\u65f6\u76f8\u7b49\uff0c\u4f46\u5f15\u7528\u4e0d\u540c\u7684\u533a\u57df'''\n",
      "\n",
      "\n",
      "b = \"123456\"\n",
      "#print b\n",
      "print \"The memory index of b is\", id(b)\n",
      "for i in range(1,15,2):\n",
      "    b = b + '123456'\n",
      "    #print b\n",
      "    print \"The memory index of b is\", id(b)\n",
      "    "
     ],
     "language": "python",
     "metadata": {},
     "outputs": [
      {
       "output_type": "stream",
       "stream": "stdout",
       "text": [
        "\u8fd9\u4e2a\u662f\u4e2a\u4fdd\u7559\u8282\u76ee\uff0c\u6709\u5174\u8da3\u7684\u770b\uff0c\u65e0\u5174\u8da3\u7684\u8df3\u8fc7\u4e0d\u5f71\u54cd\u5b66\u4e60\n",
        "\u5b57\u7b26\u4e32\u662f\u4e0d\u53ef\u4fee\u6539\u7684\uff0c\u540c\u4e00\u4e2a\u53d8\u91cf\u540d\u5b57\u8d4b\u4e0d\u540c\u7684\u53ea\u5b9e\u9645\u662f\u4ea7\u751f\u4e86\u591a\u4e2a\u4e0d\u540c\u7684\u53d8\u91cf\u3002\u4e0d\u540c\u7684\u53d8\u91cf\u540d\u5b57\u8d4b\u540c\u6837\u7684\u503c\uff0c\u7528\u4e8e\u6bd4\u8f83\u65f6\u76f8\u7b49\uff0c\u4f46\u5f15\u7528\u4e0d\u540c\u7684\u533a\u57df\n",
        "The memory index of b is 37117024\n",
        "The memory index of b is 56557120\n",
        "The memory index of b is 57454016\n",
        "The memory index of b is 57334640\n",
        "The memory index of b is 57334640\n",
        "The memory index of b is 57350952\n",
        "The memory index of b is 57201408\n",
        "The memory index of b is 57142240\n"
       ]
      }
     ],
     "prompt_number": 218
    },
    {
     "cell_type": "code",
     "collapsed": false,
     "input": [
      "print \"\u5b57\u7b26\u4e32\u8f6c\u6570\u7ec4\"\n",
      "str1 = \"array\"\n",
      "print list(str1)\n",
      "a = list(str1)\n",
      "a.reverse()\n",
      "print ''.join(a)"
     ],
     "language": "python",
     "metadata": {},
     "outputs": [
      {
       "output_type": "stream",
       "stream": "stdout",
       "text": [
        "\u5b57\u7b26\u4e32\u8f6c\u6570\u7ec4\n",
        "['a', 'r', 'r', 'a', 'y']\n",
        "yarra\n"
       ]
      }
     ],
     "prompt_number": 219
    },
    {
     "cell_type": "code",
     "collapsed": false,
     "input": [
      "print \"\u6570\u5b57\u5b57\u7b26\u4e32\u8f6c\u6570\u503c\"\n",
      "a = '123'\n",
      "print a+'1', int(a)+1\n",
      "a = '123.5'\n",
      "print a + 1\n",
      "print float(a)+1"
     ],
     "language": "python",
     "metadata": {},
     "outputs": [
      {
       "output_type": "stream",
       "stream": "stdout",
       "text": [
        "\u6570\u5b57\u5b57\u7b26\u4e32\u8f6c\u6570\u503c\n",
        "1231 124\n"
       ]
      },
      {
       "ename": "TypeError",
       "evalue": "cannot concatenate 'str' and 'int' objects",
       "output_type": "pyerr",
       "traceback": [
        "\u001b[1;31m---------------------------------------------------------------------------\u001b[0m\n\u001b[1;31mTypeError\u001b[0m                                 Traceback (most recent call last)",
        "\u001b[1;32m<ipython-input-8-e09ea72bfa6e>\u001b[0m in \u001b[0;36m<module>\u001b[1;34m()\u001b[0m\n\u001b[0;32m      3\u001b[0m \u001b[1;32mprint\u001b[0m \u001b[0ma\u001b[0m\u001b[1;33m+\u001b[0m\u001b[1;34m'1'\u001b[0m\u001b[1;33m,\u001b[0m \u001b[0mint\u001b[0m\u001b[1;33m(\u001b[0m\u001b[0ma\u001b[0m\u001b[1;33m)\u001b[0m\u001b[1;33m+\u001b[0m\u001b[1;36m1\u001b[0m\u001b[1;33m\u001b[0m\u001b[0m\n\u001b[0;32m      4\u001b[0m \u001b[0ma\u001b[0m \u001b[1;33m=\u001b[0m \u001b[1;34m'123.5'\u001b[0m\u001b[1;33m\u001b[0m\u001b[0m\n\u001b[1;32m----> 5\u001b[1;33m \u001b[1;32mprint\u001b[0m \u001b[0ma\u001b[0m \u001b[1;33m+\u001b[0m \u001b[1;36m1\u001b[0m\u001b[1;33m\u001b[0m\u001b[0m\n\u001b[0m\u001b[0;32m      6\u001b[0m \u001b[1;32mprint\u001b[0m \u001b[0mfloat\u001b[0m\u001b[1;33m(\u001b[0m\u001b[0ma\u001b[0m\u001b[1;33m)\u001b[0m\u001b[1;33m+\u001b[0m\u001b[1;36m1\u001b[0m\u001b[1;33m\u001b[0m\u001b[0m\n",
        "\u001b[1;31mTypeError\u001b[0m: cannot concatenate 'str' and 'int' objects"
       ]
      }
     ],
     "prompt_number": 8
    },
    {
     "cell_type": "heading",
     "level": 3,
     "metadata": {},
     "source": [
      "\u5217\u8868\u64cd\u4f5c"
     ]
    },
    {
     "cell_type": "code",
     "collapsed": false,
     "input": [
      "print \"#\u6784\u5efa\u4e00\u4e2a\u6570\u7ec4\"\n",
      "aList = [1,2,3,4,5]\n",
      "print aList\n",
      "print\n",
      "print \"The first element is %d.\" % aList[0]\n",
      "print\n",
      "print \"The last element is %d.\" % aList[-1]\n",
      "print\n",
      "print \"The first two elements are\", aList[:2]\n",
      "print \"\\n\u6570\u7ec4\u7d22\u5f15\u548c\u5207\u7247\u64cd\u4f5c\u4e0e\u5b57\u7b26\u4e32\u662f\u4e00\u6837\u4e00\u6837\u7684\uff0c\u800c\u4e14\u90fd\u5f88\u91cd\u8981\u3002\""
     ],
     "language": "python",
     "metadata": {},
     "outputs": [
      {
       "output_type": "stream",
       "stream": "stdout",
       "text": [
        "#\u6784\u5efa\u4e00\u4e2a\u6570\u7ec4\n",
        "[1, 2, 3, 4, 5]\n",
        "\n",
        "The first element is 1.\n",
        "\n",
        "The last element is 5.\n",
        "\n",
        "The first two elements are [1, 2]\n",
        "\n",
        "\u6570\u7ec4\u7d22\u5f15\u548c\u5207\u7247\u64cd\u4f5c\u4e0e\u5b57\u7b26\u4e32\u662f\u4e00\u6837\u4e00\u6837\u7684\uff0c\u800c\u4e14\u90fd\u5f88\u91cd\u8981\u3002\n"
       ]
      }
     ],
     "prompt_number": 220
    },
    {
     "cell_type": "code",
     "collapsed": false,
     "input": [
      "aList = []\n",
      "print \"#\u5411\u6570\u7ec4\u4e2d\u589e\u52a0\u5143\u7d20\"\n",
      "aList.append(6)\n",
      "print aList\n",
      "\n",
      "print \"\\n#\u5411\u6570\u7ec4\u4e2d\u589e\u52a0\u4e00\u4e2a\u6570\u7ec4\"\n",
      "print \n",
      "bList = ['a','b','c']\n",
      "aList.extend(bList)\n",
      "print aList"
     ],
     "language": "python",
     "metadata": {},
     "outputs": [
      {
       "output_type": "stream",
       "stream": "stdout",
       "text": [
        "#\u5411\u6570\u7ec4\u4e2d\u589e\u52a0\u5143\u7d20\n",
        "[6]\n",
        "\n",
        "#\u5411\u6570\u7ec4\u4e2d\u589e\u52a0\u4e00\u4e2a\u6570\u7ec4\n",
        "\n",
        "[6, 'a', 'b', 'c']\n"
       ]
      }
     ],
     "prompt_number": 221
    },
    {
     "cell_type": "code",
     "collapsed": false,
     "input": [
      "aList = [1,2,3,4,3,5]\n",
      "print \"\u5728\u6570\u7ec4\u4e2d\u5220\u9664\u5143\u7d20\"\n",
      "aList.remove(3)\n",
      "print\n",
      "print aList\n",
      "\n",
      "aList.pop(3)\n",
      "print\n",
      "print aList\n",
      "print '''\\npop\u548cremove\u662f\u4e0d\u4e00\u6837\u7684\uff0cremove\u662f\u79fb\u9664\u7b49\u4e8e\u7ed9\u5b9a\u503c\u7684\u5143\u7d20\uff0c\n",
      "pop\u662f\u79fb\u9664\u7ed9\u5b9a\u4f4d\u7f6e\u7684\u5143\u7d20\\n'''"
     ],
     "language": "python",
     "metadata": {},
     "outputs": [
      {
       "output_type": "stream",
       "stream": "stdout",
       "text": [
        "\u5728\u6570\u7ec4\u4e2d\u5220\u9664\u5143\u7d20\n",
        "\n",
        "[1, 2, 4, 3, 5]\n",
        "\n",
        "[1, 2, 4, 5]\n",
        "\n",
        "pop\u548cremove\u662f\u4e0d\u4e00\u6837\u7684\uff0cremove\u662f\u79fb\u9664\u7b49\u4e8e\u7ed9\u5b9a\u503c\u7684\u5143\u7d20\uff0c\n",
        "pop\u662f\u79fb\u9664\u7ed9\u5b9a\u4f4d\u7f6e\u7684\u5143\u7d20\n",
        "\n"
       ]
      }
     ],
     "prompt_number": 5
    },
    {
     "cell_type": "code",
     "collapsed": false,
     "input": [
      "aList = [1,2,3,4,5]\n",
      "\n",
      "print \"#\u904d\u5386\u6570\u7ec4\u7684\u6bcf\u4e2a\u5143\u7d20\"\n",
      "print\n",
      "for ele in aList:\n",
      "    print ele\n",
      "\n",
      "print \"#\u8f93\u51fa\u6570\u7ec4\u4e2d\u5927\u4e8e3\u7684\u5143\u7d20\"\n",
      "print \n",
      "\n",
      "for ele in aList:\n",
      "    if ele > 3:\n",
      "        print ele"
     ],
     "language": "python",
     "metadata": {},
     "outputs": [
      {
       "output_type": "stream",
       "stream": "stdout",
       "text": [
        "#\u904d\u5386\u6570\u7ec4\u7684\u6bcf\u4e2a\u5143\u7d20\n",
        "\n",
        "1\n",
        "2\n",
        "3\n",
        "4\n",
        "5\n",
        "#\u8f93\u51fa\u6570\u7ec4\u4e2d\u5927\u4e8e3\u7684\u5143\u7d20\n",
        "\n",
        "4\n",
        "5\n"
       ]
      }
     ],
     "prompt_number": 223
    },
    {
     "cell_type": "code",
     "collapsed": false,
     "input": [
      "aList = [i for i in range(30)]\n",
      "print \"#\u8f93\u51fa\u6570\u7ec4\u4e2d\u5927\u4e8e3,\u4e14\u5c0f\u4e8e10\u7684\u5143\u7d20\"\n",
      "print \n",
      "\n",
      "for ele in aList:\n",
      "    if ele > 3 and ele < 10: #\u903b\u8f91\u4e0e\uff0c\u5f53\u4e24\u4e2a\u6761\u4ef6\u90fd\u7b26\u5408\u65f6\u624d\u8f93\u51fa\n",
      "        print ele"
     ],
     "language": "python",
     "metadata": {},
     "outputs": [
      {
       "output_type": "stream",
       "stream": "stdout",
       "text": [
        "#\u8f93\u51fa\u6570\u7ec4\u4e2d\u5927\u4e8e3,\u4e14\u5c0f\u4e8e10\u7684\u5143\u7d20\n",
        "\n",
        "4\n",
        "5\n",
        "6\n",
        "7\n",
        "8\n",
        "9\n"
       ]
      }
     ],
     "prompt_number": 224
    },
    {
     "cell_type": "code",
     "collapsed": false,
     "input": [
      "aList = [i for i in range(30)]\n",
      "print \"#\u8f93\u51fa\u6570\u7ec4\u4e2d\u5927\u4e8e3,\u4e14\u5c0f\u4e8e10\u7684\u5143\u7d20\"\n",
      "print \n",
      "\n",
      "for ele in aList:\n",
      "    if ele > 25 or ele < 5: #\u903b\u8f91\u6216\uff0c\u5f53\u4e24\u4e2a\u6761\u4ef6\u6ee1\u8db3\u4e00\u4e2a\u65f6\u5c31\u8f93\u51fa\n",
      "        print ele"
     ],
     "language": "python",
     "metadata": {},
     "outputs": [
      {
       "output_type": "stream",
       "stream": "stdout",
       "text": [
        "#\u8f93\u51fa\u6570\u7ec4\u4e2d\u5927\u4e8e3,\u4e14\u5c0f\u4e8e10\u7684\u5143\u7d20\n",
        "\n",
        "0\n",
        "1\n",
        "2\n",
        "3\n",
        "4\n",
        "26\n",
        "27\n",
        "28\n",
        "29\n"
       ]
      }
     ],
     "prompt_number": 225
    },
    {
     "cell_type": "code",
     "collapsed": false,
     "input": [
      "aList = [i for i in range(30)]\n",
      "print \"#\u8f93\u51fa\u6570\u7ec4\u4e2d\u5927\u4e8e3,\u4e14\u5c0f\u4e8e10\u7684\u5143\u7d20\"\n",
      "print \n",
      "\n",
      "for ele in aList:\n",
      "    #\u903b\u8f91\u975e\uff0c\u5f53\u4e0d\u7b26\u5408\u7ed9\u5b9a\u6761\u4ef6\u65f6\u624d\u8f93\u51fa\u3002\n",
      "    #\u5bf9\u4e8e\u8fd9\u4e2a\u4f8b\u5b50\u5c31\u662fele\u4e0d\u5927\u4e8e3\u65f6\u624d\u8f93\u51fa\uff0c\u76f8\u5f53\u4e8e if ele <= 3:\n",
      "    if not ele > 3: \n",
      "        print ele"
     ],
     "language": "python",
     "metadata": {},
     "outputs": [
      {
       "output_type": "stream",
       "stream": "stdout",
       "text": [
        "#\u8f93\u51fa\u6570\u7ec4\u4e2d\u5927\u4e8e3,\u4e14\u5c0f\u4e8e10\u7684\u5143\u7d20\n",
        "\n",
        "0\n",
        "1\n",
        "2\n",
        "3\n"
       ]
      }
     ],
     "prompt_number": 6
    },
    {
     "cell_type": "code",
     "collapsed": false,
     "input": [
      "print \"\u8fde\u63a5\u6570\u7ec4\u7684\u6bcf\u4e2a\u5143\u7d20\uff08\u6bcf\u4e2a\u5143\u7d20\u5fc5\u987b\u4e3a\u5b57\u7b26\u4e32\uff09\"\n",
      "aList = [1,2,3,4,5] #Wrong\n",
      "#print '\\t'.join(aList) #wrong\n",
      "\n",
      "print aList\n",
      "aList = [str(i) for i in aList]\n",
      "print aList\n",
      "print '\\t'.join(aList) \n",
      "\n",
      "print ':'.join(aList)\n",
      "print ''.join(aList)\n",
      "\n",
      "print '''\\n\u5148\u628a\u5b57\u7b26\u4e32\u5b58\u5230\u5217\u8868\uff0c\u518d\u4f7f\u7528join\u8fde\u63a5\uff0c\n",
      "\u662f\u6700\u5408\u9002\u7684\u8fde\u63a5\u5927\u91cf\u5b57\u7b26\u4e32\u7684\u65b9\u5f0f'''"
     ],
     "language": "python",
     "metadata": {},
     "outputs": [
      {
       "output_type": "stream",
       "stream": "stdout",
       "text": [
        "\u8fde\u63a5\u6570\u7ec4\u7684\u6bcf\u4e2a\u5143\u7d20\uff08\u6bcf\u4e2a\u5143\u7d20\u5fc5\u987b\u4e3a\u5b57\u7b26\u4e32\uff09\n",
        "[1, 2, 3, 4, 5]\n",
        "['1', '2', '3', '4', '5']\n",
        "1\t2\t3\t4\t5\n",
        "1:2:3:4:5\n",
        "12345\n",
        "\n",
        "\u5148\u628a\u5b57\u7b26\u4e32\u5b58\u5230\u5217\u8868\uff0c\u518d\u4f7f\u7528join\u8fde\u63a5\uff0c\n",
        "\u662f\u6700\u5408\u9002\u7684\u8fde\u63a5\u5927\u91cf\u5b57\u7b26\u4e32\u7684\u65b9\u5f0f\n"
       ]
      }
     ],
     "prompt_number": 7
    },
    {
     "cell_type": "code",
     "collapsed": false,
     "input": [
      "aList = [1,2,3,4,5]\n",
      "\n",
      "print \"\u6570\u7ec4\u53cd\u5e8f\"\n",
      "aList.reverse()\n",
      "print aList\n",
      "\n",
      "print \"\u6570\u7ec4\u5143\u7d20\u6392\u5e8f\"\n",
      "aList.sort()\n",
      "print aList\n",
      "\n",
      "#print \"lambda\u6392\u5e8f\uff0c\u4fdd\u7559\u8282\u76ee\"\n",
      "#aList.sort(key=lambda x: x*(-1))\n",
      "#print aList"
     ],
     "language": "python",
     "metadata": {},
     "outputs": [
      {
       "output_type": "stream",
       "stream": "stdout",
       "text": [
        "\u6570\u7ec4\u53cd\u5e8f\n",
        "[5, 4, 3, 2, 1]\n",
        "\u6570\u7ec4\u5143\u7d20\u6392\u5e8f\n",
        "[1, 2, 3, 4, 5]\n"
       ]
      }
     ],
     "prompt_number": 228
    },
    {
     "cell_type": "heading",
     "level": 3,
     "metadata": {},
     "source": [
      "\u5143\u7ec4\u64cd\u4f5c"
     ]
    },
    {
     "cell_type": "code",
     "collapsed": false,
     "input": [
      "print \"\u6784\u5efa\u4e00\u4e2a\u5143\u7ec4\"\n",
      "aSet = set([1,2,3])\n",
      "print aSet\n",
      "\n",
      "print \"\u589e\u52a0\u4e00\u4e2a\u5143\u7d20\"\n",
      "aSet.add(4)\n",
      "print aSet\n",
      "aSet.add(3)\n",
      "print aSet\n"
     ],
     "language": "python",
     "metadata": {},
     "outputs": [
      {
       "output_type": "stream",
       "stream": "stdout",
       "text": [
        "\u6784\u5efa\u4e00\u4e2a\u5143\u7ec4\n",
        "set([1, 2, 3])\n",
        "\u589e\u52a0\u4e00\u4e2a\u5143\u7d20\n",
        "set([1, 2, 3, 4])\n",
        "set([1, 2, 3, 4])\n"
       ]
      }
     ],
     "prompt_number": 229
    },
    {
     "cell_type": "code",
     "collapsed": false,
     "input": [
      "print \"\u91c7\u7528\u8f6c\u6362\u4e3a\u5143\u7ec4\u53bb\u9664\u5217\u8868\u4e2d\u7684\u91cd\u590d\u5143\u7d20\"\n",
      "aList = [1,2,1,3,1,5,2,4,3,3,6]\n",
      "print aList\n",
      "print set(aList)\n",
      "print list(set(aList))"
     ],
     "language": "python",
     "metadata": {},
     "outputs": [
      {
       "output_type": "stream",
       "stream": "stdout",
       "text": [
        "\u91c7\u7528\u8f6c\u6362\u4e3a\u5143\u7ec4\u53bb\u9664\u5217\u8868\u4e2d\u7684\u91cd\u590d\u5143\u7d20\n",
        "[1, 2, 1, 3, 1, 5, 2, 4, 3, 3, 6]\n",
        "set([1, 2, 3, 4, 5, 6])\n",
        "[1, 2, 3, 4, 5, 6]\n"
       ]
      }
     ],
     "prompt_number": 230
    },
    {
     "cell_type": "heading",
     "level": 3,
     "metadata": {},
     "source": [
      "Range\u4f7f\u7528"
     ]
    },
    {
     "cell_type": "code",
     "collapsed": false,
     "input": [
      "print \"\u4f7f\u7528range\uff0c\u4ea7\u751f\u4e00\u7cfb\u5217\u7684\u5b57\u7b26\u4e32\"\n",
      "for i in range(16):\n",
      "    if i % 4 == 0:\n",
      "        print i\n",
      "print \"\u901a\u8fc7\u6307\u5b9a\u6b65\u957f\u4ea7\u751f4\u7684\u500d\u6570\u7684\u6570\"\n",
      "for i in range(0,16,4):\n",
      "    print i"
     ],
     "language": "python",
     "metadata": {},
     "outputs": [
      {
       "output_type": "stream",
       "stream": "stdout",
       "text": [
        "\u4f7f\u7528range\uff0c\u4ea7\u751f\u4e00\u7cfb\u5217\u7684\u5b57\u7b26\u4e32\n",
        "0\n",
        "4\n",
        "8\n",
        "12\n",
        "\u901a\u8fc7\u6307\u5b9a\u6b65\u957f\u4ea7\u751f4\u7684\u500d\u6570\u7684\u6570\n",
        "0\n",
        "4\n",
        "8\n",
        "12\n"
       ]
      }
     ],
     "prompt_number": 231
    },
    {
     "cell_type": "heading",
     "level": 3,
     "metadata": {},
     "source": [
      "\u5b57\u5178\u64cd\u4f5c"
     ]
    },
    {
     "cell_type": "code",
     "collapsed": false,
     "input": [
      "print \"#\u6784\u5efa\u4e00\u4e2a\u5b57\u5178\"\n",
      "aDict = {1:2,3:4,'a':'b','d':'c'}\n",
      "\n",
      "print \"\u6253\u5370\u5b57\u5178\"\n",
      "print aDict\n",
      "\n",
      "print \"\u5411\u5b57\u5178\u4e2d\u6dfb\u52a0\u952e\u503c\u5bf9\"\n",
      "aDict[5] = 6\n",
      "aDict['e'] = 'f'\n",
      "print aDict"
     ],
     "language": "python",
     "metadata": {},
     "outputs": [
      {
       "output_type": "stream",
       "stream": "stdout",
       "text": [
        "#\u6784\u5efa\u4e00\u4e2a\u5b57\u5178\n",
        "\u6253\u5370\u5b57\u5178\n",
        "{'a': 'b', 1: 2, 3: 4, 'd': 'c'}\n",
        "\u5411\u5b57\u5178\u4e2d\u6dfb\u52a0\u952e\u503c\u5bf9\n",
        "{'a': 'b', 1: 2, 3: 4, 'e': 'f', 'd': 'c', 5: 6}\n"
       ]
      }
     ],
     "prompt_number": 232
    },
    {
     "cell_type": "code",
     "collapsed": false,
     "input": [
      "print\n",
      "print \"\u8f93\u51fa\u5b57\u5178\u7684\u952e\u503c\u5bf9(key-value)\"\n",
      "for key, value in aDict.items():\n",
      "    print key,value"
     ],
     "language": "python",
     "metadata": {},
     "outputs": [
      {
       "output_type": "stream",
       "stream": "stdout",
       "text": [
        "\n",
        "\u8f93\u51fa\u5b57\u5178\u7684\u952e\u503c\u5bf9(key-value)\n",
        "a b\n",
        "1 2\n",
        "3 4\n",
        "e f\n",
        "d c\n",
        "5 6\n"
       ]
      }
     ],
     "prompt_number": 233
    },
    {
     "cell_type": "code",
     "collapsed": false,
     "input": [
      "print \"\u6709\u5e8f\u8f93\u51fa\u5b57\u5178\u7684\u952e\u503c\u5bf9(key-value)\"\n",
      "keyL = aDict.keys()\n",
      "print keyL\n",
      "keyL.sort()\n",
      "print keyL\n",
      "for key in keyL:\n",
      "    print key, aDict[key]"
     ],
     "language": "python",
     "metadata": {},
     "outputs": [
      {
       "output_type": "stream",
       "stream": "stdout",
       "text": [
        "\u6709\u5e8f\u8f93\u51fa\u5b57\u5178\u7684\u952e\u503c\u5bf9(key-value)\n",
        "['a', 1, 3, 'e', 'd', 5]\n",
        "[1, 3, 5, 'a', 'd', 'e']\n",
        "1 2\n",
        "3 4\n",
        "5 6\n",
        "a b\n",
        "d c\n",
        "e f\n"
       ]
      }
     ],
     "prompt_number": 234
    },
    {
     "cell_type": "code",
     "collapsed": false,
     "input": [
      "print \"\u5b57\u5178\u7684value\u53ef\u4ee5\u662f\u4e00\u4e2a\u5217\u8868\"\n",
      "a = 'key'\n",
      "b = 'key2'\n",
      "aDict = {}\n",
      "print aDict\n",
      "aDict[a] = []\n",
      "print aDict\n",
      "aDict[a].append(1)\n",
      "aDict[a].append(2)\n",
      "print aDict\n",
      "aDict[b] = [3,4,5]\n",
      "\n",
      "print\n",
      "for key, subL in aDict.items():\n",
      "    print key\n",
      "    for item in subL:\n",
      "        print \"\\t%s\" % item\n",
      "\n",
      "print \"\u8fd9\u4e2a\u5728\u5b58\u53d6\u8bfb\u5165\u7684\u6587\u4ef6\u65f6\u4f1a\u5f88\u6709\u7528\u7684\uff0c\u4e0b\u9762\u7684\u5b9e\u6218\u7ec3\u4e60\u4f1a\u7528\u5230\u8fd9\u4e2a\u3002\""
     ],
     "language": "python",
     "metadata": {},
     "outputs": [
      {
       "output_type": "stream",
       "stream": "stdout",
       "text": [
        "\u5b57\u5178\u7684value\u53ef\u4ee5\u662f\u4e00\u4e2a\u5217\u8868\n",
        "{}\n",
        "{'key': []}\n",
        "{'key': [1, 2]}\n",
        "\n",
        "key2\n",
        "\t3\n",
        "\t4\n",
        "\t5\n",
        "key\n",
        "\t1\n",
        "\t2\n",
        "\u8fd9\u4e2a\u5728\u5b58\u53d6\u8bfb\u5165\u7684\u6587\u4ef6\u65f6\u4f1a\u5f88\u6709\u7528\u7684\uff0c\u4e0b\u9762\u7684\u5b9e\u6218\u7ec3\u4e60\u4f1a\u7528\u5230\u8fd9\u4e2a\u3002\n"
       ]
      }
     ],
     "prompt_number": 235
    },
    {
     "cell_type": "code",
     "collapsed": false,
     "input": [
      "aDict = {'\u83dc\u6839\u8c2d':'\u4e8b\u7406\u56e0\u4eba\u8a00\u800c\u609f\u8005\uff0c\u6709\u609f\u8fd8\u6709\u8ff7\uff0c\u603b\u4e0d\u5982\u81ea\u609f\u4e4b\u4e86\u4e86\uff1b\u610f\u5174\u4ece\u5916\u5883\u800c\u5f97\u8005\uff0c\u6709\u5f97\u8fd8\u6709\u5931\uff0c\u603b\u4e0d\u5982\u81ea\u5f97\u4e4b\u4f11\u4f11\u3002'}\n",
      "print aDict['\u83dc\u6839\u8c2d']\n",
      "aDict['\u5e84\u5b50'] = '\u4e66\u4e0d\u5982\u601d\u8d35\uff0c\u610f\u4e0d\u53ef\u8a00\u4f20'\n",
      "print aDict['\u5e84\u5b50'] "
     ],
     "language": "python",
     "metadata": {},
     "outputs": [
      {
       "output_type": "stream",
       "stream": "stdout",
       "text": [
        "\u4e8b\u7406\u56e0\u4eba\u8a00\u800c\u609f\u8005\uff0c\u6709\u609f\u8fd8\u6709\u8ff7\uff0c\u603b\u4e0d\u5982\u81ea\u609f\u4e4b\u4e86\u4e86\uff1b\u610f\u5174\u4ece\u5916\u5883\u800c\u5f97\u8005\uff0c\u6709\u5f97\u8fd8\u6709\u5931\uff0c\u603b\u4e0d\u5982\u81ea\u5f97\u4e4b\u4f11\u4f11\u3002\n",
        "\u4e66\u4e0d\u5982\u601d\u8d35\uff0c\u610f\u4e0d\u53ef\u8a00\u4f20\n"
       ]
      }
     ],
     "prompt_number": 8
    },
    {
     "cell_type": "code",
     "collapsed": false,
     "input": [
      "print \"\u5b57\u5178\u7684value\u4e5f\u53ef\u4ee5\u662f\u5b57\u5178\"\n",
      "a = 'key'\n",
      "b = 'key2'\n",
      "aDict = {}\n",
      "print aDict\n",
      "aDict[a] = {}\n",
      "print aDict\n",
      "aDict[a]['subkey'] = 'subvalue'\n",
      "print aDict\n",
      "aDict[b] = {1:2,3:4}\n",
      "\n",
      "#aDict[(a,b)] = 2\n",
      "#aDict['a'] = 2\n",
      "#aDict['b'] = 2\n",
      "\n",
      "print\n",
      "for key, subD in aDict.items():\n",
      "    print key\n",
      "    for subKey, subV in subD.items():\n",
      "        print \"\\t%s\\t%s\" % (subKey, subV)\n",
      "\n",
      "print \"\\n\u8fd9\u4e2a\u5728\u5b58\u53d6\u8bfb\u5165\u7684\u6587\u4ef6\u65f6\u4f1a\u5f88\u6709\u7528\u7684\uff0c\u4e0b\u9762\u7684\u5b9e\u6218\u7ec3\u4e60\u4f1a\u7528\u5230\u8fd9\u4e2a\u3002\""
     ],
     "language": "python",
     "metadata": {},
     "outputs": [
      {
       "output_type": "stream",
       "stream": "stdout",
       "text": [
        "\u5b57\u5178\u7684value\u4e5f\u53ef\u4ee5\u662f\u5b57\u5178\n",
        "{}\n",
        "{'key': {}}\n",
        "{'key': {'subkey': 'subvalue'}}\n",
        "\n",
        "key2\n",
        "\t1\t2\n",
        "\t3\t4\n",
        "key\n",
        "\tsubkey\tsubvalue\n",
        "\n",
        "\u8fd9\u4e2a\u5728\u5b58\u53d6\u8bfb\u5165\u7684\u6587\u4ef6\u65f6\u4f1a\u5f88\u6709\u7528\u7684\uff0c\u4e0b\u9762\u7684\u5b9e\u6218\u7ec3\u4e60\u4f1a\u7528\u5230\u8fd9\u4e2a\u3002\n"
       ]
      }
     ],
     "prompt_number": 236
    },
    {
     "cell_type": "heading",
     "level": 1,
     "metadata": {},
     "source": [
      "\u8f93\u5165\u8f93\u51fa"
     ]
    },
    {
     "cell_type": "heading",
     "level": 2,
     "metadata": {},
     "source": [
      "\u4ea4\u4e92\u5f0f\u8f93\u5165\u8f93\u51fa"
     ]
    },
    {
     "cell_type": "markdown",
     "metadata": {},
     "source": [
      "\u5728\u5f88\u591a\u65f6\u5019\uff0c\u4f60\u4f1a\u60f3\u8981\u8ba9\u4f60\u7684\u7a0b\u5e8f\u4e0e\u7528\u6237\uff08\u53ef\u80fd\u662f\u4f60\u81ea\u5df1\uff09\u4ea4\u4e92\u3002\u4f60\u4f1a\u4ece\u7528\u6237\u90a3\u91cc\u5f97\u5230\u8f93\u5165\uff0c\u7136\u540e\u6253\u5370\u4e00\u4e9b\u7ed3\u679c\u3002\u6211\u4eec\u53ef\u4ee5\u5206\u522b\u4f7f\u7528raw_input\u548cprint\u8bed\u53e5\u6765\u5b8c\u6210\u8fd9\u4e9b\u529f\u80fd\u3002"
     ]
    },
    {
     "cell_type": "code",
     "collapsed": false,
     "input": [
      "a = raw_input(\"Please input a string\\n> \")\n",
      "\n",
      "print \"The string you typed in is: \", a"
     ],
     "language": "python",
     "metadata": {},
     "outputs": [
      {
       "name": "stdout",
       "output_type": "stream",
       "stream": "stdout",
       "text": [
        "Please input a string\n",
        "> a\n"
       ]
      },
      {
       "output_type": "stream",
       "stream": "stdout",
       "text": [
        "The string you typed in is:  a\n"
       ]
      }
     ]
    },
    {
     "cell_type": "code",
     "collapsed": false,
     "input": [
      "print \"\u8fd9\u662f\u4e00\u4e2a\u4fdd\u7559\u4f8b\u5b50\uff0c\u4ec5\u4f9b\u73a9\u800d\\n\"\n",
      "lucky_num = 5\n",
      "c = 0\n",
      "\n",
      "while True:\n",
      "    b = int(raw_input(\"Please input a number to check if you are \\\n",
      "lucky enough to guess right: \\n\"))\n",
      "    if b == lucky_num:\n",
      "        print \"\\nYour are so smart!!! ^_^ ^_^\"\n",
      "        #----------------------------------------------------\n",
      "    #--------------------------------------------------------\n",
      "    else:\n",
      "        print \"\\nSorry, but you are not right. %>_<%\"\n",
      "        while 1:\n",
      "            c = raw_input(\"Do you want to try again? [Y/N] \\n\")\n",
      "            if c == 'Y':\n",
      "                try_again = 1\n",
      "                break                \n",
      "            elif c == 'N':\n",
      "                try_again = 0\n",
      "                break\n",
      "            else:\n",
      "                print \"I can not understand you, please check your input. \\n\"\n",
      "                continue\n",
      "        #----------------------------------------------------\n",
      "        if try_again:\n",
      "            print \"\\nHere comes another run. Enjoy!\\n\"\n",
      "            continue\n",
      "        else:\n",
      "            print \"\\nBye-bye\\n\"\n",
      "            break"
     ],
     "language": "python",
     "metadata": {},
     "outputs": [
      {
       "output_type": "stream",
       "stream": "stdout",
       "text": [
        "\u8fd9\u662f\u4e00\u4e2a\u4fdd\u7559\u4f8b\u5b50\uff0c\u4ec5\u4f9b\u73a9\u800d\n",
        "\n"
       ]
      }
     ]
    },
    {
     "cell_type": "heading",
     "level": 2,
     "metadata": {},
     "source": [
      "\u6587\u4ef6\u8bfb\u5199"
     ]
    },
    {
     "cell_type": "markdown",
     "metadata": {},
     "source": [
      "\u6587\u4ef6\u8bfb\u5199\u662f\u6700\u5e38\u89c1\u7684\u8f93\u5165\u548c\u8f93\u51fa\u64cd\u4f5c\u3002\u4f60\u53ef\u4ee5\u5b9e\u7528`file`\u6216`open`\u6765\u5b9e\u73b0\u3002"
     ]
    },
    {
     "cell_type": "code",
     "collapsed": false,
     "input": [
      "print \"\u65b0\u5efa\u4e00\u4e2a\u6587\u4ef6\"\n",
      "\n",
      "context = '''The best way to learn python contains two steps:\n",
      "1. Rember basic things mentionded here masterly.\n",
      "\n",
      "2. Practise with real demands.\n",
      "'''\n",
      "\n",
      "print \"\u4ee5\u5199\u5165\u6a21\u5f0f(w)\u6253\u5f00\u4e00\u4e2a\u6587\u4ef6\u5e76\u547d\u540d\u4e3a(Test_file.txt)\"\n",
      "fh = open(\"Test_file.txt\",\"w\") \n",
      "print >>fh, context\n",
      "#fh.write(context)\n",
      "fh.close() #\u6587\u4ef6\u64cd\u4f5c\u5b8c\u6210\u540e\u5fc5\u987b\u5173\u95ed\u6587\u4ef6\u53e5\u67c4"
     ],
     "language": "python",
     "metadata": {},
     "outputs": [
      {
       "output_type": "stream",
       "stream": "stdout",
       "text": [
        "\u65b0\u5efa\u4e00\u4e2a\u6587\u4ef6\n",
        "\u4ee5\u5199\u5165\u6a21\u5f0f(w)\u6253\u5f00\u4e00\u4e2a\u6587\u4ef6\u5e76\u547d\u540d\u4e3a(Test_file.txt)\n"
       ]
      }
     ],
     "prompt_number": 9
    },
    {
     "cell_type": "code",
     "collapsed": false,
     "input": [
      "print \"\u4ee5\u8bfb\u5199\u6a21\u5f0f(r)\u8bfb\u5165\u4e00\u4e2a\u540d\u4e3a(Test_file.txt)\u7684\u6587\u4ef6\"\n",
      "\n",
      "print\n",
      "\n",
      "for line in open(\"Test_file.txt\"):\n",
      "    print line"
     ],
     "language": "python",
     "metadata": {},
     "outputs": [
      {
       "output_type": "stream",
       "stream": "stdout",
       "text": [
        "\u4ee5\u8bfb\u5199\u6a21\u5f0f(r)\u8bfb\u5165\u4e00\u4e2a\u540d\u4e3a(Test_file.txt)\u7684\u6587\u4ef6\n",
        "\n",
        "The best way to learn python contains two steps:\n",
        "\n",
        "1. Rember basic things mentionded here masterly.\n",
        "\n",
        "\n",
        "\n",
        "2. Practise with real demands.\n",
        "\n",
        "\n",
        "\n"
       ]
      }
     ],
     "prompt_number": 2
    },
    {
     "cell_type": "code",
     "collapsed": false,
     "input": [
      "print '''\u907f\u514d\u4e2d\u95f4\u7a7a\u884c\u7684\u8f93\u51fa\u3002\n",
      "\u4ece\u6587\u4ef6\u4e2d\u8bfb\u53d6\u7684\u6bcf\u4e00\u884c\u90fd\u5e26\u6709\u4e00\u4e2a\u6362\u884c\u7b26\uff0c\n",
      "\u800cPython\u7684print\u9ed8\u8ba4\u4f1a\u5728\u8f93\u51fa\u7ed3\u675f\u65f6\u52a0\u4e0a\u6362\u884c\u7b26\uff0c\n",
      "\u56e0\u6b64\u6253\u5370\u4e00\u884c\u4f1a\u7a7a\u51fa\u4e00\u884c\u3002\u4e3a\u4e86\u89e3\u51b3\u8fd9\u4e2a\u95ee\u9898\uff0c\u6709\u4e0b\u9762\u4e24\u5957\u65b9\u6848\u3002'''\n",
      "\n",
      "print \"\u5728print\u8bed\u53e5\u540e\u52a0\u4e0a\u9017\u53f7(,)\u53ef\u4ee5\u963b\u6b62Python\u5bf9\u6bcf\u6b21\u8f93\u51fa\u81ea\u52a8\u6dfb\u52a0\u7684\u6362\u884c\u7b26\"\n",
      "print\n",
      "\n",
      "for line in open(\"Test_file.txt\"):\n",
      "    print line,\n",
      "\n",
      "print\n",
      "\n",
      "print \"\u53bb\u6389\u6bcf\u884c\u81ea\u8eab\u7684\u6362\u884c\u7b26\"\n",
      "for line in open(\"Test_file.txt\"):\n",
      "    print line.strip()"
     ],
     "language": "python",
     "metadata": {},
     "outputs": [
      {
       "output_type": "stream",
       "stream": "stdout",
       "text": [
        "\u907f\u514d\u4e2d\u95f4\u7a7a\u884c\u7684\u8f93\u51fa\u3002\n",
        "\u4ece\u6587\u4ef6\u4e2d\u8bfb\u53d6\u7684\u6bcf\u4e00\u884c\u90fd\u5e26\u6709\u4e00\u4e2a\u6362\u884c\u7b26\uff0c\n",
        "\u800cPython\u7684print\u9ed8\u8ba4\u4f1a\u5728\u8f93\u51fa\u7ed3\u675f\u65f6\u52a0\u4e0a\u6362\u884c\u7b26\uff0c\n",
        "\u56e0\u6b64\u6253\u5370\u4e00\u884c\u4f1a\u7a7a\u51fa\u4e00\u884c\u3002\u4e3a\u4e86\u89e3\u51b3\u8fd9\u4e2a\u95ee\u9898\uff0c\u6709\u4e0b\u9762\u4e24\u5957\u65b9\u6848\u3002\n",
        "\u5728print\u8bed\u53e5\u540e\u52a0\u4e0a\u9017\u53f7(,)\u53ef\u4ee5\u963b\u6b62Python\u5bf9\u6bcf\u6b21\u8f93\u51fa\u81ea\u52a8\u6dfb\u52a0\u7684\u6362\u884c\u7b26\n",
        "\n",
        "The best way to learn python contains two steps:\n",
        "1. Rember basic things mentionded here masterly.\n",
        "\n",
        "2. Practise with real demands.\n",
        "\n",
        "\n",
        "\u53bb\u6389\u6bcf\u884c\u81ea\u8eab\u7684\u6362\u884c\u7b26\n",
        "The best way to learn python contains two steps:\n",
        "1. Rember basic things mentionded here masterly.\n",
        "\n",
        "2. Practise with real demands.\n",
        "\n"
       ]
      }
     ],
     "prompt_number": 10
    },
    {
     "cell_type": "heading",
     "level": 1,
     "metadata": {},
     "source": [
      "\u5b9e\u6218\u7ec3\u4e60\uff08\u4e00\uff09"
     ]
    },
    {
     "cell_type": "heading",
     "level": 2,
     "metadata": {},
     "source": [
      "\u80cc\u666f\u77e5\u8bc6"
     ]
    },
    {
     "cell_type": "markdown",
     "metadata": {},
     "source": [
      "**1. FASTA\u6587\u4ef6\u683c\u5f0f**\n",
      "\n",
      "> \\>seq_name_1\n",
      "\n",
      "> sequence1\n",
      "\n",
      "> \\>seq_name_2\n",
      "\n",
      ">sequence2\n",
      "\n",
      "**2. FASTQ\u6587\u4ef6\u683c\u5f0f**\n",
      "\n",
      "> @HWI-ST1223:80:D1FMTACXX:2:1101:1243:2213 1:N:0:AGTCAA\n",
      "\n",
      "> TCTGTGTAGCCNTGGCTGTCCTGGAACTCACTTTGTAGACCAGGCTGGCATGCA\n",
      "\n",
      "> +\n",
      "\n",
      "> BCCFFFFFFHH#4AFHIJJJJJJJJJJJJJJJJJIJIJJJJJGHIJJJJJJJJJ\n",
      "\n",
      "<img src=\"Image/fastq_format.png\">"
     ]
    },
    {
     "cell_type": "heading",
     "level": 2,
     "metadata": {},
     "source": [
      "\u4f5c\u4e1a (\u4e00)"
     ]
    },
    {
     "cell_type": "markdown",
     "metadata": {},
     "source": [
      "1. \u7ed9\u5b9aFASTA\u683c\u5f0f\u7684\u6587\u4ef6(test1.fa \u548c test2.fa)\uff0c\u5199\u4e00\u4e2a\u7a0b\u5e8f `cat.py` \u8bfb\u5165\u6587\u4ef6\uff0c\u5e76\u8f93\u51fa\u5230\u5c4f\u5e55\n",
      "    * \u7528\u5230\u7684\u77e5\u8bc6\u70b9\n",
      "        * open(file)\n",
      "        * for .. in loop\n",
      "        * print\n",
      "        * the amazng , or strip() function\n",
      "2. \u7ed9\u5b9aFASTQ\u683c\u5f0f\u7684\u6587\u4ef6(test1.fq), \u5199\u4e00\u4e2a\u7a0b\u5e8f `cat.py` \u8bfb\u5165\u6587\u4ef6\uff0c\u5e76\u8f93\u51fa\u5230\u5c4f\u5e55\n",
      "    * \u7528\u5230\u7684\u77e5\u8bc6\u70b9\n",
      "        * \u540c\u4e0a\n",
      "3. \u5199\u7a0b\u5e8f `splitName.py`, \u8bfb\u5165test2.fa, \u5e76\u53d6\u539f\u59cb\u5e8f\u5217\u540d\u5b57\u7b2c\u4e00\u4e2a\u7a7a\u683c\u524d\u7684\u540d\u5b57\u4e3a\u5904\u7406\u540e\u7684\u5e8f\u5217\u540d\u5b57\uff0c\u8f93\u51fa\u5230\u5c4f\u5e55\n",
      "    * \u7528\u5230\u7684\u77e5\u8bc6\u70b9\n",
      "        * split\n",
      "        * \u5b57\u7b26\u4e32\u7684\u7d22\u5f15\n",
      "    * \u8f93\u51fa\u683c\u5f0f\u4e3a\uff1a\n",
      "```\n",
      ">NM_001011874\n",
      "gcggcggcgggcgagcgggcgctggagtaggagctg.......\n",
      "```\n",
      "\n",
      "4. \u5199\u7a0b\u5e8f `formatFasta.py`, \u8bfb\u5165test2.fa\uff0c\u628a\u6bcf\u6761FASTA\u5e8f\u5217\u8fde\u6210\u4e00\u884c\u7136\u540e\u8f93\u51fa\n",
      "    * \u7528\u5230\u7684\u77e5\u8bc6\u70b9\n",
      "        * join\n",
      "        * strip    \n",
      "    * \u8f93\u51fa\u683c\u5f0f\u4e3a:\n",
      "```\n",
      "    >NM_001011874\n",
      "    gcggcggcgggc......TCCGCTG......GCGTTCACC......CGGGGTCCGGAG\n",
      "```\n",
      "4. \u5199\u7a0b\u5e8f `formatFasta-2.py`, \u8bfb\u5165test2.fa\uff0c\u628a\u6bcf\u6761FASTA\u5e8f\u5217\u5206\u5272\u621080\u4e2a\u5b57\u6bcd\u4e00\u884c\u7684\u5e8f\u5217\n",
      "    * \u7528\u5230\u7684\u77e5\u8bc6\u70b9\n",
      "        * \u5b57\u7b26\u4e32\u5207\u7247\u64cd\u4f5c\n",
      "        * range\n",
      "    * \u8f93\u51fa\u683c\u5f0f\u4e3a\n",
      "```    \n",
      "    >NM_001011874\n",
      "    gcggcggcgc.(60\u4e2a\u5b57\u6bcd).TCCGCTGACG #(\u6bcf\u884c80\u4e2a\u5b57\u6bcd)\n",
      "    acgtgctacg.(60\u4e2a\u5b57\u6bcd).GCGTTCACCC\n",
      "    ACGTACGATG(\u6700\u540e\u4e00\u884c\u53ef\u4e0d\u8db380\u4e2a\u5b57\u6bcd)\n",
      "```     \n",
      "4. \u5199\u7a0b\u5e8f `sortFasta.py`, \u8bfb\u5165test2.fa, \u5e76\u53d6\u539f\u59cb\u5e8f\u5217\u540d\u5b57\u7b2c\u4e00\u4e2a\u7a7a\u683c\u524d\u7684\u540d\u5b57\u4e3a\u5904\u7406\u540e\u7684\u5e8f\u5217\u540d\u5b57\uff0c\u6392\u5e8f\u540e\u8f93\u51fa\n",
      "    * \u7528\u5230\u7684\u77e5\u8bc6\u70b9\n",
      "        * sort\n",
      "        * dict\n",
      "        * aDict[key] = []\n",
      "        * aDict[key].append(value)\n",
      "        \n",
      "5. \u63d0\u53d6\u7ed9\u5b9a\u540d\u5b57\u7684\u5e8f\u5217\n",
      "    * \u5199\u7a0b\u5e8f `grepFasta.py`, \u63d0\u53d6fasta.name\u4e2d\u540d\u5b57\u5bf9\u5e94\u7684test2.fa\u7684\u5e8f\u5217\uff0c\u5e76\u8f93\u51fa\u5230\u5c4f\u5e55\u3002\n",
      "    * \u5199\u7a0b\u5e8f `grepFastq.py`, \u63d0\u53d6fastq.name\u4e2d\u540d\u5b57\u5bf9\u5e94\u7684test1.fq\u7684\u5e8f\u5217\uff0c\u5e76\u8f93\u51fa\u5230\u6587\u4ef6\u3002\n",
      "        * \u7528\u5230\u7684\u77e5\u8bc6\u70b9\n",
      "            * print >>fh, or fh.write()\n",
      "            * \u53d6\u6a21\u8fd0\u7b97\uff0c4 % 2 == 0\n",
      "    \n",
      "6. \u5199\u7a0b\u5e8f `screenResult.py`, \u7b5b\u9009test.expr\u4e2dfoldChange\u5927\u4e8e2\u7684\u57fa\u56e0\u5e76\u4e14padj\u5c0f\u4e8e0.05\u7684\u57fa\uff0c\u53ef\u4ee5\u8f93\u51fa\u6574\u884c\u6216\u53ea\u8f93\u51fa\u57fa\u56e0\u540d\u5b57\n",
      "    * \u7528\u5230\u7684\u77e5\u8bc6\u70b9\n",
      "        * \u903b\u8f91\u4e0e\u64cd\u4f5c\u7b26 and \n",
      "        * \u6587\u4ef6\u4e2d\u8bfb\u53d6\u7684\u5185\u5bb9\u90fd\u4e3a\u5b57\u7b26\u4e32\uff0c\u9700\u8981\u7528int\u8f6c\u6362\u4e3a\u6574\u6570\uff0cfloat\u8f6c\u6362\u4e3a\u6d6e\u70b9\u6570\n",
      "\n",
      "6. \u5199\u7a0b\u5e8f `transferMultipleColumToMatrix.py` \u5c06\u6587\u4ef6(multipleColExpr.txt)\u4e2d\u57fa\u56e0\u5728\u591a\u4e2a\u7ec4\u7ec7\u4e2d\u7684\u8868\u8fbe\u6570\u636e\u8f6c\u6362\u4e3a\u77e9\u9635\u5f62\u5f0f\n",
      "    * \u7528\u5230\u7684\u77e5\u8bc6\u70b9\n",
      "        * aDict['key'] = {}\n",
      "        * aDict['key']['key2'] = value\n",
      "        * if key not in aDict\n",
      "        * aDict = {'ENSG00000000003': {\"A-431\": 21.3, \"A-549\", 32.5,...},\"ENSG00000000003\":{},}\n",
      "    * \u8f93\u5165\u683c\u5f0f(\u53ea\u9700\u8981\u524d3\u5217\u5c31\u53ef\u4ee5)\n",
      "```\n",
      "Gene    Sample  Value   Unit    Abundance\n",
      "ENSG00000000003 A-431   21.3    FPKM    Medium\n",
      "ENSG00000000003 A-549   32.5    FPKM    Medium\n",
      "ENSG00000000003 AN3-CA  38.2    FPKM    Medium\n",
      "ENSG00000000003 BEWO    31.4    FPKM    Medium\n",
      "ENSG00000000003 CACO-2  63.9    FPKM    High\n",
      "ENSG00000000005 A-431   0.0     FPKM    Not detected\n",
      "ENSG00000000005 A-549   0.0     FPKM    Not detected\n",
      "ENSG00000000005 AN3-CA  0.0     FPKM    Not detected\n",
      "ENSG00000000005 BEWO    0.0     FPKM    Not detected\n",
      "ENSG00000000005 CACO-2  0.0     FPKM    Not detected\n",
      "```\n",
      "    * \u8f93\u51fa\u683c\u5f0f\n",
      "```\n",
      "Name\tA-431\tA-549\tAN3-CA\tBEWO\tCACO-2\n",
      "ENSG00000000460\t25.2\t14.2\t10.6\t24.4\t14.2\n",
      "ENSG00000000938\t0.0\t0.0\t0.0\t0.0\t0.0\n",
      "ENSG00000001084\t19.1\t155.1\t24.4\t12.6\t23.5\n",
      "ENSG00000000457\t2.8\t3.4\t3.8\t5.8\t2.9\n",
      "```\n",
      "\n",
      "6. \u5199\u7a0b\u5e8f `reverseComplementary.py`\u8ba1\u7b97\u5e8f\u5217 `ACGTACGTACGTCACGTCAGCTAGAC`\u7684\u53cd\u5411\u4e92\u8865\u5e8f\u5217\n",
      "    * \u7528\u5230\u7684\u77e5\u8bc6\u70b9\n",
      "        * reverse\n",
      "        * list(seq)\n",
      "7. \u5199\u7a0b\u5e8f `collapsemiRNAreads.py`\u8f6c\u6362smRNA-Seq\u7684\u6d4b\u5e8f\u6570\u636e\n",
      "    * \u8f93\u5165\u6587\u4ef6\u683c\u5f0f(mir.collapse, tab-\u5206\u5272\u7684\u4e24\u5217\u6587\u4ef6\uff0c\u7b2c\u4e00\u5217\u4e3a\u5e8f\u5217\uff0c\u7b2c\u4e8c\u5217\u4e3a\u5e8f\u5217\u88ab\u6d4b\u5230\u7684\u6b21\u6570)\n",
      "```\n",
      "        ID_REF        VALUE\n",
      "        ACTGCCCTAAGTGCTCCTTCTGGC        2\n",
      "        ATAAGGTGCATCTAGTGCAGATA        25\n",
      "        TGAGGTAGTAGTTTGTGCTGTTT        100\n",
      "        TCCTACGAGTTGCATGGATTC        4\n",
      "```\n",
      "    * \u8f93\u51fa\u6587\u4ef6\u683c\u5f0f (mir.collapse.fa, \u540d\u5b57\u7684\u524d3\u4e2a\u5b57\u6bcd\u4e3a\u6837\u54c1\u7684\u7279\u5f02\u6807\u793a\uff0c\u4e2d\u95f4\u7684\u6570\u5b57\u8868\u793a\u7b2c\u51e0\u6761\u5e8f\u5217\uff0c\u662f\u5e8f\u5217\u540d\u5b57\u7684\u552f\u4e00\u6807\u793a\uff0c\u7b2c\u4e09\u90e8\u5206\u662fx\u52a0\u6bcf\u4e2areads\u88ab\u6d4b\u5230\u7684\u6b21\u6570\u3002\u4e09\u90e8\u5206\u7528\u4e0b\u5212\u7ebf\u8fde\u8d77\u6765\u4f5c\u4e3afasta\u5e8f\u5217\u7684\u540d\u5b57\u3002)\n",
      "```        \n",
      "        >ESB_1_x2\n",
      "        ACTGCCCTAAGTGCTCCTTCTGGC\n",
      "        >ESB_2_x25\n",
      "        ATAAGGTGCATCTAGTGCAGATA\n",
      "        >ESB_3_x100\n",
      "        TGAGGTAGTAGTTTGTGCTGTTT\n",
      "        >ESB_4_x4\n",
      "        TCCTACGAGTTGCATGGATTC\n",
      "```\n",
      "8. \u7b80\u5316\u7684\u77ed\u5e8f\u5217\u5339\u914d\u7a0b\u5e8f (map.py) \u628ashort.fa\u4e2d\u7684\u5e8f\u5217\u6bd4\u5bf9\u5230ref.fa, \u8f93\u51fa\u77ed\u5e8f\u5217\u5339\u914d\u5230ref.fa\u6587\u4ef6\u4e2d\u54ea\u4e9b\u5e8f\u5217\u7684\u54ea\u4e9b\u4f4d\u7f6e\n",
      "    * \u7528\u5230\u7684\u77e5\u8bc6\u70b9\n",
      "        * find\n",
      "    * \u8f93\u51fa\u683c\u5f0f (\u8f93\u51fa\u683c\u5f0f\u4e3abed\u683c\u5f0f\uff0c\u7b2c\u4e00\u5217\u4e3a\u5339\u914d\u5230\u7684\u67d3\u8272\u4f53\uff0c\u7b2c\u4e8c\u5217\u548c\u7b2c\u4e09\u5217\u4e3a\u5339\u914d\u5230\u67d3\u8272\u4f53\u5e8f\u5217\u7684\u8d77\u59cb\u7ec8\u6b62\u4f4d\u7f6e\uff08\u4f4d\u7f6e\u6807\u8bb0\u4ee50\u4e3a\u8d77\u59cb\uff0c\u4ee3\u8868\u7b2c\u4e00\u4e2a\u4f4d\u7f6e\uff1b\u7ec8\u6b62\u4f4d\u7f6e\u4e0d\u5305\u542b\u5728\u5185\uff0c\u7b2c\u4e00\u4e2a\u4f8b\u5b50\u4e2d\u6240\u793a\u5e8f\u5217\u7684\u4f4d\u7f6e\u662f(199,208](\u524d\u95ed\u540e\u5f00\uff0c\u5b9e\u9645\u662fchr1\u67d3\u8272\u4f53\u7b2c199-206\u7684\u5e8f\u5217\uff0c0\u8d77\u59cb). \u7b2c4\u5217\u4e3a\u77ed\u5e8f\u5217\u81ea\u8eab\u7684\u5e8f\u5217.)\u3002\n",
      "    * \u9644\u52a0\u8981\u6c42\uff1a\u53ef\u4ee5\u53ea\u5339\u914d\u5230\u7ed9\u5b9a\u7684\u6a21\u677f\u94fe\uff0c\u4e5f\u53ef\u4ee5\u8003\u8651\u5339\u914d\u5230\u6a21\u677f\u94fe\u7684\u4e92\u8865\u94fe\u3002\u8fd9\u65f6\u7b2c5\u5217\u53ef\u4ee5\u4e3a\u77ed\u5e8f\u5217\u7684\u540d\u5b57\uff0c\u7b2c\u516d\u5217\u4e3a\u94fe\u7684\u4fe1\u606f\uff0c\u5339\u914d\u5230\u6a21\u677f\u94fe\u4e3a'+'\uff0c\u5339\u914d\u5230\u4e92\u8865\u94fe\u4e3a'-'\u3002\u6ce8\u610f\u5339\u914d\u5230\u4e92\u8865\u94fe\u65f6\u8d77\u59cb\u4f4d\u7f6e\u4e5f\u662f\u4ece\u6a21\u677f\u94fe\u76845'\u7aef\u7b97\u8d77\u7684\u3002\n",
      "``` \n",
      "    chr1\t199\t208\tTGGCGTTCA\n",
      "    chr1\t207\t216\tACCCCGCTG\n",
      "    chr2\t63\t70\tAAATTGC\n",
      "    chr3\t0\t7\tAATAAAT\n",
      "```\n",
      "\n",
      "10. \u5907\u6ce8\uff1a\n",
      "    * \u6bcf\u4e2a\u63d0\u5230\u63d0\u5230\u7684\u201c\u7528\u5230\u7684\u77e5\u8bc6\u70b9\u201d\u4e3a\u76f8\u5bf9\u4e8e\u524d\u9762\u7684\u9898\u76ee\u65b0\u589e\u7684\u77e5\u8bc6\u70b9\uff0c\u8bf7\u7efc\u5408\u8003\u8651\u3002\u6b64\u5916\uff0c\u5bf9\u4e8e\u4e0d\u540c\u7684\u601d\u8def\u5e76\u4e0d\u662f\u6240\u6709\u63d0\u5230\u7684\u77e5\u8bc6\u70b9\u90fd\u4f1a\u7528\u7740\uff0c\u800c\u4e14\u4e5f\u53ef\u80fd\u4f1a\u7528\u5230\u672a\u63d0\u5230\u7684\u77e5\u8bc6\u70b9\u3002\u4f46\u662f\u6240\u6709\u77e5\u8bc6\u70b9\u90fd\u5728\u524d\u9762\u7684\u8bb2\u4e49\u90e8\u5206\u6709\u4ecb\u7ecd\u3002\n",
      "    * \u6bcf\u4e2a\u7a0b\u5e8f\u5bf9\u4e8e\u4f60\u8eab\u8fb9\u4f1a\u5199\u7684\u4eba\u6765\u8bf4\u90fd\u5f88\u7b80\u5355\uff0c\u56e0\u6b64\u4f60\u4e00\u5b9a\u8981\u514b\u5236\u4f4f\uff0c\u72ec\u7acb\u53bb\u628a\u7b54\u6848\u505a\u51fa\uff0c\u591a\u770b\u9519\u8bef\u63d0\u793a\uff0c\u591a\u6bd4\u5bf9\u7a0b\u5e8f\u8f93\u51fa\u7ed3\u679c\u548c\u9884\u671f\u7ed3\u679c\u7684\u5dee\u5f02\u3002\n",
      "    * \u5b66\u4e60\u953b\u70bc\u201c\u8bfb\u7a0b\u5e8f\u201d\uff0c\u5373\u5bf9\u7740\u6587\u4ef6\u6a21\u62df\u6574\u4e2a\u7684\u8bfb\u5165\u3001\u5904\u7406\u8fc7\u7a0b\u6765\u53d1\u73b0\u53ef\u80fd\u7684\u903b\u8f91\u95ee\u9898\u3002\n",
      "    * \u7a0b\u5e8f\u8fd0\u884c\u6ca1\u6709\u9519\u8bef\u4e0d\u4ee3\u8868\u4f60\u5199\u7684\u7a0b\u5e8f\u5b8c\u6210\u4e86\u4f60\u7684\u9700\u6c42\uff0c\u4f60\u8981\u53bb\u67e5\u9a8c\u8f93\u51fa\u7ed3\u679c\u662f\u4e0d\u662f\u4f60\u60f3\u8981\u7684\u3002\n",
      "11. \u5173\u4e8e\u7a0b\u5e8f\u8c03\u8bd5\n",
      "    * \u5728\u521d\u5199\u7a0b\u5e8f\u65f6\uff0c\u53ef\u80fd\u4f1a\u51fa\u73b0\u5404\u79cd\u5404\u6837\u7684\u9519\u8bef\uff0c\u5e38\u89c1\u7684\u6709\u7f29\u8fdb\u4e0d\u4e00\u81f4\uff0c\u53d8\u91cf\u540d\u5b57\u62fc\u5199\u9519\u8bef\uff0c\u4e22\u5931\u5192\u53f7\uff0c\u6587\u4ef6\u540d\u672a\u52a0\u5f15\u53f7\u7b49\uff0c\u8fd9\u65f6\u8981\u6839\u636e\u9519\u8bef\u63d0\u793a\u67e5\u770b\u9519\u8bef\u7c7b\u578b\u662f\u4ec0\u4e48\uff0c\u51fa\u9519\u7684\u662f\u54ea\u4e00\u884c\u6765\u5b9a\u4f4d\u9519\u8bef\u3002\u5f53\u7136\uff0c\u6709\u7684\u65f6\u5019\u62a5\u9519\u7684\u884c\u81ea\u8eab\u4e0d\u4e00\u5b9a\u6709\u9519\uff0c\u53ef\u80fd\u662f\u5176\u524d\u9762\u6216\u540e\u9762\u7684\u884c\u51fa\u73b0\u4e86\u9519\u8bef\u3002\n",
      "    * \u5f53\u7ed3\u679c\u4e0d\u7b26\u5408\u9884\u671f\u65f6\uff0c\u8981\u5b66\u4f1a**\u4f7f\u7528print\u6765\u67e5\u770b\u6bcf\u6b65\u7684\u64cd\u4f5c\u662f\u5426\u6b63\u786e**\uff0c\u6bd4\u5982\u6211\u8bfb\u5165\u4e86\u5b57\u5178\uff0c\u6211\u5c31\u6253\u5370\u4e0b\u5b57\u5178\uff0c\u770b\u770b\u8bfb\u5165\u7684\u662f\u4e0d\u662f\u6211\u60f3\u8981\u7684\uff0c\u662f\u5426\u542b\u6709\u4e0d\u8be5\u5b58\u5728\u7684\u5b57\u7b26\uff1b\u6216\u8005**\u5728\u6bcf\u4e2a\u5224\u65ad\u53e5\u3001\u51fd\u6570\u8c03\u5165\u7684\u60c5\u51b5\u4e0b\u6253\u5370\u4e2a\u5b57\u7b26\uff0c\u6765\u8ddf\u8e2a\u7a0b\u5e8f\u7684\u8fd0\u884c\u8f68\u8ff9**\u3002"
     ]
    },
    {
     "cell_type": "heading",
     "level": 1,
     "metadata": {},
     "source": [
      "\u51fd\u6570\u64cd\u4f5c"
     ]
    },
    {
     "cell_type": "markdown",
     "metadata": {},
     "source": [
      "\u51fd\u6570\u662f\u91cd\u7528\u7684\u7a0b\u5e8f\u6bb5\u3002\u5b83\u4eec\u5141\u8bb8\u4f60\u7ed9\u4e00\u5757\u8bed\u53e5\u4e00\u4e2a\u540d\u79f0\uff0c\u7136\u540e\u4f60\u53ef\u4ee5\u5728\u4f60\u7684\u7a0b\u5e8f\u7684\u4efb\u4f55\u5730\u65b9\u4f7f\u7528\u8fd9\u4e2a\u540d\u79f0\u4efb\u610f\u591a\u6b21\u5730\u8fd0\u884c\u8fd9\u4e2a\u8bed\u53e5\u5757\u3002\u8fd9\u88ab\u79f0\u4e3a `\u8c03\u7528` \u51fd\u6570\u3002\u6211\u4eec\u5df2\u7ecf\u4f7f\u7528\u4e86\u8bb8\u591a\u5185\u5efa\u7684\u51fd\u6570\uff0c\u6bd4\u5982`len`\u548c`range`\u3002\n",
      "\n",
      "\u51fd\u6570\u901a\u8fc7`def`\u5173\u952e\u5b57\u5b9a\u4e49\u3002`def`\u5173\u952e\u5b57\u540e\u8ddf\u4e00\u4e2a\u51fd\u6570\u7684 `\u6807\u8bc6\u7b26` \u540d\u79f0\uff0c\u7136\u540e\u8ddf\u4e00\u5bf9\u5706\u62ec\u53f7\u3002\u5706\u62ec\u53f7\u4e4b\u4e2d\u53ef\u4ee5\u5305\u62ec\u4e00\u4e9b\u53d8\u91cf\u540d\uff0c\u8be5\u884c\u4ee5\u5192\u53f7\u7ed3\u5c3e\u3002\u63a5\u4e0b\u6765\u662f\u4e00\u5757\u8bed\u53e5\uff0c\u5b83\u4eec\u662f\u51fd\u6570\u4f53\u3002\n",
      "\n"
     ]
    },
    {
     "cell_type": "code",
     "collapsed": false,
     "input": [
      "def print_hello():\n",
      "    print \"Hello, you!\"\n",
      "\n",
      "print_hello()"
     ],
     "language": "python",
     "metadata": {},
     "outputs": [
      {
       "output_type": "stream",
       "stream": "stdout",
       "text": [
        "Hello, you!\n"
       ]
      }
     ],
     "prompt_number": 29
    },
    {
     "cell_type": "code",
     "collapsed": false,
     "input": [
      "def hello(who):\n",
      "    print \"Hello, %s!\" % who\n",
      "\n",
      "hello('you')\n",
      "hello('me')"
     ],
     "language": "python",
     "metadata": {},
     "outputs": [
      {
       "output_type": "stream",
       "stream": "stdout",
       "text": [
        "Hello, you!\n",
        "Hello, me!\n"
       ]
      }
     ],
     "prompt_number": 30
    },
    {
     "cell_type": "code",
     "collapsed": false,
     "input": [
      "print \"\u628a\u4e4b\u524d\u5199\u8fc7\u7684\u8bed\u53e5\u5757\u7a0d\u5fae\u5305\u88c5\u4e0b\u5c31\u662f\u51fd\u6570\u4e86\\n\"\n",
      "\n",
      "def findAll(string, pattern):\n",
      "    posL = []\n",
      "    pos = 0\n",
      "    for i in string:\n",
      "        pos += 1\n",
      "        if i == pattern:\n",
      "            posL.append(pos)\n",
      "    #-------------------\n",
      "    return posL\n",
      "#------END of findAll-------\n",
      "a = findAll(\"ABCDEFDEACFBACACA\", \"A\")\n",
      "print a \n",
      "print findAll(\"ABCDEFDEACFBACACA\", \"B\")"
     ],
     "language": "python",
     "metadata": {},
     "outputs": [
      {
       "output_type": "stream",
       "stream": "stdout",
       "text": [
        "\u628a\u4e4b\u524d\u5199\u8fc7\u7684\u8bed\u53e5\u5757\u7a0d\u5fae\u5305\u88c5\u4e0b\u5c31\u662f\u51fd\u6570\u4e86\n",
        "\n",
        "[1, 9, 13, 15, 17]\n",
        "[2, 12]\n"
       ]
      }
     ],
     "prompt_number": 31
    },
    {
     "cell_type": "code",
     "collapsed": false,
     "input": [
      "def read(file):\n",
      "    aDict = {}\n",
      "    for line in open(file):\n",
      "        if line[0] == '>':\n",
      "            name = line.strip()\n",
      "            aDict[name] = []\n",
      "        else:\n",
      "            aDict[name].append(line.strip())\n",
      "    #----------------------------------\n",
      "    for name, lineL in aDict.items():\n",
      "        aDict[name] = ''.join(lineL)\n",
      "    return aDict\n",
      "\n",
      "print read(\"data/test1.fa\")\n",
      "read(\"data/test2.fa\")"
     ],
     "language": "python",
     "metadata": {},
     "outputs": [
      {
       "output_type": "stream",
       "stream": "stdout",
       "text": [
        "{'>NM_0112835 gene=Rp15 CDS=128-6412': 'AATAAATCCAAAGACATTTGTTTACGTGAAACAAGCAGGTTGCATATCCAGTGACGTTTATACAGACCAC', '>NM_011283 gene=Rp1 CDS=128-6412': 'AATAAATCCAAAGACATTTGTTTACGTGAAACAAGCAGGTTGCATATCCAGTGACGTTTATACAGACCAC', '>NM_001011874 gene=Xkr4 CDS=151-2091': 'gcggcggcgggcgagcgggcgctggagtaggagctggggagcggcgcggccggggaaggaagccagggcg', '>NM_001195662 gene=Rp1 CDS=55-909': 'AGGTCTCACCCAAAATGAGTGACACACCTTCTACTAGTTTCTCCATGATTCATCTGACTTCTGAAGGTCA'}\n"
       ]
      },
      {
       "metadata": {},
       "output_type": "pyout",
       "prompt_number": 32,
       "text": [
        "{'>NM_001011874 gene=Xkr4 CDS=151-2091': 'gcggcggcgggcgagcgggcgctggagtaggagctggggagcggcgcggccggggaaggaagccagggcgaggcgaggaggtggcgggaggaggagacagcagggacaggTGTCAGATAAAGGAGTGCTCTCCTCCGCTGCCGAGGCATCATGGCCGCTAAGTCAGACGGGAGGCTGAAGATGAAGAAGAGCAGCGACGTGGCGTTCACCCCGCTGCAGAACTCGGACAATTCGGGCTCTGTGCAAGGACTGGCTCCAGGCTTGCCGTCGGGGTCCGGAG',\n",
        " '>NM_001195662 gene=Rp1 CDS=55-909': 'AAGCTCAGCCTTTGCTCAGATTCTCCTCTTGATGAAACAAAGGGATTTCTGCACATGCTTGAGAAATTGCAGGTCTCACCCAAAATGAGTGACACACCTTCTACTAGTTTCTCCATGATTCATCTGACTTCTGAAGGTCAAGTTCCTTCCCCTCGCCATTCAAATATCACTCATCCTGTAGTGGCTAAACGCATCAGTTTCTATAAGAGTGGAGACCCACAGTTTGGCGGCGTTCGGGTGGTGGTCAACCCTCGTTCCTTTAAGACTTTTGACGCTCTGCTGGACAGTTTATCCAGGAAGGTACCCCTGCCCTTTGGGGTAAGGAACATCAGCACGCCCCGTGGACGACACAGCATCACCAGGCTGGAGGAGCTAGAGGACGGCAAGTCTTATGTGTGCTCCCACAATAAGAAGGTGCTG',\n",
        " '>NM_011283 gene=Rp1 CDS=128-6412': 'AATAAATCCAAAGACATTTGTTTACGTGAAACAAGCAGGTTGCATATCCAGTGACGTTTATACAGACCACACAAACTATTTACTCTTTTCTTCGTAAGGAAAGGTTCAACTTCTGGTCTCACCCAAAATGAGTGACACACCTTCTACTAGTTTCTCCATGATTCATCTGACTTCTGAAGGTCAAGTTCCTTCCCCTCGCCATTCAAATATCACTCATCCTGTAGTGGCTAAACGCATCAGTTTCTATAAGAGTGGAGACCCACAGTTTGGCGGCGTTCGGGTGGTGGTCAACCCTCGTTCCTTTAAGACTTTTGACGCTCTGCTGGACAGTTTATCCAGGAAGGTACCCCTGCCCTTTGGGGTAAGGAACATCAGCACGCCCCGTGGACGACACAGCATCACCAGGCTGGAGGAGCTAGAGGACGGCAAGTCTTATGTGTGCTCCCACAATAAGAAGGTGCTGCCAGTTGACCTGGACAAGGCCCGCAGGCGCCCTCGGCCCTGGCTGAGTAGTCGCTCCATAAGCACGCATGTGCAGCTCTGTCCTGCAACTGCCAATATGTCCACCATGGCACCTGGCATGCTCCGTGCCCCAAGGAGGCTCGTGGTCTTCCGGAATGGTGACCCGAA',\n",
        " '>NM_0112835 gene=Rp1 CDS=128-6412': 'AATAAATCCAAAGACATTTGTTTACGTGAAACAAGCAGGTTGCATATCCAGTGACGTTTATACAGACCACACAAACTATTTACTCTTTTCTTCGTAAGGAAAGGTTCAACTTCTGGTCTCACCCAAAATGAGTGACACACCTTCTACTAGTTTCTCCATGATTCATCTGACTTCTGAAGGTCAAGTTCCTTCCCCTCGCCATTCAAATATCACTCATCCTGTAGTGGCTAAACGCATCAGTTTCTATAAGAGTGGAGACCCACAGTTTGGCGGCGTTCGGGTGGTGGTCAACCCTCGTTCCTTTAAGACTTTTGACGCTCTGCTGGACAGTTTATCCAGGAAGGTACCCCTGCCCTTTGGGGTAAGGAACATCAGCACGCCCCGTGGACGACACAGCATCACCAGGCTGGAGGAGCTAGAGGACGGCAAGTCTTATGTGTGCTCCCACAATAAGAAGGTGCTGCCAGTTGACCTGGACAAGGCCCGCAGGCGCCCTCGGCCCTGGCTGAGTAGTCGCTCCATAAGCACGCATGTGCAGCTCTGTCCTGCAACTGCCAATATGTCCACCATGGCACCTGGCATGCTCCGTGCCCCAAGGAGGCTCGTGGTCTTCCGGAATGGTGACCCGAA'}"
       ]
      }
     ],
     "prompt_number": 32
    },
    {
     "cell_type": "heading",
     "level": 2,
     "metadata": {},
     "source": [
      "\u4f5c\u4e1a\uff08\u4e8c\uff09"
     ]
    },
    {
     "cell_type": "markdown",
     "metadata": {},
     "source": [
      "6. \u5c06 \u201c\u4f5c\u4e1a\uff08\u4e00\uff09\u201d \u4e2d\u7684\u7a0b\u5e8f\u5757\u7528\u51fd\u6570\u7684\u65b9\u5f0f\u91cd\u5199\uff0c\u5e76\u8c03\u7528\u6267\u884c\n",
      "    * \u7528\u5230\u7684\u77e5\u8bc6\u70b9\n",
      "        * def func(para1,para2,...):\n",
      "        * func(para1,para2,...)\n",
      "10. \u5907\u6ce8\uff1a\n",
      "    * \u6bcf\u4e2a\u63d0\u5230\u63d0\u5230\u7684\u201c\u7528\u5230\u7684\u77e5\u8bc6\u70b9\u201d\u4e3a\u76f8\u5bf9\u4e8e\u524d\u9762\u7684\u9898\u76ee\u65b0\u589e\u7684\u77e5\u8bc6\u70b9\uff0c\u8bf7\u7efc\u5408\u8003\u8651\u3002\u6b64\u5916\uff0c\u5bf9\u4e8e\u4e0d\u540c\u7684\u601d\u8def\u5e76\u4e0d\u662f\u6240\u6709\u63d0\u5230\u7684\u77e5\u8bc6\u70b9\u90fd\u4f1a\u7528\u7740\uff0c\u800c\u4e14\u4e5f\u53ef\u80fd\u4f1a\u7528\u5230\u672a\u63d0\u5230\u7684\u77e5\u8bc6\u70b9\u3002\u4f46\u662f\u6240\u6709\u77e5\u8bc6\u70b9\u90fd\u5728\u524d\u9762\u7684\u8bb2\u4e49\u90e8\u5206\u6709\u4ecb\u7ecd\u3002\n",
      "    * \u6bcf\u4e2a\u7a0b\u5e8f\u5bf9\u4e8e\u4f60\u8eab\u8fb9\u4f1a\u5199\u7684\u4eba\u6765\u8bf4\u90fd\u5f88\u7b80\u5355\uff0c\u56e0\u6b64\u4f60\u4e00\u5b9a\u8981\u514b\u5236\u4f4f\uff0c\u72ec\u7acb\u53bb\u628a\u7b54\u6848\u505a\u51fa\uff0c\u591a\u770b\u9519\u8bef\u63d0\u793a\uff0c\u591a\u6bd4\u5bf9\u7a0b\u5e8f\u8f93\u51fa\u7ed3\u679c\u548c\u9884\u671f\u7ed3\u679c\u7684\u5dee\u5f02\u3002\n",
      "    * \u5b66\u4e60\u953b\u70bc\u201c\u8bfb\u7a0b\u5e8f\u201d\uff0c\u5373\u5bf9\u7740\u6587\u4ef6\u6a21\u62df\u6574\u4e2a\u7684\u8bfb\u5165\u3001\u5904\u7406\u8fc7\u7a0b\u6765\u53d1\u73b0\u53ef\u80fd\u7684\u903b\u8f91\u95ee\u9898\u3002\n",
      "    * \u7a0b\u5e8f\u8fd0\u884c\u6ca1\u6709\u9519\u8bef\u4e0d\u4ee3\u8868\u4f60\u5199\u7684\u7a0b\u5e8f\u5b8c\u6210\u4e86\u4f60\u7684\u9700\u6c42\uff0c\u4f60\u8981\u53bb\u63d2\u773c\u8f93\u51fa\u7ed3\u679c\u662f\u4e0d\u662f\u4f60\u60f3\u8981\u7684\u3002\n",
      "11. \u5173\u4e8e\u7a0b\u5e8f\u8c03\u8bd5\n",
      "    * \u5728\u521d\u5199\u7a0b\u5e8f\u65f6\uff0c\u53ef\u80fd\u4f1a\u51fa\u73b0\u5404\u79cd\u5404\u6837\u7684\u9519\u8bef\uff0c\u5e38\u89c1\u7684\u6709\u7f29\u8fdb\u4e0d\u4e00\u81f4\uff0c\u53d8\u91cf\u540d\u5b57\u62fc\u5199\u9519\u8bef\uff0c\u4e22\u5931\u5192\u53f7\uff0c\u6587\u4ef6\u540d\u672a\u52a0\u5f15\u53f7\u7b49\uff0c\u8fd9\u65f6\u8981\u6839\u636e\u9519\u8bef\u63d0\u793a\u67e5\u770b\u9519\u8bef\u7c7b\u578b\u662f\u4ec0\u4e48\uff0c\u51fa\u9519\u7684\u662f\u54ea\u4e00\u884c\u6765\u5b9a\u4f4d\u9519\u8bef\u3002\u5f53\u7136\uff0c\u6709\u7684\u65f6\u5019\u62a5\u9519\u7684\u884c\u81ea\u8eab\u4e0d\u4e00\u5b9a\u6709\u9519\uff0c\u53ef\u80fd\u662f\u5176\u524d\u9762\u6216\u540e\u9762\u7684\u884c\u51fa\u73b0\u4e86\u9519\u8bef\u3002\n",
      "    * \u5f53\u7ed3\u679c\u4e0d\u7b26\u5408\u9884\u671f\u65f6\uff0c\u8981\u5b66\u4f1a\u4f7f\u7528print\u6765\u67e5\u770b\u6bcf\u6b65\u7684\u64cd\u4f5c\u662f\u5426\u6b63\u786e\uff0c\u6bd4\u5982\u6211\u8bfb\u5165\u4e86\u5b57\u5178\uff0c\u6211\u5c31\u6253\u5370\u4e0b\u5b57\u5178\uff0c\u770b\u770b\u8bfb\u5165\u7684\u662f\u4e0d\u662f\u6211\u60f3\u8981\u7684\uff0c\u662f\u5426\u542b\u6709\u4e0d\u8be5\u5b58\u5728\u7684\u5b57\u7b26\uff1b\u6216\u8005\u5728\u6bcf\u4e2a\u5224\u65ad\u53e5\u3001\u51fd\u6570\u8c03\u5165\u7684\u60c5\u51b5\u4e0b\u6253\u5370\u4e2a\u5b57\u7b26\uff0c\u6765\u8ddf\u8e2a\u7a0b\u5e8f\u7684\u8fd0\u884c\u8f68\u8ff9\u3002"
     ]
    },
    {
     "cell_type": "heading",
     "level": 1,
     "metadata": {},
     "source": [
      "\u6a21\u5757"
     ]
    },
    {
     "cell_type": "markdown",
     "metadata": {},
     "source": [
      "Python\u5185\u7f6e\u4e86\u5f88\u591a\u6807\u51c6\u5e93\uff0c\u5982\u505a\u6570\u5b66\u8fd0\u7b97\u7684 `math`, \u8c03\u7528\u7cfb\u7edf\u529f\u80fd\u7684 `sys`, \u5904\u7406\u6b63\u5219\u8868\u8fbe\u5f0f\u7684 `re`, \u64cd\u4f5c\u7cfb\u7edf\u76f8\u5173\u529f\u80fd\u7684 `os`\u7b49\u3002\u6211\u4eec\u4e3b\u8981\u5173\u6ce8\u4e24\u4e2a\u5e93:\n",
      "* sys\n",
      "    * sys.argv \u5904\u7406\u547d\u4ee4\u884c\u53c2\u6570\n",
      "    * sys.exit() \u9000\u51fa\u51fd\u6570\n",
      "    * sys.stdin \u6807\u51c6\u8f93\u5165\n",
      "    * sys.stderr \u6807\u51c6\u9519\u8bef\n",
      "* os\n",
      "    * os.system()\u6216os.popen() \u6267\u884c\u7cfb\u7edf\u547d\u4ee4\n",
      "    * os.getcwd() \u83b7\u53d6\u5f53\u524d\u76ee\u5f55\n",
      "    * os.remove() \u5220\u9664\u6587\u4ef6"
     ]
    },
    {
     "cell_type": "code",
     "collapsed": false,
     "input": [
      "import os\n",
      "os.getcwd()\n",
      "#help(os.getcwd)\n",
      "#os.remove(r'D:\\project\\github\\PBR_training\\script\\splitName.py')\n",
      "#os.system('rm file')"
     ],
     "language": "python",
     "metadata": {},
     "outputs": [
      {
       "metadata": {},
       "output_type": "pyout",
       "prompt_number": 57,
       "text": [
        "'D:\\\\project\\\\github\\\\PBR_training'"
       ]
      }
     ],
     "prompt_number": 57
    },
    {
     "cell_type": "code",
     "collapsed": false,
     "input": [
      "from os import getcwd\n",
      "getcwd()"
     ],
     "language": "python",
     "metadata": {},
     "outputs": [
      {
       "metadata": {},
       "output_type": "pyout",
       "prompt_number": 58,
       "text": [
        "'D:\\\\project\\\\github\\\\PBR_training'"
       ]
      }
     ],
     "prompt_number": 58
    },
    {
     "cell_type": "heading",
     "level": 1,
     "metadata": {},
     "source": [
      "\u547d\u4ee4\u884c\u53c2\u6570"
     ]
    },
    {
     "cell_type": "markdown",
     "metadata": {},
     "source": [
      "`sys.argv`\u662f\u4e00\u4e2a\u5217\u8868\uff0c\u5b58\u50a8\u4e86\u5305\u542b\u7a0b\u5e8f\u540d\u5b57\u5728\u5185\u7684\u4f20\u7ed9\u7a0b\u5e8f\u7684\u547d\u4ee4\u884c\u53c2\u6570\u3002"
     ]
    },
    {
     "cell_type": "code",
     "collapsed": false,
     "input": [
      "%%writefile testSys.py\n",
      "import sys\n",
      "print sys.argv"
     ],
     "language": "python",
     "metadata": {},
     "outputs": [
      {
       "output_type": "stream",
       "stream": "stdout",
       "text": [
        "Overwriting testSys.py\n"
       ]
      }
     ],
     "prompt_number": 59
    },
    {
     "cell_type": "code",
     "collapsed": false,
     "input": [
      "%run testSys 'abc' cde 1234"
     ],
     "language": "python",
     "metadata": {},
     "outputs": [
      {
       "output_type": "stream",
       "stream": "stdout",
       "text": [
        "['testSys.py', \"'abc'\", 'cde', '1234']\n"
       ]
      }
     ],
     "prompt_number": 60
    },
    {
     "cell_type": "code",
     "collapsed": false,
     "input": [
      "%%writefile cat.py\n",
      "import sys\n",
      "\n",
      "def read_print_file(filename):\n",
      "    for line in open(filename):\n",
      "        print line,\n",
      "#------END read_print_file--------------------------\n",
      "\n",
      "#main\u51fd\u6570\u53ca\u5176\u8c03\u7528\u90e8\u5206\u662f\u6211\u4e2a\u4eba\u5199\u7a0b\u5e8f\u7684\u56fa\u5b9a\u683c\u5f0f\uff0c\u7167\u642c\u5c31\u53ef\u4ee5\n",
      "def main(): #\u4e00\u822c\u4e3b\u7a0b\u5e8f\u4f1a\u5305\u542b\u5728main\u51fd\u6570\u4e2d\uff0c\u5728\u6587\u4ef6\u7684\u6700\u540e\u8c03\u7528main\u51fd\u6570\u5373\u53ef\u8fd0\u884c\u7a0b\u5e8f\n",
      "    if len(sys.argv) < 2:  #\u5982\u679c\u547d\u4ee4\u884c\u53c2\u6570\u4e0d\u8db3\u4e24\u4e2a\uff0c\u5219\u63d0\u793a\u64cd\u4f5c\n",
      "        #\u4e00\u822c\u63d0\u793a\u4fe1\u606f\u8f93\u51fa\u5230\u6807\u51c6\u9519\u8bef\n",
      "        print >>sys.stderr, \"Usage: python %s filename\" % sys.argv[0] \n",
      "        sys.exit(0)\n",
      "    file = sys.argv[1]\n",
      "    read_print_file(file)\n",
      "#--------END main------------------\n",
      "#\u8fd9\u53e5\u8bdd\u662f\u8bf4\u53ea\u6709\u5728\u6587\u4ef6\u88ab\u6267\u884c\u65f6\u624d\u8c03\u7528main\u51fd\u6570\u3002\u5982\u679c\u8fd9\u4e2a\u6587\u4ef6\u88ab\u5176\u5b83\u6587\u4ef6\u8c03\u7528\uff0c\u5219\u4e0d\u6267\u884cmain\u51fd\u6570\u3002\n",
      "if __name__ == '__main__': \n",
      "    main()"
     ],
     "language": "python",
     "metadata": {},
     "outputs": [
      {
       "output_type": "stream",
       "stream": "stdout",
       "text": [
        "Writing cat.py\n"
       ]
      }
     ],
     "prompt_number": 1
    },
    {
     "cell_type": "code",
     "collapsed": false,
     "input": [
      "%run cat"
     ],
     "language": "python",
     "metadata": {},
     "outputs": [
      {
       "output_type": "stream",
       "stream": "stderr",
       "text": [
        "Usage: python cat.py filename\n"
       ]
      }
     ],
     "prompt_number": 62
    },
    {
     "cell_type": "code",
     "collapsed": false,
     "input": [
      "%run cat data/test1.fq"
     ],
     "language": "python",
     "metadata": {},
     "outputs": [
      {
       "output_type": "stream",
       "stream": "stdout",
       "text": [
        "@HWI-ST1223:80:D1FMTACXX:2:1101:1243:2213 1:N:0:AGTCAA\n",
        "TCTGTGTAGCCNTGGCTGTCCTGGAACTCACTTTGTAGACCAGGCTGGCATGCACCACCACNNNCGGCTCATTTGTCTTTNNTTTTTGTTTTGTTCTGTA\n",
        "+\n",
        "BCCFFFFFFHH#4AFHIJJJJJJJJJJJJJJJJJIJIJJJJJGHIJJJJJJJJJJJJJIIJ###--5ABECFFDDEEEEE##,5=@B8?CDD<AD>C:@>\n",
        "@HWI-ST1223:80:D1FMTACXX:2:1101:1375:2060 1:N:0:AGTCAA\n",
        "NTGCTGAGCCACGACAAGGATCCCAGAGGGCCNAGCCCTGCATCTTGTATGGACCAGTTACNCATCAAAAGAGACTACTGTAGGCACCATCAATCAGATC\n",
        "+\n",
        "#1:DDDD;?CFFHDFEEIGIIIIIIG;DHFGG#)0?BFBDHBFF<FCFEFD;@DD@A=7?E#,,,;=(>3;=;;C>ACCC@CCCCCBBBCCAACCCCCCC\n",
        "@HWI-ST1223:80:D1FMTACXX:2:1101:1383:2091 1:N:0:AGTCAA\n",
        "NGTTCGTGTGGAACCTGGCGCTAAACCATTCGTAGACGACCTGCTTCTGGGTCGGGGTTTCGTACGTAGCAGAGCAGCTCCCTCGCTGCGATCTATTGAA\n",
        "+\n",
        "#1=DDFDFHHHHHJGJJJJJJJJJJJJJJJIJIGDHIHIGIJJJJJJJIIIGHHFDD3>BDDBDDDDDDDDDDBDCCBDDDDDDDDDDDBBDDDDEEACD\n",
        "@HWI-ST1223:80:D1FMTACXX:2:1101:1452:2138 1:N:0:AGTCAA\n",
        "NTCTAGGAGGTCTAGAAAGCCCAGGCCACCGGTACAAACATCAAGGGTGTTACGGATGTGCCGCTCTGAACCTCCAGGACGACTTTGATTTCAACTACAA\n",
        "+\n",
        "#4=DFFEFHHHHHJJJJJIJJJJHIIJGJJJJ@GIIJJJJJJIJJJJFGHIIIJJHHHDFFFFDDDDDDDDDDDDCDDDDDDDDDDDCCCEDEDDDDDDD\n"
       ]
      }
     ],
     "prompt_number": 63
    },
    {
     "cell_type": "markdown",
     "metadata": {},
     "source": [
      "\u4f7f\u7528 `optparse`\uff0c\u529f\u80fd\u66f4\u5f3a\u5927 (\u4fdd\u7559\u5185\u5bb9)"
     ]
    },
    {
     "cell_type": "code",
     "collapsed": false,
     "input": [
      "%%writefile skeleton.py\n",
      "#!/usr/bin/env python\n",
      "\n",
      "desc = '''\n",
      "Functional description:\n",
      "\n",
      "'''\n",
      "\n",
      "import sys\n",
      "import os\n",
      "from time import localtime, strftime \n",
      "timeformat = \"%Y-%m-%d %H:%M:%S\"\n",
      "from optparse import OptionParser as OP\n",
      "\n",
      "def cmdparameter(argv):\n",
      "    if len(argv) == 1:\n",
      "        global desc\n",
      "        print >>sys.stderr, desc\n",
      "        cmd = 'python ' + argv[0] + ' -h'\n",
      "        os.system(cmd)\n",
      "        sys.exit(0)\n",
      "    usages = \"%prog -i file\"\n",
      "    parser = OP(usage=usages)\n",
      "    parser.add_option(\"-i\", \"--input-file\", dest=\"filein\",\n",
      "        metavar=\"FILEIN\", help=\"The name of input file. \\\n",
      "Standard input is accepted.\")\n",
      "    parser.add_option(\"-v\", \"--verbose\", dest=\"verbose\",\n",
      "        default=0, help=\"Show process information\")\n",
      "    parser.add_option(\"-d\", \"--debug\", dest=\"debug\",\n",
      "        default=False, help=\"Debug the program\")\n",
      "    (options, args) = parser.parse_args(argv[1:])\n",
      "    assert options.filein != None, \"A filename needed for -i\"\n",
      "    return (options, args)\n",
      "#--------------------------------------------------------------------\n",
      "\n",
      "\n",
      "def main():\n",
      "    options, args = cmdparameter(sys.argv)\n",
      "    #-----------------------------------\n",
      "    file = options.filein\n",
      "    verbose = options.verbose\n",
      "    debug = options.debug\n",
      "    #-----------------------------------\n",
      "    if file == '-':\n",
      "        fh = sys.stdin\n",
      "    else:\n",
      "        fh = open(file)\n",
      "    #--------------------------------\n",
      "    for line in fh:\n",
      "        pass\n",
      "    #-------------END reading file----------\n",
      "    #----close file handle for files-----\n",
      "    if file != '-':\n",
      "        fh.close()\n",
      "    #-----------end close fh-----------\n",
      "    if verbose:\n",
      "        print >>sys.stderr,\\\n",
      "            \"--Successful %s\" % strftime(timeformat, localtime())\n",
      "if __name__ == '__main__':\n",
      "    startTime = strftime(timeformat, localtime())\n",
      "    main()\n",
      "    endTime = strftime(timeformat, localtime())\n",
      "    fh = open('python.log', 'a')\n",
      "    print >>fh, \"%s\\n\\tRun time : %s - %s \" % \\\n",
      "        (' '.join(sys.argv), startTime, endTime)\n",
      "    fh.close()"
     ],
     "language": "python",
     "metadata": {},
     "outputs": [
      {
       "output_type": "stream",
       "stream": "stdout",
       "text": [
        "Overwriting skeleton.py\n"
       ]
      }
     ],
     "prompt_number": 64
    },
    {
     "cell_type": "code",
     "collapsed": false,
     "input": [
      "%run skeleton -h"
     ],
     "language": "python",
     "metadata": {},
     "outputs": [
      {
       "output_type": "stream",
       "stream": "stdout",
       "text": [
        "Usage: skeleton.py -i file\n",
        "\n",
        "Options:\n",
        "  -h, --help            show this help message and exit\n",
        "  -i FILEIN, --input-file=FILEIN\n",
        "                        The name of input file. Standard input is accepted.\n",
        "  -v VERBOSE, --verbose=VERBOSE\n",
        "                        Show process information\n",
        "  -d DEBUG, --debug=DEBUG\n",
        "                        Debug the program\n"
       ]
      }
     ],
     "prompt_number": 65
    },
    {
     "cell_type": "heading",
     "level": 2,
     "metadata": {},
     "source": [
      "\u4f5c\u4e1a\uff08\u4e09\uff09"
     ]
    },
    {
     "cell_type": "markdown",
     "metadata": {},
     "source": [
      "7. \u4f7f \u201c\u4f5c\u4e1a\uff08\u4e8c\uff09\u201d \u4e2d\u7684\u7a0b\u5e8f\u90fd\u80fd\u63a5\u53d7\u547d\u4ee4\u884c\u53c2\u6570\n",
      "    * \u7528\u5230\u7684\u77e5\u8bc6\u70b9\n",
      "        * import sys\n",
      "        * sys.argv\n",
      "        * import optparse\n",
      "        \n",
      "10. \u5907\u6ce8\n",
      "    * \u6bcf\u4e2a\u63d0\u5230\u63d0\u5230\u7684\u201c\u7528\u5230\u7684\u77e5\u8bc6\u70b9\u201d\u4e3a\u76f8\u5bf9\u4e8e\u524d\u9762\u7684\u9898\u76ee\u65b0\u589e\u7684\u77e5\u8bc6\u70b9\uff0c\u8bf7\u7efc\u5408\u8003\u8651\u3002\u6b64\u5916\uff0c\u5bf9\u4e8e\u4e0d\u540c\u7684\u601d\u8def\u5e76\u4e0d\u662f\u6240\u6709\u63d0\u5230\u7684\u77e5\u8bc6\u70b9\u90fd\u4f1a\u7528\u7740\uff0c\u800c\u4e14\u4e5f\u53ef\u80fd\u4f1a\u7528\u5230\u672a\u63d0\u5230\u7684\u77e5\u8bc6\u70b9\u3002\u4f46\u662f\u6240\u6709\u77e5\u8bc6\u70b9\u90fd\u5728\u524d\u9762\u7684\u8bb2\u4e49\u90e8\u5206\u6709\u4ecb\u7ecd\u3002\n",
      "    * \u6bcf\u4e2a\u7a0b\u5e8f\u5bf9\u4e8e\u4f60\u8eab\u8fb9\u4f1a\u5199\u7684\u4eba\u6765\u8bf4\u90fd\u5f88\u7b80\u5355\uff0c\u56e0\u6b64\u4f60\u4e00\u5b9a\u8981\u514b\u5236\u4f4f\uff0c\u72ec\u7acb\u53bb\u628a\u7b54\u6848\u505a\u51fa\uff0c\u591a\u770b\u9519\u8bef\u63d0\u793a\uff0c\u591a\u6bd4\u5bf9\u7a0b\u5e8f\u8f93\u51fa\u7ed3\u679c\u548c\u9884\u671f\u7ed3\u679c\u7684\u5dee\u5f02\u3002\n",
      "    * \u5b66\u4e60\u953b\u70bc\u201c\u8bfb\u7a0b\u5e8f\u201d\uff0c\u5373\u5bf9\u7740\u6587\u4ef6\u6a21\u62df\u6574\u4e2a\u7684\u8bfb\u5165\u3001\u5904\u7406\u8fc7\u7a0b\u6765\u53d1\u73b0\u53ef\u80fd\u7684\u903b\u8f91\u95ee\u9898\u3002\n",
      "    * \u7a0b\u5e8f\u8fd0\u884c\u6ca1\u6709\u9519\u8bef\u4e0d\u4ee3\u8868\u4f60\u5199\u7684\u7a0b\u5e8f\u5b8c\u6210\u4e86\u4f60\u7684\u9700\u6c42\uff0c\u4f60\u8981\u53bb\u63d2\u773c\u8f93\u51fa\u7ed3\u679c\u662f\u4e0d\u662f\u4f60\u60f3\u8981\u7684\u3002\n",
      "11. \u5173\u4e8e\u7a0b\u5e8f\u8c03\u8bd5\n",
      "    * \u5728\u521d\u5199\u7a0b\u5e8f\u65f6\uff0c\u53ef\u80fd\u4f1a\u51fa\u73b0\u5404\u79cd\u5404\u6837\u7684\u9519\u8bef\uff0c\u5e38\u89c1\u7684\u6709\u7f29\u8fdb\u4e0d\u4e00\u81f4\uff0c\u53d8\u91cf\u540d\u5b57\u62fc\u5199\u9519\u8bef\uff0c\u4e22\u5931\u5192\u53f7\uff0c\u6587\u4ef6\u540d\u672a\u52a0\u5f15\u53f7\u7b49\uff0c\u8fd9\u65f6\u8981\u6839\u636e\u9519\u8bef\u63d0\u793a\u67e5\u770b\u9519\u8bef\u7c7b\u578b\u662f\u4ec0\u4e48\uff0c\u51fa\u9519\u7684\u662f\u54ea\u4e00\u884c\u6765\u5b9a\u4f4d\u9519\u8bef\u3002\u5f53\u7136\uff0c\u6709\u7684\u65f6\u5019\u62a5\u9519\u7684\u884c\u81ea\u8eab\u4e0d\u4e00\u5b9a\u6709\u9519\uff0c\u53ef\u80fd\u662f\u5176\u524d\u9762\u6216\u540e\u9762\u7684\u884c\u51fa\u73b0\u4e86\u9519\u8bef\u3002\n",
      "    * \u5f53\u7ed3\u679c\u4e0d\u7b26\u5408\u9884\u671f\u65f6\uff0c\u8981\u5b66\u4f1a\u4f7f\u7528print\u6765\u67e5\u770b\u6bcf\u6b65\u7684\u64cd\u4f5c\u662f\u5426\u6b63\u786e\uff0c\u6bd4\u5982\u6211\u8bfb\u5165\u4e86\u5b57\u5178\uff0c\u6211\u5c31\u6253\u5370\u4e0b\u5b57\u5178\uff0c\u770b\u770b\u8bfb\u5165\u7684\u662f\u4e0d\u662f\u6211\u60f3\u8981\u7684\uff0c\u662f\u5426\u542b\u6709\u4e0d\u8be5\u5b58\u5728\u7684\u5b57\u7b26\uff1b\u6216\u8005\u5728\u6bcf\u4e2a\u5224\u65ad\u53e5\u3001\u51fd\u6570\u8c03\u5165\u7684\u60c5\u51b5\u4e0b\u6253\u5370\u4e2a\u5b57\u7b26\uff0c\u6765\u8ddf\u8e2a\u7a0b\u5e8f\u7684\u8fd0\u884c\u8f68\u8ff9\u3002"
     ]
    },
    {
     "cell_type": "heading",
     "level": 1,
     "metadata": {},
     "source": [
      "\u66f4\u591aPython\u5185\u5bb9"
     ]
    },
    {
     "cell_type": "markdown",
     "metadata": {},
     "source": [
      "<a id=\"\u5355\u8bed\u53e5\u5757\"></a>"
     ]
    },
    {
     "cell_type": "heading",
     "level": 2,
     "metadata": {},
     "source": [
      "**\u5355\u8bed\u53e5\u5757**"
     ]
    },
    {
     "cell_type": "code",
     "collapsed": false,
     "input": [
      "if True:\n",
      "    print 'yes'\n",
      "    \n",
      "if True: print 'yes'\n",
      "\n",
      "x = 5\n",
      "y = 3\n",
      "\n",
      "if x > y:\n",
      "    print y\n",
      "else:\n",
      "    print x\n",
      "#-------------\n",
      "print y if y < x else x \n",
      "print x"
     ],
     "language": "python",
     "metadata": {},
     "outputs": [
      {
       "output_type": "stream",
       "stream": "stdout",
       "text": [
        "yes\n",
        "yes\n",
        "3\n",
        "3\n",
        "5\n"
       ]
      }
     ],
     "prompt_number": 90
    },
    {
     "cell_type": "markdown",
     "metadata": {},
     "source": [
      "<a id=\"\u5217\u8868\u7efc\u5408\"></a>"
     ]
    },
    {
     "cell_type": "heading",
     "level": 2,
     "metadata": {},
     "source": [
      "**\u5217\u8868\u7efc\u5408\uff0c\u751f\u6210\u65b0\u5217\u8868\u7684\u7b80\u5316\u7684for\u5faa\u73af**"
     ]
    },
    {
     "cell_type": "code",
     "collapsed": false,
     "input": [
      "aList = [1,2,3,4,5]\n",
      "bList = []\n",
      "for i in aList:\n",
      "    bList.append(i * 2)\n",
      "#-----------------------------------\n",
      "#nameL = [line.strip() for line in open(file)]\n",
      "    \n",
      "bList = [i * 2 for i in aList]\n",
      "print bList"
     ],
     "language": "python",
     "metadata": {},
     "outputs": [
      {
       "output_type": "stream",
       "stream": "stdout",
       "text": [
        "[2, 4, 6, 8, 10]\n"
       ]
      }
     ],
     "prompt_number": 91
    },
    {
     "cell_type": "code",
     "collapsed": false,
     "input": [
      "print \"\u5217\u8868\u7efc\u5408\u53ef\u4ee5\u505a\u5224\u65ad\u7684\"\n",
      "aList = [1,2,3,4,5]\n",
      "bList = [i * 2 for i in aList if i%2 != 0]\n",
      "print bList"
     ],
     "language": "python",
     "metadata": {},
     "outputs": [
      {
       "output_type": "stream",
       "stream": "stdout",
       "text": [
        "\u5217\u8868\u7efc\u5408\u53ef\u4ee5\u505a\u5224\u65ad\u7684\n",
        "[2, 6, 10]\n"
       ]
      }
     ],
     "prompt_number": 92
    },
    {
     "cell_type": "code",
     "collapsed": false,
     "input": [
      "print \"\u5217\u8868\u7efc\u5408\u4e5f\u53ef\u4ee5\u5d4c\u5957\u7684\"\n",
      "aList = [1,2,3,4,5]\n",
      "bList = [5,4,3,2,1]\n",
      "bList = [i * j for i in aList for j in bList]\n",
      "\n",
      "#for i in aList:\n",
      "#    for j in bList:\n",
      "#        print i * j\n",
      "print bList"
     ],
     "language": "python",
     "metadata": {},
     "outputs": [
      {
       "output_type": "stream",
       "stream": "stdout",
       "text": [
        "\u5217\u8868\u7efc\u5408\u4e5f\u53ef\u4ee5\u5d4c\u5957\u7684\n",
        "[5, 4, 3, 2, 1, 10, 8, 6, 4, 2, 15, 12, 9, 6, 3, 20, 16, 12, 8, 4, 25, 20, 15, 10, 5]\n"
       ]
      }
     ],
     "prompt_number": 93
    },
    {
     "cell_type": "markdown",
     "metadata": {},
     "source": [
      "\u65ad\u8a00\uff0c\u8bbe\u5b9a\u8fd0\u884c\u8fc7\u7a0b\u4e2d\u5fc5\u987b\u6ee1\u8db3\u7684\u6761\u4ef6\uff0c\u5f53\u60c5\u51b5\u8d85\u51fa\u9884\u671f\u65f6\u62a5\u9519\u3002\u5e38\u7528\u4e8e\u6587\u4ef6\u8bfb\u5165\u6216\u683c\u5f0f\u5224\u65ad\u65f6\uff0c\u6709\u52a9\u4e8e\u9884\u9632\u5f02\u5e38\u7684\u8bfb\u5165\u6216\u64cd\u4f5c\u3002"
     ]
    },
    {
     "cell_type": "code",
     "collapsed": false,
     "input": [
      "a = 1\n",
      "b = 2\n",
      "assert a == b, \"a is %s, b is %s\" % (a, b)\n",
      "\n",
      "if a == b:\n",
      "    pass\n",
      "else:\n",
      "    print \"a is %s, b is %s\" % (a, b)"
     ],
     "language": "python",
     "metadata": {},
     "outputs": [
      {
       "ename": "AssertionError",
       "evalue": "a is 1, b is 2",
       "output_type": "pyerr",
       "traceback": [
        "\u001b[1;31m---------------------------------------------------------------------------\u001b[0m\n\u001b[1;31mAssertionError\u001b[0m                            Traceback (most recent call last)",
        "\u001b[1;32m<ipython-input-94-1cdfb2fe6c3a>\u001b[0m in \u001b[0;36m<module>\u001b[1;34m()\u001b[0m\n\u001b[0;32m      1\u001b[0m \u001b[0ma\u001b[0m \u001b[1;33m=\u001b[0m \u001b[1;36m1\u001b[0m\u001b[1;33m\u001b[0m\u001b[0m\n\u001b[0;32m      2\u001b[0m \u001b[0mb\u001b[0m \u001b[1;33m=\u001b[0m \u001b[1;36m2\u001b[0m\u001b[1;33m\u001b[0m\u001b[0m\n\u001b[1;32m----> 3\u001b[1;33m \u001b[1;32massert\u001b[0m \u001b[0ma\u001b[0m \u001b[1;33m==\u001b[0m \u001b[0mb\u001b[0m\u001b[1;33m,\u001b[0m \u001b[1;34m\"a is %s, b is %s\"\u001b[0m \u001b[1;33m%\u001b[0m \u001b[1;33m(\u001b[0m\u001b[0ma\u001b[0m\u001b[1;33m,\u001b[0m \u001b[0mb\u001b[0m\u001b[1;33m)\u001b[0m\u001b[1;33m\u001b[0m\u001b[0m\n\u001b[0m\u001b[0;32m      4\u001b[0m \u001b[1;33m\u001b[0m\u001b[0m\n\u001b[0;32m      5\u001b[0m \u001b[1;32mif\u001b[0m \u001b[0ma\u001b[0m \u001b[1;33m==\u001b[0m \u001b[0mb\u001b[0m\u001b[1;33m:\u001b[0m\u001b[1;33m\u001b[0m\u001b[0m\n",
        "\u001b[1;31mAssertionError\u001b[0m: a is 1, b is 2"
       ]
      }
     ],
     "prompt_number": 94
    },
    {
     "cell_type": "markdown",
     "metadata": {},
     "source": [
      "<a id=\"lmfr\"></a>"
     ]
    },
    {
     "cell_type": "heading",
     "level": 2,
     "metadata": {},
     "source": [
      "lambda, map, filer, reduce (\u4fdd\u7559\u8282\u76ee)"
     ]
    },
    {
     "cell_type": "markdown",
     "metadata": {},
     "source": [
      "* lambda\u4ea7\u751f\u4e00\u4e2a\u6ca1\u6709\u540d\u5b57\u7684\u51fd\u6570\uff0c\u901a\u5e38\u4e3a\u4e86\u6ee1\u8db3\u4e00\u6b21\u4f7f\u7528\uff0c\u5176\u4f7f\u7528\u8bed\u6cd5\u4e3a`lambda argument_list: expression`\u3002\u53c2\u6570\u5217\u8868\u662f\u7528\u9017\u53f7\u5206\u9694\u5f00\u7684\u4e00\u4e2a\u5217\u8868\uff0c\u8868\u8fbe\u5f0f\u662f\u8fd9\u4e9b\u53c2\u6570\u7684\u7ec4\u5408\u64cd\u4f5c\u3002 \n",
      "* map\u6267\u884c\u4e00\u4e2a\u5faa\u73af\u64cd\u4f5c\uff0c\u4f7f\u7528\u8bed\u6cd5\u4e3a`map(func, seq)`\u3002\u7b2c\u4e00\u4e2a\u53c2\u6570\u662f\u8981\u8c03\u7528\u7684\u51fd\u6570\u6216\u51fd\u6570\u7684\u540d\u5b57\uff0c\u7b2c\u4e8c\u4e2a\u53c2\u6570\u662f\u4e00\u4e2a\u5e8f\u5217\uff08\u5982\u5217\u8868\u3001\u5b57\u7b26\u4e32\u3001\u5b57\u5178\uff09\u3002map\u4f1a\u4ee5\u5e8f\u5217\u7684\u6bcf\u4e2a\u5143\u7d20\u4e3a\u53c2\u6570\u8c03\u7528func\uff0c\u5e76\u65b0\u5efa\u4e00\u4e2a\u8f93\u51fa\u5217\u8868\u3002\n",
      "* filter\u7528\u4e8e\u8fc7\u6ee4\u5217\u8868\uff0c\u4f7f\u7528\u8bed\u6cd5\u4e3a`filter(func, list)`\u3002\u4ee5\u7b2c\u4e8c\u4e2a\u53c2\u6570\u7684\u6bcf\u4e2a\u5143\u7d20\u8c03\u7528func\uff0c\u8fd4\u56de\u503c\u4e3aTrue\u5219\u4fdd\u7559\uff0c\u5426\u5219\u820d\u5f03\u3002\n",
      "* reduce\u8fde\u7eed\u5bf9\u5217\u8868\u7684\u5143\u7d20\u5e94\u7528\u51fd\u6570\uff0c\u4f7f\u7528\u8bed\u6cd5\u4e3a`reduce(func, list)`\u3002\u5982\u679c\u6211\u4eec\u6709\u4e00\u4e2a\u5217\u8868aList = [1,2,3, ... ,n ], \u8c03\u7528`reduce(func, aList)`\u540e\u8fdb\u884c\u7684\u64cd\u4f5c\u4e3a: \u9996\u5148\u524d\u4e24\u4e2a\u5143\u7d20\u4f1a\u4f20\u5165\u51fd\u6570func\u505a\u8fd0\u7b97\uff0c\u8fd4\u56de\u503c\u66ff\u6362\u8fd9\u4e24\u4e2a\u5143\u7d20\uff0c\u6210\u4e3a\u6570\u7ec4\u7b2c\u4e00\u4e2a\u5143\u7d20aList = [func(1,2),3, ... , n];\u7136\u540e\u5f53\u524d\u7684\u524d\u4e24\u4e2a\u5143\u7d20\u518d\u4f20\u56fefunc\u51fd\u6570\u505a\u8fd0\u7b97\uff0c\u8fd4\u56de\u503c\u8fd4\u56de\u503c\u66ff\u6362\u8fd9\u4e24\u4e2a\u5143\u7d20\uff0c\u6210\u4e3a\u6570\u7ec4\u7b2c\u4e00\u4e2a\u5143\u7d20aList = [func(func(1,2),3), ... , n]\uff0c\u76f4\u5230\u5217\u8868\u53ea\u6709\u4e00\u4e2a\u5143\u7d20\u3002"
     ]
    },
    {
     "cell_type": "code",
     "collapsed": false,
     "input": [
      "print \"\u6c42\u548c\u51fd\u6570\"\n",
      "f = lambda x,y: x + y\n",
      "print f([1,2,3],[4,5,6])\n",
      "print f(10,15)"
     ],
     "language": "python",
     "metadata": {},
     "outputs": [
      {
       "output_type": "stream",
       "stream": "stdout",
       "text": [
        "\u6c42\u548c\u51fd\u6570\n",
        "[1, 2, 3, 4, 5, 6]\n",
        "25\n"
       ]
      }
     ],
     "prompt_number": 95
    },
    {
     "cell_type": "code",
     "collapsed": false,
     "input": [
      "print \"\u5355\u4e2a\u53c2\u6570\u7684map, lambda\u8c03\u7528\"\n",
      "aList = [1,2,3,4,5]\n",
      "print map(lambda x: x**2, aList)\n",
      "\n",
      "print \"\u591a\u4e2a\u53c2\u6570\u7684map, lambda\u8c03\u7528\"\n",
      "f = lambda x,y: x + y\n",
      "print map(f,[1,2,3],[4,5,6])\n",
      "\n",
      "print \"\u53c2\u6570\u4e3a\u5b57\u7b26\u4e32\"\n",
      "print map(lambda x: x.upper(), 'acdf')"
     ],
     "language": "python",
     "metadata": {},
     "outputs": [
      {
       "output_type": "stream",
       "stream": "stdout",
       "text": [
        "\u5355\u4e2a\u53c2\u6570\u7684map, lambda\u8c03\u7528\n",
        "[1, 4, 9, 16, 25]\n",
        "\u591a\u4e2a\u53c2\u6570\u7684map, lambda\u8c03\u7528\n",
        "[5, 7, 9]\n",
        "\u53c2\u6570\u4e3a\u5b57\u7b26\u4e32\n",
        "['A', 'C', 'D', 'F']\n"
       ]
      }
     ],
     "prompt_number": 96
    },
    {
     "cell_type": "code",
     "collapsed": false,
     "input": [
      "print \"\u8f93\u51fa\u6240\u6709\u7684\u5947\u6570\"\n",
      "aList = [1,2,3,4,5]\n",
      "print filter(lambda x: x%2, aList)"
     ],
     "language": "python",
     "metadata": {},
     "outputs": [
      {
       "output_type": "stream",
       "stream": "stdout",
       "text": [
        "\u8f93\u51fa\u6240\u6709\u7684\u5947\u6570\n",
        "[1, 3, 5]\n"
       ]
      }
     ],
     "prompt_number": 97
    },
    {
     "cell_type": "code",
     "collapsed": false,
     "input": [
      "print \"\u5217\u8868\u6c42\u548c\"\n",
      "aList = [1,2,3,4,5]\n",
      "print reduce(lambda a,b: a+b, aList)"
     ],
     "language": "python",
     "metadata": {},
     "outputs": [
      {
       "output_type": "stream",
       "stream": "stdout",
       "text": [
        "\u5217\u8868\u6c42\u548c\n",
        "15\n"
       ]
      }
     ],
     "prompt_number": 98
    },
    {
     "cell_type": "code",
     "collapsed": false,
     "input": [
      "print \"\u5217\u8868\u53d6\u6700\u5927\u503c\"\n",
      "aList = [1,2,3,4,5]\n",
      "print reduce(lambda a,b: a if a > b else b, aList)"
     ],
     "language": "python",
     "metadata": {},
     "outputs": [
      {
       "output_type": "stream",
       "stream": "stdout",
       "text": [
        "\u5217\u8868\u53d6\u6700\u5927\u503c\n",
        "5\n"
       ]
      }
     ],
     "prompt_number": 99
    },
    {
     "cell_type": "markdown",
     "metadata": {},
     "source": [
      "<a id='ee'></a>"
     ]
    },
    {
     "cell_type": "markdown",
     "metadata": {},
     "source": [
      "**exec, eval (\u6267\u884c\u5b57\u7b26\u4e32python\u8bed\u53e5, \u4fdd\u7559\u8282\u76ee)**"
     ]
    },
    {
     "cell_type": "code",
     "collapsed": false,
     "input": [
      "a = 'print \"Executing a string as a command\"'\n",
      "exec(a)"
     ],
     "language": "python",
     "metadata": {},
     "outputs": [
      {
       "output_type": "stream",
       "stream": "stdout",
       "text": [
        "Executing a string as a command\n"
       ]
      }
     ],
     "prompt_number": 100
    },
    {
     "cell_type": "code",
     "collapsed": false,
     "input": [
      "a = '(2 + 3) * 5'\n",
      "eval(a)"
     ],
     "language": "python",
     "metadata": {},
     "outputs": [
      {
       "metadata": {},
       "output_type": "pyout",
       "prompt_number": 101,
       "text": [
        "25"
       ]
      }
     ],
     "prompt_number": 101
    },
    {
     "cell_type": "heading",
     "level": 1,
     "metadata": {},
     "source": [
      "Reference"
     ]
    },
    {
     "cell_type": "markdown",
     "metadata": {},
     "source": [
      "* http://www.byteofpython.info/\n",
      "* http://woodpecker.org.cn/abyteofpython_cn/chinese/index.html\n",
      "* http://www.python-course.eu/\n",
      "* http://ocw.mit.edu/courses/electrical-engineering-and-computer-science/6-189-a-gentle-introduction-to-programming-using-python-january-iap-2008/"
     ]
    },
    {
     "cell_type": "markdown",
     "metadata": {},
     "source": [
      "http://my.oschina.net/taogang/blog/286955"
     ]
    },
    {
     "cell_type": "heading",
     "level": 1,
     "metadata": {},
     "source": [
      "Python\u753b\u56fe"
     ]
    },
    {
     "cell_type": "code",
     "collapsed": false,
     "input": [
      "%matplotlib inline\n",
      "from mpl_toolkits.mplot3d import axes3d\n",
      "import matplotlib.pyplot as plt\n",
      "from matplotlib import cm\n",
      "\n",
      "fig = plt.figure()\n",
      "ax = fig.add_subplot(111, projection='3d')\n",
      "X, Y, Z = axes3d.get_test_data(0.05)\n",
      "cset = ax.contour(X, Y, Z, cmap=cm.coolwarm)\n",
      "ax.clabel(cset, fontsize=9, inline=1)\n",
      "\n",
      "plt.show()"
     ],
     "language": "python",
     "metadata": {},
     "outputs": [
      {
       "metadata": {},
       "output_type": "display_data",
       "png": "[encoded data removed]",
       "text": [
        "<matplotlib.figure.Figure at 0x35c4ac8>"
       ]
      }
     ],
     "prompt_number": 1
    },
    {
     "cell_type": "code",
     "collapsed": false,
     "input": [],
     "language": "python",
     "metadata": {},
     "outputs": []
    }
   ],
   "metadata": {}
  }
 ]
}