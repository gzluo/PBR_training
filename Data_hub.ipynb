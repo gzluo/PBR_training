{
 "metadata": {
  "name": "",
  "signature": "sha256:4fd053db193dc93b497bddf41a49e682ffa4170a2fb14cc5eccd4a5083bdf7bd"
 },
 "nbformat": 3,
 "nbformat_minor": 0,
 "worksheets": [
  {
   "cells": [
    {
     "cell_type": "heading",
     "level": 1,
     "metadata": {},
     "source": [
      "Gene expression data"
     ]
    },
    {
     "cell_type": "markdown",
     "metadata": {},
     "source": [
      "* Human and mouse pre-implanatation development \n",
      "    \n",
      "    * [Genetic programs in human and mouse early embryos revealed by single-cell RNA\u2009sequencing](http://www.nature.com/nature/journal/v500/n7464/full/nature12364.html)\n",
      "    * [Single-cell RNA-Seq profiling of human preimplantation embryos and embryonic stem cells](http://www.nature.com/nsmb/journal/v20/n9/full/nsmb.2660.html?WT.ec_id=NSMB-201309#supplementary-information)\n",
      "\n",
      "* Embryonic development\n",
      "    * [Expression profiling of mouse embryos at E2.5, E3.5, E4.25, E4.5, E5.5 E6.0 to identify genes regulated during development of the ICM (inner cell mass), TE (Trophectoderm) and PrE (Primative endoderm)](http://www.sciencedirect.com/science/article/pii/S0012160607014935)\n",
      "    * [To interrogate the temporal and spatial expression profiles across the entire genome during mammalian heart development, we designed a time-course microarray experiment using the mouse model at defined stages of cardiogenesis, starting with embryonic stem cells (ESC, R1 stem cell line), early embryonic developmental stages: E7.5 whole embryos, E8.5 heart tubes, left and right ventricle tissues at E9.5, E12.5, E14.5, E18.5 to 3 days after birth (D3) and adult heart (Figure 1A). At each time point, microarray experiments were performed on triplicate biological samples. Starting at E9.5, tissue samples from left ventricles (LV) and right ventricles (RV) were microdissected for RNA purification and microarray analysis to determine spatially differential gene expression between LV and RV during heart development.](http://www.ncbi.nlm.nih.gov/geo/query/acc.cgi?acc=GSE51483)\n",
      "    * [Total RNA was collected from wild type C57BL/6 mice, whole embryos at 8 different stages (Stages:E7.5, E8.5, E9.5, E10.5, E12.5, E14.5, E16.5, E18.5), and hybridized to Affymetrix Mouse Genome 430 2.0 Array. All the stages contains data from 2 to 3 biological replications. Each staged-samples consists of pooled total RNA from several whole embryos.](http://www.ncbi.nlm.nih.gov/geo/query/acc.cgi?acc=GSE28389)"
     ]
    },
    {
     "cell_type": "code",
     "collapsed": false,
     "input": [],
     "language": "python",
     "metadata": {},
     "outputs": []
    }
   ],
   "metadata": {}
  }
 ]
}